{
 "cells": [
  {
   "cell_type": "markdown",
   "metadata": {},
   "source": [
    "**Chapter 3 – Classification**\n",
    "\n",
    "_This notebook contains all the sample code and solutions to the exercises in chapter 3._"
   ]
  },
  {
   "cell_type": "markdown",
   "metadata": {},
   "source": [
    "# Setup"
   ]
  },
  {
   "cell_type": "markdown",
   "metadata": {},
   "source": [
    "First, let's import a few common modules, ensure MatplotLib plots figures inline and prepare a function to save the figures. We also check that Python 3.5 or later is installed (although Python 2.x may work, it is deprecated so we strongly recommend you use Python 3 instead), as well as Scikit-Learn ≥0.20."
   ]
  },
  {
   "cell_type": "code",
   "execution_count": 1,
   "metadata": {},
   "outputs": [],
   "source": [
    "# Python ≥3.5 is required\n",
    "import sys\n",
    "assert sys.version_info >= (3, 5)\n",
    "\n",
    "# Scikit-Learn ≥0.20 is required\n",
    "import sklearn\n",
    "assert sklearn.__version__ >= \"0.20\"\n",
    "\n",
    "# Common imports\n",
    "import numpy as np\n",
    "import os\n",
    "\n",
    "# to make this notebook's output stable across runs\n",
    "np.random.seed(42)\n",
    "\n",
    "# To plot pretty figures\n",
    "%matplotlib inline\n",
    "import matplotlib as mpl\n",
    "import matplotlib.pyplot as plt\n",
    "mpl.rc('axes', labelsize=14)\n",
    "mpl.rc('xtick', labelsize=12)\n",
    "mpl.rc('ytick', labelsize=12)\n",
    "\n",
    "# Where to save the figures\n",
    "PROJECT_ROOT_DIR = \".\"\n",
    "CHAPTER_ID = \"classification\"\n",
    "IMAGES_PATH = os.path.join(PROJECT_ROOT_DIR, \"images\", CHAPTER_ID)\n",
    "os.makedirs(IMAGES_PATH, exist_ok=True)\n",
    "\n",
    "def save_fig(fig_id, tight_layout=True, fig_extension=\"png\", resolution=300):\n",
    "    path = os.path.join(IMAGES_PATH, fig_id + \".\" + fig_extension)\n",
    "    print(\"Saving figure\", fig_id)\n",
    "    if tight_layout:\n",
    "        plt.tight_layout()\n",
    "    plt.savefig(path, format=fig_extension, dpi=resolution)"
   ]
  },
  {
   "cell_type": "markdown",
   "metadata": {},
   "source": [
    "# MNIST"
   ]
  },
  {
   "cell_type": "code",
   "execution_count": 2,
   "metadata": {},
   "outputs": [
    {
     "data": {
      "text/plain": "dict_keys(['data', 'target', 'frame', 'feature_names', 'target_names', 'DESCR', 'details', 'categories', 'url'])"
     },
     "execution_count": 2,
     "metadata": {},
     "output_type": "execute_result"
    }
   ],
   "source": [
    "from sklearn.datasets import fetch_openml\n",
    "mnist = fetch_openml('mnist_784', version=1)\n",
    "mnist.keys()"
   ]
  },
  {
   "cell_type": "code",
   "execution_count": 3,
   "metadata": {},
   "outputs": [
    {
     "data": {
      "text/plain": "(70000, 784)"
     },
     "execution_count": 3,
     "metadata": {},
     "output_type": "execute_result"
    }
   ],
   "source": [
    "X, y = mnist[\"data\"], mnist[\"target\"]\n",
    "X.shape"
   ]
  },
  {
   "cell_type": "code",
   "execution_count": 4,
   "metadata": {},
   "outputs": [
    {
     "data": {
      "text/plain": "(70000,)"
     },
     "execution_count": 4,
     "metadata": {},
     "output_type": "execute_result"
    }
   ],
   "source": [
    "y.shape"
   ]
  },
  {
   "cell_type": "code",
   "execution_count": 5,
   "metadata": {},
   "outputs": [
    {
     "data": {
      "text/plain": "784"
     },
     "execution_count": 5,
     "metadata": {},
     "output_type": "execute_result"
    }
   ],
   "source": [
    "28 * 28"
   ]
  },
  {
   "cell_type": "code",
   "execution_count": 6,
   "metadata": {},
   "outputs": [
    {
     "name": "stdout",
     "output_type": "stream",
     "text": "Saving figure some_digit_plot\n"
    },
    {
     "data": {
      "image/png": "[encoded data removed]",
      "image/svg+xml": "<?xml version=\"1.0\" encoding=\"utf-8\" standalone=\"no\"?>\n<!DOCTYPE svg PUBLIC \"-//W3C//DTD SVG 1.1//EN\"\n  \"http://www.w3.org/Graphics/SVG/1.1/DTD/svg11.dtd\">\n<!-- Created with matplotlib (https://matplotlib.org/) -->\n<svg height=\"280.8pt\" version=\"1.1\" viewBox=\"0 0 280.8 280.8\" width=\"280.8pt\" xmlns=\"http://www.w3.org/2000/svg\" xmlns:xlink=\"http://www.w3.org/1999/xlink\">\n <defs>\n  <style type=\"text/css\">\n*{stroke-linecap:butt;stroke-linejoin:round;}\n  </style>\n </defs>\n <g id=\"figure_1\">\n  <g id=\"patch_1\">\n   <path d=\"M 0 280.8 \nL 280.8 280.8 \nL 280.8 0 \nL 0 0 \nz\n\" style=\"fill:none;\"/>\n  </g>\n  <g id=\"axes_1\">\n   <g clip-path=\"url(#pbd1047dceb)\">\n    <image height=\"267\" id=\"imageff3f2283a0\" transform=\"scale(1 -1)translate(0 -267)\" width=\"267\" x=\"7.2\" xlink:href=\"data:image/png;base64,\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\" y=\"-6.6\"/>\n   </g>\n  </g>\n </g>\n <defs>\n  <clipPath id=\"pbd1047dceb\">\n   <rect height=\"266.4\" width=\"266.4\" x=\"7.2\" y=\"7.2\"/>\n  </clipPath>\n </defs>\n</svg>\n",
      "text/plain": "<Figure size 432x288 with 1 Axes>"
     },
     "metadata": {
      "needs_background": "light"
     },
     "output_type": "display_data"
    }
   ],
   "source": [
    "%matplotlib inline\n",
    "import matplotlib as mpl\n",
    "import matplotlib.pyplot as plt\n",
    "\n",
    "some_digit = X[0]\n",
    "some_digit_image = some_digit.reshape(28, 28)\n",
    "plt.imshow(some_digit_image, cmap=mpl.cm.binary)\n",
    "plt.axis(\"off\")\n",
    "\n",
    "save_fig(\"some_digit_plot\")\n",
    "plt.show()"
   ]
  },
  {
   "cell_type": "code",
   "execution_count": 7,
   "metadata": {},
   "outputs": [
    {
     "data": {
      "text/plain": "'5'"
     },
     "execution_count": 7,
     "metadata": {},
     "output_type": "execute_result"
    }
   ],
   "source": [
    "y[0]"
   ]
  },
  {
   "cell_type": "code",
   "execution_count": 8,
   "metadata": {},
   "outputs": [],
   "source": [
    "y = y.astype(np.uint8)"
   ]
  },
  {
   "cell_type": "code",
   "execution_count": 9,
   "metadata": {},
   "outputs": [],
   "source": [
    "def plot_digit(data):\n",
    "    image = data.reshape(28, 28)\n",
    "    plt.imshow(image, cmap = mpl.cm.binary,\n",
    "               interpolation=\"nearest\")\n",
    "    plt.axis(\"off\")"
   ]
  },
  {
   "cell_type": "code",
   "execution_count": 10,
   "metadata": {},
   "outputs": [],
   "source": [
    "# EXTRA\n",
    "def plot_digits(instances, images_per_row=10, **options):\n",
    "    size = 28\n",
    "    images_per_row = min(len(instances), images_per_row)\n",
    "    images = [instance.reshape(size,size) for instance in instances]\n",
    "    n_rows = (len(instances) - 1) // images_per_row + 1\n",
    "    row_images = []\n",
    "    n_empty = n_rows * images_per_row - len(instances)\n",
    "    images.append(np.zeros((size, size * n_empty)))\n",
    "    for row in range(n_rows):\n",
    "        rimages = images[row * images_per_row : (row + 1) * images_per_row]\n",
    "        row_images.append(np.concatenate(rimages, axis=1))\n",
    "    image = np.concatenate(row_images, axis=0)\n",
    "    plt.imshow(image, cmap = mpl.cm.binary, **options)\n",
    "    plt.axis(\"off\")"
   ]
  },
  {
   "cell_type": "code",
   "execution_count": 11,
   "metadata": {},
   "outputs": [
    {
     "name": "stdout",
     "output_type": "stream",
     "text": "Saving figure more_digits_plot\n"
    },
    {
     "data": {
      "image/png": "[encoded data removed]",
      "image/svg+xml": "<?xml version=\"1.0\" encoding=\"utf-8\" standalone=\"no\"?>\n<!DOCTYPE svg PUBLIC \"-//W3C//DTD SVG 1.1//EN\"\n  \"http://www.w3.org/Graphics/SVG/1.1/DTD/svg11.dtd\">\n<!-- Created with matplotlib (https://matplotlib.org/) -->\n<svg height=\"640.8pt\" version=\"1.1\" viewBox=\"0 0 640.8 640.8\" width=\"640.8pt\" xmlns=\"http://www.w3.org/2000/svg\" xmlns:xlink=\"http://www.w3.org/1999/xlink\">\n <defs>\n  <style type=\"text/css\">\n*{stroke-linecap:butt;stroke-linejoin:round;}\n  </style>\n </defs>\n <g id=\"figure_1\">\n  <g id=\"patch_1\">\n   <path d=\"M 0 640.8 \nL 640.8 640.8 \nL 640.8 0 \nL 0 0 \nz\n\" style=\"fill:none;\"/>\n  </g>\n  <g id=\"axes_1\">\n   <g clip-path=\"url(#p26d50b7f89)\">\n    <image height=\"627\" id=\"imagea380aaaa11\" transform=\"scale(1 -1)translate(0 -627)\" width=\"627\" x=\"7.2\" xlink:href=\"data:image/png;base64,\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\" y=\"-6.6\"/>\n   </g>\n  </g>\n </g>\n <defs>\n  <clipPath id=\"p26d50b7f89\">\n   <rect height=\"626.4\" width=\"626.4\" x=\"7.2\" y=\"7.2\"/>\n  </clipPath>\n </defs>\n</svg>\n",
      "text/plain": "<Figure size 648x648 with 1 Axes>"
     },
     "metadata": {
      "needs_background": "light"
     },
     "output_type": "display_data"
    }
   ],
   "source": [
    "plt.figure(figsize=(9,9))\n",
    "example_images = X[:100]\n",
    "plot_digits(example_images, images_per_row=10)\n",
    "save_fig(\"more_digits_plot\")\n",
    "plt.show()"
   ]
  },
  {
   "cell_type": "code",
   "execution_count": 12,
   "metadata": {},
   "outputs": [
    {
     "data": {
      "text/plain": "5"
     },
     "execution_count": 12,
     "metadata": {},
     "output_type": "execute_result"
    }
   ],
   "source": [
    "y[0]"
   ]
  },
  {
   "cell_type": "code",
   "execution_count": 13,
   "metadata": {},
   "outputs": [],
   "source": [
    "X_train, X_test, y_train, y_test = X[:60000], X[60000:], y[:60000], y[60000:]"
   ]
  },
  {
   "cell_type": "markdown",
   "metadata": {},
   "source": [
    "# Binary classifier"
   ]
  },
  {
   "cell_type": "code",
   "execution_count": 14,
   "metadata": {},
   "outputs": [],
   "source": [
    "y_train_5 = (y_train == 5)\n",
    "y_test_5 = (y_test == 5)"
   ]
  },
  {
   "cell_type": "markdown",
   "metadata": {},
   "source": [
    "**Note**: some hyperparameters will have a different defaut value in future versions of Scikit-Learn, such as `max_iter` and `tol`. To be future-proof, we explicitly set these hyperparameters to their future default values. For simplicity, this is not shown in the book."
   ]
  },
  {
   "cell_type": "code",
   "execution_count": 15,
   "metadata": {},
   "outputs": [
    {
     "data": {
      "text/plain": "SGDClassifier(alpha=0.0001, average=False, class_weight=None,\n              early_stopping=False, epsilon=0.1, eta0=0.0, fit_intercept=True,\n              l1_ratio=0.15, learning_rate='optimal', loss='hinge',\n              max_iter=1000, n_iter_no_change=5, n_jobs=None, penalty='l2',\n              power_t=0.5, random_state=42, shuffle=True, tol=0.001,\n              validation_fraction=0.1, verbose=0, warm_start=False)"
     },
     "execution_count": 15,
     "metadata": {},
     "output_type": "execute_result"
    }
   ],
   "source": [
    "from sklearn.linear_model import SGDClassifier\n",
    "\n",
    "sgd_clf = SGDClassifier(max_iter=1000, tol=1e-3, random_state=42)\n",
    "sgd_clf.fit(X_train, y_train_5)"
   ]
  },
  {
   "cell_type": "code",
   "execution_count": 16,
   "metadata": {},
   "outputs": [
    {
     "data": {
      "text/plain": "array([ True])"
     },
     "execution_count": 16,
     "metadata": {},
     "output_type": "execute_result"
    }
   ],
   "source": [
    "sgd_clf.predict([some_digit])"
   ]
  },
  {
   "cell_type": "code",
   "execution_count": 17,
   "metadata": {},
   "outputs": [
    {
     "data": {
      "text/plain": "array([0.95035, 0.96035, 0.9604 ])"
     },
     "execution_count": 17,
     "metadata": {},
     "output_type": "execute_result"
    }
   ],
   "source": [
    "from sklearn.model_selection import cross_val_score\n",
    "cross_val_score(sgd_clf, X_train, y_train_5, cv=3, scoring=\"accuracy\")"
   ]
  },
  {
   "cell_type": "code",
   "execution_count": 18,
   "metadata": {},
   "outputs": [
    {
     "name": "stderr",
     "output_type": "stream",
     "text": "/data/Develop/ageron-handson-ml2/env-tfg/lib/python3.7/site-packages/sklearn/model_selection/_split.py:296: FutureWarning: Setting a random_state has no effect since shuffle is False. This will raise an error in 0.24. You should leave random_state to its default (None), or set shuffle=True.\n  FutureWarning\n0.95035\n0.96035\n0.9604\n"
    }
   ],
   "source": [
    "from sklearn.model_selection import StratifiedKFold\n",
    "from sklearn.base import clone\n",
    "\n",
    "skfolds = StratifiedKFold(n_splits=3, random_state=42)\n",
    "\n",
    "for train_index, test_index in skfolds.split(X_train, y_train_5):\n",
    "    clone_clf = clone(sgd_clf)\n",
    "    X_train_folds = X_train[train_index]\n",
    "    y_train_folds = y_train_5[train_index]\n",
    "    X_test_fold = X_train[test_index]\n",
    "    y_test_fold = y_train_5[test_index]\n",
    "\n",
    "    clone_clf.fit(X_train_folds, y_train_folds)\n",
    "    y_pred = clone_clf.predict(X_test_fold)\n",
    "    n_correct = sum(y_pred == y_test_fold)\n",
    "    print(n_correct / len(y_pred))"
   ]
  },
  {
   "cell_type": "code",
   "execution_count": 19,
   "metadata": {},
   "outputs": [],
   "source": [
    "from sklearn.base import BaseEstimator\n",
    "class Never5Classifier(BaseEstimator):\n",
    "    def fit(self, X, y=None):\n",
    "        pass\n",
    "    def predict(self, X):\n",
    "        return np.zeros((len(X), 1), dtype=bool)"
   ]
  },
  {
   "cell_type": "code",
   "execution_count": 20,
   "metadata": {},
   "outputs": [
    {
     "data": {
      "text/plain": "array([0.91125, 0.90855, 0.90915])"
     },
     "execution_count": 20,
     "metadata": {},
     "output_type": "execute_result"
    }
   ],
   "source": [
    "never_5_clf = Never5Classifier()\n",
    "cross_val_score(never_5_clf, X_train, y_train_5, cv=3, scoring=\"accuracy\")"
   ]
  },
  {
   "cell_type": "code",
   "execution_count": 21,
   "metadata": {},
   "outputs": [],
   "source": [
    "from sklearn.model_selection import cross_val_predict\n",
    "\n",
    "y_train_pred = cross_val_predict(sgd_clf, X_train, y_train_5, cv=3)"
   ]
  },
  {
   "cell_type": "code",
   "execution_count": 22,
   "metadata": {},
   "outputs": [
    {
     "data": {
      "text/plain": "array([[53892,   687],\n       [ 1891,  3530]])"
     },
     "execution_count": 22,
     "metadata": {},
     "output_type": "execute_result"
    }
   ],
   "source": [
    "from sklearn.metrics import confusion_matrix\n",
    "\n",
    "confusion_matrix(y_train_5, y_train_pred)"
   ]
  },
  {
   "cell_type": "code",
   "execution_count": 23,
   "metadata": {},
   "outputs": [
    {
     "data": {
      "text/plain": "array([[54579,     0],\n       [    0,  5421]])"
     },
     "execution_count": 23,
     "metadata": {},
     "output_type": "execute_result"
    }
   ],
   "source": [
    "y_train_perfect_predictions = y_train_5  # pretend we reached perfection\n",
    "confusion_matrix(y_train_5, y_train_perfect_predictions)"
   ]
  },
  {
   "cell_type": "code",
   "execution_count": 24,
   "metadata": {},
   "outputs": [
    {
     "data": {
      "text/plain": "0.8370879772350012"
     },
     "execution_count": 24,
     "metadata": {},
     "output_type": "execute_result"
    }
   ],
   "source": [
    "from sklearn.metrics import precision_score, recall_score\n",
    "\n",
    "precision_score(y_train_5, y_train_pred)"
   ]
  },
  {
   "cell_type": "code",
   "execution_count": 25,
   "metadata": {},
   "outputs": [
    {
     "data": {
      "text/plain": "0.7290850836596654"
     },
     "execution_count": 25,
     "metadata": {},
     "output_type": "execute_result"
    }
   ],
   "source": [
    "4096 / (4096 + 1522)"
   ]
  },
  {
   "cell_type": "code",
   "execution_count": 26,
   "metadata": {},
   "outputs": [
    {
     "data": {
      "text/plain": "0.6511713705958311"
     },
     "execution_count": 26,
     "metadata": {},
     "output_type": "execute_result"
    }
   ],
   "source": [
    "recall_score(y_train_5, y_train_pred)"
   ]
  },
  {
   "cell_type": "code",
   "execution_count": 27,
   "metadata": {},
   "outputs": [
    {
     "data": {
      "text/plain": "0.7555801512636044"
     },
     "execution_count": 27,
     "metadata": {},
     "output_type": "execute_result"
    }
   ],
   "source": [
    "4096 / (4096 + 1325)"
   ]
  },
  {
   "cell_type": "code",
   "execution_count": 28,
   "metadata": {},
   "outputs": [
    {
     "data": {
      "text/plain": "0.7325171197343846"
     },
     "execution_count": 28,
     "metadata": {},
     "output_type": "execute_result"
    }
   ],
   "source": [
    "from sklearn.metrics import f1_score\n",
    "\n",
    "f1_score(y_train_5, y_train_pred)"
   ]
  },
  {
   "cell_type": "code",
   "execution_count": 29,
   "metadata": {},
   "outputs": [
    {
     "data": {
      "text/plain": "0.7420962043663375"
     },
     "execution_count": 29,
     "metadata": {},
     "output_type": "execute_result"
    }
   ],
   "source": [
    "4096 / (4096 + (1522 + 1325) / 2)"
   ]
  },
  {
   "cell_type": "code",
   "execution_count": 30,
   "metadata": {},
   "outputs": [
    {
     "data": {
      "text/plain": "array([2164.22030239])"
     },
     "execution_count": 30,
     "metadata": {},
     "output_type": "execute_result"
    }
   ],
   "source": [
    "y_scores = sgd_clf.decision_function([some_digit])\n",
    "y_scores"
   ]
  },
  {
   "cell_type": "code",
   "execution_count": 31,
   "metadata": {},
   "outputs": [],
   "source": [
    "threshold = 0\n",
    "y_some_digit_pred = (y_scores > threshold)"
   ]
  },
  {
   "cell_type": "code",
   "execution_count": 32,
   "metadata": {},
   "outputs": [
    {
     "data": {
      "text/plain": "array([ True])"
     },
     "execution_count": 32,
     "metadata": {},
     "output_type": "execute_result"
    }
   ],
   "source": [
    "y_some_digit_pred"
   ]
  },
  {
   "cell_type": "code",
   "execution_count": 33,
   "metadata": {},
   "outputs": [
    {
     "data": {
      "text/plain": "array([False])"
     },
     "execution_count": 33,
     "metadata": {},
     "output_type": "execute_result"
    }
   ],
   "source": [
    "threshold = 8000\n",
    "y_some_digit_pred = (y_scores > threshold)\n",
    "y_some_digit_pred"
   ]
  },
  {
   "cell_type": "code",
   "execution_count": 34,
   "metadata": {},
   "outputs": [],
   "source": [
    "y_scores = cross_val_predict(sgd_clf, X_train, y_train_5, cv=3,\n",
    "                             method=\"decision_function\")"
   ]
  },
  {
   "cell_type": "code",
   "execution_count": 35,
   "metadata": {},
   "outputs": [],
   "source": [
    "from sklearn.metrics import precision_recall_curve\n",
    "\n",
    "precisions, recalls, thresholds = precision_recall_curve(y_train_5, y_scores)"
   ]
  },
  {
   "cell_type": "code",
   "execution_count": 36,
   "metadata": {},
   "outputs": [
    {
     "name": "stdout",
     "output_type": "stream",
     "text": "Saving figure precision_recall_vs_threshold_plot\n"
    },
    {
     "data": {
      "image/png": "[encoded data removed]",
      "image/svg+xml": "<?xml version=\"1.0\" encoding=\"utf-8\" standalone=\"no\"?>\n<!DOCTYPE svg PUBLIC \"-//W3C//DTD SVG 1.1//EN\"\n  \"http://www.w3.org/Graphics/SVG/1.1/DTD/svg11.dtd\">\n<!-- Created with matplotlib (https://matplotlib.org/) -->\n<svg height=\"279.457813pt\" version=\"1.1\" viewBox=\"0 0 568.88375 279.457813\" width=\"568.88375pt\" xmlns=\"http://www.w3.org/2000/svg\" xmlns:xlink=\"http://www.w3.org/1999/xlink\">\n <defs>\n  <style type=\"text/css\">\n*{stroke-linecap:butt;stroke-linejoin:round;}\n  </style>\n </defs>\n <g id=\"figure_1\">\n  <g id=\"patch_1\">\n   <path d=\"M 0 279.457813 \nL 568.88375 279.457813 \nL 568.88375 0 \nL 0 0 \nz\n\" style=\"fill:none;\"/>\n  </g>\n  <g id=\"axes_1\">\n   <g id=\"patch_2\">\n    <path d=\"M 33.28375 234.159063 \nL 561.68375 234.159063 \nL 561.68375 11.759062 \nL 33.28375 11.759062 \nz\n\" style=\"fill:#ffffff;\"/>\n   </g>\n   <g id=\"matplotlib.axis_1\">\n    <g id=\"xtick_1\">\n     <g id=\"line2d_1\">\n      <path clip-path=\"url(#p66b1bea967)\" d=\"M 86.12375 234.159063 \nL 86.12375 11.759062 \n\" style=\"fill:none;stroke:#b0b0b0;stroke-linecap:square;stroke-width:0.8;\"/>\n     </g>\n     <g id=\"line2d_2\">\n      <defs>\n       <path d=\"M 0 0 \nL 0 3.5 \n\" id=\"m1626fe82e9\" style=\"stroke:#000000;stroke-width:0.8;\"/>\n      </defs>\n      <g>\n       <use style=\"stroke:#000000;stroke-width:0.8;\" x=\"86.12375\" xlink:href=\"#m1626fe82e9\" y=\"234.159063\"/>\n      </g>\n     </g>\n     <g id=\"text_1\">\n      <!-- −40000 -->\n      <defs>\n       <path d=\"M 10.59375 35.5 \nL 73.1875 35.5 \nL 73.1875 27.203125 \nL 10.59375 27.203125 \nz\n\" id=\"DejaVuSans-8722\"/>\n       <path d=\"M 37.796875 64.3125 \nL 12.890625 25.390625 \nL 37.796875 25.390625 \nz\nM 35.203125 72.90625 \nL 47.609375 72.90625 \nL 47.609375 25.390625 \nL 58.015625 25.390625 \nL 58.015625 17.1875 \nL 47.609375 17.1875 \nL 47.609375 0 \nL 37.796875 0 \nL 37.796875 17.1875 \nL 4.890625 17.1875 \nL 4.890625 26.703125 \nz\n\" id=\"DejaVuSans-52\"/>\n       <path d=\"M 31.78125 66.40625 \nQ 24.171875 66.40625 20.328125 58.90625 \nQ 16.5 51.421875 16.5 36.375 \nQ 16.5 21.390625 20.328125 13.890625 \nQ 24.171875 6.390625 31.78125 6.390625 \nQ 39.453125 6.390625 43.28125 13.890625 \nQ 47.125 21.390625 47.125 36.375 \nQ 47.125 51.421875 43.28125 58.90625 \nQ 39.453125 66.40625 31.78125 66.40625 \nz\nM 31.78125 74.21875 \nQ 44.046875 74.21875 50.515625 64.515625 \nQ 56.984375 54.828125 56.984375 36.375 \nQ 56.984375 17.96875 50.515625 8.265625 \nQ 44.046875 -1.421875 31.78125 -1.421875 \nQ 19.53125 -1.421875 13.0625 8.265625 \nQ 6.59375 17.96875 6.59375 36.375 \nQ 6.59375 54.828125 13.0625 64.515625 \nQ 19.53125 74.21875 31.78125 74.21875 \nz\n\" id=\"DejaVuSans-48\"/>\n      </defs>\n      <g transform=\"translate(62.008437 250.277188)scale(0.12 -0.12)\">\n       <use xlink:href=\"#DejaVuSans-8722\"/>\n       <use x=\"83.789062\" xlink:href=\"#DejaVuSans-52\"/>\n       <use x=\"147.412109\" xlink:href=\"#DejaVuSans-48\"/>\n       <use x=\"211.035156\" xlink:href=\"#DejaVuSans-48\"/>\n       <use x=\"274.658203\" xlink:href=\"#DejaVuSans-48\"/>\n       <use x=\"338.28125\" xlink:href=\"#DejaVuSans-48\"/>\n      </g>\n     </g>\n    </g>\n    <g id=\"xtick_2\">\n     <g id=\"line2d_3\">\n      <path clip-path=\"url(#p66b1bea967)\" d=\"M 191.80375 234.159063 \nL 191.80375 11.759062 \n\" style=\"fill:none;stroke:#b0b0b0;stroke-linecap:square;stroke-width:0.8;\"/>\n     </g>\n     <g id=\"line2d_4\">\n      <g>\n       <use style=\"stroke:#000000;stroke-width:0.8;\" x=\"191.80375\" xlink:href=\"#m1626fe82e9\" y=\"234.159063\"/>\n      </g>\n     </g>\n     <g id=\"text_2\">\n      <!-- −20000 -->\n      <defs>\n       <path d=\"M 19.1875 8.296875 \nL 53.609375 8.296875 \nL 53.609375 0 \nL 7.328125 0 \nL 7.328125 8.296875 \nQ 12.9375 14.109375 22.625 23.890625 \nQ 32.328125 33.6875 34.8125 36.53125 \nQ 39.546875 41.84375 41.421875 45.53125 \nQ 43.3125 49.21875 43.3125 52.78125 \nQ 43.3125 58.59375 39.234375 62.25 \nQ 35.15625 65.921875 28.609375 65.921875 \nQ 23.96875 65.921875 18.8125 64.3125 \nQ 13.671875 62.703125 7.8125 59.421875 \nL 7.8125 69.390625 \nQ 13.765625 71.78125 18.9375 73 \nQ 24.125 74.21875 28.421875 74.21875 \nQ 39.75 74.21875 46.484375 68.546875 \nQ 53.21875 62.890625 53.21875 53.421875 \nQ 53.21875 48.921875 51.53125 44.890625 \nQ 49.859375 40.875 45.40625 35.40625 \nQ 44.1875 33.984375 37.640625 27.21875 \nQ 31.109375 20.453125 19.1875 8.296875 \nz\n\" id=\"DejaVuSans-50\"/>\n      </defs>\n      <g transform=\"translate(167.688437 250.277188)scale(0.12 -0.12)\">\n       <use xlink:href=\"#DejaVuSans-8722\"/>\n       <use x=\"83.789062\" xlink:href=\"#DejaVuSans-50\"/>\n       <use x=\"147.412109\" xlink:href=\"#DejaVuSans-48\"/>\n       <use x=\"211.035156\" xlink:href=\"#DejaVuSans-48\"/>\n       <use x=\"274.658203\" xlink:href=\"#DejaVuSans-48\"/>\n       <use x=\"338.28125\" xlink:href=\"#DejaVuSans-48\"/>\n      </g>\n     </g>\n    </g>\n    <g id=\"xtick_3\">\n     <g id=\"line2d_5\">\n      <path clip-path=\"url(#p66b1bea967)\" d=\"M 297.48375 234.159063 \nL 297.48375 11.759062 \n\" style=\"fill:none;stroke:#b0b0b0;stroke-linecap:square;stroke-width:0.8;\"/>\n     </g>\n     <g id=\"line2d_6\">\n      <g>\n       <use style=\"stroke:#000000;stroke-width:0.8;\" x=\"297.48375\" xlink:href=\"#m1626fe82e9\" y=\"234.159063\"/>\n      </g>\n     </g>\n     <g id=\"text_3\">\n      <!-- 0 -->\n      <g transform=\"translate(293.66625 250.277188)scale(0.12 -0.12)\">\n       <use xlink:href=\"#DejaVuSans-48\"/>\n      </g>\n     </g>\n    </g>\n    <g id=\"xtick_4\">\n     <g id=\"line2d_7\">\n      <path clip-path=\"url(#p66b1bea967)\" d=\"M 403.16375 234.159063 \nL 403.16375 11.759062 \n\" style=\"fill:none;stroke:#b0b0b0;stroke-linecap:square;stroke-width:0.8;\"/>\n     </g>\n     <g id=\"line2d_8\">\n      <g>\n       <use style=\"stroke:#000000;stroke-width:0.8;\" x=\"403.16375\" xlink:href=\"#m1626fe82e9\" y=\"234.159063\"/>\n      </g>\n     </g>\n     <g id=\"text_4\">\n      <!-- 20000 -->\n      <g transform=\"translate(384.07625 250.277188)scale(0.12 -0.12)\">\n       <use xlink:href=\"#DejaVuSans-50\"/>\n       <use x=\"63.623047\" xlink:href=\"#DejaVuSans-48\"/>\n       <use x=\"127.246094\" xlink:href=\"#DejaVuSans-48\"/>\n       <use x=\"190.869141\" xlink:href=\"#DejaVuSans-48\"/>\n       <use x=\"254.492188\" xlink:href=\"#DejaVuSans-48\"/>\n      </g>\n     </g>\n    </g>\n    <g id=\"xtick_5\">\n     <g id=\"line2d_9\">\n      <path clip-path=\"url(#p66b1bea967)\" d=\"M 508.84375 234.159063 \nL 508.84375 11.759062 \n\" style=\"fill:none;stroke:#b0b0b0;stroke-linecap:square;stroke-width:0.8;\"/>\n     </g>\n     <g id=\"line2d_10\">\n      <g>\n       <use style=\"stroke:#000000;stroke-width:0.8;\" x=\"508.84375\" xlink:href=\"#m1626fe82e9\" y=\"234.159063\"/>\n      </g>\n     </g>\n     <g id=\"text_5\">\n      <!-- 40000 -->\n      <g transform=\"translate(489.75625 250.277188)scale(0.12 -0.12)\">\n       <use xlink:href=\"#DejaVuSans-52\"/>\n       <use x=\"63.623047\" xlink:href=\"#DejaVuSans-48\"/>\n       <use x=\"127.246094\" xlink:href=\"#DejaVuSans-48\"/>\n       <use x=\"190.869141\" xlink:href=\"#DejaVuSans-48\"/>\n       <use x=\"254.492188\" xlink:href=\"#DejaVuSans-48\"/>\n      </g>\n     </g>\n    </g>\n    <g id=\"text_6\">\n     <!-- Threshold -->\n     <defs>\n      <path d=\"M -0.296875 72.90625 \nL 61.375 72.90625 \nL 61.375 64.59375 \nL 35.5 64.59375 \nL 35.5 0 \nL 25.59375 0 \nL 25.59375 64.59375 \nL -0.296875 64.59375 \nz\n\" id=\"DejaVuSans-84\"/>\n      <path d=\"M 54.890625 33.015625 \nL 54.890625 0 \nL 45.90625 0 \nL 45.90625 32.71875 \nQ 45.90625 40.484375 42.875 44.328125 \nQ 39.84375 48.1875 33.796875 48.1875 \nQ 26.515625 48.1875 22.3125 43.546875 \nQ 18.109375 38.921875 18.109375 30.90625 \nL 18.109375 0 \nL 9.078125 0 \nL 9.078125 75.984375 \nL 18.109375 75.984375 \nL 18.109375 46.1875 \nQ 21.34375 51.125 25.703125 53.5625 \nQ 30.078125 56 35.796875 56 \nQ 45.21875 56 50.046875 50.171875 \nQ 54.890625 44.34375 54.890625 33.015625 \nz\n\" id=\"DejaVuSans-104\"/>\n      <path d=\"M 41.109375 46.296875 \nQ 39.59375 47.171875 37.8125 47.578125 \nQ 36.03125 48 33.890625 48 \nQ 26.265625 48 22.1875 43.046875 \nQ 18.109375 38.09375 18.109375 28.8125 \nL 18.109375 0 \nL 9.078125 0 \nL 9.078125 54.6875 \nL 18.109375 54.6875 \nL 18.109375 46.1875 \nQ 20.953125 51.171875 25.484375 53.578125 \nQ 30.03125 56 36.53125 56 \nQ 37.453125 56 38.578125 55.875 \nQ 39.703125 55.765625 41.0625 55.515625 \nz\n\" id=\"DejaVuSans-114\"/>\n      <path d=\"M 56.203125 29.59375 \nL 56.203125 25.203125 \nL 14.890625 25.203125 \nQ 15.484375 15.921875 20.484375 11.0625 \nQ 25.484375 6.203125 34.421875 6.203125 \nQ 39.59375 6.203125 44.453125 7.46875 \nQ 49.3125 8.734375 54.109375 11.28125 \nL 54.109375 2.78125 \nQ 49.265625 0.734375 44.1875 -0.34375 \nQ 39.109375 -1.421875 33.890625 -1.421875 \nQ 20.796875 -1.421875 13.15625 6.1875 \nQ 5.515625 13.8125 5.515625 26.8125 \nQ 5.515625 40.234375 12.765625 48.109375 \nQ 20.015625 56 32.328125 56 \nQ 43.359375 56 49.78125 48.890625 \nQ 56.203125 41.796875 56.203125 29.59375 \nz\nM 47.21875 32.234375 \nQ 47.125 39.59375 43.09375 43.984375 \nQ 39.0625 48.390625 32.421875 48.390625 \nQ 24.90625 48.390625 20.390625 44.140625 \nQ 15.875 39.890625 15.1875 32.171875 \nz\n\" id=\"DejaVuSans-101\"/>\n      <path d=\"M 44.28125 53.078125 \nL 44.28125 44.578125 \nQ 40.484375 46.53125 36.375 47.5 \nQ 32.28125 48.484375 27.875 48.484375 \nQ 21.1875 48.484375 17.84375 46.4375 \nQ 14.5 44.390625 14.5 40.28125 \nQ 14.5 37.15625 16.890625 35.375 \nQ 19.28125 33.59375 26.515625 31.984375 \nL 29.59375 31.296875 \nQ 39.15625 29.25 43.1875 25.515625 \nQ 47.21875 21.78125 47.21875 15.09375 \nQ 47.21875 7.46875 41.1875 3.015625 \nQ 35.15625 -1.421875 24.609375 -1.421875 \nQ 20.21875 -1.421875 15.453125 -0.5625 \nQ 10.6875 0.296875 5.421875 2 \nL 5.421875 11.28125 \nQ 10.40625 8.6875 15.234375 7.390625 \nQ 20.0625 6.109375 24.8125 6.109375 \nQ 31.15625 6.109375 34.5625 8.28125 \nQ 37.984375 10.453125 37.984375 14.40625 \nQ 37.984375 18.0625 35.515625 20.015625 \nQ 33.0625 21.96875 24.703125 23.78125 \nL 21.578125 24.515625 \nQ 13.234375 26.265625 9.515625 29.90625 \nQ 5.8125 33.546875 5.8125 39.890625 \nQ 5.8125 47.609375 11.28125 51.796875 \nQ 16.75 56 26.8125 56 \nQ 31.78125 56 36.171875 55.265625 \nQ 40.578125 54.546875 44.28125 53.078125 \nz\n\" id=\"DejaVuSans-115\"/>\n      <path d=\"M 30.609375 48.390625 \nQ 23.390625 48.390625 19.1875 42.75 \nQ 14.984375 37.109375 14.984375 27.296875 \nQ 14.984375 17.484375 19.15625 11.84375 \nQ 23.34375 6.203125 30.609375 6.203125 \nQ 37.796875 6.203125 41.984375 11.859375 \nQ 46.1875 17.53125 46.1875 27.296875 \nQ 46.1875 37.015625 41.984375 42.703125 \nQ 37.796875 48.390625 30.609375 48.390625 \nz\nM 30.609375 56 \nQ 42.328125 56 49.015625 48.375 \nQ 55.71875 40.765625 55.71875 27.296875 \nQ 55.71875 13.875 49.015625 6.21875 \nQ 42.328125 -1.421875 30.609375 -1.421875 \nQ 18.84375 -1.421875 12.171875 6.21875 \nQ 5.515625 13.875 5.515625 27.296875 \nQ 5.515625 40.765625 12.171875 48.375 \nQ 18.84375 56 30.609375 56 \nz\n\" id=\"DejaVuSans-111\"/>\n      <path d=\"M 9.421875 75.984375 \nL 18.40625 75.984375 \nL 18.40625 0 \nL 9.421875 0 \nz\n\" id=\"DejaVuSans-108\"/>\n      <path d=\"M 45.40625 46.390625 \nL 45.40625 75.984375 \nL 54.390625 75.984375 \nL 54.390625 0 \nL 45.40625 0 \nL 45.40625 8.203125 \nQ 42.578125 3.328125 38.25 0.953125 \nQ 33.9375 -1.421875 27.875 -1.421875 \nQ 17.96875 -1.421875 11.734375 6.484375 \nQ 5.515625 14.40625 5.515625 27.296875 \nQ 5.515625 40.1875 11.734375 48.09375 \nQ 17.96875 56 27.875 56 \nQ 33.9375 56 38.25 53.625 \nQ 42.578125 51.265625 45.40625 46.390625 \nz\nM 14.796875 27.296875 \nQ 14.796875 17.390625 18.875 11.75 \nQ 22.953125 6.109375 30.078125 6.109375 \nQ 37.203125 6.109375 41.296875 11.75 \nQ 45.40625 17.390625 45.40625 27.296875 \nQ 45.40625 37.203125 41.296875 42.84375 \nQ 37.203125 48.484375 30.078125 48.484375 \nQ 22.953125 48.484375 18.875 42.84375 \nQ 14.796875 37.203125 14.796875 27.296875 \nz\n\" id=\"DejaVuSans-100\"/>\n     </defs>\n     <g transform=\"translate(257.885 268.930313)scale(0.16 -0.16)\">\n      <use xlink:href=\"#DejaVuSans-84\"/>\n      <use x=\"61.083984\" xlink:href=\"#DejaVuSans-104\"/>\n      <use x=\"124.462891\" xlink:href=\"#DejaVuSans-114\"/>\n      <use x=\"165.544922\" xlink:href=\"#DejaVuSans-101\"/>\n      <use x=\"227.068359\" xlink:href=\"#DejaVuSans-115\"/>\n      <use x=\"279.167969\" xlink:href=\"#DejaVuSans-104\"/>\n      <use x=\"342.546875\" xlink:href=\"#DejaVuSans-111\"/>\n      <use x=\"403.728516\" xlink:href=\"#DejaVuSans-108\"/>\n      <use x=\"431.511719\" xlink:href=\"#DejaVuSans-100\"/>\n     </g>\n    </g>\n   </g>\n   <g id=\"matplotlib.axis_2\">\n    <g id=\"ytick_1\">\n     <g id=\"line2d_11\">\n      <path clip-path=\"url(#p66b1bea967)\" d=\"M 33.28375 234.159063 \nL 561.68375 234.159063 \n\" style=\"fill:none;stroke:#b0b0b0;stroke-linecap:square;stroke-width:0.8;\"/>\n     </g>\n     <g id=\"line2d_12\">\n      <defs>\n       <path d=\"M 0 0 \nL -3.5 0 \n\" id=\"mec8f6f0e18\" style=\"stroke:#000000;stroke-width:0.8;\"/>\n      </defs>\n      <g>\n       <use style=\"stroke:#000000;stroke-width:0.8;\" x=\"33.28375\" xlink:href=\"#mec8f6f0e18\" y=\"234.159063\"/>\n      </g>\n     </g>\n     <g id=\"text_7\">\n      <!-- 0.0 -->\n      <defs>\n       <path d=\"M 10.6875 12.40625 \nL 21 12.40625 \nL 21 0 \nL 10.6875 0 \nz\n\" id=\"DejaVuSans-46\"/>\n      </defs>\n      <g transform=\"translate(7.2 238.718125)scale(0.12 -0.12)\">\n       <use xlink:href=\"#DejaVuSans-48\"/>\n       <use x=\"63.623047\" xlink:href=\"#DejaVuSans-46\"/>\n       <use x=\"95.410156\" xlink:href=\"#DejaVuSans-48\"/>\n      </g>\n     </g>\n    </g>\n    <g id=\"ytick_2\">\n     <g id=\"line2d_13\">\n      <path clip-path=\"url(#p66b1bea967)\" d=\"M 33.28375 189.679063 \nL 561.68375 189.679063 \n\" style=\"fill:none;stroke:#b0b0b0;stroke-linecap:square;stroke-width:0.8;\"/>\n     </g>\n     <g id=\"line2d_14\">\n      <g>\n       <use style=\"stroke:#000000;stroke-width:0.8;\" x=\"33.28375\" xlink:href=\"#mec8f6f0e18\" y=\"189.679063\"/>\n      </g>\n     </g>\n     <g id=\"text_8\">\n      <!-- 0.2 -->\n      <g transform=\"translate(7.2 194.238125)scale(0.12 -0.12)\">\n       <use xlink:href=\"#DejaVuSans-48\"/>\n       <use x=\"63.623047\" xlink:href=\"#DejaVuSans-46\"/>\n       <use x=\"95.410156\" xlink:href=\"#DejaVuSans-50\"/>\n      </g>\n     </g>\n    </g>\n    <g id=\"ytick_3\">\n     <g id=\"line2d_15\">\n      <path clip-path=\"url(#p66b1bea967)\" d=\"M 33.28375 145.199062 \nL 561.68375 145.199062 \n\" style=\"fill:none;stroke:#b0b0b0;stroke-linecap:square;stroke-width:0.8;\"/>\n     </g>\n     <g id=\"line2d_16\">\n      <g>\n       <use style=\"stroke:#000000;stroke-width:0.8;\" x=\"33.28375\" xlink:href=\"#mec8f6f0e18\" y=\"145.199062\"/>\n      </g>\n     </g>\n     <g id=\"text_9\">\n      <!-- 0.4 -->\n      <g transform=\"translate(7.2 149.758125)scale(0.12 -0.12)\">\n       <use xlink:href=\"#DejaVuSans-48\"/>\n       <use x=\"63.623047\" xlink:href=\"#DejaVuSans-46\"/>\n       <use x=\"95.410156\" xlink:href=\"#DejaVuSans-52\"/>\n      </g>\n     </g>\n    </g>\n    <g id=\"ytick_4\">\n     <g id=\"line2d_17\">\n      <path clip-path=\"url(#p66b1bea967)\" d=\"M 33.28375 100.719062 \nL 561.68375 100.719062 \n\" style=\"fill:none;stroke:#b0b0b0;stroke-linecap:square;stroke-width:0.8;\"/>\n     </g>\n     <g id=\"line2d_18\">\n      <g>\n       <use style=\"stroke:#000000;stroke-width:0.8;\" x=\"33.28375\" xlink:href=\"#mec8f6f0e18\" y=\"100.719062\"/>\n      </g>\n     </g>\n     <g id=\"text_10\">\n      <!-- 0.6 -->\n      <defs>\n       <path d=\"M 33.015625 40.375 \nQ 26.375 40.375 22.484375 35.828125 \nQ 18.609375 31.296875 18.609375 23.390625 \nQ 18.609375 15.53125 22.484375 10.953125 \nQ 26.375 6.390625 33.015625 6.390625 \nQ 39.65625 6.390625 43.53125 10.953125 \nQ 47.40625 15.53125 47.40625 23.390625 \nQ 47.40625 31.296875 43.53125 35.828125 \nQ 39.65625 40.375 33.015625 40.375 \nz\nM 52.59375 71.296875 \nL 52.59375 62.3125 \nQ 48.875 64.0625 45.09375 64.984375 \nQ 41.3125 65.921875 37.59375 65.921875 \nQ 27.828125 65.921875 22.671875 59.328125 \nQ 17.53125 52.734375 16.796875 39.40625 \nQ 19.671875 43.65625 24.015625 45.921875 \nQ 28.375 48.1875 33.59375 48.1875 \nQ 44.578125 48.1875 50.953125 41.515625 \nQ 57.328125 34.859375 57.328125 23.390625 \nQ 57.328125 12.15625 50.6875 5.359375 \nQ 44.046875 -1.421875 33.015625 -1.421875 \nQ 20.359375 -1.421875 13.671875 8.265625 \nQ 6.984375 17.96875 6.984375 36.375 \nQ 6.984375 53.65625 15.1875 63.9375 \nQ 23.390625 74.21875 37.203125 74.21875 \nQ 40.921875 74.21875 44.703125 73.484375 \nQ 48.484375 72.75 52.59375 71.296875 \nz\n\" id=\"DejaVuSans-54\"/>\n      </defs>\n      <g transform=\"translate(7.2 105.278125)scale(0.12 -0.12)\">\n       <use xlink:href=\"#DejaVuSans-48\"/>\n       <use x=\"63.623047\" xlink:href=\"#DejaVuSans-46\"/>\n       <use x=\"95.410156\" xlink:href=\"#DejaVuSans-54\"/>\n      </g>\n     </g>\n    </g>\n    <g id=\"ytick_5\">\n     <g id=\"line2d_19\">\n      <path clip-path=\"url(#p66b1bea967)\" d=\"M 33.28375 56.239062 \nL 561.68375 56.239062 \n\" style=\"fill:none;stroke:#b0b0b0;stroke-linecap:square;stroke-width:0.8;\"/>\n     </g>\n     <g id=\"line2d_20\">\n      <g>\n       <use style=\"stroke:#000000;stroke-width:0.8;\" x=\"33.28375\" xlink:href=\"#mec8f6f0e18\" y=\"56.239062\"/>\n      </g>\n     </g>\n     <g id=\"text_11\">\n      <!-- 0.8 -->\n      <defs>\n       <path d=\"M 31.78125 34.625 \nQ 24.75 34.625 20.71875 30.859375 \nQ 16.703125 27.09375 16.703125 20.515625 \nQ 16.703125 13.921875 20.71875 10.15625 \nQ 24.75 6.390625 31.78125 6.390625 \nQ 38.8125 6.390625 42.859375 10.171875 \nQ 46.921875 13.96875 46.921875 20.515625 \nQ 46.921875 27.09375 42.890625 30.859375 \nQ 38.875 34.625 31.78125 34.625 \nz\nM 21.921875 38.8125 \nQ 15.578125 40.375 12.03125 44.71875 \nQ 8.5 49.078125 8.5 55.328125 \nQ 8.5 64.0625 14.71875 69.140625 \nQ 20.953125 74.21875 31.78125 74.21875 \nQ 42.671875 74.21875 48.875 69.140625 \nQ 55.078125 64.0625 55.078125 55.328125 \nQ 55.078125 49.078125 51.53125 44.71875 \nQ 48 40.375 41.703125 38.8125 \nQ 48.828125 37.15625 52.796875 32.3125 \nQ 56.78125 27.484375 56.78125 20.515625 \nQ 56.78125 9.90625 50.3125 4.234375 \nQ 43.84375 -1.421875 31.78125 -1.421875 \nQ 19.734375 -1.421875 13.25 4.234375 \nQ 6.78125 9.90625 6.78125 20.515625 \nQ 6.78125 27.484375 10.78125 32.3125 \nQ 14.796875 37.15625 21.921875 38.8125 \nz\nM 18.3125 54.390625 \nQ 18.3125 48.734375 21.84375 45.5625 \nQ 25.390625 42.390625 31.78125 42.390625 \nQ 38.140625 42.390625 41.71875 45.5625 \nQ 45.3125 48.734375 45.3125 54.390625 \nQ 45.3125 60.0625 41.71875 63.234375 \nQ 38.140625 66.40625 31.78125 66.40625 \nQ 25.390625 66.40625 21.84375 63.234375 \nQ 18.3125 60.0625 18.3125 54.390625 \nz\n\" id=\"DejaVuSans-56\"/>\n      </defs>\n      <g transform=\"translate(7.2 60.798125)scale(0.12 -0.12)\">\n       <use xlink:href=\"#DejaVuSans-48\"/>\n       <use x=\"63.623047\" xlink:href=\"#DejaVuSans-46\"/>\n       <use x=\"95.410156\" xlink:href=\"#DejaVuSans-56\"/>\n      </g>\n     </g>\n    </g>\n    <g id=\"ytick_6\">\n     <g id=\"line2d_21\">\n      <path clip-path=\"url(#p66b1bea967)\" d=\"M 33.28375 11.759062 \nL 561.68375 11.759062 \n\" style=\"fill:none;stroke:#b0b0b0;stroke-linecap:square;stroke-width:0.8;\"/>\n     </g>\n     <g id=\"line2d_22\">\n      <g>\n       <use style=\"stroke:#000000;stroke-width:0.8;\" x=\"33.28375\" xlink:href=\"#mec8f6f0e18\" y=\"11.759062\"/>\n      </g>\n     </g>\n     <g id=\"text_12\">\n      <!-- 1.0 -->\n      <defs>\n       <path d=\"M 12.40625 8.296875 \nL 28.515625 8.296875 \nL 28.515625 63.921875 \nL 10.984375 60.40625 \nL 10.984375 69.390625 \nL 28.421875 72.90625 \nL 38.28125 72.90625 \nL 38.28125 8.296875 \nL 54.390625 8.296875 \nL 54.390625 0 \nL 12.40625 0 \nz\n\" id=\"DejaVuSans-49\"/>\n      </defs>\n      <g transform=\"translate(7.2 16.318125)scale(0.12 -0.12)\">\n       <use xlink:href=\"#DejaVuSans-49\"/>\n       <use x=\"63.623047\" xlink:href=\"#DejaVuSans-46\"/>\n       <use x=\"95.410156\" xlink:href=\"#DejaVuSans-48\"/>\n      </g>\n     </g>\n    </g>\n   </g>\n   <g id=\"line2d_23\">\n    <path clip-path=\"url(#p66b1bea967)\" d=\"M 33.194447 213.587794 \nL 47.925005 213.455744 \nL 63.943433 213.255078 \nL 71.812971 213.135461 \nL 82.777875 212.934003 \nL 88.859388 212.794659 \nL 90.756959 212.757695 \nL 98.554698 212.559063 \nL 98.82199 212.548179 \nL 104.781664 212.358783 \nL 107.800236 212.251851 \nL 111.444085 212.100905 \nL 116.500535 211.892653 \nL 121.021875 211.707499 \nL 121.570348 211.67803 \nL 125.951099 211.443683 \nL 127.951537 211.326431 \nL 130.986799 211.177615 \nL 131.614296 211.137872 \nL 135.054228 210.905327 \nL 137.263661 210.748307 \nL 139.776389 210.561687 \nL 146.53938 210.031565 \nL 148.375941 209.870475 \nL 149.029235 209.807673 \nL 150.429618 209.644465 \nL 152.975967 209.352607 \nL 154.270939 209.219651 \nL 154.475853 209.202429 \nL 165.470264 207.778864 \nL 166.076861 207.693196 \nL 167.140809 207.53947 \nL 167.33463 207.506203 \nL 168.399657 207.341194 \nL 168.511087 207.322509 \nL 169.471184 207.161862 \nL 170.540512 206.977459 \nL 174.648458 206.222373 \nL 175.291238 206.088296 \nL 176.498684 205.85121 \nL 177.70014 205.598321 \nL 177.818544 205.571629 \nL 178.374318 205.460735 \nL 178.980268 205.307316 \nL 179.389095 205.224025 \nL 180.26836 205.032537 \nL 180.462843 204.993365 \nL 181.39872 204.791988 \nL 182.050686 204.641909 \nL 182.613833 204.511997 \nL 183.874223 204.214367 \nL 184.423757 204.067966 \nL 184.792095 203.986424 \nL 185.7106 203.749174 \nL 185.826574 203.718855 \nL 186.310413 203.579705 \nL 186.501526 203.528574 \nL 187.155438 203.348661 \nL 187.404542 203.272738 \nL 188.686294 202.8983 \nL 188.802113 202.858019 \nL 190.788082 202.27865 \nL 191.046906 202.181775 \nL 191.818517 201.952067 \nL 191.951377 201.901376 \nL 192.168776 201.838123 \nL 192.817546 201.618662 \nL 192.929332 201.576734 \nL 192.935501 201.581045 \nL 193.181259 201.499564 \nL 193.656114 201.351685 \nL 195.131224 200.816848 \nL 195.636294 200.635302 \nL 196.141001 200.439335 \nL 197.224291 200.046869 \nL 197.633801 199.88986 \nL 198.115295 199.69836 \nL 198.71299 199.453558 \nL 199.20184 199.276505 \nL 199.34915 199.207684 \nL 199.756634 199.030802 \nL 199.973801 198.946719 \nL 200.557129 198.691559 \nL 201.095592 198.493472 \nL 201.591044 198.28332 \nL 201.871002 198.138573 \nL 202.586707 197.838705 \nL 203.590637 197.394854 \nL 203.950401 197.245998 \nL 204.083058 197.181479 \nL 204.354187 197.035483 \nL 205.031039 196.685482 \nL 206.448063 195.98293 \nL 206.710854 195.844522 \nL 207.213782 195.600549 \nL 207.375669 195.499758 \nL 207.684452 195.347581 \nL 207.80092 195.276155 \nL 208.129413 195.106747 \nL 208.387449 194.970933 \nL 209.082288 194.531535 \nL 209.241241 194.434372 \nL 209.525565 194.277079 \nL 209.644946 194.201612 \nL 210.074139 193.954357 \nL 210.571638 193.648586 \nL 210.77175 193.523957 \nL 211.050726 193.342988 \nL 211.283118 193.190844 \nL 211.768931 192.8896 \nL 212.067143 192.672293 \nL 212.06912 192.675732 \nL 212.190063 192.602785 \nL 212.80592 192.237926 \nL 213.058576 192.026966 \nL 214.775976 190.902161 \nL 215.055716 190.738578 \nL 215.162245 190.663496 \nL 215.505042 190.4492 \nL 215.619579 190.371403 \nL 215.928039 190.140839 \nL 216.329848 189.863002 \nL 216.533457 189.717656 \nL 217.008416 189.378042 \nL 217.438095 189.05208 \nL 217.66022 188.873414 \nL 217.835839 188.714196 \nL 218.087084 188.538108 \nL 218.252404 188.378457 \nL 218.855511 187.907271 \nL 218.855713 187.914191 \nL 219.111299 187.717148 \nL 219.266719 187.59222 \nL 219.47835 187.429101 \nL 220.666977 186.437459 \nL 220.753729 186.374741 \nL 220.756813 186.370857 \nL 220.893487 186.242326 \nL 224.5674 182.980162 \nL 224.738215 182.827744 \nL 225.324785 182.238764 \nL 225.472783 182.083999 \nL 225.626566 181.937629 \nL 231.336963 175.725123 \nL 231.514417 175.491534 \nL 231.652503 175.313313 \nL 232.946745 173.721509 \nL 233.245305 173.309265 \nL 233.421142 173.07729 \nL 233.650574 172.791501 \nL 233.760175 172.641657 \nL 233.965257 172.362838 \nL 234.153847 172.119977 \nL 234.254097 171.97014 \nL 234.363436 171.802804 \nL 234.609802 171.436724 \nL 234.752361 171.334681 \nL 235.566693 170.157913 \nL 235.5676 170.166668 \nL 235.666093 170.05662 \nL 235.915165 169.688831 \nL 237.029226 168.047366 \nL 237.242432 167.753635 \nL 237.393916 167.557101 \nL 237.511871 167.377299 \nL 237.904657 166.733216 \nL 238.02811 166.523697 \nL 238.18171 166.296234 \nL 238.525445 165.813482 \nL 238.527562 165.822615 \nL 238.603732 165.680526 \nL 238.779381 165.420138 \nL 239.128335 165.01543 \nL 239.348247 164.594396 \nL 239.474174 164.466276 \nL 239.604604 164.271568 \nL 239.798269 163.940346 \nL 239.981514 163.705141 \nL 241.090757 161.993788 \nL 241.216716 161.763156 \nL 243.741906 157.365096 \nL 244.117558 156.743444 \nL 244.118298 156.75329 \nL 244.215424 156.568865 \nL 244.350593 156.281826 \nL 244.71804 155.574659 \nL 245.301024 154.466638 \nL 245.422546 154.301932 \nL 245.625286 153.954375 \nL 245.73676 153.771434 \nL 245.8841 153.539062 \nL 246.097627 153.185338 \nL 246.233709 152.911308 \nL 246.518852 152.3599 \nL 247.538124 150.176885 \nL 247.617513 150.026939 \nL 250.959722 143.114119 \nL 251.109634 142.711634 \nL 251.341268 142.05272 \nL 251.494638 141.691153 \nL 251.683948 141.160125 \nL 251.835298 140.812614 \nL 251.915785 140.660742 \nL 252.131503 140.293784 \nL 252.397499 139.709561 \nL 252.547343 139.421264 \nL 252.554486 139.432089 \nL 252.825777 138.877321 \nL 253.98563 136.160576 \nL 253.98595 136.171525 \nL 254.100527 135.986021 \nL 254.239994 135.653846 \nL 254.248323 135.66482 \nL 254.306208 135.577502 \nL 254.407967 135.360733 \nL 255.13463 133.679439 \nL 255.24522 133.427914 \nL 255.682317 132.341563 \nL 255.735822 132.174532 \nL 255.851913 131.947515 \nL 255.855305 131.949176 \nL 256.242183 131.041996 \nL 256.349861 130.853628 \nL 256.697841 130.101117 \nL 257.166172 129.020657 \nL 257.802476 127.636403 \nL 257.874289 127.409655 \nL 261.335815 119.163599 \nL 261.337539 119.174985 \nL 261.416215 119.02769 \nL 261.417842 119.039079 \nL 261.544039 118.79143 \nL 261.71756 118.319781 \nL 261.823149 118.145003 \nL 262.091653 117.383441 \nL 262.103194 117.394856 \nL 262.149179 117.291364 \nL 262.390999 116.772541 \nL 262.546598 116.254697 \nL 262.561786 116.266132 \nL 262.591697 116.175753 \nL 262.617686 116.174267 \nL 262.836467 115.583302 \nL 262.888722 115.421328 \nL 263.266161 114.515847 \nL 263.3757 114.177497 \nL 263.507472 113.82549 \nL 263.62447 113.528541 \nL 264.365385 111.749899 \nL 265.416736 108.731541 \nL 265.431873 108.742967 \nL 265.464581 108.63944 \nL 266.697795 105.765136 \nL 266.868963 105.179558 \nL 266.928649 105.021824 \nL 267.062871 104.675872 \nL 269.459455 99.207746 \nL 269.881456 98.043968 \nL 269.883684 98.055275 \nL 269.890744 98.066585 \nL 269.926335 97.917173 \nL 270.293146 97.207019 \nL 270.407089 96.877662 \nL 270.55968 96.417986 \nL 270.884229 95.725801 \nL 271.125378 95.072715 \nL 271.126905 95.083968 \nL 271.828496 93.54664 \nL 271.837338 93.557856 \nL 272.016319 93.152561 \nL 272.138744 92.858081 \nL 273.111307 90.703532 \nL 273.119624 90.714671 \nL 273.119893 90.725814 \nL 273.225045 90.488348 \nL 273.60027 89.805282 \nL 273.60878 89.827556 \nL 273.642899 89.600652 \nL 273.780753 89.157198 \nL 273.783766 89.168302 \nL 273.849237 89.01279 \nL 274.04354 88.365648 \nL 274.047936 88.376714 \nL 274.101827 88.250258 \nL 274.22474 87.88147 \nL 274.956081 86.448559 \nL 274.974627 86.459548 \nL 275.004528 86.350818 \nL 275.15699 86.045654 \nL 275.157203 86.056626 \nL 275.179063 86.078578 \nL 275.200666 85.958175 \nL 275.337117 85.661554 \nL 275.89147 84.423087 \nL 276.016637 84.130237 \nL 276.110188 84.082631 \nL 276.115027 84.070911 \nL 276.392966 83.278576 \nL 276.395419 83.289447 \nL 276.497147 83.069344 \nL 276.667755 82.627809 \nL 276.713367 82.649488 \nL 276.724742 82.533531 \nL 277.138652 81.742672 \nL 277.179336 81.740746 \nL 277.190337 81.669974 \nL 277.641122 80.345161 \nL 277.687211 80.364044 \nL 277.703141 80.385547 \nL 277.738858 80.273061 \nL 278.002598 79.833534 \nL 278.069382 79.624802 \nL 278.274894 79.17759 \nL 278.391255 78.70564 \nL 278.392181 78.716299 \nL 278.835527 77.906972 \nL 278.842748 77.928249 \nL 278.84581 77.938892 \nL 278.909186 77.798612 \nL 279.151768 77.251308 \nL 279.152377 77.261912 \nL 279.248946 77.043526 \nL 279.456565 76.667988 \nL 279.748929 75.973917 \nL 279.890073 75.573738 \nL 279.961167 75.526915 \nL 279.963105 75.500785 \nL 280.066061 75.29667 \nL 280.141659 75.091513 \nL 280.261761 74.774243 \nL 280.263837 74.78471 \nL 280.328169 74.667548 \nL 280.436858 74.395981 \nL 280.56653 74.106906 \nL 280.577579 74.11733 \nL 281.43175 72.057386 \nL 281.54054 71.904255 \nL 281.760289 71.438566 \nL 281.78508 71.441379 \nL 281.805577 71.3572 \nL 281.815402 71.377762 \nL 282.245678 70.609167 \nL 282.34575 70.315994 \nL 282.352998 70.326206 \nL 282.517349 69.940804 \nL 282.615978 69.798515 \nL 282.61912 69.808703 \nL 282.687699 69.820623 \nL 282.708709 69.75435 \nL 283.663366 68.14609 \nL 283.77203 67.967858 \nL 283.772238 67.977949 \nL 284.493434 66.576822 \nL 284.495093 66.58684 \nL 284.524967 66.596862 \nL 284.543034 66.504929 \nL 284.722913 66.072687 \nL 284.732486 66.092641 \nL 284.806942 65.875168 \nL 284.948454 65.70534 \nL 284.991609 65.610635 \nL 285.018988 65.640536 \nL 285.276529 65.070443 \nL 285.312509 65.078675 \nL 285.292896 65.048871 \nL 285.335826 65.015609 \nL 286.445759 62.600648 \nL 286.85258 61.353188 \nL 286.892484 61.348542 \nL 286.916562 61.281678 \nL 287.154961 60.878346 \nL 287.179974 60.89747 \nL 287.246082 60.868242 \nL 287.247418 60.834462 \nL 287.346628 60.441692 \nL 287.347648 60.451217 \nL 287.366037 60.460745 \nL 287.38323 60.35871 \nL 287.38725 60.37775 \nL 287.692928 59.891713 \nL 287.843715 59.570009 \nL 287.854805 59.579458 \nL 287.871408 59.475891 \nL 287.894256 59.49477 \nL 288.072457 59.211452 \nL 288.076782 59.220863 \nL 288.192574 58.996416 \nL 288.273017 58.980375 \nL 288.28178 58.945541 \nL 288.50967 58.813753 \nL 288.563503 58.806925 \nL 288.529824 58.788136 \nL 288.586767 58.77189 \nL 288.740249 58.451022 \nL 288.990046 58.450528 \nL 288.991002 58.415153 \nL 289.118204 57.865832 \nL 289.139419 57.884472 \nL 289.190761 57.867477 \nL 289.19354 57.831812 \nL 289.464203 57.396972 \nL 289.489861 57.415543 \nL 289.498484 57.307597 \nL 289.505952 57.316872 \nL 289.543945 57.272638 \nL 289.582042 57.328369 \nL 289.597911 57.30157 \nL 290.48787 56.248274 \nL 290.49444 56.257488 \nL 290.540562 56.266707 \nL 290.553497 56.192969 \nL 290.749885 55.739079 \nL 291.131773 55.325792 \nL 291.227312 55.089201 \nL 291.28741 55.022995 \nL 291.601982 54.584343 \nL 291.705751 54.544586 \nL 291.708638 54.506565 \nL 291.864595 54.282963 \nL 291.879942 54.291999 \nL 291.980909 54.328182 \nL 292.004889 54.298977 \nL 292.132648 54.17287 \nL 292.150372 54.190953 \nL 292.362509 53.910515 \nL 292.503832 53.742007 \nL 292.513788 53.751004 \nL 292.51994 53.760006 \nL 292.578264 53.670889 \nL 292.592646 53.688889 \nL 292.614863 53.697894 \nL 292.620206 53.620343 \nL 292.749488 53.441096 \nL 292.892736 53.251958 \nL 292.908675 53.278855 \nL 292.963551 53.359755 \nL 293.010009 53.260233 \nL 293.067862 53.208748 \nL 293.04117 53.190769 \nL 293.070168 53.169479 \nL 293.098619 53.193149 \nL 293.161022 53.084041 \nL 293.355933 53.05568 \nL 293.484294 52.740307 \nL 293.533615 52.758273 \nL 293.569925 52.785252 \nL 293.629804 52.714638 \nL 293.738023 52.63099 \nL 293.871065 52.235568 \nL 293.880976 52.262374 \nL 294.226214 51.854267 \nL 294.347765 51.862357 \nL 294.514868 51.762276 \nL 294.519207 51.780139 \nL 294.532891 51.789076 \nL 294.56509 51.707588 \nL 294.83103 51.147076 \nL 294.831561 51.155919 \nL 294.974979 51.103289 \nL 295.043615 50.991366 \nL 295.070184 51.035666 \nL 295.113293 50.961774 \nL 295.193952 51.006121 \nL 295.363541 50.988302 \nL 295.46166 50.806777 \nL 296.763135 48.86042 \nL 296.773001 48.88648 \nL 296.865525 48.843115 \nL 296.955396 48.668889 \nL 296.97926 48.712322 \nL 297.030043 48.694752 \nL 297.050368 48.659746 \nL 297.194562 48.458213 \nL 297.349486 48.141259 \nL 297.455473 48.017641 \nL 297.5163 47.955124 \nL 297.572674 47.998112 \nL 297.640602 48.005553 \nL 297.649717 47.961252 \nL 297.748127 47.879835 \nL 297.751595 47.888452 \nL 297.938325 47.875757 \nL 297.95007 47.831128 \nL 298.139356 47.516236 \nL 298.1624 47.524832 \nL 298.436797 47.312987 \nL 298.443446 47.321575 \nL 298.517569 47.327995 \nL 298.528084 47.291379 \nL 298.62746 47.215699 \nL 298.64697 47.232915 \nL 298.65579 47.24153 \nL 298.676677 47.150705 \nL 298.706336 47.16791 \nL 298.822026 46.929043 \nL 298.825937 46.946191 \nL 298.908651 46.93485 \nL 298.917543 46.897719 \nL 298.990138 46.831923 \nL 299.013885 46.874852 \nL 299.0571 46.90066 \nL 299.081659 46.808866 \nL 299.204199 46.705294 \nL 299.249535 46.68499 \nL 299.260152 46.638905 \nL 299.331265 46.580924 \nL 299.386198 46.632435 \nL 299.480445 46.582871 \nL 299.725567 46.072205 \nL 299.860144 46.05956 \nL 299.967874 45.696725 \nL 300.063358 45.670329 \nL 300.073259 45.623125 \nL 300.172416 45.562524 \nL 300.186052 45.571004 \nL 300.199083 45.596471 \nL 300.22088 45.462807 \nL 300.306991 45.410221 \nL 300.386919 45.309819 \nL 300.405271 45.326756 \nL 300.471298 45.273702 \nL 300.595236 45.150085 \nL 300.599497 45.158555 \nL 300.876499 44.812382 \nL 301.04168 44.757783 \nL 301.221634 44.56563 \nL 301.222077 44.574048 \nL 301.316809 44.518754 \nL 301.396123 44.405985 \nL 301.444133 44.43965 \nL 301.455467 44.456509 \nL 301.473695 44.358598 \nL 301.531144 44.302599 \nL 301.577764 44.336288 \nL 301.695802 44.395412 \nL 301.706994 44.346199 \nL 302.00762 44.002713 \nL 302.019407 44.011123 \nL 302.028359 44.019537 \nL 302.044285 43.969918 \nL 302.086817 43.928671 \nL 302.150967 43.920987 \nL 302.154717 43.871226 \nL 302.251948 43.688641 \nL 302.373589 43.638926 \nL 302.524491 43.446816 \nL 302.965143 43.471436 \nL 303.419639 42.960562 \nL 303.652726 42.957339 \nL 303.654868 42.905844 \nL 303.778877 42.75809 \nL 303.794472 42.783231 \nL 303.896361 42.781814 \nL 303.900303 42.729965 \nL 304.010146 42.607705 \nL 304.017259 42.624462 \nL 304.128157 42.553839 \nL 304.29133 42.169106 \nL 304.343988 42.243987 \nL 304.452552 42.213947 \nL 304.647201 41.818101 \nL 304.647244 41.826411 \nL 304.677438 41.728293 \nL 304.730519 41.753192 \nL 304.840481 41.597729 \nL 304.850334 41.60602 \nL 304.928853 41.556946 \nL 304.94099 41.449586 \nL 305.020017 41.515934 \nL 305.207168 41.51637 \nL 305.394656 41.266217 \nL 305.407025 41.299502 \nL 305.567533 41.303438 \nL 305.571298 41.248913 \nL 305.857568 40.973962 \nL 305.897355 41.007226 \nL 305.899339 40.8972 \nL 305.921733 40.913807 \nL 306.010477 40.726329 \nL 306.035378 40.751172 \nL 306.142683 40.451723 \nL 306.186437 40.484665 \nL 306.250697 40.453775 \nL 306.254834 40.398097 \nL 306.380719 40.391781 \nL 306.388297 40.335957 \nL 306.696788 39.647829 \nL 306.699461 39.664029 \nL 306.969481 39.542834 \nL 306.970085 39.550946 \nL 307.017731 39.453421 \nL 307.028944 39.477728 \nL 307.149444 39.420429 \nL 307.15506 39.363288 \nL 307.251746 39.420103 \nL 307.348663 39.403481 \nL 307.361365 39.288682 \nL 307.443233 39.321175 \nL 307.712678 39.303714 \nL 307.787398 39.228896 \nL 307.933434 39.195448 \nL 307.985171 38.905237 \nL 308.050088 38.953813 \nL 308.180374 38.893991 \nL 308.207422 38.777136 \nL 308.306516 38.817618 \nL 308.376216 38.833845 \nL 308.386505 38.775259 \nL 308.720621 38.358398 \nL 308.756419 38.398627 \nL 308.826614 38.35549 \nL 308.865963 38.379669 \nL 308.956623 38.138625 \nL 308.985968 38.14665 \nL 309.096638 38.083407 \nL 309.260211 37.779522 \nL 309.276111 37.787494 \nL 309.405469 37.867483 \nL 309.446165 37.762755 \nL 309.497862 37.710294 \nL 309.555684 37.734286 \nL 309.857808 37.664391 \nL 309.952606 37.52955 \nL 309.974182 37.537558 \nL 310.001383 37.561613 \nL 310.011486 37.439237 \nL 310.073103 37.279237 \nL 310.126452 37.287197 \nL 310.15207 37.311107 \nL 310.175995 37.188116 \nL 310.395456 37.182176 \nL 310.492414 37.144324 \nL 310.694026 37.068336 \nL 310.882759 37.15616 \nL 310.886991 37.093995 \nL 310.980693 37.118001 \nL 311.109869 37.025392 \nL 311.130257 37.049401 \nL 311.460508 37.131657 \nL 311.461526 37.068849 \nL 311.483172 36.943114 \nL 311.529501 36.975287 \nL 311.603985 36.991405 \nL 311.606843 36.928372 \nL 311.668486 36.755028 \nL 311.760154 36.803143 \nL 311.786884 36.827271 \nL 311.791463 36.763881 \nL 311.987799 36.549784 \nL 312.001083 36.565768 \nL 312.15878 36.534006 \nL 312.381099 36.285822 \nL 312.419872 36.341637 \nL 312.512099 36.389681 \nL 312.516214 36.32524 \nL 312.528912 36.333248 \nL 312.763421 36.405548 \nL 312.817608 36.276171 \nL 312.862164 36.292221 \nL 312.894457 36.300254 \nL 312.902685 36.235446 \nL 312.908514 36.170596 \nL 313.010814 36.210654 \nL 313.115571 36.258898 \nL 313.121986 36.20184 \nL 313.20499 35.988841 \nL 313.245651 36.012863 \nL 313.36809 35.913764 \nL 313.381725 35.929772 \nL 313.422138 35.806293 \nL 313.425116 35.814272 \nL 313.475133 35.838239 \nL 313.478187 35.772352 \nL 313.653217 35.563797 \nL 313.683461 35.579683 \nL 313.777523 35.627468 \nL 313.783542 35.569032 \nL 313.897278 35.432938 \nL 313.911477 35.44089 \nL 313.923905 35.374116 \nL 313.975294 35.240434 \nL 314.036884 35.264145 \nL 314.091952 35.287903 \nL 314.092376 35.220876 \nL 314.208672 34.999374 \nL 314.268388 34.963399 \nL 314.394456 34.72428 \nL 314.532709 34.810409 \nL 314.53277 34.742419 \nL 314.638077 34.545948 \nL 314.747529 34.432754 \nL 314.768947 34.448279 \nL 314.909996 34.410914 \nL 315.182608 34.382511 \nL 315.290933 33.99137 \nL 315.308595 34.006761 \nL 315.372423 33.968216 \nL 315.459642 33.844618 \nL 315.485858 33.852289 \nL 315.545895 33.790345 \nL 315.546973 33.720676 \nL 315.605913 33.751263 \nL 315.777963 33.70439 \nL 315.784178 33.712045 \nL 315.93487 33.695684 \nL 316.069819 33.507958 \nL 316.071432 33.515584 \nL 316.097935 33.460431 \nL 316.213467 33.483307 \nL 316.312625 33.294274 \nL 316.323063 33.301859 \nL 316.472465 33.355108 \nL 316.473035 33.284177 \nL 316.558323 33.180026 \nL 316.573638 33.187614 \nL 316.889539 33.174184 \nL 317.06438 33.09927 \nL 317.067811 33.106914 \nL 317.270855 33.103707 \nL 317.276175 33.04672 \nL 317.35906 32.764398 \nL 317.374985 32.779553 \nL 317.466817 32.729583 \nL 317.648471 32.636772 \nL 317.666351 32.651917 \nL 317.917566 32.65462 \nL 317.932886 32.507751 \nL 318.034839 32.538041 \nL 318.118779 32.479559 \nL 318.160221 32.347134 \nL 318.221067 32.369758 \nL 318.491965 32.342543 \nL 318.610435 32.089484 \nL 318.645677 32.112082 \nL 318.749142 32.059768 \nL 318.825262 31.954671 \nL 318.833705 31.96219 \nL 319.139186 31.954485 \nL 319.596801 31.671718 \nL 319.773307 31.701855 \nL 319.780744 31.625224 \nL 319.875695 31.662893 \nL 320.094954 31.646429 \nL 320.197096 31.475073 \nL 320.209485 31.48261 \nL 320.295204 31.527951 \nL 320.302407 31.465392 \nL 320.311153 31.387612 \nL 320.403033 31.440478 \nL 320.661908 31.390189 \nL 320.764745 31.263292 \nL 320.779595 31.278441 \nL 320.96639 31.252635 \nL 321.101398 31.203871 \nL 321.336034 31.303041 \nL 321.356564 31.223427 \nL 321.454314 31.261697 \nL 321.491923 31.197173 \nL 321.539303 31.220158 \nL 321.714918 31.151849 \nL 321.820973 30.882629 \nL 322.062426 30.908442 \nL 322.083288 30.745515 \nL 322.184573 30.798934 \nL 322.388839 30.809083 \nL 323.07912 30.868719 \nL 323.239333 30.414326 \nL 323.246229 30.422 \nL 323.772109 30.477729 \nL 323.883275 30.416158 \nL 323.906099 30.439547 \nL 324.195158 30.479601 \nL 324.295757 30.268906 \nL 324.705827 30.308169 \nL 324.826681 30.23712 \nL 324.829579 30.244996 \nL 324.920797 30.300319 \nL 324.945105 30.221022 \nL 324.947362 30.13372 \nL 325.041034 30.165237 \nL 325.130907 30.117102 \nL 325.285293 29.939685 \nL 325.773355 30.033188 \nL 325.857812 29.773073 \nL 325.899872 29.804677 \nL 326.118534 29.794144 \nL 326.212949 29.637508 \nL 326.245803 29.669151 \nL 326.493637 29.634018 \nL 326.49538 29.543158 \nL 326.594709 29.566892 \nL 327.04451 29.634949 \nL 327.062328 29.54307 \nL 327.159814 29.591135 \nL 327.1895 29.623322 \nL 327.202135 29.530981 \nL 327.426932 29.053469 \nL 327.431462 29.069213 \nL 327.559148 29.132475 \nL 327.580522 29.046671 \nL 327.609931 28.952841 \nL 327.699374 29.023922 \nL 328.025652 29.032849 \nL 328.202292 28.993772 \nL 328.279288 28.906485 \nL 328.295617 28.922428 \nL 328.622262 29.051053 \nL 328.753702 29.107935 \nL 328.956691 29.060335 \nL 329.063249 28.882917 \nL 329.066031 28.89101 \nL 329.102198 28.826234 \nL 329.172741 28.874882 \nL 329.199355 28.679652 \nL 329.227048 28.687702 \nL 329.525651 28.670397 \nL 329.548944 28.572077 \nL 329.642921 28.604317 \nL 329.905341 28.570232 \nL 329.918702 28.471201 \nL 330.02371 28.503464 \nL 330.033655 28.511549 \nL 330.054167 28.412203 \nL 330.240196 28.401239 \nL 330.414676 28.257257 \nL 330.431948 28.289527 \nL 330.742544 28.269584 \nL 330.750559 28.16831 \nL 330.845058 28.208767 \nL 331.194613 28.229043 \nL 331.312553 28.064698 \nL 331.333693 27.961857 \nL 331.4215 28.026798 \nL 331.597189 27.852329 \nL 331.607856 27.86042 \nL 331.857205 27.933608 \nL 331.91468 27.733165 \nL 331.978935 27.757441 \nL 332.103197 27.822542 \nL 332.111565 27.717536 \nL 332.459364 27.579738 \nL 332.897783 27.751613 \nL 332.992857 27.801408 \nL 333.115945 27.603472 \nL 333.14068 27.619968 \nL 333.142868 27.512396 \nL 333.402951 27.429209 \nL 333.480344 27.229355 \nL 333.492801 27.237451 \nL 333.832026 27.218146 \nL 333.949629 27.125307 \nL 333.962034 27.133416 \nL 334.158543 27.214978 \nL 334.248858 27.121443 \nL 334.283962 27.162366 \nL 334.433269 27.195261 \nL 334.453625 27.084704 \nL 334.505279 27.142226 \nL 334.759686 27.130121 \nL 334.776471 27.018274 \nL 334.827729 27.026522 \nL 335.104945 26.980355 \nL 335.171857 26.875974 \nL 335.232977 26.917187 \nL 335.245096 26.925456 \nL 335.250207 26.812338 \nL 335.728429 26.814208 \nL 335.747333 26.700032 \nL 335.783397 26.724755 \nL 336.481639 26.809622 \nL 336.604941 26.361083 \nL 336.682223 26.402169 \nL 336.861267 26.309768 \nL 336.940382 26.3262 \nL 336.946367 26.20878 \nL 337.026019 26.249714 \nL 337.501055 26.271713 \nL 337.639572 26.177422 \nL 337.642082 26.185699 \nL 337.716166 26.210586 \nL 338.281849 26.387235 \nL 338.605624 26.429932 \nL 338.635245 26.308595 \nL 338.715387 26.359766 \nL 339.17536 26.463195 \nL 339.285567 26.1202 \nL 339.300176 26.128713 \nL 339.765949 26.301114 \nL 339.922359 26.371239 \nL 339.931 26.245914 \nL 340.026119 26.33382 \nL 340.300839 26.422799 \nL 340.311173 26.295898 \nL 340.381748 26.322588 \nL 340.703194 26.32015 \nL 340.861392 25.969484 \nL 341.343343 25.972596 \nL 341.460317 25.711384 \nL 341.487315 25.720142 \nL 342.263874 25.818833 \nL 342.281887 25.685708 \nL 342.379152 25.703528 \nL 342.467189 25.748279 \nL 342.489087 25.614425 \nL 342.591359 25.641173 \nL 343.097932 25.961037 \nL 343.190858 25.714148 \nL 343.20218 25.723372 \nL 343.23661 25.732607 \nL 343.316027 25.474712 \nL 343.610382 25.426932 \nL 343.820805 25.314588 \nL 343.825752 25.323674 \nL 343.938593 25.341881 \nL 343.978273 25.201641 \nL 344.07182 25.246933 \nL 344.152998 25.265135 \nL 344.240238 25.018683 \nL 344.415157 24.903628 \nL 345.32548 25.013671 \nL 345.41522 24.622617 \nL 345.426955 24.64057 \nL 346.265641 24.66336 \nL 346.398411 24.257045 \nL 346.436421 24.27508 \nL 346.568687 24.320395 \nL 346.598594 24.168338 \nL 346.640562 24.195373 \nL 346.844421 24.222527 \nL 346.845236 24.069623 \nL 346.938678 24.105593 \nL 347.427738 24.196443 \nL 347.469145 24.041831 \nL 347.569733 24.078117 \nL 348.033941 24.244092 \nL 348.968254 24.379921 \nL 349.154062 24.086083 \nL 349.194304 24.114618 \nL 349.50347 24.249546 \nL 349.715697 24.347742 \nL 349.785092 24.01733 \nL 349.829744 24.036665 \nL 350.00488 24.075518 \nL 350.074427 23.752084 \nL 350.167746 23.771136 \nL 350.222794 23.780684 \nL 350.280343 23.613319 \nL 350.579174 23.689247 \nL 350.653206 23.520601 \nL 350.672724 23.548942 \nL 351.00257 23.615605 \nL 351.015938 23.4454 \nL 351.03649 23.454855 \nL 352.088751 23.522368 \nL 352.132959 23.348144 \nL 352.139058 23.357738 \nL 352.286136 23.367348 \nL 352.458468 23.211554 \nL 352.566787 23.288159 \nL 352.672055 22.972508 \nL 352.70205 22.981939 \nL 353.028395 22.672091 \nL 353.057832 22.69986 \nL 353.64943 22.831337 \nL 353.751772 22.532765 \nL 353.753275 22.542093 \nL 353.849813 22.579566 \nL 354.067583 22.404841 \nL 354.126159 22.423404 \nL 354.149587 22.238644 \nL 354.245218 22.27535 \nL 354.379733 22.284566 \nL 354.397854 21.726022 \nL 354.498882 21.770007 \nL 354.575072 21.78771 \nL 354.644145 21.420055 \nL 354.707682 21.471718 \nL 355.570493 21.517015 \nL 355.698394 20.761454 \nL 356.584324 20.904483 \nL 356.585118 20.704993 \nL 356.634764 20.738593 \nL 357.359421 20.884253 \nL 357.38142 20.680552 \nL 357.446582 20.723362 \nL 358.089926 20.872038 \nL 358.14107 20.66375 \nL 358.235647 20.689915 \nL 358.365287 20.751567 \nL 358.510524 20.549576 \nL 358.973063 20.628454 \nL 359.229555 20.218722 \nL 359.262147 20.235692 \nL 359.357934 20.269838 \nL 360.026095 20.418079 \nL 360.194695 20.489641 \nL 360.334039 20.064457 \nL 360.382418 20.090384 \nL 360.385427 20.099062 \nL 360.415965 19.875851 \nL 360.416379 19.884323 \nL 361.120489 20.05757 \nL 361.289232 19.846335 \nL 362.172984 19.9961 \nL 362.859813 20.207778 \nL 362.918914 19.968458 \nL 362.946821 19.977652 \nL 363.470952 20.108551 \nL 363.477188 20.11806 \nL 363.717755 20.137145 \nL 363.860091 19.901854 \nL 363.877778 19.911182 \nL 364.242556 19.68366 \nL 364.24692 19.692779 \nL 364.888432 19.775807 \nL 364.906902 19.526234 \nL 364.982518 19.553455 \nL 365.098885 19.599251 \nL 365.105317 19.346827 \nL 365.212227 19.373702 \nL 365.494212 19.437158 \nL 366.579192 19.643659 \nL 367.089353 19.770988 \nL 367.091003 19.504336 \nL 367.179441 19.543062 \nL 367.940238 19.794159 \nL 367.986706 19.517202 \nL 368.525276 19.670525 \nL 369.877221 19.939989 \nL 370.305536 20.087495 \nL 370.894933 20.276509 \nL 370.924715 19.972699 \nL 371.000048 20.00785 \nL 372.664131 20.363824 \nL 372.678503 20.045203 \nL 372.727778 20.094895 \nL 373.800553 20.365874 \nL 373.811447 20.379218 \nL 373.845363 20.047261 \nL 373.940075 20.073081 \nL 374.807866 20.326639 \nL 374.904664 20.354232 \nL 375.129272 20.409954 \nL 375.287056 20.076461 \nL 375.336259 20.103598 \nL 377.080551 20.443613 \nL 377.717293 20.578373 \nL 377.860761 20.608889 \nL 378.509691 20.812514 \nL 378.544626 20.054622 \nL 378.598886 20.084196 \nL 378.678596 20.128955 \nL 378.737606 19.7447 \nL 378.765323 19.759062 \nL 380.064834 19.9961 \nL 380.794041 20.183305 \nL 380.804497 19.777279 \nL 381.196436 19.885216 \nL 381.212564 19.472357 \nL 381.290539 19.487248 \nL 381.771859 19.65492 \nL 381.794322 19.230999 \nL 381.884082 19.275563 \nL 382.204449 19.412504 \nL 382.741913 19.538486 \nL 382.894768 19.603046 \nL 383.590822 19.786239 \nL 383.607329 19.330126 \nL 383.63489 19.346269 \nL 384.95332 19.579722 \nL 385.11931 19.631629 \nL 385.21389 19.649085 \nL 385.22498 19.172396 \nL 385.320427 19.188907 \nL 385.502458 18.724611 \nL 386.525433 19.033829 \nL 386.87518 19.190089 \nL 388.055061 19.485117 \nL 388.43823 19.562571 \nL 389.773304 19.825384 \nL 389.921773 19.909848 \nL 390.027654 19.9961 \nL 390.056408 19.428028 \nL 390.642183 19.573117 \nL 390.943422 19.658516 \nL 390.960455 19.070843 \nL 391.033187 19.090931 \nL 391.075645 19.111129 \nL 392.217435 19.276809 \nL 392.357432 18.077244 \nL 395.578174 18.730849 \nL 395.662944 18.774835 \nL 396.667744 19.098996 \nL 397.47613 19.375501 \nL 399.279979 19.70192 \nL 399.299673 19.730389 \nL 400.157007 19.965705 \nL 402.390765 20.61962 \nL 402.422644 19.765462 \nL 402.528748 19.83003 \nL 402.780617 19.928858 \nL 403.479791 20.204632 \nL 404.025458 20.53801 \nL 404.426633 20.694777 \nL 406.082498 21.200572 \nL 406.103126 21.290491 \nL 407.121221 21.570827 \nL 407.52904 21.717271 \nL 408.26014 21.868153 \nL 408.409208 22.023678 \nL 409.367451 22.405871 \nL 409.713063 22.578522 \nL 409.89698 22.637323 \nL 410.924623 22.817626 \nL 411.244889 23.004006 \nL 414.341449 24.427417 \nL 414.436789 24.508107 \nL 414.816586 24.672611 \nL 414.909169 24.841415 \nL 415.024094 24.927484 \nL 416.367073 25.283387 \nL 416.570992 25.468652 \nL 416.874453 25.5632 \nL 416.915103 24.114618 \nL 416.961239 24.201021 \nL 417.914264 24.651816 \nL 418.166164 25.036674 \nL 419.14381 25.551311 \nL 419.148035 25.659062 \nL 419.845632 26.224103 \nL 419.859958 26.342669 \nL 420.773684 26.710323 \nL 420.869917 26.837029 \nL 422.051231 27.36608 \nL 422.539293 27.787891 \nL 423.212693 27.933608 \nL 423.554575 28.3871 \nL 423.889773 28.543968 \nL 424.010132 28.866755 \nL 424.235375 29.2022 \nL 424.247836 29.374904 \nL 424.627113 29.73078 \nL 424.754115 30.487484 \nL 425.325356 31.098193 \nL 426.227195 31.310711 \nL 426.238043 31.527951 \nL 427.074061 32.447435 \nL 427.356273 32.940015 \nL 427.936545 33.724495 \nL 428.165519 34.280581 \nL 428.334575 35.169589 \nL 428.742857 36.131665 \nL 429.298186 36.470174 \nL 429.383551 37.54457 \nL 429.68442 37.923768 \nL 430.273816 38.314286 \nL 430.378296 38.716638 \nL 431.931113 39.559062 \nL 432.05748 40.000332 \nL 432.98626 40.455837 \nL 433.518935 40.926276 \nL 433.84029 41.412396 \nL 435.182906 41.914995 \nL 435.769994 42.434925 \nL 437.086104 42.973098 \nL 438.685026 44.108153 \nL 438.974119 45.328874 \nL 439.002086 45.974447 \nL 439.482546 46.645337 \nL 439.68821 47.343062 \nL 440.073042 43.530491 \nL 440.50712 44.192396 \nL 440.662388 44.882467 \nL 440.67246 45.602541 \nL 441.493723 46.354618 \nL 442.053801 47.140881 \nL 443.119655 47.963714 \nL 443.591162 49.729794 \nL 443.770532 45.119062 \nL 443.782802 40.271883 \nL 444.368226 41.02222 \nL 444.694269 41.813117 \nL 445.743669 42.647951 \nL 445.993412 43.530491 \nL 446.390483 44.464945 \nL 446.975947 45.456032 \nL 447.812808 46.509062 \nL 448.091849 47.63003 \nL 449.636136 48.825729 \nL 449.84794 52.944248 \nL 450.56316 54.528293 \nL 451.708329 47.343062 \nL 452.115725 39.559062 \nL 456.62855 40.767758 \nL 456.65557 42.086335 \nL 459.42777 43.530491 \nL 460.861014 45.119062 \nL 461.98371 46.874852 \nL 462.326742 48.825729 \nL 465.724129 53.459062 \nL 465.767986 41.412396 \nL 467.360778 43.530491 \nL 468.937227 45.974447 \nL 474.490752 48.825729 \nL 479.941258 56.239062 \nL 480.03246 61.181285 \nL 480.638865 39.559062 \nL 483.803821 43.530491 \nL 487.640131 48.825729 \nL 491.943441 11.759062 \nL 558.732307 11.759062 \nL 558.732307 11.759062 \n\" style=\"fill:none;stroke:#0000ff;stroke-dasharray:7.4,3.2;stroke-dashoffset:0;stroke-width:2;\"/>\n   </g>\n   <g id=\"line2d_24\">\n    <path clip-path=\"url(#p66b1bea967)\" d=\"M 33.194447 12.087268 \nL 60.567525 12.169319 \nL 60.982305 12.210345 \nL 85.762955 12.292396 \nL 85.884951 12.333421 \nL 93.910302 12.415473 \nL 94.016456 12.456498 \nL 96.128241 12.53855 \nL 96.248151 12.579575 \nL 106.704919 12.661627 \nL 106.798536 12.702652 \nL 116.648858 12.784704 \nL 116.792537 12.825729 \nL 118.806768 12.90778 \nL 118.906893 12.948806 \nL 129.138084 13.030857 \nL 129.252915 13.071883 \nL 133.80286 13.153934 \nL 133.909812 13.19496 \nL 142.016529 13.277011 \nL 142.130396 13.318037 \nL 145.118795 13.400088 \nL 145.227258 13.441114 \nL 152.838928 13.523165 \nL 152.969423 13.564191 \nL 156.709641 13.646242 \nL 156.822199 13.687268 \nL 165.664713 13.769319 \nL 165.774761 13.810345 \nL 169.057109 13.892396 \nL 169.171028 13.933421 \nL 174.061566 14.015473 \nL 174.17354 14.056498 \nL 181.06205 14.13855 \nL 181.173407 14.179575 \nL 183.836569 14.261627 \nL 183.978014 14.343678 \nL 185.31841 14.425729 \nL 185.429082 14.50778 \nL 189.026432 14.589832 \nL 189.131948 14.630857 \nL 191.02086 14.712909 \nL 191.135493 14.79496 \nL 192.051785 14.877011 \nL 192.160957 14.918037 \nL 196.63579 15.000088 \nL 196.749765 15.082139 \nL 198.780199 15.164191 \nL 198.895144 15.205216 \nL 200.326796 15.287268 \nL 200.439429 15.328293 \nL 201.858835 15.410345 \nL 201.96872 15.45137 \nL 203.157734 15.533421 \nL 203.276793 15.574447 \nL 205.345588 15.656498 \nL 205.453607 15.73855 \nL 206.994124 15.820601 \nL 207.10473 15.861627 \nL 208.603793 15.943678 \nL 208.711919 15.984704 \nL 211.135033 16.066755 \nL 211.245925 16.10778 \nL 212.329034 16.189832 \nL 212.446949 16.271883 \nL 212.718568 16.353934 \nL 212.829531 16.39496 \nL 214.081414 16.477011 \nL 214.189335 16.518037 \nL 215.134845 16.600088 \nL 215.244408 16.641114 \nL 215.957656 16.723165 \nL 216.06496 16.764191 \nL 216.585075 16.846242 \nL 216.69876 16.887268 \nL 218.855511 16.969319 \nL 218.966533 17.010345 \nL 220.167539 17.092396 \nL 220.278871 17.133421 \nL 220.666977 17.215473 \nL 220.785887 17.256498 \nL 221.492511 17.33855 \nL 221.603031 17.379575 \nL 223.33052 17.461627 \nL 223.470995 17.584704 \nL 223.629544 17.666755 \nL 223.742729 17.789832 \nL 224.469834 17.871883 \nL 224.581066 17.953934 \nL 224.884962 18.035986 \nL 224.999785 18.077011 \nL 225.201001 18.159062 \nL 225.312316 18.241114 \nL 226.597637 18.323165 \nL 226.710882 18.446242 \nL 227.586524 18.528293 \nL 227.705212 18.65137 \nL 228.251425 18.733421 \nL 228.369657 18.815473 \nL 228.624098 18.897524 \nL 228.727539 18.979575 \nL 228.993786 19.061627 \nL 229.105022 19.143678 \nL 229.453673 19.225729 \nL 229.564826 19.30778 \nL 230.11472 19.389832 \nL 230.232225 19.430857 \nL 230.542162 19.512909 \nL 230.654235 19.553934 \nL 231.246423 19.635986 \nL 231.358515 19.759062 \nL 232.03323 19.841114 \nL 232.143087 19.882139 \nL 232.340161 19.964191 \nL 232.450346 20.005216 \nL 232.881725 20.087268 \nL 232.995835 20.169319 \nL 233.179981 20.25137 \nL 233.28211 20.292396 \nL 233.985166 20.374447 \nL 234.095565 20.415473 \nL 235.369413 20.497524 \nL 235.480959 20.53855 \nL 235.593601 20.620601 \nL 235.704841 20.661627 \nL 236.024034 20.743678 \nL 236.137099 20.825729 \nL 236.862935 20.90778 \nL 236.975991 21.030857 \nL 237.358115 21.112909 \nL 237.468231 21.235986 \nL 237.687333 21.318037 \nL 237.794761 21.359062 \nL 238.135532 21.441114 \nL 238.246753 21.482139 \nL 238.794021 21.564191 \nL 238.907471 21.646242 \nL 239.228758 21.728293 \nL 239.340496 21.769319 \nL 239.446061 21.85137 \nL 239.567828 21.892396 \nL 239.83447 21.974447 \nL 239.949413 22.056498 \nL 240.306247 22.13855 \nL 240.420019 22.220601 \nL 240.553934 22.302652 \nL 240.666156 22.384704 \nL 240.912916 22.466755 \nL 241.025793 22.548806 \nL 241.155057 22.630857 \nL 241.265961 22.753934 \nL 241.375457 22.835986 \nL 241.488113 22.959062 \nL 242.09657 23.041114 \nL 242.209525 23.205216 \nL 242.627784 23.287268 \nL 242.743065 23.369319 \nL 242.932983 23.45137 \nL 243.040606 23.533421 \nL 243.299087 23.615473 \nL 243.408755 23.656498 \nL 243.655759 23.73855 \nL 243.770839 23.779575 \nL 244.117558 23.861627 \nL 244.227703 23.902652 \nL 244.523017 23.984704 \nL 244.649165 24.10778 \nL 244.978353 24.189832 \nL 245.094786 24.312909 \nL 245.326813 24.39496 \nL 245.4408 24.477011 \nL 245.595861 24.559062 \nL 245.695858 24.641114 \nL 245.858378 24.723165 \nL 245.965381 24.805216 \nL 246.242577 24.887268 \nL 246.355104 24.928293 \nL 246.490229 25.010345 \nL 246.595862 25.092396 \nL 246.870492 25.174447 \nL 246.986337 25.256498 \nL 247.243807 25.33855 \nL 247.357187 25.420601 \nL 247.531599 25.502652 \nL 247.645235 25.584704 \nL 247.755527 25.666755 \nL 247.866941 25.748806 \nL 248.006357 25.830857 \nL 248.116744 25.871883 \nL 248.268336 25.953934 \nL 248.380717 26.035986 \nL 248.487687 26.118037 \nL 248.599583 26.200088 \nL 248.993198 26.282139 \nL 249.094923 26.364191 \nL 249.646972 26.446242 \nL 249.751718 26.487268 \nL 249.876451 26.528293 \nL 250.03538 26.610345 \nL 250.142588 26.65137 \nL 250.531409 26.733421 \nL 250.662905 26.979575 \nL 250.991574 27.061627 \nL 251.106189 27.225729 \nL 251.287218 27.30778 \nL 251.399827 27.348806 \nL 251.624086 27.430857 \nL 251.73512 27.471883 \nL 251.82556 27.553934 \nL 251.927364 27.759062 \nL 252.059328 27.841114 \nL 252.203918 28.005216 \nL 252.578109 28.087268 \nL 252.689752 28.210345 \nL 252.983736 28.292396 \nL 253.094582 28.374447 \nL 253.454038 28.456498 \nL 253.564875 28.497524 \nL 253.659861 28.579575 \nL 253.772858 28.661627 \nL 253.98563 28.743678 \nL 254.093646 28.866755 \nL 254.186195 28.948806 \nL 254.306208 29.030857 \nL 254.456098 29.112909 \nL 254.56113 29.153934 \nL 254.749247 29.235986 \nL 254.875934 29.359062 \nL 255.227573 29.441114 \nL 255.352231 29.646242 \nL 255.619546 29.728293 \nL 255.727971 29.85137 \nL 255.795955 29.933421 \nL 255.905366 30.097524 \nL 256.097651 30.179575 \nL 256.208637 30.302652 \nL 256.276759 30.384704 \nL 256.413225 30.466755 \nL 256.582381 30.548806 \nL 256.697841 30.630857 \nL 256.909289 30.712909 \nL 257.043105 31.000088 \nL 257.301667 31.082139 \nL 257.419282 31.205216 \nL 257.616929 31.287268 \nL 257.726937 31.410345 \nL 257.949391 31.492396 \nL 258.067165 31.615473 \nL 258.329468 31.697524 \nL 258.504539 31.820601 \nL 258.667649 31.902652 \nL 258.778423 31.984704 \nL 258.986286 32.066755 \nL 259.105878 32.189832 \nL 259.395256 32.271883 \nL 259.497269 32.39496 \nL 259.618247 32.435986 \nL 259.725631 32.518037 \nL 259.834556 32.682139 \nL 259.921782 32.764191 \nL 260.072658 33.010345 \nL 260.131288 33.092396 \nL 260.354424 33.215473 \nL 260.47375 33.297524 \nL 260.589511 33.420601 \nL 260.667264 33.502652 \nL 260.789205 33.543678 \nL 260.995586 33.625729 \nL 261.113536 33.830857 \nL 261.201873 33.912909 \nL 261.314426 34.035986 \nL 261.416215 34.118037 \nL 261.52683 34.282139 \nL 261.682788 34.364191 \nL 261.790888 34.405216 \nL 261.868502 34.487268 \nL 261.98632 34.65137 \nL 262.065761 34.733421 \nL 262.196374 35.061627 \nL 262.28191 35.143678 \nL 262.402485 35.266755 \nL 262.494288 35.348806 \nL 262.591697 35.430857 \nL 262.792301 35.59496 \nL 262.869398 35.677011 \nL 262.978806 35.800088 \nL 263.095232 35.882139 \nL 263.210057 36.128293 \nL 263.346022 36.210345 \nL 263.45615 36.333421 \nL 263.578493 36.415473 \nL 263.694399 36.620601 \nL 263.752865 36.702652 \nL 263.862306 36.784704 \nL 264.094969 36.866755 \nL 264.212929 36.989832 \nL 264.603628 37.071883 \nL 264.780014 37.359062 \nL 264.94797 37.441114 \nL 265.060879 37.523165 \nL 265.193979 37.605216 \nL 265.317875 37.728293 \nL 265.514846 37.810345 \nL 265.632082 38.097524 \nL 265.737651 38.179575 \nL 265.843287 38.302652 \nL 265.88387 38.384704 \nL 266.009338 38.50778 \nL 266.292622 38.589832 \nL 266.46252 38.835986 \nL 266.517419 38.918037 \nL 266.625895 39.041114 \nL 266.675479 39.123165 \nL 266.785024 39.164191 \nL 266.904157 39.369319 \nL 267.040964 39.45137 \nL 267.15116 39.533421 \nL 267.259909 39.615473 \nL 267.670452 40.10778 \nL 267.816534 40.189832 \nL 267.931022 40.39496 \nL 268.022935 40.477011 \nL 268.157306 40.723165 \nL 268.240066 40.805216 \nL 268.352698 40.887268 \nL 268.407632 40.969319 \nL 268.997269 41.789832 \nL 269.199413 41.871883 \nL 269.340405 42.118037 \nL 269.476028 42.200088 \nL 269.582425 42.364191 \nL 269.828453 42.446242 \nL 270.08684 42.856498 \nL 270.213408 42.93855 \nL 270.3141 43.184704 \nL 270.41536 43.266755 \nL 270.552863 43.389832 \nL 270.622315 43.471883 \nL 270.747729 43.59496 \nL 270.7947 43.677011 \nL 270.911116 43.800088 \nL 270.993457 43.882139 \nL 271.216357 44.292396 \nL 271.279572 44.374447 \nL 271.392845 44.456498 \nL 271.577693 44.53855 \nL 271.690326 44.825729 \nL 271.752409 44.90778 \nL 271.893281 45.112909 \nL 272.062128 45.318037 \nL 272.089623 45.400088 \nL 272.210127 45.564191 \nL 272.274774 45.646242 \nL 272.477636 45.85137 \nL 272.623705 45.933421 \nL 272.741645 46.179575 \nL 272.901032 46.261627 \nL 273.096196 46.548806 \nL 273.119624 46.630857 \nL 273.225045 46.918037 \nL 273.298194 47.000088 \nL 273.426754 47.246242 \nL 273.849237 47.779575 \nL 273.958673 47.861627 \nL 274.071349 47.984704 \nL 274.164529 48.066755 \nL 274.309295 48.230857 \nL 274.437818 48.312909 \nL 274.569518 48.518037 \nL 274.725157 48.641114 \nL 274.804453 48.723165 \nL 274.909719 48.887268 \nL 275.091495 48.969319 \nL 275.221336 49.297524 \nL 275.311357 49.379575 \nL 275.559527 49.871883 \nL 275.635144 49.953934 \nL 275.730729 50.077011 \nL 275.789251 50.159062 \nL 275.912892 50.200088 \nL 276.038862 50.282139 \nL 276.218654 50.692396 \nL 276.306894 50.774447 \nL 276.468806 51.184704 \nL 276.547003 51.266755 \nL 276.635355 51.348806 \nL 276.73364 51.430857 \nL 276.836589 51.882139 \nL 276.953885 51.964191 \nL 277.110804 52.292396 \nL 277.52972 52.743678 \nL 277.551846 52.825729 \nL 277.839562 53.482139 \nL 277.944069 53.728293 \nL 278.1722 53.810345 \nL 278.319023 53.933421 \nL 278.391255 54.015473 \nL 278.502139 54.261627 \nL 278.535262 54.343678 \nL 278.663847 54.671883 \nL 278.762156 54.753934 \nL 278.909186 55.041114 \nL 278.995297 55.123165 \nL 279.104151 55.328293 \nL 279.267139 55.45137 \nL 279.289191 55.533421 \nL 279.605223 55.984704 \nL 279.696961 56.066755 \nL 279.824421 56.312909 \nL 279.933852 56.39496 \nL 280.066061 56.805216 \nL 280.139892 56.887268 \nL 280.254182 57.133421 \nL 280.313767 57.215473 \nL 280.442645 57.420601 \nL 280.544371 57.502652 \nL 280.678577 57.830857 \nL 280.765117 57.912909 \nL 280.872273 58.077011 \nL 281.007092 58.159063 \nL 281.140557 58.487268 \nL 281.185692 58.569319 \nL 281.320772 58.93855 \nL 281.332896 59.020601 \nL 281.443714 59.389832 \nL 281.52091 59.471883 \nL 281.970911 60.333421 \nL 282.020851 60.415473 \nL 282.12842 60.620601 \nL 282.2471 60.743678 \nL 282.34575 60.825729 \nL 282.525071 61.277011 \nL 283.603336 63.164191 \nL 283.730651 63.369319 \nL 283.894321 63.45137 \nL 284.000741 63.820601 \nL 284.025403 63.902652 \nL 284.151563 64.189832 \nL 284.912773 65.748806 \nL 285.018988 66.200088 \nL 285.08966 66.282139 \nL 285.209483 66.487268 \nL 285.242188 66.569319 \nL 285.396369 66.897524 \nL 285.426672 66.979575 \nL 285.952444 67.923165 \nL 286.116621 68.005216 \nL 286.240193 68.374447 \nL 286.386531 68.784704 \nL 286.652632 69.030857 \nL 286.733618 69.112909 \nL 286.824356 69.19496 \nL 286.880654 69.277011 \nL 287.208294 70.056498 \nL 287.257266 70.13855 \nL 287.437221 70.50778 \nL 287.742975 70.959062 \nL 287.767344 71.041114 \nL 287.894256 71.287268 \nL 287.988412 71.369319 \nL 288.407433 71.861627 \nL 288.535078 72.189832 \nL 288.970163 73.010345 \nL 289.19354 73.379575 \nL 289.286777 73.461627 \nL 289.646438 74.405216 \nL 289.798442 74.487268 \nL 290.08321 75.102652 \nL 290.140845 75.184704 \nL 290.358924 75.512909 \nL 290.420254 75.59496 \nL 290.88517 76.210345 \nL 291.074217 76.661627 \nL 291.855618 77.933421 \nL 292.004889 78.220601 \nL 292.053561 78.302652 \nL 292.532021 78.918037 \nL 292.641056 79.205216 \nL 292.69954 79.287268 \nL 292.795328 79.492396 \nL 292.908013 79.697524 \nL 293.023018 80.230857 \nL 293.072892 80.312909 \nL 293.192271 80.682139 \nL 293.242738 80.764191 \nL 295.334272 85.235986 \nL 295.624848 85.85137 \nL 295.761666 86.056498 \nL 295.860458 86.220601 \nL 296.079394 86.753934 \nL 296.418943 87.492396 \nL 296.767174 88.10778 \nL 296.868724 88.39496 \nL 296.960864 88.723165 \nL 297.174347 89.05137 \nL 297.301706 89.133421 \nL 297.414955 89.256498 \nL 297.508545 89.33855 \nL 297.657029 89.830857 \nL 297.748127 90.077011 \nL 297.857063 90.405216 \nL 297.899373 90.487268 \nL 298.048784 90.815473 \nL 298.139356 90.897524 \nL 298.593071 91.923165 \nL 298.84994 92.53855 \nL 299.033924 93.071883 \nL 299.162464 93.318037 \nL 299.248031 93.400088 \nL 299.344377 93.769319 \nL 299.494547 94.097524 \nL 299.652157 94.384704 \nL 299.705749 94.466755 \nL 299.804959 94.630857 \nL 299.924385 94.835986 \nL 300.046959 95.246242 \nL 301.165891 97.789832 \nL 301.314316 98.035986 \nL 301.444133 98.405216 \nL 301.706994 99.143678 \nL 301.786519 99.225729 \nL 302.524491 100.579575 \nL 302.825959 101.19496 \nL 302.92921 101.687268 \nL 303.016622 101.769319 \nL 303.360591 102.425729 \nL 303.459299 102.50778 \nL 303.56787 102.712909 \nL 303.676422 103.205216 \nL 304.635046 105.70778 \nL 304.748746 105.99496 \nL 305.207168 107.471883 \nL 305.240622 107.553934 \nL 305.429513 108.046242 \nL 305.537924 108.25137 \nL 305.866593 108.866755 \nL 306.014166 109.277011 \nL 307.899192 113.133421 \nL 308.149154 113.584704 \nL 308.341181 113.953934 \nL 308.675033 114.487268 \nL 308.765821 114.856498 \nL 308.840316 114.93855 \nL 309.053953 115.471883 \nL 309.292346 115.964191 \nL 309.398033 116.210345 \nL 309.530921 116.53855 \nL 309.984859 117.482139 \nL 310.073103 117.687268 \nL 310.234412 117.933421 \nL 310.438158 118.179575 \nL 310.75719 118.630857 \nL 311.606843 120.353934 \nL 311.668486 120.435986 \nL 311.857418 120.887268 \nL 311.940603 120.969319 \nL 312.318208 121.420601 \nL 312.471979 122.077011 \nL 312.595979 122.364191 \nL 312.708835 122.528293 \nL 313.009343 122.856498 \nL 313.126818 123.184704 \nL 313.396618 123.800088 \nL 314.638077 126.343678 \nL 314.72154 126.425729 \nL 315.384 127.656498 \nL 315.507119 127.820601 \nL 315.566554 127.902652 \nL 315.701386 128.066755 \nL 315.815166 128.230857 \nL 315.947688 128.435986 \nL 316.097935 128.682139 \nL 316.384438 129.092396 \nL 316.514305 129.420601 \nL 317.06438 130.569319 \nL 317.170466 130.733421 \nL 317.275149 131.020601 \nL 317.374985 131.184704 \nL 317.53116 131.389832 \nL 317.649095 131.635986 \nL 318.001664 132.210345 \nL 318.332354 132.784704 \nL 318.416052 133.030857 \nL 318.474296 133.112909 \nL 318.905051 134.097524 \nL 318.942299 134.179575 \nL 319.411261 134.959063 \nL 319.467366 135.041114 \nL 319.615264 135.328293 \nL 319.861021 135.615473 \nL 320.164127 136.148806 \nL 320.18999 136.230857 \nL 320.302407 136.682139 \nL 320.352707 136.764191 \nL 320.466422 137.092396 \nL 320.632499 137.461627 \nL 320.679293 137.543678 \nL 320.814707 137.871883 \nL 320.957937 138.035986 \nL 321.113282 138.282139 \nL 321.229937 138.487268 \nL 321.388649 138.93855 \nL 321.534812 139.143678 \nL 321.698 139.635986 \nL 322.73096 141.974447 \nL 322.854829 142.13855 \nL 323.11727 142.548806 \nL 323.246229 142.79496 \nL 323.351869 143.041114 \nL 323.434718 143.287268 \nL 324.414783 145.297524 \nL 324.602688 145.502652 \nL 325.076726 146.487268 \nL 325.128608 146.569319 \nL 325.246094 146.93855 \nL 325.268793 147.020601 \nL 325.416861 147.389832 \nL 325.89076 148.169319 \nL 326.083891 148.53855 \nL 326.721719 149.564191 \nL 326.864235 149.728293 \nL 326.987825 150.056498 \nL 327.11822 150.261627 \nL 327.656745 151.574447 \nL 327.75416 151.902652 \nL 328.548002 153.174447 \nL 328.655698 153.461627 \nL 329.019311 153.99496 \nL 329.077928 154.077011 \nL 329.199355 154.446242 \nL 330.430444 156.456498 \nL 330.497216 156.53855 \nL 330.611237 156.743678 \nL 330.750559 156.90778 \nL 331.782739 158.753934 \nL 331.982241 159.041114 \nL 333.291353 161.05137 \nL 333.690545 161.379575 \nL 334.136886 162.077011 \nL 334.326662 162.569319 \nL 334.467306 162.815473 \nL 334.58258 163.061627 \nL 334.683698 163.266755 \nL 334.776471 163.430857 \nL 335.196029 163.882139 \nL 335.322034 164.169319 \nL 335.430221 164.374447 \nL 335.623693 164.53855 \nL 335.779192 164.743678 \nL 335.87492 164.866755 \nL 335.969768 165.071883 \nL 336.171033 165.400088 \nL 336.36383 165.646242 \nL 336.584072 165.85137 \nL 336.619837 165.933421 \nL 337.271384 166.712909 \nL 337.501055 167.164191 \nL 337.579957 167.246242 \nL 337.783413 167.492396 \nL 337.970828 167.820601 \nL 338.144446 168.025729 \nL 338.200295 168.230857 \nL 338.69239 168.641114 \nL 338.845274 168.969319 \nL 339.057548 169.133421 \nL 339.285567 169.379575 \nL 339.60427 170.077011 \nL 339.765949 170.241114 \nL 340.162151 171.266755 \nL 340.510717 171.635986 \nL 340.589615 171.841114 \nL 340.721361 172.087268 \nL 340.904522 172.292396 \nL 342.727346 174.835986 \nL 342.826392 175.123165 \nL 342.928984 175.287268 \nL 343.023476 175.615473 \nL 343.316027 176.10778 \nL 343.419206 176.312909 \nL 343.515722 176.477011 \nL 343.742255 176.559063 \nL 343.873967 176.723165 \nL 344.07182 176.969319 \nL 344.240238 177.215473 \nL 344.397346 177.297524 \nL 344.636633 177.666755 \nL 344.868989 177.830857 \nL 344.893907 177.912909 \nL 345.099143 177.99496 \nL 345.267374 178.446242 \nL 345.408294 178.65137 \nL 345.514528 178.815473 \nL 345.83051 179.266755 \nL 345.921023 179.512909 \nL 346.05671 179.718037 \nL 346.265641 180.210345 \nL 346.321747 180.292396 \nL 347.427738 181.523165 \nL 347.496134 181.605216 \nL 347.59376 181.810345 \nL 348.033941 182.425729 \nL 348.178669 182.630857 \nL 348.440358 183.123165 \nL 348.760262 183.287268 \nL 348.879414 183.574447 \nL 349.161084 183.861627 \nL 349.785092 184.928293 \nL 350.222794 185.33855 \nL 350.437598 185.420601 \nL 350.566838 185.625729 \nL 350.672724 185.789832 \nL 350.988132 185.99496 \nL 351.03649 186.118037 \nL 351.387579 186.364191 \nL 351.478872 186.528293 \nL 351.652378 186.733421 \nL 351.687778 186.815473 \nL 351.954077 186.979575 \nL 352.349642 187.225729 \nL 352.529153 187.512909 \nL 352.70205 187.841114 \nL 352.92417 187.923165 \nL 353.057832 188.169319 \nL 353.212736 188.374447 \nL 353.527844 188.702652 \nL 353.712476 188.866755 \nL 353.849813 189.235986 \nL 354.082322 189.318037 \nL 354.686572 190.015473 \nL 354.814697 190.220601 \nL 354.977477 190.466755 \nL 355.081907 190.548806 \nL 355.25066 190.753934 \nL 355.36116 190.877011 \nL 356.312463 191.861627 \nL 356.545568 192.025729 \nL 357.638969 193.33855 \nL 357.782363 193.502652 \nL 357.931305 193.70778 \nL 358.035091 193.789832 \nL 358.334749 194.118037 \nL 358.365287 194.241114 \nL 358.670541 194.323165 \nL 358.967528 194.610345 \nL 359.066234 194.65137 \nL 360.033908 195.718037 \nL 360.120986 195.841114 \nL 360.376333 196.169319 \nL 360.475064 196.374447 \nL 360.769603 196.579575 \nL 360.868497 196.825729 \nL 361.106767 197.030857 \nL 361.209554 197.112909 \nL 361.289232 197.19496 \nL 361.570721 197.359063 \nL 361.9612 197.687268 \nL 363.717755 199.574447 \nL 364.213298 199.656498 \nL 364.24692 199.779575 \nL 364.650072 199.984704 \nL 365.060049 200.39496 \nL 365.947299 201.297524 \nL 366.223101 201.461627 \nL 366.399329 201.584704 \nL 366.579192 201.789832 \nL 366.92548 202.200088 \nL 366.940472 202.241114 \nL 367.127524 202.405216 \nL 367.502707 203.020601 \nL 367.61367 203.143678 \nL 368.28085 203.718037 \nL 368.390764 203.882139 \nL 368.610456 204.210345 \nL 368.940901 204.456498 \nL 369.09379 204.53855 \nL 369.2271 204.702652 \nL 369.372655 204.825729 \nL 370.061393 205.318037 \nL 370.164716 205.646242 \nL 370.40609 205.810345 \nL 370.520154 206.13855 \nL 371.060584 206.50778 \nL 371.160736 206.671883 \nL 371.728593 207.082139 \nL 371.933389 207.246242 \nL 372.101732 207.45137 \nL 372.645449 207.615473 \nL 372.912098 207.943678 \nL 373.669573 208.477011 \nL 373.795719 208.641114 \nL 373.848942 208.764191 \nL 374.13494 209.010345 \nL 374.337156 209.33855 \nL 374.692522 209.461627 \nL 375.449175 210.035986 \nL 375.883066 210.241114 \nL 376.27057 210.487268 \nL 376.523288 210.692396 \nL 377.52526 211.143678 \nL 377.604545 211.225729 \nL 377.903448 211.430857 \nL 377.915183 211.471883 \nL 378.305752 211.677011 \nL 378.587182 211.964191 \nL 378.737606 212.128293 \nL 378.914202 212.210345 \nL 379.245449 212.374447 \nL 379.272217 212.415473 \nL 379.491669 212.53855 \nL 379.759049 212.743678 \nL 380.257394 212.948806 \nL 380.375314 213.030857 \nL 380.649566 213.19496 \nL 381.127001 213.564191 \nL 381.566568 213.933421 \nL 381.771859 214.097524 \nL 381.87098 214.179575 \nL 381.92074 214.343678 \nL 382.125255 214.50778 \nL 382.204449 214.589832 \nL 382.596544 214.712909 \nL 382.715384 214.877011 \nL 383.068904 215.246242 \nL 383.58325 215.45137 \nL 383.63489 215.574447 \nL 384.27633 215.820601 \nL 386.220734 216.969319 \nL 386.665594 217.33855 \nL 387.070832 217.666755 \nL 387.352222 217.953934 \nL 388.746579 218.487268 \nL 389.01341 218.610345 \nL 389.64745 218.774447 \nL 389.90184 219.020601 \nL 390.056408 219.225729 \nL 390.567941 219.389832 \nL 390.69364 219.59496 \nL 392.866608 220.333421 \nL 392.874109 220.374447 \nL 393.427401 220.53855 \nL 393.51206 220.620601 \nL 394.383187 220.989832 \nL 394.470601 221.112909 \nL 395.040126 221.277011 \nL 395.111224 221.318037 \nL 395.578174 221.482139 \nL 395.662944 221.564191 \nL 396.181484 221.892396 \nL 396.236083 221.933421 \nL 396.65144 222.097524 \nL 396.80399 222.261627 \nL 397.734047 222.712909 \nL 398.753293 222.877011 \nL 399.048153 223.041114 \nL 399.648851 223.246242 \nL 399.870757 223.369319 \nL 400.728963 223.656498 \nL 400.9468 223.73855 \nL 401.526459 223.943678 \nL 401.695517 224.066755 \nL 402.357702 224.230857 \nL 402.629014 224.435986 \nL 403.434458 224.764191 \nL 403.928227 225.092396 \nL 405.261739 225.543678 \nL 405.803739 225.70778 \nL 405.807157 225.748806 \nL 408.579186 226.569319 \nL 408.734418 226.65137 \nL 409.367451 226.815473 \nL 409.89698 226.979575 \nL 411.171059 227.143678 \nL 411.244889 227.225729 \nL 415.426096 228.333421 \nL 416.570992 228.53855 \nL 417.914264 228.825729 \nL 418.166164 228.989832 \nL 419.845632 229.441114 \nL 419.859958 229.482139 \nL 422.251309 229.85137 \nL 422.27205 229.892396 \nL 424.235375 230.302652 \nL 424.247836 230.343678 \nL 424.636772 230.50778 \nL 425.325356 230.712909 \nL 426.552895 230.877011 \nL 427.908779 231.123165 \nL 428.072784 231.205216 \nL 428.742857 231.492396 \nL 429.35265 231.615473 \nL 429.383551 231.656498 \nL 431.090543 231.820601 \nL 438.974119 232.312909 \nL 439.002086 232.353934 \nL 448.091849 233.092396 \nL 449.7558 233.215473 \nL 449.84794 233.256498 \nL 452.115725 233.297524 \nL 460.861014 233.461627 \nL 468.937227 233.70778 \nL 520.553388 234.077011 \nL 558.732307 234.118037 \nL 558.732307 234.118037 \n\" style=\"fill:none;stroke:#008000;stroke-linecap:square;stroke-width:2;\"/>\n   </g>\n   <g id=\"line2d_25\">\n    <path clip-path=\"url(#p66b1bea967)\" d=\"M 338.767642 234.159063 \nL 338.767642 33.999062 \n\" style=\"fill:none;stroke:#ff0000;stroke-dasharray:1.5,2.475;stroke-dashoffset:0;stroke-width:1.5;\"/>\n   </g>\n   <g id=\"line2d_26\">\n    <path clip-path=\"url(#p66b1bea967)\" d=\"M 33.28375 33.999062 \nL 338.767642 33.999062 \n\" style=\"fill:none;stroke:#ff0000;stroke-dasharray:1.5,2.475;stroke-dashoffset:0;stroke-width:1.5;\"/>\n   </g>\n   <g id=\"line2d_27\">\n    <path clip-path=\"url(#p66b1bea967)\" d=\"M 33.28375 137.014743 \nL 338.767642 137.014743 \n\" style=\"fill:none;stroke:#ff0000;stroke-dasharray:1.5,2.475;stroke-dashoffset:0;stroke-width:1.5;\"/>\n   </g>\n   <g id=\"line2d_28\">\n    <defs>\n     <path d=\"M 0 3 \nC 0.795609 3 1.55874 2.683901 2.12132 2.12132 \nC 2.683901 1.55874 3 0.795609 3 0 \nC 3 -0.795609 2.683901 -1.55874 2.12132 -2.12132 \nC 1.55874 -2.683901 0.795609 -3 0 -3 \nC -0.795609 -3 -1.55874 -2.683901 -2.12132 -2.12132 \nC -2.683901 -1.55874 -3 -0.795609 -3 0 \nC -3 0.795609 -2.683901 1.55874 -2.12132 2.12132 \nC -1.55874 2.683901 -0.795609 3 0 3 \nz\n\" id=\"m211ac6a773\" style=\"stroke:#ff0000;\"/>\n    </defs>\n    <g clip-path=\"url(#p66b1bea967)\">\n     <use style=\"fill:#ff0000;stroke:#ff0000;\" x=\"338.767642\" xlink:href=\"#m211ac6a773\" y=\"33.999062\"/>\n    </g>\n   </g>\n   <g id=\"line2d_29\">\n    <g clip-path=\"url(#p66b1bea967)\">\n     <use style=\"fill:#ff0000;stroke:#ff0000;\" x=\"338.767642\" xlink:href=\"#m211ac6a773\" y=\"137.014743\"/>\n    </g>\n   </g>\n   <g id=\"patch_3\">\n    <path d=\"M 33.28375 234.159063 \nL 33.28375 11.759062 \n\" style=\"fill:none;stroke:#000000;stroke-linecap:square;stroke-linejoin:miter;stroke-width:0.8;\"/>\n   </g>\n   <g id=\"patch_4\">\n    <path d=\"M 561.68375 234.159063 \nL 561.68375 11.759062 \n\" style=\"fill:none;stroke:#000000;stroke-linecap:square;stroke-linejoin:miter;stroke-width:0.8;\"/>\n   </g>\n   <g id=\"patch_5\">\n    <path d=\"M 33.28375 234.159063 \nL 561.68375 234.159063 \n\" style=\"fill:none;stroke:#000000;stroke-linecap:square;stroke-linejoin:miter;stroke-width:0.8;\"/>\n   </g>\n   <g id=\"patch_6\">\n    <path d=\"M 33.28375 11.759062 \nL 561.68375 11.759062 \n\" style=\"fill:none;stroke:#000000;stroke-linecap:square;stroke-linejoin:miter;stroke-width:0.8;\"/>\n   </g>\n   <g id=\"legend_1\">\n    <g id=\"patch_7\">\n     <path d=\"M 427.26875 148.844063 \nL 550.48375 148.844063 \nQ 553.68375 148.844063 553.68375 145.644063 \nL 553.68375 100.274063 \nQ 553.68375 97.074063 550.48375 97.074063 \nL 427.26875 97.074063 \nQ 424.06875 97.074063 424.06875 100.274063 \nL 424.06875 145.644063 \nQ 424.06875 148.844063 427.26875 148.844063 \nz\n\" style=\"fill:#ffffff;opacity:0.8;stroke:#cccccc;stroke-linejoin:miter;\"/>\n    </g>\n    <g id=\"line2d_30\">\n     <path d=\"M 430.46875 110.031563 \nL 462.46875 110.031563 \n\" style=\"fill:none;stroke:#0000ff;stroke-dasharray:7.4,3.2;stroke-dashoffset:0;stroke-width:2;\"/>\n    </g>\n    <g id=\"line2d_31\"/>\n    <g id=\"text_13\">\n     <!-- Precision -->\n     <defs>\n      <path d=\"M 19.671875 64.796875 \nL 19.671875 37.40625 \nL 32.078125 37.40625 \nQ 38.96875 37.40625 42.71875 40.96875 \nQ 46.484375 44.53125 46.484375 51.125 \nQ 46.484375 57.671875 42.71875 61.234375 \nQ 38.96875 64.796875 32.078125 64.796875 \nz\nM 9.8125 72.90625 \nL 32.078125 72.90625 \nQ 44.34375 72.90625 50.609375 67.359375 \nQ 56.890625 61.8125 56.890625 51.125 \nQ 56.890625 40.328125 50.609375 34.8125 \nQ 44.34375 29.296875 32.078125 29.296875 \nL 19.671875 29.296875 \nL 19.671875 0 \nL 9.8125 0 \nz\n\" id=\"DejaVuSans-80\"/>\n      <path d=\"M 48.78125 52.59375 \nL 48.78125 44.1875 \nQ 44.96875 46.296875 41.140625 47.34375 \nQ 37.3125 48.390625 33.40625 48.390625 \nQ 24.65625 48.390625 19.8125 42.84375 \nQ 14.984375 37.3125 14.984375 27.296875 \nQ 14.984375 17.28125 19.8125 11.734375 \nQ 24.65625 6.203125 33.40625 6.203125 \nQ 37.3125 6.203125 41.140625 7.25 \nQ 44.96875 8.296875 48.78125 10.40625 \nL 48.78125 2.09375 \nQ 45.015625 0.34375 40.984375 -0.53125 \nQ 36.96875 -1.421875 32.421875 -1.421875 \nQ 20.0625 -1.421875 12.78125 6.34375 \nQ 5.515625 14.109375 5.515625 27.296875 \nQ 5.515625 40.671875 12.859375 48.328125 \nQ 20.21875 56 33.015625 56 \nQ 37.15625 56 41.109375 55.140625 \nQ 45.0625 54.296875 48.78125 52.59375 \nz\n\" id=\"DejaVuSans-99\"/>\n      <path d=\"M 9.421875 54.6875 \nL 18.40625 54.6875 \nL 18.40625 0 \nL 9.421875 0 \nz\nM 9.421875 75.984375 \nL 18.40625 75.984375 \nL 18.40625 64.59375 \nL 9.421875 64.59375 \nz\n\" id=\"DejaVuSans-105\"/>\n      <path d=\"M 54.890625 33.015625 \nL 54.890625 0 \nL 45.90625 0 \nL 45.90625 32.71875 \nQ 45.90625 40.484375 42.875 44.328125 \nQ 39.84375 48.1875 33.796875 48.1875 \nQ 26.515625 48.1875 22.3125 43.546875 \nQ 18.109375 38.921875 18.109375 30.90625 \nL 18.109375 0 \nL 9.078125 0 \nL 9.078125 54.6875 \nL 18.109375 54.6875 \nL 18.109375 46.1875 \nQ 21.34375 51.125 25.703125 53.5625 \nQ 30.078125 56 35.796875 56 \nQ 45.21875 56 50.046875 50.171875 \nQ 54.890625 44.34375 54.890625 33.015625 \nz\n\" id=\"DejaVuSans-110\"/>\n     </defs>\n     <g transform=\"translate(475.26875 115.631563)scale(0.16 -0.16)\">\n      <use xlink:href=\"#DejaVuSans-80\"/>\n      <use x=\"60.287109\" xlink:href=\"#DejaVuSans-114\"/>\n      <use x=\"101.369141\" xlink:href=\"#DejaVuSans-101\"/>\n      <use x=\"162.892578\" xlink:href=\"#DejaVuSans-99\"/>\n      <use x=\"217.873047\" xlink:href=\"#DejaVuSans-105\"/>\n      <use x=\"245.65625\" xlink:href=\"#DejaVuSans-115\"/>\n      <use x=\"297.755859\" xlink:href=\"#DejaVuSans-105\"/>\n      <use x=\"325.539062\" xlink:href=\"#DejaVuSans-111\"/>\n      <use x=\"386.720703\" xlink:href=\"#DejaVuSans-110\"/>\n     </g>\n    </g>\n    <g id=\"line2d_32\">\n     <path d=\"M 430.46875 133.516562 \nL 462.46875 133.516562 \n\" style=\"fill:none;stroke:#008000;stroke-linecap:square;stroke-width:2;\"/>\n    </g>\n    <g id=\"line2d_33\"/>\n    <g id=\"text_14\">\n     <!-- Recall -->\n     <defs>\n      <path d=\"M 44.390625 34.1875 \nQ 47.5625 33.109375 50.5625 29.59375 \nQ 53.5625 26.078125 56.59375 19.921875 \nL 66.609375 0 \nL 56 0 \nL 46.6875 18.703125 \nQ 43.0625 26.03125 39.671875 28.421875 \nQ 36.28125 30.8125 30.421875 30.8125 \nL 19.671875 30.8125 \nL 19.671875 0 \nL 9.8125 0 \nL 9.8125 72.90625 \nL 32.078125 72.90625 \nQ 44.578125 72.90625 50.734375 67.671875 \nQ 56.890625 62.453125 56.890625 51.90625 \nQ 56.890625 45.015625 53.6875 40.46875 \nQ 50.484375 35.9375 44.390625 34.1875 \nz\nM 19.671875 64.796875 \nL 19.671875 38.921875 \nL 32.078125 38.921875 \nQ 39.203125 38.921875 42.84375 42.21875 \nQ 46.484375 45.515625 46.484375 51.90625 \nQ 46.484375 58.296875 42.84375 61.546875 \nQ 39.203125 64.796875 32.078125 64.796875 \nz\n\" id=\"DejaVuSans-82\"/>\n      <path d=\"M 34.28125 27.484375 \nQ 23.390625 27.484375 19.1875 25 \nQ 14.984375 22.515625 14.984375 16.5 \nQ 14.984375 11.71875 18.140625 8.90625 \nQ 21.296875 6.109375 26.703125 6.109375 \nQ 34.1875 6.109375 38.703125 11.40625 \nQ 43.21875 16.703125 43.21875 25.484375 \nL 43.21875 27.484375 \nz\nM 52.203125 31.203125 \nL 52.203125 0 \nL 43.21875 0 \nL 43.21875 8.296875 \nQ 40.140625 3.328125 35.546875 0.953125 \nQ 30.953125 -1.421875 24.3125 -1.421875 \nQ 15.921875 -1.421875 10.953125 3.296875 \nQ 6 8.015625 6 15.921875 \nQ 6 25.140625 12.171875 29.828125 \nQ 18.359375 34.515625 30.609375 34.515625 \nL 43.21875 34.515625 \nL 43.21875 35.40625 \nQ 43.21875 41.609375 39.140625 45 \nQ 35.0625 48.390625 27.6875 48.390625 \nQ 23 48.390625 18.546875 47.265625 \nQ 14.109375 46.140625 10.015625 43.890625 \nL 10.015625 52.203125 \nQ 14.9375 54.109375 19.578125 55.046875 \nQ 24.21875 56 28.609375 56 \nQ 40.484375 56 46.34375 49.84375 \nQ 52.203125 43.703125 52.203125 31.203125 \nz\n\" id=\"DejaVuSans-97\"/>\n     </defs>\n     <g transform=\"translate(475.26875 139.116562)scale(0.16 -0.16)\">\n      <use xlink:href=\"#DejaVuSans-82\"/>\n      <use x=\"69.419922\" xlink:href=\"#DejaVuSans-101\"/>\n      <use x=\"130.943359\" xlink:href=\"#DejaVuSans-99\"/>\n      <use x=\"185.923828\" xlink:href=\"#DejaVuSans-97\"/>\n      <use x=\"247.203125\" xlink:href=\"#DejaVuSans-108\"/>\n      <use x=\"274.986328\" xlink:href=\"#DejaVuSans-108\"/>\n     </g>\n    </g>\n   </g>\n  </g>\n </g>\n <defs>\n  <clipPath id=\"p66b1bea967\">\n   <rect height=\"222.4\" width=\"528.4\" x=\"33.28375\" y=\"11.759062\"/>\n  </clipPath>\n </defs>\n</svg>\n",
      "text/plain": "<Figure size 576x288 with 1 Axes>"
     },
     "metadata": {
      "needs_background": "light"
     },
     "output_type": "display_data"
    }
   ],
   "source": [
    "def plot_precision_recall_vs_threshold(precisions, recalls, thresholds):\n",
    "    plt.plot(thresholds, precisions[:-1], \"b--\", label=\"Precision\", linewidth=2)\n",
    "    plt.plot(thresholds, recalls[:-1], \"g-\", label=\"Recall\", linewidth=2)\n",
    "    plt.legend(loc=\"center right\", fontsize=16) # Not shown in the book\n",
    "    plt.xlabel(\"Threshold\", fontsize=16)        # Not shown\n",
    "    plt.grid(True)                              # Not shown\n",
    "    plt.axis([-50000, 50000, 0, 1])             # Not shown\n",
    "\n",
    "plt.figure(figsize=(8, 4))                      # Not shown\n",
    "plot_precision_recall_vs_threshold(precisions, recalls, thresholds)\n",
    "plt.plot([7813, 7813], [0., 0.9], \"r:\")         # Not shown\n",
    "plt.plot([-50000, 7813], [0.9, 0.9], \"r:\")      # Not shown\n",
    "plt.plot([-50000, 7813], [0.4368, 0.4368], \"r:\")# Not shown\n",
    "plt.plot([7813], [0.9], \"ro\")                   # Not shown\n",
    "plt.plot([7813], [0.4368], \"ro\")                # Not shown\n",
    "save_fig(\"precision_recall_vs_threshold_plot\")  # Not shown\n",
    "plt.show()"
   ]
  },
  {
   "cell_type": "code",
   "execution_count": 37,
   "metadata": {},
   "outputs": [
    {
     "data": {
      "text/plain": "True"
     },
     "execution_count": 37,
     "metadata": {},
     "output_type": "execute_result"
    }
   ],
   "source": [
    "(y_train_pred == (y_scores > 0)).all()"
   ]
  },
  {
   "cell_type": "code",
   "execution_count": 38,
   "metadata": {},
   "outputs": [
    {
     "name": "stdout",
     "output_type": "stream",
     "text": "Saving figure precision_vs_recall_plot\n"
    },
    {
     "data": {
      "image/png": "[encoded data removed]",
      "image/svg+xml": "<?xml version=\"1.0\" encoding=\"utf-8\" standalone=\"no\"?>\n<!DOCTYPE svg PUBLIC \"-//W3C//DTD SVG 1.1//EN\"\n  \"http://www.w3.org/Graphics/SVG/1.1/DTD/svg11.dtd\">\n<!-- Created with matplotlib (https://matplotlib.org/) -->\n<svg height=\"423.457812pt\" version=\"1.1\" viewBox=\"0 0 569.473125 423.457812\" width=\"569.473125pt\" xmlns=\"http://www.w3.org/2000/svg\" xmlns:xlink=\"http://www.w3.org/1999/xlink\">\n <defs>\n  <style type=\"text/css\">\n*{stroke-linecap:butt;stroke-linejoin:round;}\n  </style>\n </defs>\n <g id=\"figure_1\">\n  <g id=\"patch_1\">\n   <path d=\"M 0 423.457812 \nL 569.473125 423.457812 \nL 569.473125 0 \nL 0 0 \nz\n\" style=\"fill:none;\"/>\n  </g>\n  <g id=\"axes_1\">\n   <g id=\"patch_2\">\n    <path d=\"M 52.76875 378.159062 \nL 552.73125 378.159062 \nL 552.73125 11.759062 \nL 52.76875 11.759062 \nz\n\" style=\"fill:#ffffff;\"/>\n   </g>\n   <g id=\"matplotlib.axis_1\">\n    <g id=\"xtick_1\">\n     <g id=\"line2d_1\">\n      <path clip-path=\"url(#pced6cd12b6)\" d=\"M 52.76875 378.159062 \nL 52.76875 11.759062 \n\" style=\"fill:none;stroke:#b0b0b0;stroke-linecap:square;stroke-width:0.8;\"/>\n     </g>\n     <g id=\"line2d_2\">\n      <defs>\n       <path d=\"M 0 0 \nL 0 3.5 \n\" id=\"m36a28f6fa1\" style=\"stroke:#000000;stroke-width:0.8;\"/>\n      </defs>\n      <g>\n       <use style=\"stroke:#000000;stroke-width:0.8;\" x=\"52.76875\" xlink:href=\"#m36a28f6fa1\" y=\"378.159062\"/>\n      </g>\n     </g>\n     <g id=\"text_1\">\n      <!-- 0.0 -->\n      <defs>\n       <path d=\"M 31.78125 66.40625 \nQ 24.171875 66.40625 20.328125 58.90625 \nQ 16.5 51.421875 16.5 36.375 \nQ 16.5 21.390625 20.328125 13.890625 \nQ 24.171875 6.390625 31.78125 6.390625 \nQ 39.453125 6.390625 43.28125 13.890625 \nQ 47.125 21.390625 47.125 36.375 \nQ 47.125 51.421875 43.28125 58.90625 \nQ 39.453125 66.40625 31.78125 66.40625 \nz\nM 31.78125 74.21875 \nQ 44.046875 74.21875 50.515625 64.515625 \nQ 56.984375 54.828125 56.984375 36.375 \nQ 56.984375 17.96875 50.515625 8.265625 \nQ 44.046875 -1.421875 31.78125 -1.421875 \nQ 19.53125 -1.421875 13.0625 8.265625 \nQ 6.59375 17.96875 6.59375 36.375 \nQ 6.59375 54.828125 13.0625 64.515625 \nQ 19.53125 74.21875 31.78125 74.21875 \nz\n\" id=\"DejaVuSans-48\"/>\n       <path d=\"M 10.6875 12.40625 \nL 21 12.40625 \nL 21 0 \nL 10.6875 0 \nz\n\" id=\"DejaVuSans-46\"/>\n      </defs>\n      <g transform=\"translate(43.226875 394.277187)scale(0.12 -0.12)\">\n       <use xlink:href=\"#DejaVuSans-48\"/>\n       <use x=\"63.623047\" xlink:href=\"#DejaVuSans-46\"/>\n       <use x=\"95.410156\" xlink:href=\"#DejaVuSans-48\"/>\n      </g>\n     </g>\n    </g>\n    <g id=\"xtick_2\">\n     <g id=\"line2d_3\">\n      <path clip-path=\"url(#pced6cd12b6)\" d=\"M 152.76125 378.159062 \nL 152.76125 11.759062 \n\" style=\"fill:none;stroke:#b0b0b0;stroke-linecap:square;stroke-width:0.8;\"/>\n     </g>\n     <g id=\"line2d_4\">\n      <g>\n       <use style=\"stroke:#000000;stroke-width:0.8;\" x=\"152.76125\" xlink:href=\"#m36a28f6fa1\" y=\"378.159062\"/>\n      </g>\n     </g>\n     <g id=\"text_2\">\n      <!-- 0.2 -->\n      <defs>\n       <path d=\"M 19.1875 8.296875 \nL 53.609375 8.296875 \nL 53.609375 0 \nL 7.328125 0 \nL 7.328125 8.296875 \nQ 12.9375 14.109375 22.625 23.890625 \nQ 32.328125 33.6875 34.8125 36.53125 \nQ 39.546875 41.84375 41.421875 45.53125 \nQ 43.3125 49.21875 43.3125 52.78125 \nQ 43.3125 58.59375 39.234375 62.25 \nQ 35.15625 65.921875 28.609375 65.921875 \nQ 23.96875 65.921875 18.8125 64.3125 \nQ 13.671875 62.703125 7.8125 59.421875 \nL 7.8125 69.390625 \nQ 13.765625 71.78125 18.9375 73 \nQ 24.125 74.21875 28.421875 74.21875 \nQ 39.75 74.21875 46.484375 68.546875 \nQ 53.21875 62.890625 53.21875 53.421875 \nQ 53.21875 48.921875 51.53125 44.890625 \nQ 49.859375 40.875 45.40625 35.40625 \nQ 44.1875 33.984375 37.640625 27.21875 \nQ 31.109375 20.453125 19.1875 8.296875 \nz\n\" id=\"DejaVuSans-50\"/>\n      </defs>\n      <g transform=\"translate(143.219375 394.277187)scale(0.12 -0.12)\">\n       <use xlink:href=\"#DejaVuSans-48\"/>\n       <use x=\"63.623047\" xlink:href=\"#DejaVuSans-46\"/>\n       <use x=\"95.410156\" xlink:href=\"#DejaVuSans-50\"/>\n      </g>\n     </g>\n    </g>\n    <g id=\"xtick_3\">\n     <g id=\"line2d_5\">\n      <path clip-path=\"url(#pced6cd12b6)\" d=\"M 252.75375 378.159062 \nL 252.75375 11.759062 \n\" style=\"fill:none;stroke:#b0b0b0;stroke-linecap:square;stroke-width:0.8;\"/>\n     </g>\n     <g id=\"line2d_6\">\n      <g>\n       <use style=\"stroke:#000000;stroke-width:0.8;\" x=\"252.75375\" xlink:href=\"#m36a28f6fa1\" y=\"378.159062\"/>\n      </g>\n     </g>\n     <g id=\"text_3\">\n      <!-- 0.4 -->\n      <defs>\n       <path d=\"M 37.796875 64.3125 \nL 12.890625 25.390625 \nL 37.796875 25.390625 \nz\nM 35.203125 72.90625 \nL 47.609375 72.90625 \nL 47.609375 25.390625 \nL 58.015625 25.390625 \nL 58.015625 17.1875 \nL 47.609375 17.1875 \nL 47.609375 0 \nL 37.796875 0 \nL 37.796875 17.1875 \nL 4.890625 17.1875 \nL 4.890625 26.703125 \nz\n\" id=\"DejaVuSans-52\"/>\n      </defs>\n      <g transform=\"translate(243.211875 394.277187)scale(0.12 -0.12)\">\n       <use xlink:href=\"#DejaVuSans-48\"/>\n       <use x=\"63.623047\" xlink:href=\"#DejaVuSans-46\"/>\n       <use x=\"95.410156\" xlink:href=\"#DejaVuSans-52\"/>\n      </g>\n     </g>\n    </g>\n    <g id=\"xtick_4\">\n     <g id=\"line2d_7\">\n      <path clip-path=\"url(#pced6cd12b6)\" d=\"M 352.74625 378.159062 \nL 352.74625 11.759062 \n\" style=\"fill:none;stroke:#b0b0b0;stroke-linecap:square;stroke-width:0.8;\"/>\n     </g>\n     <g id=\"line2d_8\">\n      <g>\n       <use style=\"stroke:#000000;stroke-width:0.8;\" x=\"352.74625\" xlink:href=\"#m36a28f6fa1\" y=\"378.159062\"/>\n      </g>\n     </g>\n     <g id=\"text_4\">\n      <!-- 0.6 -->\n      <defs>\n       <path d=\"M 33.015625 40.375 \nQ 26.375 40.375 22.484375 35.828125 \nQ 18.609375 31.296875 18.609375 23.390625 \nQ 18.609375 15.53125 22.484375 10.953125 \nQ 26.375 6.390625 33.015625 6.390625 \nQ 39.65625 6.390625 43.53125 10.953125 \nQ 47.40625 15.53125 47.40625 23.390625 \nQ 47.40625 31.296875 43.53125 35.828125 \nQ 39.65625 40.375 33.015625 40.375 \nz\nM 52.59375 71.296875 \nL 52.59375 62.3125 \nQ 48.875 64.0625 45.09375 64.984375 \nQ 41.3125 65.921875 37.59375 65.921875 \nQ 27.828125 65.921875 22.671875 59.328125 \nQ 17.53125 52.734375 16.796875 39.40625 \nQ 19.671875 43.65625 24.015625 45.921875 \nQ 28.375 48.1875 33.59375 48.1875 \nQ 44.578125 48.1875 50.953125 41.515625 \nQ 57.328125 34.859375 57.328125 23.390625 \nQ 57.328125 12.15625 50.6875 5.359375 \nQ 44.046875 -1.421875 33.015625 -1.421875 \nQ 20.359375 -1.421875 13.671875 8.265625 \nQ 6.984375 17.96875 6.984375 36.375 \nQ 6.984375 53.65625 15.1875 63.9375 \nQ 23.390625 74.21875 37.203125 74.21875 \nQ 40.921875 74.21875 44.703125 73.484375 \nQ 48.484375 72.75 52.59375 71.296875 \nz\n\" id=\"DejaVuSans-54\"/>\n      </defs>\n      <g transform=\"translate(343.204375 394.277187)scale(0.12 -0.12)\">\n       <use xlink:href=\"#DejaVuSans-48\"/>\n       <use x=\"63.623047\" xlink:href=\"#DejaVuSans-46\"/>\n       <use x=\"95.410156\" xlink:href=\"#DejaVuSans-54\"/>\n      </g>\n     </g>\n    </g>\n    <g id=\"xtick_5\">\n     <g id=\"line2d_9\">\n      <path clip-path=\"url(#pced6cd12b6)\" d=\"M 452.73875 378.159062 \nL 452.73875 11.759062 \n\" style=\"fill:none;stroke:#b0b0b0;stroke-linecap:square;stroke-width:0.8;\"/>\n     </g>\n     <g id=\"line2d_10\">\n      <g>\n       <use style=\"stroke:#000000;stroke-width:0.8;\" x=\"452.73875\" xlink:href=\"#m36a28f6fa1\" y=\"378.159062\"/>\n      </g>\n     </g>\n     <g id=\"text_5\">\n      <!-- 0.8 -->\n      <defs>\n       <path d=\"M 31.78125 34.625 \nQ 24.75 34.625 20.71875 30.859375 \nQ 16.703125 27.09375 16.703125 20.515625 \nQ 16.703125 13.921875 20.71875 10.15625 \nQ 24.75 6.390625 31.78125 6.390625 \nQ 38.8125 6.390625 42.859375 10.171875 \nQ 46.921875 13.96875 46.921875 20.515625 \nQ 46.921875 27.09375 42.890625 30.859375 \nQ 38.875 34.625 31.78125 34.625 \nz\nM 21.921875 38.8125 \nQ 15.578125 40.375 12.03125 44.71875 \nQ 8.5 49.078125 8.5 55.328125 \nQ 8.5 64.0625 14.71875 69.140625 \nQ 20.953125 74.21875 31.78125 74.21875 \nQ 42.671875 74.21875 48.875 69.140625 \nQ 55.078125 64.0625 55.078125 55.328125 \nQ 55.078125 49.078125 51.53125 44.71875 \nQ 48 40.375 41.703125 38.8125 \nQ 48.828125 37.15625 52.796875 32.3125 \nQ 56.78125 27.484375 56.78125 20.515625 \nQ 56.78125 9.90625 50.3125 4.234375 \nQ 43.84375 -1.421875 31.78125 -1.421875 \nQ 19.734375 -1.421875 13.25 4.234375 \nQ 6.78125 9.90625 6.78125 20.515625 \nQ 6.78125 27.484375 10.78125 32.3125 \nQ 14.796875 37.15625 21.921875 38.8125 \nz\nM 18.3125 54.390625 \nQ 18.3125 48.734375 21.84375 45.5625 \nQ 25.390625 42.390625 31.78125 42.390625 \nQ 38.140625 42.390625 41.71875 45.5625 \nQ 45.3125 48.734375 45.3125 54.390625 \nQ 45.3125 60.0625 41.71875 63.234375 \nQ 38.140625 66.40625 31.78125 66.40625 \nQ 25.390625 66.40625 21.84375 63.234375 \nQ 18.3125 60.0625 18.3125 54.390625 \nz\n\" id=\"DejaVuSans-56\"/>\n      </defs>\n      <g transform=\"translate(443.196875 394.277187)scale(0.12 -0.12)\">\n       <use xlink:href=\"#DejaVuSans-48\"/>\n       <use x=\"63.623047\" xlink:href=\"#DejaVuSans-46\"/>\n       <use x=\"95.410156\" xlink:href=\"#DejaVuSans-56\"/>\n      </g>\n     </g>\n    </g>\n    <g id=\"xtick_6\">\n     <g id=\"line2d_11\">\n      <path clip-path=\"url(#pced6cd12b6)\" d=\"M 552.73125 378.159062 \nL 552.73125 11.759062 \n\" style=\"fill:none;stroke:#b0b0b0;stroke-linecap:square;stroke-width:0.8;\"/>\n     </g>\n     <g id=\"line2d_12\">\n      <g>\n       <use style=\"stroke:#000000;stroke-width:0.8;\" x=\"552.73125\" xlink:href=\"#m36a28f6fa1\" y=\"378.159062\"/>\n      </g>\n     </g>\n     <g id=\"text_6\">\n      <!-- 1.0 -->\n      <defs>\n       <path d=\"M 12.40625 8.296875 \nL 28.515625 8.296875 \nL 28.515625 63.921875 \nL 10.984375 60.40625 \nL 10.984375 69.390625 \nL 28.421875 72.90625 \nL 38.28125 72.90625 \nL 38.28125 8.296875 \nL 54.390625 8.296875 \nL 54.390625 0 \nL 12.40625 0 \nz\n\" id=\"DejaVuSans-49\"/>\n      </defs>\n      <g transform=\"translate(543.189375 394.277187)scale(0.12 -0.12)\">\n       <use xlink:href=\"#DejaVuSans-49\"/>\n       <use x=\"63.623047\" xlink:href=\"#DejaVuSans-46\"/>\n       <use x=\"95.410156\" xlink:href=\"#DejaVuSans-48\"/>\n      </g>\n     </g>\n    </g>\n    <g id=\"text_7\">\n     <!-- Recall -->\n     <defs>\n      <path d=\"M 44.390625 34.1875 \nQ 47.5625 33.109375 50.5625 29.59375 \nQ 53.5625 26.078125 56.59375 19.921875 \nL 66.609375 0 \nL 56 0 \nL 46.6875 18.703125 \nQ 43.0625 26.03125 39.671875 28.421875 \nQ 36.28125 30.8125 30.421875 30.8125 \nL 19.671875 30.8125 \nL 19.671875 0 \nL 9.8125 0 \nL 9.8125 72.90625 \nL 32.078125 72.90625 \nQ 44.578125 72.90625 50.734375 67.671875 \nQ 56.890625 62.453125 56.890625 51.90625 \nQ 56.890625 45.015625 53.6875 40.46875 \nQ 50.484375 35.9375 44.390625 34.1875 \nz\nM 19.671875 64.796875 \nL 19.671875 38.921875 \nL 32.078125 38.921875 \nQ 39.203125 38.921875 42.84375 42.21875 \nQ 46.484375 45.515625 46.484375 51.90625 \nQ 46.484375 58.296875 42.84375 61.546875 \nQ 39.203125 64.796875 32.078125 64.796875 \nz\n\" id=\"DejaVuSans-82\"/>\n      <path d=\"M 56.203125 29.59375 \nL 56.203125 25.203125 \nL 14.890625 25.203125 \nQ 15.484375 15.921875 20.484375 11.0625 \nQ 25.484375 6.203125 34.421875 6.203125 \nQ 39.59375 6.203125 44.453125 7.46875 \nQ 49.3125 8.734375 54.109375 11.28125 \nL 54.109375 2.78125 \nQ 49.265625 0.734375 44.1875 -0.34375 \nQ 39.109375 -1.421875 33.890625 -1.421875 \nQ 20.796875 -1.421875 13.15625 6.1875 \nQ 5.515625 13.8125 5.515625 26.8125 \nQ 5.515625 40.234375 12.765625 48.109375 \nQ 20.015625 56 32.328125 56 \nQ 43.359375 56 49.78125 48.890625 \nQ 56.203125 41.796875 56.203125 29.59375 \nz\nM 47.21875 32.234375 \nQ 47.125 39.59375 43.09375 43.984375 \nQ 39.0625 48.390625 32.421875 48.390625 \nQ 24.90625 48.390625 20.390625 44.140625 \nQ 15.875 39.890625 15.1875 32.171875 \nz\n\" id=\"DejaVuSans-101\"/>\n      <path d=\"M 48.78125 52.59375 \nL 48.78125 44.1875 \nQ 44.96875 46.296875 41.140625 47.34375 \nQ 37.3125 48.390625 33.40625 48.390625 \nQ 24.65625 48.390625 19.8125 42.84375 \nQ 14.984375 37.3125 14.984375 27.296875 \nQ 14.984375 17.28125 19.8125 11.734375 \nQ 24.65625 6.203125 33.40625 6.203125 \nQ 37.3125 6.203125 41.140625 7.25 \nQ 44.96875 8.296875 48.78125 10.40625 \nL 48.78125 2.09375 \nQ 45.015625 0.34375 40.984375 -0.53125 \nQ 36.96875 -1.421875 32.421875 -1.421875 \nQ 20.0625 -1.421875 12.78125 6.34375 \nQ 5.515625 14.109375 5.515625 27.296875 \nQ 5.515625 40.671875 12.859375 48.328125 \nQ 20.21875 56 33.015625 56 \nQ 37.15625 56 41.109375 55.140625 \nQ 45.0625 54.296875 48.78125 52.59375 \nz\n\" id=\"DejaVuSans-99\"/>\n      <path d=\"M 34.28125 27.484375 \nQ 23.390625 27.484375 19.1875 25 \nQ 14.984375 22.515625 14.984375 16.5 \nQ 14.984375 11.71875 18.140625 8.90625 \nQ 21.296875 6.109375 26.703125 6.109375 \nQ 34.1875 6.109375 38.703125 11.40625 \nQ 43.21875 16.703125 43.21875 25.484375 \nL 43.21875 27.484375 \nz\nM 52.203125 31.203125 \nL 52.203125 0 \nL 43.21875 0 \nL 43.21875 8.296875 \nQ 40.140625 3.328125 35.546875 0.953125 \nQ 30.953125 -1.421875 24.3125 -1.421875 \nQ 15.921875 -1.421875 10.953125 3.296875 \nQ 6 8.015625 6 15.921875 \nQ 6 25.140625 12.171875 29.828125 \nQ 18.359375 34.515625 30.609375 34.515625 \nL 43.21875 34.515625 \nL 43.21875 35.40625 \nQ 43.21875 41.609375 39.140625 45 \nQ 35.0625 48.390625 27.6875 48.390625 \nQ 23 48.390625 18.546875 47.265625 \nQ 14.109375 46.140625 10.015625 43.890625 \nL 10.015625 52.203125 \nQ 14.9375 54.109375 19.578125 55.046875 \nQ 24.21875 56 28.609375 56 \nQ 40.484375 56 46.34375 49.84375 \nQ 52.203125 43.703125 52.203125 31.203125 \nz\n\" id=\"DejaVuSans-97\"/>\n      <path d=\"M 9.421875 75.984375 \nL 18.40625 75.984375 \nL 18.40625 0 \nL 9.421875 0 \nz\n\" id=\"DejaVuSans-108\"/>\n     </defs>\n     <g transform=\"translate(278.5275 412.930312)scale(0.16 -0.16)\">\n      <use xlink:href=\"#DejaVuSans-82\"/>\n      <use x=\"69.419922\" xlink:href=\"#DejaVuSans-101\"/>\n      <use x=\"130.943359\" xlink:href=\"#DejaVuSans-99\"/>\n      <use x=\"185.923828\" xlink:href=\"#DejaVuSans-97\"/>\n      <use x=\"247.203125\" xlink:href=\"#DejaVuSans-108\"/>\n      <use x=\"274.986328\" xlink:href=\"#DejaVuSans-108\"/>\n     </g>\n    </g>\n   </g>\n   <g id=\"matplotlib.axis_2\">\n    <g id=\"ytick_1\">\n     <g id=\"line2d_13\">\n      <path clip-path=\"url(#pced6cd12b6)\" d=\"M 52.76875 378.159062 \nL 552.73125 378.159062 \n\" style=\"fill:none;stroke:#b0b0b0;stroke-linecap:square;stroke-width:0.8;\"/>\n     </g>\n     <g id=\"line2d_14\">\n      <defs>\n       <path d=\"M 0 0 \nL -3.5 0 \n\" id=\"m48ea584106\" style=\"stroke:#000000;stroke-width:0.8;\"/>\n      </defs>\n      <g>\n       <use style=\"stroke:#000000;stroke-width:0.8;\" x=\"52.76875\" xlink:href=\"#m48ea584106\" y=\"378.159062\"/>\n      </g>\n     </g>\n     <g id=\"text_8\">\n      <!-- 0.0 -->\n      <g transform=\"translate(26.685 382.718125)scale(0.12 -0.12)\">\n       <use xlink:href=\"#DejaVuSans-48\"/>\n       <use x=\"63.623047\" xlink:href=\"#DejaVuSans-46\"/>\n       <use x=\"95.410156\" xlink:href=\"#DejaVuSans-48\"/>\n      </g>\n     </g>\n    </g>\n    <g id=\"ytick_2\">\n     <g id=\"line2d_15\">\n      <path clip-path=\"url(#pced6cd12b6)\" d=\"M 52.76875 304.879062 \nL 552.73125 304.879062 \n\" style=\"fill:none;stroke:#b0b0b0;stroke-linecap:square;stroke-width:0.8;\"/>\n     </g>\n     <g id=\"line2d_16\">\n      <g>\n       <use style=\"stroke:#000000;stroke-width:0.8;\" x=\"52.76875\" xlink:href=\"#m48ea584106\" y=\"304.879062\"/>\n      </g>\n     </g>\n     <g id=\"text_9\">\n      <!-- 0.2 -->\n      <g transform=\"translate(26.685 309.438125)scale(0.12 -0.12)\">\n       <use xlink:href=\"#DejaVuSans-48\"/>\n       <use x=\"63.623047\" xlink:href=\"#DejaVuSans-46\"/>\n       <use x=\"95.410156\" xlink:href=\"#DejaVuSans-50\"/>\n      </g>\n     </g>\n    </g>\n    <g id=\"ytick_3\">\n     <g id=\"line2d_17\">\n      <path clip-path=\"url(#pced6cd12b6)\" d=\"M 52.76875 231.599062 \nL 552.73125 231.599062 \n\" style=\"fill:none;stroke:#b0b0b0;stroke-linecap:square;stroke-width:0.8;\"/>\n     </g>\n     <g id=\"line2d_18\">\n      <g>\n       <use style=\"stroke:#000000;stroke-width:0.8;\" x=\"52.76875\" xlink:href=\"#m48ea584106\" y=\"231.599062\"/>\n      </g>\n     </g>\n     <g id=\"text_10\">\n      <!-- 0.4 -->\n      <g transform=\"translate(26.685 236.158125)scale(0.12 -0.12)\">\n       <use xlink:href=\"#DejaVuSans-48\"/>\n       <use x=\"63.623047\" xlink:href=\"#DejaVuSans-46\"/>\n       <use x=\"95.410156\" xlink:href=\"#DejaVuSans-52\"/>\n      </g>\n     </g>\n    </g>\n    <g id=\"ytick_4\">\n     <g id=\"line2d_19\">\n      <path clip-path=\"url(#pced6cd12b6)\" d=\"M 52.76875 158.319062 \nL 552.73125 158.319062 \n\" style=\"fill:none;stroke:#b0b0b0;stroke-linecap:square;stroke-width:0.8;\"/>\n     </g>\n     <g id=\"line2d_20\">\n      <g>\n       <use style=\"stroke:#000000;stroke-width:0.8;\" x=\"52.76875\" xlink:href=\"#m48ea584106\" y=\"158.319062\"/>\n      </g>\n     </g>\n     <g id=\"text_11\">\n      <!-- 0.6 -->\n      <g transform=\"translate(26.685 162.878125)scale(0.12 -0.12)\">\n       <use xlink:href=\"#DejaVuSans-48\"/>\n       <use x=\"63.623047\" xlink:href=\"#DejaVuSans-46\"/>\n       <use x=\"95.410156\" xlink:href=\"#DejaVuSans-54\"/>\n      </g>\n     </g>\n    </g>\n    <g id=\"ytick_5\">\n     <g id=\"line2d_21\">\n      <path clip-path=\"url(#pced6cd12b6)\" d=\"M 52.76875 85.039062 \nL 552.73125 85.039062 \n\" style=\"fill:none;stroke:#b0b0b0;stroke-linecap:square;stroke-width:0.8;\"/>\n     </g>\n     <g id=\"line2d_22\">\n      <g>\n       <use style=\"stroke:#000000;stroke-width:0.8;\" x=\"52.76875\" xlink:href=\"#m48ea584106\" y=\"85.039062\"/>\n      </g>\n     </g>\n     <g id=\"text_12\">\n      <!-- 0.8 -->\n      <g transform=\"translate(26.685 89.598125)scale(0.12 -0.12)\">\n       <use xlink:href=\"#DejaVuSans-48\"/>\n       <use x=\"63.623047\" xlink:href=\"#DejaVuSans-46\"/>\n       <use x=\"95.410156\" xlink:href=\"#DejaVuSans-56\"/>\n      </g>\n     </g>\n    </g>\n    <g id=\"ytick_6\">\n     <g id=\"line2d_23\">\n      <path clip-path=\"url(#pced6cd12b6)\" d=\"M 52.76875 11.759062 \nL 552.73125 11.759062 \n\" style=\"fill:none;stroke:#b0b0b0;stroke-linecap:square;stroke-width:0.8;\"/>\n     </g>\n     <g id=\"line2d_24\">\n      <g>\n       <use style=\"stroke:#000000;stroke-width:0.8;\" x=\"52.76875\" xlink:href=\"#m48ea584106\" y=\"11.759062\"/>\n      </g>\n     </g>\n     <g id=\"text_13\">\n      <!-- 1.0 -->\n      <g transform=\"translate(26.685 16.318125)scale(0.12 -0.12)\">\n       <use xlink:href=\"#DejaVuSans-49\"/>\n       <use x=\"63.623047\" xlink:href=\"#DejaVuSans-46\"/>\n       <use x=\"95.410156\" xlink:href=\"#DejaVuSans-48\"/>\n      </g>\n     </g>\n    </g>\n    <g id=\"text_14\">\n     <!-- Precision -->\n     <defs>\n      <path d=\"M 19.671875 64.796875 \nL 19.671875 37.40625 \nL 32.078125 37.40625 \nQ 38.96875 37.40625 42.71875 40.96875 \nQ 46.484375 44.53125 46.484375 51.125 \nQ 46.484375 57.671875 42.71875 61.234375 \nQ 38.96875 64.796875 32.078125 64.796875 \nz\nM 9.8125 72.90625 \nL 32.078125 72.90625 \nQ 44.34375 72.90625 50.609375 67.359375 \nQ 56.890625 61.8125 56.890625 51.125 \nQ 56.890625 40.328125 50.609375 34.8125 \nQ 44.34375 29.296875 32.078125 29.296875 \nL 19.671875 29.296875 \nL 19.671875 0 \nL 9.8125 0 \nz\n\" id=\"DejaVuSans-80\"/>\n      <path d=\"M 41.109375 46.296875 \nQ 39.59375 47.171875 37.8125 47.578125 \nQ 36.03125 48 33.890625 48 \nQ 26.265625 48 22.1875 43.046875 \nQ 18.109375 38.09375 18.109375 28.8125 \nL 18.109375 0 \nL 9.078125 0 \nL 9.078125 54.6875 \nL 18.109375 54.6875 \nL 18.109375 46.1875 \nQ 20.953125 51.171875 25.484375 53.578125 \nQ 30.03125 56 36.53125 56 \nQ 37.453125 56 38.578125 55.875 \nQ 39.703125 55.765625 41.0625 55.515625 \nz\n\" id=\"DejaVuSans-114\"/>\n      <path d=\"M 9.421875 54.6875 \nL 18.40625 54.6875 \nL 18.40625 0 \nL 9.421875 0 \nz\nM 9.421875 75.984375 \nL 18.40625 75.984375 \nL 18.40625 64.59375 \nL 9.421875 64.59375 \nz\n\" id=\"DejaVuSans-105\"/>\n      <path d=\"M 44.28125 53.078125 \nL 44.28125 44.578125 \nQ 40.484375 46.53125 36.375 47.5 \nQ 32.28125 48.484375 27.875 48.484375 \nQ 21.1875 48.484375 17.84375 46.4375 \nQ 14.5 44.390625 14.5 40.28125 \nQ 14.5 37.15625 16.890625 35.375 \nQ 19.28125 33.59375 26.515625 31.984375 \nL 29.59375 31.296875 \nQ 39.15625 29.25 43.1875 25.515625 \nQ 47.21875 21.78125 47.21875 15.09375 \nQ 47.21875 7.46875 41.1875 3.015625 \nQ 35.15625 -1.421875 24.609375 -1.421875 \nQ 20.21875 -1.421875 15.453125 -0.5625 \nQ 10.6875 0.296875 5.421875 2 \nL 5.421875 11.28125 \nQ 10.40625 8.6875 15.234375 7.390625 \nQ 20.0625 6.109375 24.8125 6.109375 \nQ 31.15625 6.109375 34.5625 8.28125 \nQ 37.984375 10.453125 37.984375 14.40625 \nQ 37.984375 18.0625 35.515625 20.015625 \nQ 33.0625 21.96875 24.703125 23.78125 \nL 21.578125 24.515625 \nQ 13.234375 26.265625 9.515625 29.90625 \nQ 5.8125 33.546875 5.8125 39.890625 \nQ 5.8125 47.609375 11.28125 51.796875 \nQ 16.75 56 26.8125 56 \nQ 31.78125 56 36.171875 55.265625 \nQ 40.578125 54.546875 44.28125 53.078125 \nz\n\" id=\"DejaVuSans-115\"/>\n      <path d=\"M 30.609375 48.390625 \nQ 23.390625 48.390625 19.1875 42.75 \nQ 14.984375 37.109375 14.984375 27.296875 \nQ 14.984375 17.484375 19.15625 11.84375 \nQ 23.34375 6.203125 30.609375 6.203125 \nQ 37.796875 6.203125 41.984375 11.859375 \nQ 46.1875 17.53125 46.1875 27.296875 \nQ 46.1875 37.015625 41.984375 42.703125 \nQ 37.796875 48.390625 30.609375 48.390625 \nz\nM 30.609375 56 \nQ 42.328125 56 49.015625 48.375 \nQ 55.71875 40.765625 55.71875 27.296875 \nQ 55.71875 13.875 49.015625 6.21875 \nQ 42.328125 -1.421875 30.609375 -1.421875 \nQ 18.84375 -1.421875 12.171875 6.21875 \nQ 5.515625 13.875 5.515625 27.296875 \nQ 5.515625 40.765625 12.171875 48.375 \nQ 18.84375 56 30.609375 56 \nz\n\" id=\"DejaVuSans-111\"/>\n      <path d=\"M 54.890625 33.015625 \nL 54.890625 0 \nL 45.90625 0 \nL 45.90625 32.71875 \nQ 45.90625 40.484375 42.875 44.328125 \nQ 39.84375 48.1875 33.796875 48.1875 \nQ 26.515625 48.1875 22.3125 43.546875 \nQ 18.109375 38.921875 18.109375 30.90625 \nL 18.109375 0 \nL 9.078125 0 \nL 9.078125 54.6875 \nL 18.109375 54.6875 \nL 18.109375 46.1875 \nQ 21.34375 51.125 25.703125 53.5625 \nQ 30.078125 56 35.796875 56 \nQ 45.21875 56 50.046875 50.171875 \nQ 54.890625 44.34375 54.890625 33.015625 \nz\n\" id=\"DejaVuSans-110\"/>\n     </defs>\n     <g transform=\"translate(19.3575 230.966562)rotate(-90)scale(0.16 -0.16)\">\n      <use xlink:href=\"#DejaVuSans-80\"/>\n      <use x=\"60.287109\" xlink:href=\"#DejaVuSans-114\"/>\n      <use x=\"101.369141\" xlink:href=\"#DejaVuSans-101\"/>\n      <use x=\"162.892578\" xlink:href=\"#DejaVuSans-99\"/>\n      <use x=\"217.873047\" xlink:href=\"#DejaVuSans-105\"/>\n      <use x=\"245.65625\" xlink:href=\"#DejaVuSans-115\"/>\n      <use x=\"297.755859\" xlink:href=\"#DejaVuSans-105\"/>\n      <use x=\"325.539062\" xlink:href=\"#DejaVuSans-111\"/>\n      <use x=\"386.720703\" xlink:href=\"#DejaVuSans-110\"/>\n     </g>\n    </g>\n   </g>\n   <g id=\"line2d_25\">\n    <path clip-path=\"url(#pced6cd12b6)\" d=\"M 552.73125 345.036053 \nL 552.546796 344.981881 \nL 552.546796 344.93636 \nL 552.454569 344.751315 \nL 552.362342 344.756918 \nL 552.362342 344.645811 \nL 552.362342 344.622594 \nL 552.270115 344.623119 \nL 551.993434 344.545124 \nL 551.993434 344.529165 \nL 551.901207 343.8376 \nL 551.716753 343.796161 \nL 551.716753 343.73828 \nL 551.624526 343.685978 \nL 551.532299 343.691752 \nL 551.532299 343.580478 \nL 551.440072 342.961592 \nL 551.255618 342.919517 \nL 551.255618 342.862362 \nL 551.163391 342.753412 \nL 550.88671 342.68108 \nL 550.88671 342.660078 \nL 550.794483 342.458516 \nL 550.702256 342.464483 \nL 550.702256 342.353357 \nL 550.610029 341.776531 \nL 550.517802 341.782601 \nL 550.517802 341.671853 \nL 550.425575 341.468065 \nL 550.148894 341.375146 \nL 550.056667 341.211394 \nL 549.96444 341.217555 \nL 549.96444 341.106682 \nL 549.872213 340.447897 \nL 549.595532 340.373646 \nL 549.595532 340.355554 \nL 549.503305 339.731832 \nL 549.411078 339.738219 \nL 549.411078 339.627172 \nL 549.318851 338.998812 \nL 549.226624 339.005309 \nL 549.226624 338.894625 \nL 549.134397 338.82675 \nL 549.04217 338.833274 \nL 549.04217 338.722362 \nL 548.949944 338.420488 \nL 548.76549 338.359038 \nL 548.76549 338.322831 \nL 548.673263 337.07183 \nL 548.581036 337.078615 \nL 548.581036 336.967795 \nL 548.488809 336.627187 \nL 548.396582 336.634038 \nL 548.396582 336.523403 \nL 548.304355 335.757391 \nL 548.212128 335.76437 \nL 548.212128 335.653592 \nL 548.119901 334.432046 \nL 548.027674 334.439215 \nL 548.027674 334.328187 \nL 547.935447 333.78576 \nL 547.84322 333.793024 \nL 547.84322 333.68166 \nL 547.750993 332.70944 \nL 547.658766 332.716858 \nL 547.658766 332.606309 \nL 547.566539 331.404805 \nL 547.474312 331.412408 \nL 547.474312 331.300955 \nL 547.382085 329.896673 \nL 547.289858 329.904487 \nL 547.289858 329.79401 \nL 547.197631 329.038794 \nL 547.105404 329.046729 \nL 547.105404 328.935944 \nL 547.013177 328.817748 \nL 546.92095 328.825716 \nL 546.92095 328.715134 \nL 546.828723 328.30752 \nL 546.552042 328.228914 \nL 546.552042 328.221288 \nL 546.459815 326.69115 \nL 546.367588 326.699415 \nL 546.367588 326.588443 \nL 546.275361 326.381573 \nL 546.183134 326.389883 \nL 546.183134 326.278902 \nL 546.090907 325.481369 \nL 545.906453 325.471326 \nL 545.906453 325.387593 \nL 545.814226 325.110249 \nL 545.721999 325.118735 \nL 545.721999 325.007893 \nL 545.629772 324.480262 \nL 545.537545 324.488836 \nL 545.537545 324.378254 \nL 545.445318 322.314137 \nL 545.260864 322.292008 \nL 545.260864 322.22173 \nL 545.168637 321.407986 \nL 545.07641 321.41697 \nL 545.07641 321.306461 \nL 544.984183 320.237887 \nL 544.891956 320.247025 \nL 544.891956 320.13703 \nL 544.891956 319.915783 \nL 544.799729 319.918023 \nL 544.707502 319.927205 \nL 544.707502 319.815949 \nL 544.615275 319.221643 \nL 544.523048 319.230917 \nL 544.523048 319.120508 \nL 544.430821 318.542459 \nL 544.246367 318.515674 \nL 544.246367 318.450014 \nL 544.15414 317.483386 \nL 544.061913 317.492889 \nL 544.061913 317.381433 \nL 543.969686 316.157207 \nL 543.785232 316.129248 \nL 543.785232 316.066065 \nL 543.693005 315.473137 \nL 543.600778 315.482899 \nL 543.600778 315.371903 \nL 543.508551 314.651639 \nL 543.416324 314.661506 \nL 543.416324 314.551688 \nL 543.416324 313.365551 \nL 543.324097 313.373423 \nL 543.23187 313.38345 \nL 543.23187 313.273441 \nL 543.139643 311.37989 \nL 543.047416 311.390161 \nL 543.047416 311.280117 \nL 542.955189 310.274097 \nL 542.862962 310.284503 \nL 542.862962 310.173113 \nL 542.770735 309.519621 \nL 542.586281 309.455828 \nL 542.586281 309.429136 \nL 542.494054 309.369189 \nL 542.401827 309.379712 \nL 542.401827 309.270101 \nL 542.3096 307.685779 \nL 542.032919 307.674528 \nL 542.032919 307.608012 \nL 541.940692 306.66638 \nL 541.848465 306.677229 \nL 541.848465 306.566609 \nL 541.756238 306.347263 \nL 541.664011 306.358153 \nL 541.664011 306.2465 \nL 541.571784 305.615449 \nL 541.479558 305.626427 \nL 541.479558 305.515159 \nL 541.387331 305.146417 \nL 541.295104 305.157453 \nL 541.295104 305.047452 \nL 541.202877 304.016681 \nL 541.11065 304.027849 \nL 541.11065 303.917213 \nL 541.018423 301.960068 \nL 540.926196 301.971469 \nL 540.926196 301.860565 \nL 540.833969 300.991522 \nL 540.741742 301.003033 \nL 540.741742 300.892327 \nL 540.649515 299.990971 \nL 540.557288 300.002595 \nL 540.557288 299.892116 \nL 540.465061 299.538579 \nL 540.372834 299.550257 \nL 540.372834 299.438451 \nL 540.280607 298.762883 \nL 540.18838 298.774649 \nL 540.18838 298.663845 \nL 540.096153 296.928149 \nL 540.003926 296.940114 \nL 540.003926 296.830917 \nL 539.911699 295.622181 \nL 539.635018 295.640906 \nL 539.635018 295.549273 \nL 539.542791 295.313704 \nL 539.173883 295.316158 \nL 539.173883 295.252181 \nL 539.081656 294.899972 \nL 538.989429 294.912174 \nL 538.989429 294.800809 \nL 538.897202 293.915032 \nL 538.804975 293.92734 \nL 538.804975 293.816964 \nL 538.712748 293.444437 \nL 538.528294 293.39104 \nL 538.528294 293.357516 \nL 538.436067 292.878956 \nL 538.251613 292.884962 \nL 538.251613 292.794382 \nL 538.159386 291.564999 \nL 538.067159 291.577564 \nL 538.067159 291.468559 \nL 537.974932 290.35591 \nL 537.882705 290.368601 \nL 537.882705 290.256486 \nL 537.790478 290.200985 \nL 537.698251 290.213696 \nL 537.698251 290.105166 \nL 537.606024 288.85246 \nL 537.513797 288.865308 \nL 537.513797 288.75338 \nL 537.42157 288.562413 \nL 537.329343 288.575294 \nL 537.329343 288.466773 \nL 537.237116 288.349945 \nL 537.052662 288.275091 \nL 537.052662 288.266692 \nL 536.960435 287.388961 \nL 536.868208 287.401968 \nL 536.868208 287.290478 \nL 536.868208 287.277596 \nL 536.775981 287.290616 \nL 536.775981 287.277732 \nL 536.683754 287.290754 \nL 536.683754 287.178948 \nL 536.591527 286.889623 \nL 536.4993 286.902688 \nL 536.4993 286.794225 \nL 536.407073 286.322642 \nL 536.130392 286.304934 \nL 536.130392 286.25218 \nL 536.038165 285.894369 \nL 535.945938 285.907544 \nL 535.945938 285.796574 \nL 535.853711 285.520012 \nL 535.761484 285.533227 \nL 535.761484 285.421312 \nL 535.669257 284.323386 \nL 535.57703 284.336719 \nL 535.57703 284.226447 \nL 535.484803 283.726445 \nL 535.392576 283.739838 \nL 535.392576 283.628115 \nL 535.300349 283.478132 \nL 535.208122 283.491553 \nL 535.208122 283.383886 \nL 535.115895 282.230348 \nL 535.023668 282.243889 \nL 535.023668 282.133321 \nL 534.931441 282.03606 \nL 534.839214 282.049623 \nL 534.839214 281.938564 \nL 534.746987 280.54952 \nL 534.65476 280.563222 \nL 534.65476 280.453642 \nL 534.562533 280.46237 \nL 534.562533 280.372529 \nL 534.470306 280.386253 \nL 534.470306 280.276233 \nL 534.378079 279.958447 \nL 534.285852 279.972212 \nL 534.285852 279.861216 \nL 534.193625 279.244706 \nL 534.009172 279.272376 \nL 534.009172 279.164851 \nL 533.916945 278.596127 \nL 533.824718 278.610026 \nL 533.824718 278.501014 \nL 533.732491 278.155085 \nL 533.640264 278.169028 \nL 533.640264 278.059005 \nL 533.548037 277.588127 \nL 533.45581 277.602125 \nL 533.45581 277.490807 \nL 533.363583 276.307446 \nL 533.271356 276.321559 \nL 533.271356 276.212787 \nL 533.179129 274.31915 \nL 533.086902 274.333435 \nL 533.086902 274.225991 \nL 532.994675 272.71832 \nL 532.717994 272.726627 \nL 532.717994 272.650785 \nL 532.717994 271.803328 \nL 532.625767 271.817834 \nL 532.441313 271.757812 \nL 532.441313 271.739986 \nL 532.349086 270.643685 \nL 532.256859 270.658295 \nL 532.256859 270.548985 \nL 532.164632 269.569793 \nL 531.980178 269.56204 \nL 531.980178 269.487654 \nL 531.887951 269.035173 \nL 531.795724 269.049924 \nL 531.795724 268.943476 \nL 531.703497 268.951968 \nL 531.703497 268.505121 \nL 531.426816 268.442007 \nL 531.334589 267.704778 \nL 531.150135 267.676746 \nL 531.150135 267.625341 \nL 531.057908 266.523412 \nL 530.873454 266.507428 \nL 530.873454 266.441759 \nL 530.781227 265.234569 \nL 530.689 265.249643 \nL 530.689 265.14211 \nL 530.596773 264.813087 \nL 530.504546 264.828197 \nL 530.504546 264.719818 \nL 530.504546 264.529655 \nL 530.412319 264.537986 \nL 530.320092 264.553122 \nL 530.320092 264.444174 \nL 530.227865 263.455501 \nL 529.951184 263.397055 \nL 529.951184 263.390107 \nL 529.858957 262.516158 \nL 529.76673 262.531459 \nL 529.76673 262.425534 \nL 529.674503 262.228426 \nL 529.582276 262.243752 \nL 529.582276 262.137258 \nL 529.490049 261.32965 \nL 529.305595 261.259476 \nL 529.305595 261.252258 \nL 529.213368 260.782007 \nL 529.028914 260.710918 \nL 529.028914 260.703628 \nL 528.936687 260.711791 \nL 528.936687 260.595008 \nL 528.84446 260.610473 \nL 528.84446 260.500786 \nL 528.752233 260.090231 \nL 528.660006 260.105737 \nL 528.660006 259.995062 \nL 528.660006 259.728594 \nL 528.567779 259.736709 \nL 528.475552 259.752246 \nL 528.475552 259.640864 \nL 528.383325 259.058854 \nL 528.106644 259.068087 \nL 528.106644 258.992936 \nL 528.014417 259.001019 \nL 528.014417 258.68433 \nL 527.829963 258.708025 \nL 527.829963 258.609661 \nL 527.737736 258.36729 \nL 527.645509 258.382947 \nL 527.645509 258.276391 \nL 527.553282 258.27682 \nL 527.553282 258.208207 \nL 527.461055 258.223881 \nL 527.461055 258.117 \nL 527.368828 256.372833 \nL 527.276601 256.388634 \nL 527.276601 256.278413 \nL 527.184374 256.223266 \nL 526.99992 256.152276 \nL 526.99992 256.144374 \nL 526.907693 255.172486 \nL 526.815466 255.18838 \nL 526.815466 255.075865 \nL 526.723239 254.688269 \nL 526.631012 254.7042 \nL 526.631012 254.598863 \nL 526.538786 254.224329 \nL 526.354332 254.174614 \nL 526.354332 254.150099 \nL 526.262105 253.797196 \nL 526.169878 253.813198 \nL 526.169878 253.70623 \nL 526.169878 253.035571 \nL 526.077651 253.0433 \nL 525.985424 253.059355 \nL 525.985424 252.951044 \nL 525.893197 252.296467 \nL 525.80097 252.312575 \nL 525.80097 252.202923 \nL 525.708743 250.845118 \nL 525.616516 250.861319 \nL 525.616516 250.749079 \nL 525.524289 250.618223 \nL 525.432062 250.634445 \nL 525.432062 250.52176 \nL 525.339835 249.594137 \nL 525.247608 249.610425 \nL 525.247608 249.504696 \nL 525.155381 249.158458 \nL 525.063154 249.174777 \nL 525.063154 249.068289 \nL 524.970927 248.388172 \nL 524.8787 248.404542 \nL 524.8787 248.296735 \nL 524.786473 247.843899 \nL 524.694246 247.860307 \nL 524.694246 247.751551 \nL 524.602019 247.549921 \nL 524.509792 247.566351 \nL 524.509792 247.457061 \nL 524.417565 247.071221 \nL 524.325338 247.087685 \nL 524.325338 246.977549 \nL 524.233111 246.74555 \nL 524.140884 246.762038 \nL 524.140884 246.65131 \nL 524.048657 246.176545 \nL 523.864203 246.172377 \nL 523.864203 246.097871 \nL 523.771976 245.675007 \nL 523.587522 245.604885 \nL 523.587522 245.595491 \nL 523.495295 245.216317 \nL 523.403068 245.232914 \nL 523.403068 245.128881 \nL 523.310841 244.613356 \nL 523.218614 244.629992 \nL 523.218614 244.524971 \nL 523.126387 243.879097 \nL 523.03416 243.895778 \nL 523.03416 243.789557 \nL 522.941933 243.467167 \nL 522.849706 243.483877 \nL 522.849706 243.376961 \nL 522.757479 242.413923 \nL 522.665252 242.430693 \nL 522.665252 242.322055 \nL 522.573025 242.230026 \nL 522.480798 242.246812 \nL 522.480798 242.137836 \nL 522.388571 241.38692 \nL 522.296344 241.403755 \nL 522.296344 241.293379 \nL 522.204117 240.87706 \nL 522.11189 240.893927 \nL 522.11189 240.782683 \nL 522.019663 240.03628 \nL 521.927436 240.053194 \nL 521.927436 239.940538 \nL 521.835209 239.813821 \nL 521.742982 239.830753 \nL 521.742982 239.727975 \nL 521.650755 239.290895 \nL 521.466301 239.314472 \nL 521.466301 239.221232 \nL 521.374074 238.895268 \nL 521.281847 238.912261 \nL 521.281847 238.808011 \nL 521.18962 238.616051 \nL 521.097393 238.633063 \nL 521.097393 238.528353 \nL 521.005166 237.934971 \nL 520.912939 237.952021 \nL 520.912939 237.846245 \nL 520.820712 237.534393 \nL 520.728485 237.551469 \nL 520.728485 237.445045 \nL 520.636258 237.109799 \nL 520.451804 237.11189 \nL 520.451804 237.036899 \nL 520.359577 236.871566 \nL 520.26735 236.888689 \nL 520.26735 236.781153 \nL 520.26735 235.751334 \nL 520.175123 235.76851 \nL 520.082896 235.785688 \nL 520.082896 235.676422 \nL 520.082896 235.138586 \nL 519.990669 235.144778 \nL 519.898442 235.161991 \nL 519.898442 235.051721 \nL 519.806215 233.75486 \nL 519.713988 233.772138 \nL 519.713988 233.65967 \nL 519.621761 232.313596 \nL 519.529534 232.33094 \nL 519.529534 232.227655 \nL 519.437307 231.726395 \nL 519.34508 231.74377 \nL 519.34508 231.639609 \nL 519.252853 230.900326 \nL 519.160626 230.91774 \nL 519.160626 230.812359 \nL 519.0684 229.660594 \nL 518.883946 229.60025 \nL 518.883946 229.588331 \nL 518.791719 229.593888 \nL 518.791719 229.474578 \nL 518.607265 229.402017 \nL 518.515038 228.444684 \nL 518.330584 228.431288 \nL 518.330584 228.37066 \nL 518.238357 227.88921 \nL 518.14613 227.906775 \nL 518.14613 227.796798 \nL 518.053903 227.606204 \nL 517.961676 227.623785 \nL 517.961676 227.51335 \nL 517.869449 227.235661 \nL 517.777222 227.253263 \nL 517.777222 227.142239 \nL 517.684995 225.890109 \nL 517.592768 225.907764 \nL 517.592768 225.794706 \nL 517.500541 225.206565 \nL 517.408314 225.224249 \nL 517.408314 225.122816 \nL 517.316087 224.567451 \nL 517.22386 224.585163 \nL 517.22386 224.48284 \nL 517.131633 224.333998 \nL 516.947179 224.330968 \nL 516.947179 224.266782 \nL 516.947179 224.138249 \nL 516.854952 224.143124 \nL 516.762725 224.160867 \nL 516.762725 224.057875 \nL 516.670498 223.714078 \nL 516.393817 223.663776 \nL 516.30159 223.668593 \nL 516.30159 223.642667 \nL 516.209363 223.660447 \nL 516.209363 223.556661 \nL 516.117136 222.080243 \nL 515.932682 222.023229 \nL 515.932682 222.009979 \nL 515.840455 221.788948 \nL 515.748228 221.806801 \nL 515.748228 221.700403 \nL 515.656001 220.727199 \nL 515.37932 220.699981 \nL 515.37932 220.672996 \nL 515.287093 219.535444 \nL 515.194866 219.553382 \nL 515.194866 219.443762 \nL 515.102639 218.204068 \nL 514.918185 218.170356 \nL 514.918185 218.128521 \nL 514.825958 217.797046 \nL 514.733731 217.815047 \nL 514.733731 217.702899 \nL 514.641504 216.704491 \nL 514.364823 216.687547 \nL 514.364823 216.659107 \nL 514.272596 216.30652 \nL 514.088142 216.271173 \nL 514.088142 216.242568 \nL 513.995915 215.87349 \nL 513.903688 215.891569 \nL 513.903688 215.790898 \nL 513.811461 215.303759 \nL 513.719234 215.321858 \nL 513.719234 215.220438 \nL 513.627007 215.224044 \nL 513.627007 214.817034 \nL 513.442553 214.751205 \nL 513.442553 214.268313 \nL 513.350326 214.271772 \nL 513.258099 214.289912 \nL 513.258099 214.187099 \nL 513.165872 212.916602 \nL 513.073645 212.934776 \nL 513.073645 212.830213 \nL 513.073645 212.290364 \nL 512.981418 212.308555 \nL 512.889191 212.326748 \nL 512.889191 212.221372 \nL 512.796964 211.998212 \nL 512.704737 212.016418 \nL 512.704737 211.910605 \nL 512.61251 211.807724 \nL 512.520283 211.825942 \nL 512.520283 211.719843 \nL 512.428056 211.006879 \nL 512.335829 211.025119 \nL 512.335829 210.917952 \nL 512.243602 210.444546 \nL 512.151375 210.462802 \nL 512.151375 210.35487 \nL 512.059148 210.063991 \nL 511.874694 210.054067 \nL 511.874694 209.99207 \nL 511.782467 209.994843 \nL 511.782467 209.932789 \nL 511.69024 209.951073 \nL 511.69024 209.842371 \nL 511.598014 209.751819 \nL 511.505787 209.770113 \nL 511.505787 209.661134 \nL 511.41356 209.132421 \nL 511.321333 209.150731 \nL 511.321333 209.040904 \nL 511.229106 208.492141 \nL 511.044652 208.497186 \nL 511.044652 208.418097 \nL 511.044652 208.259697 \nL 510.952425 208.26218 \nL 510.767971 208.251284 \nL 510.767971 208.187797 \nL 510.675744 207.568665 \nL 510.49129 207.573396 \nL 510.49129 207.493347 \nL 510.399063 206.820188 \nL 510.306836 206.838572 \nL 510.306836 206.725468 \nL 510.214609 206.045794 \nL 510.122382 206.064196 \nL 510.122382 205.966341 \nL 510.030155 205.624995 \nL 509.753474 205.581876 \nL 509.661247 205.485394 \nL 509.476793 205.456531 \nL 509.476793 205.423647 \nL 509.384566 204.698898 \nL 509.292339 204.717349 \nL 509.292339 204.617775 \nL 509.200112 204.486656 \nL 509.015658 204.473666 \nL 509.015658 204.423723 \nL 509.015658 203.75506 \nL 508.923431 203.756753 \nL 508.831204 203.775232 \nL 508.831204 203.674471 \nL 508.738977 203.221197 \nL 508.64675 203.239688 \nL 508.64675 203.138266 \nL 508.554523 202.579813 \nL 508.462296 202.598318 \nL 508.462296 202.496109 \nL 508.370069 202.001788 \nL 508.277842 202.020304 \nL 508.277842 201.91738 \nL 508.277842 201.573426 \nL 508.185615 201.59195 \nL 508.093388 201.610478 \nL 508.093388 201.507031 \nL 508.001161 201.110565 \nL 507.908934 201.129104 \nL 507.908934 201.02505 \nL 507.816707 200.329277 \nL 507.72448 200.347828 \nL 507.72448 200.242811 \nL 507.632253 199.663922 \nL 507.540026 199.682484 \nL 507.540026 199.576637 \nL 507.447799 199.170557 \nL 507.355572 199.189129 \nL 507.355572 199.082652 \nL 507.263345 198.191037 \nL 507.171118 198.209621 \nL 507.171118 198.101931 \nL 507.078891 197.634318 \nL 506.986664 197.652911 \nL 506.986664 197.544509 \nL 506.894437 197.291534 \nL 506.80221 197.310135 \nL 506.80221 197.201278 \nL 506.709983 196.252587 \nL 506.617756 196.271198 \nL 506.617756 196.161041 \nL 506.525529 195.626863 \nL 506.341075 195.590147 \nL 506.341075 195.553144 \nL 506.248848 194.903158 \nL 506.156621 194.921789 \nL 506.156621 194.809877 \nL 506.064394 194.679083 \nL 505.787713 194.622779 \nL 505.695486 194.134681 \nL 505.603259 194.153335 \nL 505.603259 194.040344 \nL 505.511032 193.775915 \nL 505.418805 193.794576 \nL 505.418805 193.700021 \nL 505.326578 193.510321 \nL 505.049897 193.509427 \nL 505.049897 193.471469 \nL 504.95767 193.281096 \nL 504.773216 193.242329 \nL 504.773216 193.223285 \nL 504.680989 193.16576 \nL 504.588762 193.184454 \nL 504.588762 193.089097 \nL 504.496535 191.994415 \nL 504.219855 191.973243 \nL 504.219855 191.953913 \nL 504.127628 191.546345 \nL 504.035401 191.565058 \nL 504.035401 191.467903 \nL 503.943174 191.155536 \nL 503.850947 191.174254 \nL 503.850947 191.076653 \nL 503.75872 190.212351 \nL 503.574266 190.170903 \nL 503.574266 190.151168 \nL 503.482039 189.714861 \nL 503.205358 189.751229 \nL 503.205358 189.67185 \nL 503.113131 189.15302 \nL 502.83645 189.109369 \nL 502.744223 189.068138 \nL 502.651996 189.086895 \nL 502.651996 188.986836 \nL 502.559769 188.52383 \nL 502.375315 188.500961 \nL 502.375315 188.460677 \nL 502.283088 188.318136 \nL 502.098634 188.295119 \nL 502.098634 188.254722 \nL 502.006407 187.50268 \nL 501.821953 187.479114 \nL 501.821953 187.438344 \nL 501.729726 186.966523 \nL 501.637499 186.985306 \nL 501.637499 186.882778 \nL 501.545272 186.572731 \nL 501.360818 186.548526 \nL 501.360818 186.507315 \nL 501.268591 185.988743 \nL 501.084137 186.026333 \nL 501.084137 185.922646 \nL 500.99191 185.858415 \nL 500.807456 185.792133 \nL 500.715229 185.727748 \nL 500.623002 185.746561 \nL 500.623002 185.642464 \nL 500.623002 185.496539 \nL 500.530775 185.515354 \nL 500.346321 185.469509 \nL 500.346321 185.448626 \nL 500.254094 185.195554 \nL 500.06964 185.170357 \nL 500.06964 185.12843 \nL 500.06964 185.065506 \nL 499.977413 185.08434 \nL 499.885186 185.103177 \nL 499.885186 184.99821 \nL 499.792959 184.405975 \nL 499.700732 184.424813 \nL 499.700732 184.319062 \nL 499.608505 183.91374 \nL 499.516278 183.93258 \nL 499.516278 183.826247 \nL 499.424051 183.632073 \nL 499.331824 183.650916 \nL 499.331824 183.544231 \nL 499.239597 183.178036 \nL 499.14737 183.196881 \nL 499.14737 183.089653 \nL 499.055143 182.721496 \nL 498.870689 182.737649 \nL 498.870689 182.651418 \nL 498.778462 182.086206 \nL 498.501781 182.121068 \nL 498.501781 182.03422 \nL 498.409554 181.683111 \nL 498.132873 181.696082 \nL 498.132873 181.630616 \nL 498.040646 181.343397 \nL 497.763965 181.290466 \nL 497.763965 180.630571 \nL 497.671738 180.649441 \nL 497.579511 180.668316 \nL 497.579511 180.5579 \nL 497.487284 179.733546 \nL 497.395057 179.752413 \nL 497.395057 179.640924 \nL 497.30283 179.503494 \nL 497.026149 179.493056 \nL 497.026149 179.448322 \nL 496.933922 179.153491 \nL 496.749469 179.078972 \nL 496.749469 179.034023 \nL 496.657242 179.052909 \nL 496.565015 179.0718 \nL 496.565015 178.959334 \nL 496.472788 178.34605 \nL 496.380561 178.364935 \nL 496.380561 178.251621 \nL 496.288334 177.7248 \nL 496.196107 177.743681 \nL 496.196107 177.652438 \nL 496.10388 177.557149 \nL 496.011653 177.576035 \nL 496.011653 177.484601 \nL 495.919426 175.959453 \nL 495.827199 175.978314 \nL 495.827199 175.885378 \nL 495.827199 175.162222 \nL 495.734972 175.181069 \nL 495.642745 175.199921 \nL 495.642745 175.106229 \nL 495.550518 174.937436 \nL 495.458291 174.95629 \nL 495.458291 174.862334 \nL 495.366064 174.669466 \nL 495.273837 174.688322 \nL 495.273837 174.594079 \nL 495.18161 174.18775 \nL 495.089383 174.206602 \nL 495.089383 174.111873 \nL 494.997156 173.631938 \nL 494.904929 173.650784 \nL 494.904929 173.555498 \nL 494.812702 172.904832 \nL 494.720475 172.923668 \nL 494.720475 172.827663 \nL 494.720475 172.611322 \nL 494.628248 172.630155 \nL 494.536021 172.648992 \nL 494.536021 172.552689 \nL 494.443794 172.233749 \nL 494.351567 172.252584 \nL 494.351567 172.155869 \nL 494.25934 171.519477 \nL 494.167113 171.538301 \nL 494.167113 171.440873 \nL 494.074886 171.240144 \nL 493.890432 171.180062 \nL 493.798205 171.052112 \nL 493.521524 171.010642 \nL 493.429297 170.464294 \nL 493.244843 170.452665 \nL 493.244843 170.403346 \nL 493.152616 170.249377 \nL 493.060389 170.268214 \nL 493.060389 170.169336 \nL 493.060389 169.872137 \nL 492.968162 169.890967 \nL 492.783708 169.87902 \nL 492.783708 169.829376 \nL 492.691481 169.748855 \nL 492.599254 169.767697 \nL 492.599254 169.668238 \nL 492.507027 168.611839 \nL 492.4148 168.630656 \nL 492.4148 168.530066 \nL 492.322573 168.322196 \nL 492.138119 168.359832 \nL 492.138119 168.258918 \nL 492.045892 168.126182 \nL 491.953665 168.145004 \nL 491.953665 168.043841 \nL 491.861438 167.631619 \nL 491.769211 167.650432 \nL 491.769211 167.54875 \nL 491.676984 167.389378 \nL 491.584757 167.408192 \nL 491.584757 167.306232 \nL 491.49253 167.146375 \nL 491.400303 167.165189 \nL 491.400303 167.062951 \nL 491.308076 166.928219 \nL 491.215849 166.947034 \nL 491.215849 166.844541 \nL 491.123622 166.065627 \nL 490.754714 166.089154 \nL 490.754714 166.037448 \nL 490.662487 165.277614 \nL 490.57026 165.296402 \nL 490.57026 165.192147 \nL 490.478033 164.923698 \nL 490.385806 164.942482 \nL 490.385806 164.837836 \nL 490.293579 164.515798 \nL 490.109125 164.474546 \nL 490.109125 164.448263 \nL 490.016898 164.230196 \nL 489.832444 164.241408 \nL 489.832444 164.162316 \nL 489.740217 164.128339 \nL 489.463536 164.105515 \nL 489.463536 164.079102 \nL 489.371309 163.32904 \nL 489.186856 163.366595 \nL 489.186856 163.260104 \nL 489.094629 163.092263 \nL 489.002402 163.111042 \nL 489.002402 163.004252 \nL 488.910175 162.406902 \nL 488.817948 162.425663 \nL 488.817948 162.318145 \nL 488.725721 161.959737 \nL 488.633494 161.978488 \nL 488.633494 161.870479 \nL 488.541267 161.510333 \nL 488.356813 161.493581 \nL 488.356813 161.439313 \nL 488.264586 161.240707 \nL 488.080132 161.250998 \nL 488.080132 161.169351 \nL 487.987905 161.024616 \nL 487.803451 160.95298 \nL 487.711224 160.807817 \nL 487.52677 160.790626 \nL 487.52677 160.7359 \nL 487.434543 160.453162 \nL 487.342316 160.471911 \nL 487.342316 160.362065 \nL 487.250089 159.77465 \nL 486.881181 159.76666 \nL 486.881181 159.739002 \nL 486.788954 159.619341 \nL 486.6045 159.656831 \nL 486.6045 159.545973 \nL 486.512273 159.370439 \nL 486.327819 159.380147 \nL 486.327819 159.29675 \nL 486.235592 159.064915 \nL 486.143365 159.083659 \nL 486.143365 158.972099 \nL 486.143365 158.804546 \nL 486.051138 158.823283 \nL 485.866684 158.804855 \nL 485.866684 158.748912 \nL 485.866684 158.72093 \nL 485.774457 158.739675 \nL 485.68223 158.758425 \nL 485.68223 158.646414 \nL 485.68223 158.45012 \nL 485.590003 158.468862 \nL 485.405549 158.478285 \nL 485.405549 158.39402 \nL 485.313322 158.046856 \nL 485.221095 158.065596 \nL 485.221095 157.952756 \nL 485.128868 156.97915 \nL 484.852187 156.978287 \nL 484.852187 156.949784 \nL 484.75996 156.71163 \nL 484.667733 156.730336 \nL 484.667733 156.644578 \nL 484.575506 156.548831 \nL 484.483279 156.567538 \nL 484.483279 156.481616 \nL 484.391052 156.356967 \nL 484.298825 156.375673 \nL 484.298825 156.289566 \nL 484.206598 155.44347 \nL 483.929917 155.470555 \nL 483.929917 155.412639 \nL 483.83769 154.617279 \nL 483.745463 154.635929 \nL 483.745463 154.548353 \nL 483.745463 154.05079 \nL 483.653236 154.069417 \nL 483.561009 154.088049 \nL 483.561009 154.000006 \nL 483.561009 153.911893 \nL 483.468782 153.930521 \nL 483.284328 153.909003 \nL 483.284328 153.879598 \nL 483.192101 153.485721 \nL 483.007647 153.493447 \nL 483.007647 153.434371 \nL 482.91542 153.305168 \nL 482.823193 153.323795 \nL 482.823193 153.234997 \nL 482.730966 153.046147 \nL 482.638739 153.06477 \nL 482.638739 152.975729 \nL 482.546512 152.786306 \nL 482.177604 152.771508 \nL 482.085377 152.222912 \nL 481.99315 152.241521 \nL 481.99315 152.151693 \nL 481.900923 151.900376 \nL 481.808697 151.918978 \nL 481.808697 151.828854 \nL 481.71647 151.305175 \nL 481.624243 151.323754 \nL 481.624243 151.233117 \nL 481.532016 151.100465 \nL 481.255335 151.065359 \nL 481.163108 150.354485 \nL 480.7942 150.367716 \nL 480.7942 150.337198 \nL 480.701973 149.835667 \nL 480.517519 149.842094 \nL 480.517519 149.780726 \nL 480.425292 149.399563 \nL 480.240838 149.436638 \nL 480.240838 149.344188 \nL 480.240838 149.313354 \nL 480.148611 149.331893 \nL 479.87193 149.294968 \nL 479.779703 148.880511 \nL 479.687476 148.899046 \nL 479.687476 148.80604 \nL 479.595249 148.638326 \nL 479.503022 148.656856 \nL 479.503022 148.563613 \nL 479.503022 148.470294 \nL 479.410795 148.488819 \nL 479.226341 148.525883 \nL 479.226341 148.432473 \nL 479.134114 147.544059 \nL 479.041887 147.562548 \nL 479.041887 147.468312 \nL 479.041887 147.216638 \nL 478.94966 147.235113 \nL 478.765206 147.209062 \nL 478.765206 147.177542 \nL 478.672979 147.006713 \nL 478.396298 146.967375 \nL 478.396298 146.745897 \nL 478.304071 146.764373 \nL 478.119617 146.801341 \nL 478.119617 146.706275 \nL 478.02739 146.502625 \nL 477.842936 146.444244 \nL 477.750709 146.335473 \nL 477.474028 146.295382 \nL 477.381801 145.898895 \nL 477.289574 145.917366 \nL 477.289574 145.821385 \nL 477.289574 145.565048 \nL 477.197347 145.583504 \nL 477.012893 145.524142 \nL 476.920666 145.381939 \nL 476.828439 145.4004 \nL 476.828439 145.303886 \nL 476.736212 145.000037 \nL 476.551758 144.972359 \nL 476.551758 144.940057 \nL 476.459531 144.505315 \nL 476.275077 144.444824 \nL 476.18285 144.105577 \nL 476.090623 144.123994 \nL 476.090623 144.026249 \nL 475.998396 143.750921 \nL 475.906169 143.769325 \nL 475.906169 143.67124 \nL 475.813942 143.06649 \nL 475.537261 143.08872 \nL 475.537261 143.022901 \nL 475.445034 142.909525 \nL 475.26058 142.847356 \nL 475.168353 142.270392 \nL 475.076126 142.288741 \nL 475.076126 142.189217 \nL 474.983899 142.107951 \nL 474.891672 142.126297 \nL 474.891672 142.026593 \nL 474.799445 141.878566 \nL 474.430537 141.851995 \nL 474.430537 141.818656 \nL 474.338311 141.837008 \nL 474.246084 141.855365 \nL 474.246084 141.755279 \nL 474.246084 141.721898 \nL 474.153857 141.740252 \nL 473.877176 141.728537 \nL 473.877176 141.695119 \nL 473.784949 141.479283 \nL 473.692722 141.497642 \nL 473.692722 141.39712 \nL 473.692722 141.06143 \nL 473.600495 141.079766 \nL 473.416041 141.082825 \nL 473.416041 141.01554 \nL 473.323814 140.966558 \nL 473.231587 140.984904 \nL 473.231587 140.883835 \nL 473.13936 140.666002 \nL 472.770452 140.637981 \nL 472.770452 140.604165 \nL 472.678225 140.622511 \nL 472.585998 140.640863 \nL 472.585998 140.539345 \nL 472.585998 140.43774 \nL 472.493771 140.456083 \nL 472.401544 140.474432 \nL 472.401544 140.372727 \nL 472.401544 140.338806 \nL 472.309317 140.357151 \nL 472.21709 140.375501 \nL 472.21709 140.273666 \nL 472.124863 139.474134 \nL 471.940409 139.510739 \nL 471.940409 139.408095 \nL 471.848182 139.220831 \nL 471.755955 139.239126 \nL 471.755955 139.136202 \nL 471.663728 138.810752 \nL 471.571501 138.829028 \nL 471.571501 138.725705 \nL 471.479274 138.191376 \nL 471.387047 138.209618 \nL 471.387047 138.105714 \nL 471.29482 137.637842 \nL 471.110366 137.569833 \nL 471.018139 137.134403 \nL 470.925912 137.152592 \nL 470.925912 137.047655 \nL 470.833685 136.610022 \nL 470.741458 136.628182 \nL 470.741458 136.522741 \nL 470.649231 136.470549 \nL 470.557004 136.488707 \nL 470.557004 136.383097 \nL 470.464777 135.90715 \nL 470.003642 135.927059 \nL 470.003642 135.891655 \nL 469.911415 135.519648 \nL 469.819188 135.537771 \nL 469.819188 135.43114 \nL 469.726961 135.271321 \nL 469.45028 135.218763 \nL 469.45028 134.861708 \nL 469.358053 134.879803 \nL 469.081372 134.826769 \nL 468.989145 134.270685 \nL 468.804691 134.306835 \nL 468.804691 134.198856 \nL 468.712464 134.144886 \nL 468.343556 134.14511 \nL 468.343556 134.10904 \nL 468.251329 133.620988 \nL 468.066875 133.548358 \nL 467.974648 133.275927 \nL 467.421286 133.275102 \nL 467.421286 132.98353 \nL 467.329059 133.001575 \nL 467.144605 132.928137 \nL 467.052378 132.873101 \nL 466.867925 132.836068 \nL 466.867925 132.79948 \nL 466.775698 132.340859 \nL 466.683471 132.358883 \nL 466.683471 132.248609 \nL 466.591244 132.00892 \nL 466.40679 131.93431 \nL 466.314563 130.989272 \nL 465.945655 131.023862 \nL 465.945655 130.949424 \nL 465.945655 130.874941 \nL 465.853428 130.892888 \nL 465.576747 130.834918 \nL 465.48452 130.591495 \nL 465.207839 130.645346 \nL 465.207839 130.533129 \nL 465.115612 130.026012 \nL 464.746704 130.022495 \nL 464.746704 129.98487 \nL 464.746704 129.796574 \nL 464.654477 129.814488 \nL 464.470023 129.774917 \nL 464.470023 129.737191 \nL 464.377796 129.415041 \nL 464.193342 129.375136 \nL 464.101115 129.165614 \nL 463.916661 129.163453 \nL 463.916661 129.12549 \nL 463.824434 128.725001 \nL 463.732207 128.742869 \nL 463.732207 128.666642 \nL 463.732207 128.514047 \nL 463.63998 128.531902 \nL 463.547753 128.549763 \nL 463.547753 128.473383 \nL 463.455526 128.300073 \nL 462.809937 128.348543 \nL 462.71771 128.289777 \nL 462.625483 128.307658 \nL 462.625483 128.230958 \nL 462.533256 127.979994 \nL 462.441029 127.997857 \nL 462.441029 127.920932 \nL 462.348802 127.592016 \nL 461.979894 127.624805 \nL 461.979894 127.58619 \nL 461.979894 127.238118 \nL 461.887667 127.255944 \nL 461.703213 127.252869 \nL 461.703213 127.214113 \nL 461.610986 127.076793 \nL 461.334305 127.052627 \nL 461.334305 126.546599 \nL 461.242078 126.564396 \nL 460.87317 126.596611 \nL 460.87317 126.557573 \nL 460.780943 126.027533 \nL 460.688716 126.04531 \nL 460.688716 125.966843 \nL 460.596489 125.236677 \nL 460.319808 125.289845 \nL 460.319808 125.210836 \nL 460.227581 124.753427 \nL 459.581992 124.797971 \nL 459.489765 124.696474 \nL 459.397539 124.714193 \nL 459.397539 124.634643 \nL 459.305312 124.532932 \nL 459.120858 124.52852 \nL 459.120858 124.488667 \nL 459.120858 124.408921 \nL 459.028631 124.42663 \nL 458.75195 124.439887 \nL 458.75195 124.399969 \nL 458.659723 124.057833 \nL 458.383042 124.070888 \nL 458.383042 124.030818 \nL 458.290815 123.204038 \nL 458.014134 123.256973 \nL 458.014134 123.176231 \nL 457.921907 122.261574 \nL 457.82968 122.279145 \nL 457.82968 122.197745 \nL 457.737453 122.052345 \nL 457.552999 122.046688 \nL 457.552999 122.005893 \nL 457.460772 121.900982 \nL 457.184091 121.912811 \nL 457.184091 121.871935 \nL 457.091864 121.521005 \nL 456.722956 121.550172 \nL 456.722956 121.509134 \nL 456.630729 121.280164 \nL 456.354048 121.291648 \nL 456.354048 121.25049 \nL 456.261821 120.938267 \nL 456.169594 120.955789 \nL 456.169594 120.873206 \nL 456.169594 120.831895 \nL 456.077367 120.849411 \nL 455.800686 120.860653 \nL 455.800686 120.8193 \nL 455.800686 120.736554 \nL 455.708459 120.754078 \nL 455.524005 120.789141 \nL 455.524005 120.706319 \nL 455.431778 120.350457 \nL 455.339551 120.36796 \nL 455.339551 120.284828 \nL 455.339551 120.076765 \nL 455.247324 120.094246 \nL 455.06287 120.045884 \nL 454.970643 119.896512 \nL 454.878416 119.913993 \nL 454.878416 119.830473 \nL 454.878416 119.705091 \nL 454.786189 119.722558 \nL 454.601735 119.673829 \nL 454.509508 119.146015 \nL 454.232827 119.156269 \nL 454.232827 119.114203 \nL 454.1406 118.836766 \nL 453.771692 118.864271 \nL 453.771692 118.822061 \nL 453.679465 118.416597 \nL 453.587238 118.433993 \nL 453.587238 118.34924 \nL 453.587238 118.306843 \nL 453.495011 118.324233 \nL 453.402784 118.341629 \nL 453.402784 118.256776 \nL 453.310557 117.934173 \nL 453.126103 117.883756 \nL 453.126103 117.755919 \nL 453.033876 117.773276 \nL 452.941649 117.790638 \nL 452.941649 117.705327 \nL 452.849422 117.380851 \nL 452.757195 117.398183 \nL 452.757195 117.312575 \nL 452.664968 117.244232 \nL 452.480514 117.193146 \nL 452.388287 116.866897 \nL 452.203833 116.815452 \nL 452.203833 116.686266 \nL 452.111606 116.703558 \nL 451.742699 116.686545 \nL 451.650472 116.487992 \nL 451.466018 116.522591 \nL 451.466018 116.436128 \nL 451.373791 116.366899 \nL 451.281564 116.384195 \nL 451.281564 116.2976 \nL 451.189337 115.967908 \nL 451.004883 115.958996 \nL 451.004883 115.915535 \nL 451.004883 115.87206 \nL 450.912656 115.889323 \nL 450.820429 115.906592 \nL 450.820429 115.81958 \nL 450.728202 115.575439 \nL 450.635975 115.592684 \nL 450.635975 115.505423 \nL 450.543748 115.435338 \nL 450.267067 115.443375 \nL 450.267067 115.399662 \nL 450.17484 114.978932 \nL 450.082613 114.996142 \nL 450.082613 114.908362 \nL 449.990386 114.617847 \nL 449.805932 114.564143 \nL 449.713705 114.449096 \nL 449.621478 114.466271 \nL 449.621478 114.378035 \nL 449.621478 114.333895 \nL 449.529251 114.351062 \nL 449.344797 114.341246 \nL 449.344797 114.297063 \nL 449.25257 114.137339 \nL 449.160343 114.154503 \nL 449.160343 114.065955 \nL 449.160343 113.75557 \nL 449.068116 113.772698 \nL 448.975889 113.789832 \nL 448.975889 113.700998 \nL 448.883662 113.584752 \nL 448.699208 113.529991 \nL 448.606981 112.832793 \nL 448.3303 112.794388 \nL 448.238073 112.58719 \nL 447.961392 112.548506 \nL 447.869165 112.340671 \nL 447.684711 112.329717 \nL 447.684711 112.284668 \nL 447.592484 112.166456 \nL 447.223576 112.144328 \nL 447.131349 111.89013 \nL 447.039122 111.90715 \nL 447.039122 111.816604 \nL 446.946895 111.697671 \nL 446.670214 111.657973 \nL 446.670214 111.567172 \nL 446.577987 111.584178 \nL 446.209079 111.561348 \nL 446.116852 111.25966 \nL 446.024625 111.276657 \nL 446.024625 111.185447 \nL 446.024625 111.139818 \nL 445.932398 111.156806 \nL 445.747944 111.1908 \nL 445.747944 111.099466 \nL 445.655717 110.933587 \nL 445.379036 110.89299 \nL 445.286809 110.63489 \nL 445.194582 110.651856 \nL 445.194582 110.560024 \nL 445.194582 110.330167 \nL 445.102355 110.347104 \nL 444.825674 110.35191 \nL 444.825674 110.305855 \nL 444.733447 110.138408 \nL 444.456767 110.096909 \nL 444.456767 110.050723 \nL 444.36454 110.067662 \nL 444.272313 110.084605 \nL 444.272313 109.992166 \nL 444.272313 109.945922 \nL 444.180086 109.962857 \nL 443.903405 109.967416 \nL 443.903405 109.92112 \nL 443.903405 109.874808 \nL 443.811178 109.891751 \nL 443.534497 109.849902 \nL 443.44227 109.588306 \nL 443.257816 109.622175 \nL 443.257816 109.529175 \nL 443.165589 109.359894 \nL 442.981135 109.300512 \nL 442.888908 109.224133 \nL 442.796681 109.241048 \nL 442.796681 109.147674 \nL 442.704454 108.743549 \nL 442.612227 108.760419 \nL 442.612227 108.666666 \nL 442.52 108.40185 \nL 442.427773 108.41869 \nL 442.427773 108.324654 \nL 442.335546 108.200297 \nL 442.243319 108.217123 \nL 442.243319 108.122902 \nL 442.243319 108.075767 \nL 442.151092 108.092582 \nL 441.966638 108.031879 \nL 441.966638 107.984678 \nL 441.874411 108.001495 \nL 441.689957 107.987914 \nL 441.689957 107.940664 \nL 441.59773 107.720967 \nL 441.413276 107.707215 \nL 441.413276 107.659833 \nL 441.321049 107.486925 \nL 441.136595 107.473027 \nL 441.136595 107.42553 \nL 441.136595 107.378017 \nL 441.044368 107.394801 \nL 440.583233 107.383667 \nL 440.491006 107.1623 \nL 440.214325 107.117259 \nL 440.122098 106.799514 \nL 439.845417 106.75405 \nL 439.75319 106.483077 \nL 439.384282 106.502041 \nL 439.384282 106.453986 \nL 439.384282 106.357824 \nL 439.292055 106.374567 \nL 439.107601 106.408071 \nL 439.107601 106.311808 \nL 439.015374 106.184018 \nL 438.738693 106.137775 \nL 438.646466 105.719468 \nL 438.462012 105.752876 \nL 438.462012 105.655986 \nL 438.369785 105.575717 \nL 438.093104 105.577296 \nL 438.093104 105.528751 \nL 438.093104 105.285765 \nL 438.000877 105.302439 \nL 437.90865 105.31912 \nL 437.90865 105.221781 \nL 437.816423 105.043547 \nL 437.539742 105.044751 \nL 437.539742 104.995946 \nL 437.539742 104.947123 \nL 437.447515 104.963782 \nL 436.986381 104.949397 \nL 436.894154 104.574265 \nL 436.801927 104.590908 \nL 436.801927 104.492767 \nL 436.7097 104.362042 \nL 436.617473 104.378668 \nL 436.617473 104.280327 \nL 436.525246 103.557045 \nL 436.064111 103.540776 \nL 436.064111 103.491241 \nL 435.971884 103.507791 \nL 435.695203 103.507898 \nL 435.695203 103.458304 \nL 435.695203 103.309415 \nL 435.602976 103.325958 \nL 435.418522 103.309379 \nL 435.418522 103.259677 \nL 435.418522 103.209958 \nL 435.326295 103.226501 \nL 435.234068 103.24305 \nL 435.234068 103.143533 \nL 435.141841 102.910938 \nL 434.772933 102.87722 \nL 434.680706 102.643827 \nL 434.404025 102.593232 \nL 434.404025 102.543138 \nL 434.311798 102.559644 \nL 433.850663 102.54195 \nL 433.850663 102.441561 \nL 433.758436 102.458079 \nL 433.481755 102.457422 \nL 433.481755 102.407157 \nL 433.389528 102.32309 \nL 433.297301 102.339613 \nL 433.297301 102.238931 \nL 433.205074 102.104268 \nL 432.928393 102.103351 \nL 432.928393 102.052883 \nL 432.836166 101.867315 \nL 432.743939 101.883806 \nL 432.743939 101.782644 \nL 432.651712 101.342922 \nL 432.375031 101.392243 \nL 432.375031 101.290621 \nL 432.375031 101.239782 \nL 432.282804 101.256216 \nL 432.006123 101.25467 \nL 432.006123 101.203768 \nL 431.913896 100.863333 \nL 431.544988 100.877913 \nL 431.544988 100.82681 \nL 431.544988 100.67339 \nL 431.452761 100.689789 \nL 430.899399 100.737087 \nL 430.899399 100.685845 \nL 430.807172 100.548416 \nL 430.346037 100.527821 \nL 430.25381 100.235564 \nL 430.069356 100.216841 \nL 430.069356 100.165294 \nL 429.977129 99.923637 \nL 429.792675 99.956388 \nL 429.792675 99.853005 \nL 429.700448 99.662354 \nL 429.239314 99.692334 \nL 429.239314 99.640478 \nL 429.147087 99.553063 \nL 428.870406 99.602165 \nL 428.870406 99.498264 \nL 428.778179 99.046058 \nL 428.409271 99.059156 \nL 428.409271 99.006949 \nL 428.409271 98.588587 \nL 428.317044 98.604856 \nL 428.13259 98.585009 \nL 428.13259 98.532586 \nL 428.13259 98.42768 \nL 428.040363 98.443941 \nL 427.948136 98.460207 \nL 427.948136 98.355195 \nL 427.855909 98.26635 \nL 427.671455 98.193649 \nL 427.671455 98.141014 \nL 427.579228 98.157257 \nL 427.487001 98.173507 \nL 427.487001 98.06815 \nL 427.394774 97.873413 \nL 427.118093 97.869277 \nL 427.118093 97.816442 \nL 427.025866 97.674022 \nL 426.472504 97.771376 \nL 426.472504 97.665429 \nL 426.380277 97.150657 \nL 426.28805 97.166826 \nL 426.28805 97.06037 \nL 426.195823 96.64984 \nL 425.826915 96.714323 \nL 425.826915 96.607391 \nL 425.734688 96.462941 \nL 425.642461 96.479047 \nL 425.642461 96.371884 \nL 425.642461 96.318271 \nL 425.550234 96.334362 \nL 424.996872 96.323652 \nL 424.996872 96.054827 \nL 424.904645 96.070911 \nL 424.627964 96.011469 \nL 424.627964 95.79576 \nL 424.535737 95.811825 \nL 424.44351 95.827896 \nL 424.44351 95.719889 \nL 424.351283 95.465535 \nL 424.259056 95.481568 \nL 424.259056 95.373241 \nL 424.166829 94.791903 \nL 423.982375 94.823808 \nL 423.982375 94.714896 \nL 423.890148 94.239632 \nL 423.797921 94.255519 \nL 423.797921 94.146115 \nL 423.705694 93.77836 \nL 423.613467 93.794191 \nL 423.613467 93.684376 \nL 423.52124 93.425252 \nL 423.336786 93.456839 \nL 423.336786 93.346681 \nL 423.244559 93.086663 \nL 422.875651 93.14972 \nL 422.875651 93.039187 \nL 422.875651 92.873226 \nL 422.783424 92.888967 \nL 422.230062 92.872687 \nL 422.137836 92.777499 \nL 421.768928 92.729467 \nL 421.676701 92.634028 \nL 421.492247 92.665552 \nL 421.492247 92.554227 \nL 421.492247 92.275534 \nL 421.40002 92.291251 \nL 421.123339 92.226745 \nL 421.031112 91.962818 \nL 420.846658 91.994209 \nL 420.846658 91.882164 \nL 420.846658 91.826108 \nL 420.754431 91.841789 \nL 420.662204 91.857476 \nL 420.662204 91.745267 \nL 420.662204 91.689129 \nL 420.569977 91.704799 \nL 420.385523 91.623767 \nL 420.385523 91.51129 \nL 420.293296 91.526946 \nL 420.108842 91.558277 \nL 420.108842 91.445664 \nL 420.016615 91.122903 \nL 419.739934 91.113266 \nL 419.647707 90.675986 \nL 419.186572 90.697135 \nL 419.094345 90.371679 \nL 418.817664 90.361398 \nL 418.725437 90.091854 \nL 418.63321 90.107378 \nL 418.63321 90.050282 \nL 418.540983 89.894353 \nL 418.448756 89.909856 \nL 418.448756 89.852652 \nL 418.356529 89.581753 \nL 418.172075 89.61269 \nL 418.172075 89.555325 \nL 418.079848 89.398537 \nL 417.434259 89.449298 \nL 417.434259 89.334182 \nL 417.342032 89.349651 \nL 417.157578 89.380606 \nL 417.157578 89.322989 \nL 417.157578 89.265349 \nL 417.065351 89.280819 \nL 416.78867 89.26957 \nL 416.696443 89.054004 \nL 416.604216 89.069462 \nL 416.604216 89.011633 \nL 416.511989 88.911344 \nL 416.419762 88.92679 \nL 416.419762 88.868874 \nL 416.327535 88.768399 \nL 416.143081 88.799271 \nL 416.143081 88.74126 \nL 416.143081 88.683225 \nL 416.050854 88.698653 \nL 415.313038 88.764166 \nL 415.220811 88.663284 \nL 414.759676 88.682412 \nL 414.66745 87.996883 \nL 414.575223 88.012272 \nL 414.575223 87.953692 \nL 414.575223 87.719135 \nL 414.482996 87.734487 \nL 414.206315 87.780579 \nL 414.206315 87.721846 \nL 414.206315 87.545502 \nL 414.114088 87.560844 \nL 414.021861 87.576191 \nL 414.021861 87.517345 \nL 414.021861 87.340663 \nL 413.929634 87.355982 \nL 413.74518 87.386638 \nL 413.74518 87.327669 \nL 413.652953 87.10685 \nL 413.191818 87.124266 \nL 413.191818 86.946697 \nL 413.099591 86.961992 \nL 413.007364 86.977292 \nL 413.007364 86.918037 \nL 412.915137 86.755397 \nL 412.085094 86.833675 \nL 411.992867 86.610952 \nL 411.90064 86.626247 \nL 411.90064 86.566665 \nL 411.808413 86.403039 \nL 411.716186 86.41831 \nL 411.716186 86.358612 \nL 411.716186 86.298891 \nL 411.623959 86.31415 \nL 411.439505 86.284913 \nL 411.439505 86.225115 \nL 411.347278 86.240374 \nL 411.070597 86.226331 \nL 411.070597 86.166447 \nL 410.97837 86.181713 \nL 410.793916 86.152329 \nL 410.793916 86.092368 \nL 410.701689 86.107635 \nL 410.332781 86.168764 \nL 410.332781 86.108734 \nL 410.332781 85.687825 \nL 410.240554 85.703049 \nL 410.0561 85.67326 \nL 409.963873 85.386791 \nL 409.594965 85.38715 \nL 409.594965 85.205642 \nL 409.502738 85.220824 \nL 409.410511 85.236011 \nL 409.410511 85.17544 \nL 409.318284 85.069387 \nL 408.857149 85.084606 \nL 408.764922 84.613193 \nL 408.672695 84.628317 \nL 408.672695 84.567368 \nL 408.672695 84.506394 \nL 408.580468 84.521505 \nL 408.303787 84.50584 \nL 408.21156 84.092923 \nL 407.473744 84.213631 \nL 407.473744 84.152303 \nL 407.381517 83.921803 \nL 406.920383 83.935725 \nL 406.828156 83.704468 \nL 406.735929 83.719532 \nL 406.735929 83.657869 \nL 406.735929 83.410959 \nL 406.643702 83.425981 \nL 406.367021 83.471083 \nL 406.367021 83.409251 \nL 406.367021 83.347394 \nL 406.274794 83.362421 \nL 406.182567 83.377454 \nL 406.182567 83.315551 \nL 406.09034 83.144687 \nL 405.998113 83.159693 \nL 405.998113 83.097666 \nL 405.998113 82.911429 \nL 405.905886 82.926403 \nL 405.813659 82.941382 \nL 405.813659 82.879231 \nL 405.813659 82.817054 \nL 405.721432 82.83202 \nL 405.629205 82.846992 \nL 405.629205 82.784768 \nL 405.629205 82.722519 \nL 405.536978 82.737477 \nL 405.444751 82.752442 \nL 405.444751 82.690146 \nL 405.444751 82.503101 \nL 405.352524 82.518033 \nL 405.16807 82.547914 \nL 405.16807 82.485483 \nL 405.075843 82.312941 \nL 404.799162 82.295132 \nL 404.706935 82.122137 \nL 404.614708 82.137038 \nL 404.614708 82.074335 \nL 404.522481 81.963725 \nL 404.430254 81.978609 \nL 404.430254 81.915806 \nL 404.430254 81.852976 \nL 404.338027 81.867845 \nL 403.876892 81.879368 \nL 403.876892 81.816424 \nL 403.784665 81.831311 \nL 403.32353 81.842807 \nL 403.32353 81.779748 \nL 403.231303 81.794652 \nL 403.046849 81.82448 \nL 403.046849 81.761363 \nL 403.046849 81.635048 \nL 402.954622 81.649941 \nL 402.862395 81.66484 \nL 402.862395 81.601621 \nL 402.770168 81.363331 \nL 402.585714 81.393058 \nL 402.585714 81.329673 \nL 402.585714 81.075865 \nL 402.493487 81.090685 \nL 402.032352 81.164884 \nL 402.032352 81.101302 \nL 401.940125 80.925208 \nL 401.571217 80.920796 \nL 401.47899 80.808043 \nL 401.202309 80.852533 \nL 401.202309 80.788665 \nL 401.110082 80.483691 \nL 400.648947 80.493588 \nL 400.648947 80.172689 \nL 400.55672 80.187443 \nL 400.187812 80.182206 \nL 400.187812 80.117862 \nL 400.095585 80.132626 \nL 398.896635 80.260622 \nL 398.804408 80.017054 \nL 398.619954 80.046674 \nL 398.619954 79.981979 \nL 398.619954 79.917257 \nL 398.527727 79.932054 \nL 397.882138 79.970981 \nL 397.789911 79.726143 \nL 396.959868 79.794498 \nL 396.867641 79.483423 \nL 396.406506 79.492162 \nL 396.406506 79.361426 \nL 396.314279 79.376225 \nL 396.129825 79.405843 \nL 396.129825 79.340399 \nL 396.129825 79.274926 \nL 396.037598 79.289722 \nL 395.66869 79.348973 \nL 395.66869 79.283415 \nL 395.66869 79.217829 \nL 395.576463 79.232636 \nL 395.207555 79.226257 \nL 395.115328 78.780502 \nL 395.023101 78.795258 \nL 395.023101 78.729333 \nL 394.930874 78.612126 \nL 394.74642 78.575556 \nL 394.74642 78.443378 \nL 394.654193 78.458092 \nL 394.469739 78.487539 \nL 394.469739 78.421372 \nL 394.469739 78.28895 \nL 394.377512 78.303649 \nL 394.193058 78.333068 \nL 394.193058 78.266779 \nL 394.193058 78.20046 \nL 394.100831 78.215156 \nL 393.916377 78.178186 \nL 393.916377 77.978863 \nL 393.82415 77.993533 \nL 393.547469 78.037582 \nL 393.547469 77.971036 \nL 393.455242 77.852517 \nL 392.994107 77.859218 \nL 392.994107 77.792485 \nL 392.90188 77.807162 \nL 392.348518 77.828519 \nL 392.348518 77.761645 \nL 392.256292 77.776345 \nL 391.887384 77.768249 \nL 391.887384 77.634235 \nL 391.795157 77.648933 \nL 391.426249 77.70779 \nL 391.426249 77.64068 \nL 391.334022 77.31934 \nL 391.057341 77.296022 \nL 391.057341 76.823816 \nL 390.965114 76.838408 \nL 390.872887 76.853006 \nL 390.872887 76.785403 \nL 390.872887 76.650106 \nL 390.78066 76.664675 \nL 390.411752 76.655264 \nL 390.411752 76.519665 \nL 390.319525 76.534231 \nL 389.85839 76.539243 \nL 389.85839 76.471295 \nL 389.766163 76.485876 \nL 389.489482 76.461634 \nL 389.489482 76.393576 \nL 389.397255 76.40816 \nL 388.93612 76.413016 \nL 388.93612 76.344825 \nL 388.843893 76.359424 \nL 387.829396 76.452082 \nL 387.829396 76.383683 \nL 387.737169 76.398337 \nL 387.368261 76.388529 \nL 387.368261 76.320007 \nL 387.276034 76.33467 \nL 387.09158 76.364016 \nL 387.09158 76.295426 \nL 387.09158 76.020755 \nL 386.999353 76.035376 \nL 386.630445 76.025122 \nL 386.538218 75.695194 \nL 385.984856 75.713735 \nL 385.892629 75.590064 \nL 385.708175 75.550049 \nL 385.615948 75.426095 \nL 385.431494 75.45526 \nL 385.431494 75.385912 \nL 385.339267 75.19222 \nL 384.878132 75.19548 \nL 384.785906 75.001168 \nL 384.601452 75.030251 \nL 384.601452 74.960534 \nL 384.509225 74.625944 \nL 384.416998 74.640426 \nL 384.416998 74.570491 \nL 384.324771 74.37493 \nL 384.04809 74.348167 \nL 384.04809 74.06738 \nL 383.955863 74.08178 \nL 383.679182 74.054691 \nL 383.679182 73.984329 \nL 383.586955 73.998729 \nL 383.402501 73.957117 \nL 383.310274 73.689413 \nL 382.756912 73.704998 \nL 382.756912 73.492737 \nL 382.664685 73.507087 \nL 382.572458 73.521443 \nL 382.572458 73.450597 \nL 382.572458 73.379718 \nL 382.480231 73.394056 \nL 382.20355 73.366142 \nL 382.20355 73.224114 \nL 382.111323 73.238438 \nL 381.926869 73.267106 \nL 381.926869 73.196003 \nL 381.926869 72.982493 \nL 381.834642 72.996784 \nL 381.28128 73.011342 \nL 381.189053 72.882881 \nL 380.820145 72.94014 \nL 380.820145 72.868643 \nL 380.820145 72.797113 \nL 380.727918 72.811418 \nL 380.35901 72.797073 \nL 380.35901 72.65371 \nL 380.266783 72.668008 \nL 379.990102 72.639157 \nL 379.990102 72.567337 \nL 379.897875 72.581635 \nL 379.252286 72.609946 \nL 379.160059 72.480232 \nL 379.067832 72.494549 \nL 379.067832 72.422459 \nL 378.975605 72.003428 \nL 378.606697 71.988012 \nL 378.51447 71.421731 \nL 377.499973 71.50482 \nL 377.499973 71.431911 \nL 377.407746 71.446102 \nL 377.223293 71.474504 \nL 377.223293 71.401518 \nL 377.223293 71.328498 \nL 377.131066 71.342682 \nL 376.669931 71.34056 \nL 376.669931 71.267386 \nL 376.577704 71.281582 \nL 376.024342 71.293591 \nL 375.932115 71.161071 \nL 375.286526 71.260667 \nL 375.286526 71.187141 \nL 375.194299 71.054196 \nL 375.009845 71.082641 \nL 375.009845 71.008967 \nL 375.009845 70.861511 \nL 374.917618 70.875701 \nL 374.825391 70.889898 \nL 374.825391 70.816089 \nL 374.733164 70.608594 \nL 374.272029 70.60539 \nL 374.179802 70.471352 \nL 373.62644 70.482113 \nL 373.62644 70.333513 \nL 373.534213 70.347662 \nL 372.980851 70.35824 \nL 372.888624 70.223372 \nL 372.243035 70.247951 \nL 372.243035 70.173234 \nL 372.150808 70.187412 \nL 371.966354 70.215789 \nL 371.966354 70.140991 \nL 371.966354 70.066157 \nL 371.874127 70.080326 \nL 371.7819 70.094502 \nL 371.7819 70.019602 \nL 371.7819 69.944666 \nL 371.689673 69.958819 \nL 371.505219 69.987147 \nL 371.505219 69.91213 \nL 371.412992 69.700973 \nL 370.85963 69.710539 \nL 370.767403 69.574011 \nL 369.752907 69.654212 \nL 369.752907 69.427315 \nL 369.66068 69.441456 \nL 369.383999 69.408154 \nL 369.383999 69.33235 \nL 369.291772 69.346489 \nL 369.107318 69.2989 \nL 369.107318 69.147014 \nL 369.015091 69.161128 \nL 367.908367 69.254843 \nL 367.908367 69.102336 \nL 367.81614 69.116495 \nL 367.447232 69.096813 \nL 367.355005 68.958073 \nL 367.170551 68.986389 \nL 367.170551 68.909842 \nL 367.078324 68.617367 \nL 366.986097 68.631465 \nL 366.986097 68.554697 \nL 366.89387 68.338208 \nL 366.617189 68.303396 \nL 366.617189 68.226375 \nL 366.524962 68.240415 \nL 366.340508 68.268515 \nL 366.340508 68.191409 \nL 366.248281 68.051094 \nL 365.9716 68.093177 \nL 365.9716 68.015892 \nL 365.879373 67.72033 \nL 365.602692 67.684718 \nL 365.602692 67.607138 \nL 365.510465 67.621097 \nL 364.957103 67.627265 \nL 364.957103 67.471688 \nL 364.864876 67.485647 \nL 364.219287 67.505585 \nL 364.12706 67.285376 \nL 363.942606 67.235119 \nL 363.942606 67.156899 \nL 363.850379 67.170839 \nL 363.481471 67.148329 \nL 363.481471 67.06995 \nL 363.389244 67.083892 \nL 362.835882 67.089164 \nL 362.835882 67.010591 \nL 362.743655 67.02455 \nL 362.559201 66.973829 \nL 362.559201 66.816386 \nL 362.466974 66.830318 \nL 361.821386 66.849123 \nL 361.729159 66.705117 \nL 361.268024 66.695784 \nL 361.268024 66.616612 \nL 361.175797 66.63056 \nL 360.899116 66.672447 \nL 360.899116 66.593168 \nL 360.806889 66.448416 \nL 360.437981 66.424709 \nL 360.437981 66.345185 \nL 360.345754 66.359114 \nL 360.253527 66.373049 \nL 360.253527 66.293451 \nL 360.253527 66.213812 \nL 360.1613 66.227722 \nL 359.976846 66.255561 \nL 359.976846 66.175831 \nL 359.976846 66.096061 \nL 359.884619 66.109958 \nL 359.607938 66.071812 \nL 359.607938 65.911931 \nL 359.515711 65.925806 \nL 359.423484 65.939688 \nL 359.423484 65.859652 \nL 359.423484 65.779575 \nL 359.331257 65.79343 \nL 358.870122 65.782592 \nL 358.870122 65.702331 \nL 358.777895 65.716194 \nL 358.501214 65.677457 \nL 358.501214 65.597045 \nL 358.408987 65.610903 \nL 357.763398 65.627517 \nL 357.763398 65.385495 \nL 357.671171 65.399341 \nL 356.287766 65.526861 \nL 356.287766 65.364666 \nL 356.195539 65.378575 \nL 356.011085 65.325201 \nL 356.011085 65.243946 \nL 355.918858 65.257841 \nL 355.642177 65.218204 \nL 355.642177 64.973846 \nL 355.54995 64.987701 \nL 355.273269 64.947699 \nL 355.273269 64.866049 \nL 355.181042 64.879897 \nL 354.904362 64.83972 \nL 354.812135 64.689888 \nL 354.443227 64.745255 \nL 354.443227 64.663274 \nL 354.443227 64.499183 \nL 354.351 64.512989 \nL 354.258773 64.526803 \nL 354.258773 64.444657 \nL 354.258773 64.362468 \nL 354.166546 64.376253 \nL 353.889865 64.417652 \nL 353.889865 64.335348 \nL 353.889865 64.253001 \nL 353.797638 64.266779 \nL 353.705411 64.280564 \nL 353.705411 64.198138 \nL 353.613184 64.046894 \nL 353.336503 64.088152 \nL 353.336503 64.005524 \nL 353.336503 63.922852 \nL 353.244276 63.936583 \nL 351.491963 64.115771 \nL 351.491963 64.032646 \nL 351.399736 64.046486 \nL 350.569693 64.088025 \nL 350.569693 63.670599 \nL 350.477466 63.684402 \nL 349.73965 63.711301 \nL 349.73965 63.459676 \nL 349.647423 63.47347 \nL 349.094061 63.472294 \nL 349.094061 63.388153 \nL 349.001834 63.401962 \nL 348.909607 63.415777 \nL 348.909607 63.331554 \nL 348.909607 63.162971 \nL 348.81738 63.176738 \nL 347.89511 63.230242 \nL 347.89511 63.145629 \nL 347.802883 63.159439 \nL 347.249522 63.157662 \nL 347.249522 62.903013 \nL 347.157295 62.916798 \nL 346.603933 62.914558 \nL 346.603933 62.829403 \nL 346.511706 62.843202 \nL 345.77389 62.953863 \nL 345.77389 62.868488 \nL 345.77389 62.697599 \nL 345.681663 62.711407 \nL 345.404982 62.667285 \nL 345.404982 62.581647 \nL 345.312755 62.595446 \nL 344.943847 62.650718 \nL 344.943847 62.564935 \nL 344.85162 62.321066 \nL 344.667166 62.348605 \nL 344.667166 62.262577 \nL 344.574939 62.017912 \nL 344.482712 62.031621 \nL 344.482712 61.945365 \nL 344.482712 61.859062 \nL 344.390485 61.87274 \nL 343.283761 62.037452 \nL 343.283761 61.950843 \nL 343.283761 61.864187 \nL 343.191534 61.877922 \nL 342.822626 61.932937 \nL 342.822626 61.846134 \nL 342.822626 61.585436 \nL 342.730399 61.599128 \nL 342.177037 61.594305 \nL 342.177037 61.419889 \nL 342.08481 61.433573 \nL 341.900356 61.373624 \nL 341.900356 61.286235 \nL 341.808129 61.299901 \nL 341.16254 61.308178 \nL 341.16254 61.132831 \nL 341.070313 61.146497 \nL 340.885859 61.173851 \nL 340.885859 61.086043 \nL 340.793632 60.923909 \nL 339.871363 60.972411 \nL 339.871363 60.884181 \nL 339.779136 60.897849 \nL 339.502455 60.850539 \nL 339.502455 60.673667 \nL 339.410228 60.687303 \nL 337.565688 60.872691 \nL 337.473461 60.530082 \nL 336.735645 60.550504 \nL 336.735645 60.37157 \nL 336.643418 60.385267 \nL 335.721148 60.43289 \nL 335.628921 60.086942 \nL 335.35224 60.037895 \nL 335.35224 59.947725 \nL 335.260013 59.961387 \nL 334.798878 59.939466 \nL 334.798878 59.849062 \nL 334.706651 59.862728 \nL 334.153289 59.944887 \nL 334.153289 59.854279 \nL 334.153289 59.76362 \nL 334.061062 59.777296 \nL 333.784381 59.727574 \nL 333.784381 59.54582 \nL 333.692154 59.559462 \nL 333.323246 59.523042 \nL 333.323246 59.340756 \nL 333.231019 59.35437 \nL 332.954338 59.303949 \nL 332.954338 59.029705 \nL 332.862111 59.043261 \nL 332.30875 59.033085 \nL 332.30875 58.941356 \nL 332.216523 58.954922 \nL 331.755388 58.930952 \nL 331.755388 58.654883 \nL 331.663161 58.668405 \nL 331.38648 58.709019 \nL 331.38648 58.616799 \nL 331.294253 58.260826 \nL 331.017572 58.208614 \nL 330.925345 57.758251 \nL 330.46421 57.731993 \nL 330.371983 57.559062 \nL 329.726394 57.559062 \nL 329.726394 57.46562 \nL 329.634167 57.478946 \nL 328.988578 57.478759 \nL 328.988578 57.38502 \nL 328.896351 57.398361 \nL 328.158535 57.50537 \nL 328.158535 57.411364 \nL 328.066308 57.236527 \nL 326.959584 57.302744 \nL 326.959584 57.113616 \nL 326.867357 57.126987 \nL 325.576179 57.220004 \nL 325.483952 57.043236 \nL 324.838364 57.04201 \nL 324.746137 56.481897 \nL 323.639413 56.546152 \nL 323.547186 56.270852 \nL 322.901597 56.36428 \nL 322.901597 56.267761 \nL 322.80937 55.991135 \nL 322.440462 55.947453 \nL 322.440462 55.753525 \nL 322.348235 55.766769 \nL 321.8871 55.735902 \nL 321.8871 55.63864 \nL 321.794873 55.651881 \nL 320.96483 55.673832 \nL 320.96483 55.576198 \nL 320.872603 55.589468 \nL 320.688149 55.616032 \nL 320.688149 55.518262 \nL 320.688149 55.420433 \nL 320.595922 55.433676 \nL 320.319241 55.473452 \nL 320.319241 55.375461 \nL 320.319241 55.27741 \nL 320.227014 55.290633 \nL 319.858106 55.245368 \nL 319.858106 55.147069 \nL 319.765879 55.160281 \nL 319.304744 55.127946 \nL 319.304744 54.930735 \nL 319.212517 54.943917 \nL 319.028063 54.970306 \nL 319.028063 54.871532 \nL 319.028063 54.772697 \nL 318.935836 54.785851 \nL 318.659155 54.726362 \nL 318.659155 54.627301 \nL 318.566928 54.640435 \nL 317.552432 54.686 \nL 317.460205 54.500091 \nL 316.169027 54.585037 \nL 316.169027 54.484952 \nL 316.0768 54.498171 \nL 315.800119 54.537879 \nL 315.800119 54.437625 \nL 315.800119 54.337309 \nL 315.707892 54.350507 \nL 315.246757 54.316081 \nL 315.246757 54.215478 \nL 315.15453 54.228671 \nL 314.877849 54.2683 \nL 314.877849 54.167525 \nL 314.877849 53.965787 \nL 314.785622 53.978932 \nL 314.601168 53.9042 \nL 314.601168 53.803091 \nL 314.508941 53.816205 \nL 314.23226 53.855597 \nL 314.23226 53.754315 \nL 314.23226 53.652971 \nL 314.140033 53.666062 \nL 313.402217 53.669435 \nL 313.30999 53.377136 \nL 311.46545 53.537458 \nL 311.46545 53.434892 \nL 311.373223 53.448064 \nL 309.989819 53.543561 \nL 309.989819 53.44041 \nL 309.897592 53.453659 \nL 309.159776 53.559955 \nL 309.159776 53.45648 \nL 309.159776 53.249334 \nL 309.067549 53.262572 \nL 308.606414 53.328893 \nL 308.606414 53.225047 \nL 308.514187 53.030358 \nL 307.591917 53.058484 \nL 307.591917 52.849551 \nL 307.49969 52.862759 \nL 307.407463 52.875976 \nL 307.407463 52.771349 \nL 307.407463 52.666656 \nL 307.315236 52.679822 \nL 306.854101 52.640843 \nL 306.854101 52.535837 \nL 306.761874 52.548995 \nL 306.392966 52.49649 \nL 306.300739 52.298953 \nL 305.747377 52.272162 \nL 305.747377 52.166458 \nL 305.65515 52.179569 \nL 303.626156 52.363705 \nL 303.626156 52.150557 \nL 303.533929 52.163775 \nL 303.349475 52.190235 \nL 303.349475 52.083465 \nL 303.349475 51.976625 \nL 303.257248 51.989807 \nL 302.242752 52.028098 \nL 302.242752 51.920748 \nL 302.150525 51.933972 \nL 301.873844 51.866151 \nL 301.873844 51.758535 \nL 301.781617 51.771732 \nL 301.412709 51.716762 \nL 301.412709 51.608848 \nL 301.320482 51.622025 \nL 300.859347 51.579871 \nL 300.76712 51.376442 \nL 300.398212 51.429072 \nL 300.398212 51.320524 \nL 300.398212 51.103211 \nL 300.305985 51.116296 \nL 299.752623 51.085996 \nL 299.752623 50.976935 \nL 299.660396 50.990016 \nL 298.92258 50.98556 \nL 298.92258 50.766495 \nL 298.830353 50.779558 \nL 298.092537 50.774447 \nL 298.092537 50.4442 \nL 298.00031 50.457213 \nL 297.539175 50.522405 \nL 297.539175 50.411978 \nL 297.539175 50.190901 \nL 297.446948 50.203867 \nL 296.985813 50.157981 \nL 296.985813 50.047057 \nL 296.893586 50.06001 \nL 296.616905 49.987789 \nL 296.616905 49.876582 \nL 296.524678 49.889503 \nL 296.432451 49.902433 \nL 296.432451 49.791084 \nL 296.432451 49.67966 \nL 296.340224 49.692532 \nL 295.233501 49.735742 \nL 295.141274 49.075262 \nL 294.680139 49.139138 \nL 294.680139 49.02646 \nL 294.587912 49.039227 \nL 293.942323 49.128843 \nL 293.942323 49.015813 \nL 293.850096 49.028616 \nL 293.11228 49.131357 \nL 293.020053 48.917255 \nL 292.835599 48.942908 \nL 292.743372 48.386389 \nL 292.466691 48.424436 \nL 292.466691 48.310223 \nL 292.374464 48.322888 \nL 292.19001 48.348244 \nL 292.19001 48.233846 \nL 292.097783 48.246502 \nL 292.005556 48.259167 \nL 292.005556 48.144618 \nL 291.913329 48.157256 \nL 291.821102 48.169903 \nL 291.821102 47.940426 \nL 291.728875 47.95301 \nL 291.452194 47.990817 \nL 291.452194 47.875816 \nL 291.359967 47.8884 \nL 290.714378 47.976736 \nL 290.714378 47.861369 \nL 290.622151 47.873987 \nL 290.437697 47.899251 \nL 290.437697 47.783695 \nL 290.34547 47.796304 \nL 290.253243 47.808922 \nL 290.161016 47.589977 \nL 289.884335 47.627694 \nL 289.884335 47.511677 \nL 289.792108 47.524231 \nL 289.607654 47.549365 \nL 289.515427 47.329376 \nL 289.330973 47.354416 \nL 289.330973 47.237936 \nL 289.238746 47.250433 \nL 288.593157 47.338159 \nL 288.593157 47.104363 \nL 288.50093 47.116857 \nL 288.132022 47.166921 \nL 288.132022 47.049714 \nL 288.039795 47.062215 \nL 287.117526 47.187715 \nL 287.117526 47.070016 \nL 287.025299 47.082577 \nL 286.933072 47.095148 \nL 286.933072 46.97729 \nL 286.840845 46.989832 \nL 286.471937 47.04009 \nL 286.471937 46.921959 \nL 286.37971 46.934509 \nL 286.103029 46.97221 \nL 286.103029 46.853844 \nL 286.010802 46.866392 \nL 284.811851 47.030327 \nL 284.719624 46.804873 \nL 284.53517 46.830095 \nL 284.442943 46.364975 \nL 284.074035 46.414947 \nL 283.981808 46.187686 \nL 283.336219 46.275005 \nL 283.336219 46.154713 \nL 283.243992 46.167184 \nL 282.506176 46.267281 \nL 282.506176 46.146549 \nL 282.413949 46.159063 \nL 282.229495 46.184117 \nL 282.229495 45.942153 \nL 282.137268 45.954615 \nL 281.76836 46.004554 \nL 281.676133 45.774267 \nL 281.491679 45.79915 \nL 281.491679 45.67754 \nL 281.399452 45.689956 \nL 280.569409 45.802103 \nL 280.569409 45.680003 \nL 280.477182 45.692469 \nL 280.108275 45.742427 \nL 280.108275 45.620035 \nL 280.016048 45.632506 \nL 279.739367 45.669977 \nL 279.739367 45.547333 \nL 279.64714 45.559801 \nL 279.554913 45.572278 \nL 279.462686 45.338959 \nL 279.186005 45.376229 \nL 279.186005 45.253067 \nL 279.093778 45.265468 \nL 278.72487 45.315162 \nL 278.632643 45.080518 \nL 278.079281 45.154896 \nL 278.079281 45.030964 \nL 277.987054 45.043351 \nL 277.710373 45.080568 \nL 277.710373 44.956378 \nL 277.618146 44.96876 \nL 277.157011 45.030811 \nL 277.157011 44.906277 \nL 277.064784 44.918674 \nL 276.234741 45.030657 \nL 276.234741 44.780467 \nL 276.142514 44.792872 \nL 275.865833 44.830142 \nL 275.773606 44.591593 \nL 275.589152 44.616335 \nL 275.589152 44.490612 \nL 275.496925 44.502954 \nL 274.666882 44.614454 \nL 274.666882 44.488207 \nL 274.574655 44.5006 \nL 273.744612 44.612558 \nL 273.744612 44.485782 \nL 273.652385 44.498226 \nL 273.467931 44.523142 \nL 273.467931 44.396139 \nL 273.375704 44.408567 \nL 273.099023 44.44591 \nL 273.099023 44.318635 \nL 273.006796 44.331058 \nL 272.730116 44.368383 \nL 272.730116 44.240836 \nL 272.637889 44.253252 \nL 272.084527 44.327951 \nL 272.084527 44.199998 \nL 271.9923 44.212437 \nL 271.900073 44.224885 \nL 271.900073 44.096745 \nL 271.807846 44.109158 \nL 270.14776 44.334246 \nL 270.14776 44.075968 \nL 270.055533 44.088474 \nL 269.963306 44.10099 \nL 269.963306 43.971611 \nL 269.871079 43.984092 \nL 269.594398 44.021592 \nL 269.594398 43.89193 \nL 269.502171 43.904404 \nL 269.133263 43.954397 \nL 269.133263 43.824407 \nL 269.041036 43.836884 \nL 268.764355 43.874372 \nL 268.764355 43.744098 \nL 268.672128 43.756567 \nL 267.196496 43.957415 \nL 267.196496 43.826252 \nL 267.104269 43.838843 \nL 266.550907 43.914592 \nL 266.550907 43.783 \nL 266.45868 43.795612 \nL 265.997545 43.858826 \nL 265.997545 43.726848 \nL 265.905318 43.739473 \nL 265.351957 43.815436 \nL 265.351957 43.683023 \nL 265.25973 43.695671 \nL 265.167503 43.708329 \nL 265.167503 43.575716 \nL 265.075276 43.588337 \nL 264.706368 43.638919 \nL 264.614141 43.385475 \nL 264.521914 43.39806 \nL 264.521914 43.264795 \nL 264.429687 43.277342 \nL 263.599644 43.390717 \nL 263.599644 43.256863 \nL 263.507417 43.269462 \nL 263.230736 43.30732 \nL 263.230736 43.038902 \nL 263.138509 43.051444 \nL 261.847331 43.228095 \nL 261.847331 43.092987 \nL 261.755104 43.105632 \nL 261.017288 43.20716 \nL 261.017288 43.071497 \nL 260.925061 43.084184 \nL 260.187245 43.186054 \nL 260.187245 43.049831 \nL 260.095018 43.062561 \nL 258.80384 43.241878 \nL 258.80384 42.96758 \nL 258.711613 42.980365 \nL 258.434932 43.018784 \nL 258.434932 42.881262 \nL 258.342705 42.894038 \nL 258.250478 42.906824 \nL 258.250478 42.493273 \nL 258.158251 42.505916 \nL 257.973798 42.531232 \nL 257.973798 42.393 \nL 257.881571 42.405622 \nL 255.76035 42.69883 \nL 255.76035 42.559229 \nL 255.668123 42.572052 \nL 255.483669 42.597729 \nL 255.483669 42.457854 \nL 255.391442 42.470655 \nL 253.731356 42.702928 \nL 253.731356 42.561921 \nL 253.639129 42.574874 \nL 253.454675 42.600813 \nL 253.454675 42.459526 \nL 253.362448 42.472458 \nL 253.085767 42.511319 \nL 253.085767 42.369695 \nL 252.99354 42.382617 \nL 252.901313 42.395549 \nL 252.901313 42.253697 \nL 252.809086 42.266586 \nL 252.624632 42.292396 \nL 252.624632 42.15026 \nL 252.532405 42.163127 \nL 251.425681 42.318382 \nL 251.425681 42.17541 \nL 251.333454 42.188364 \nL 250.503412 42.30545 \nL 250.411185 42.03098 \nL 249.857823 42.108934 \nL 249.857823 41.964644 \nL 249.765596 41.977619 \nL 249.581142 42.003602 \nL 249.581142 41.859019 \nL 249.488915 41.871971 \nL 248.843326 41.962947 \nL 248.843326 41.817784 \nL 248.751099 41.830769 \nL 248.566645 41.856771 \nL 248.566645 41.711312 \nL 248.474418 41.724272 \nL 246.722105 41.972675 \nL 246.722105 41.825933 \nL 246.629878 41.839062 \nL 246.445424 41.865356 \nL 246.353197 41.436821 \nL 245.892062 41.501932 \nL 245.892062 41.354146 \nL 245.799835 41.367143 \nL 245.062019 41.471535 \nL 245.062019 41.323084 \nL 244.969792 41.336125 \nL 244.877565 41.349177 \nL 244.877565 41.200475 \nL 244.785338 41.213479 \nL 243.955295 41.331036 \nL 243.955295 41.1816 \nL 243.863068 41.194659 \nL 243.770841 41.20773 \nL 243.770841 41.058041 \nL 243.678614 41.071062 \nL 243.033026 41.16254 \nL 243.033026 41.012229 \nL 242.940799 41.025283 \nL 241.649621 41.209265 \nL 241.649621 41.057894 \nL 241.557394 41.071062 \nL 240.727351 41.190109 \nL 240.635124 40.441053 \nL 239.897308 40.545257 \nL 239.805081 40.251286 \nL 238.882811 40.381447 \nL 238.790584 40.085503 \nL 237.776087 40.228764 \nL 237.776087 40.073322 \nL 237.68386 40.086352 \nL 236.669363 40.230478 \nL 236.669363 40.074102 \nL 236.577136 40.087211 \nL 236.116001 40.152937 \nL 236.116001 39.996017 \nL 236.023774 40.009132 \nL 233.441419 40.381368 \nL 233.441419 40.222339 \nL 233.349192 40.235746 \nL 233.164738 40.262599 \nL 233.164738 40.103213 \nL 233.072511 40.11659 \nL 232.980284 40.129978 \nL 232.980284 39.970305 \nL 232.888057 39.983637 \nL 232.519149 40.037093 \nL 232.519149 39.876921 \nL 232.426922 39.890247 \nL 231.965787 39.957067 \nL 231.965787 39.63543 \nL 231.87356 39.648691 \nL 231.320198 39.728528 \nL 231.320198 39.566986 \nL 231.227971 39.580266 \nL 230.95129 39.620182 \nL 230.95129 39.458201 \nL 230.859063 39.471461 \nL 230.490155 39.524626 \nL 230.490155 39.362134 \nL 230.397928 39.375385 \nL 229.844566 39.455163 \nL 229.844566 39.29201 \nL 229.752339 39.305279 \nL 229.383431 39.358483 \nL 229.383431 39.194811 \nL 229.291204 39.208072 \nL 229.014523 39.24793 \nL 229.014523 39.083808 \nL 228.922296 39.097047 \nL 228.368934 39.17675 \nL 228.368934 39.011955 \nL 228.276707 39.02521 \nL 227.723346 39.105014 \nL 227.723346 38.939541 \nL 227.631119 38.952812 \nL 226.524395 39.11309 \nL 226.432168 38.793002 \nL 224.864309 39.020967 \nL 224.864309 38.852661 \nL 224.772082 38.866113 \nL 224.587628 38.893059 \nL 224.587628 38.724353 \nL 224.495401 38.737769 \nL 224.126493 38.791565 \nL 224.126493 38.452875 \nL 224.034266 38.466202 \nL 223.388677 38.559864 \nL 223.388677 38.389639 \nL 223.29645 38.402994 \nL 223.019769 38.443141 \nL 223.019769 38.272429 \nL 222.927542 38.285759 \nL 222.097499 38.406335 \nL 222.005272 38.076109 \nL 220.990775 38.223355 \nL 220.990775 37.877189 \nL 220.898548 37.890494 \nL 220.806321 37.903813 \nL 220.806321 37.730302 \nL 220.714094 37.743552 \nL 217.670604 38.188538 \nL 217.670604 38.012022 \nL 217.578377 38.02566 \nL 217.48615 38.039312 \nL 217.48615 37.862443 \nL 217.393923 37.876024 \nL 217.301696 37.88962 \nL 217.301696 37.712396 \nL 217.209469 37.72592 \nL 217.025015 37.753011 \nL 217.025015 37.397496 \nL 216.932788 37.410891 \nL 216.840561 37.4243 \nL 216.840561 37.246092 \nL 216.748334 37.259429 \nL 216.194972 37.339745 \nL 216.194972 37.160743 \nL 216.102745 37.174091 \nL 215.733837 37.227625 \nL 215.733837 37.047998 \nL 215.64161 37.061329 \nL 214.534886 37.222405 \nL 214.534886 37.04144 \nL 214.442659 37.054867 \nL 213.520389 37.189922 \nL 213.520389 37.00778 \nL 213.428162 37.021275 \nL 211.860304 37.252914 \nL 211.768077 36.898339 \nL 211.214715 36.980092 \nL 211.214715 36.795071 \nL 211.122488 36.808656 \nL 210.938034 36.835869 \nL 210.938034 36.650367 \nL 210.845807 36.663902 \nL 210.292445 36.745424 \nL 210.292445 36.559062 \nL 210.200218 36.572607 \nL 209.462402 36.681498 \nL 209.462402 36.494079 \nL 209.370175 36.507662 \nL 209.001267 36.562145 \nL 209.001267 36.37404 \nL 208.90904 36.387602 \nL 207.341181 36.620464 \nL 207.341181 36.430404 \nL 207.248954 36.44414 \nL 206.511138 36.554588 \nL 206.418911 36.185729 \nL 206.326684 36.199421 \nL 206.326684 35.815628 \nL 206.234457 35.829135 \nL 205.865549 35.883317 \nL 205.865549 35.690594 \nL 205.773322 35.704077 \nL 205.404415 35.758159 \nL 205.404415 35.564712 \nL 205.312188 35.578169 \nL 204.205464 35.74085 \nL 204.205464 35.545851 \nL 204.113237 35.559404 \nL 203.375421 35.668393 \nL 203.375421 35.472235 \nL 203.283194 35.485825 \nL 200.33193 35.929057 \nL 200.33193 35.729156 \nL 200.239703 35.743165 \nL 198.671844 35.983856 \nL 198.671844 35.781744 \nL 198.579617 35.795942 \nL 198.48739 35.810157 \nL 198.395163 35.418778 \nL 195.720581 35.83236 \nL 195.720581 35.62589 \nL 195.628354 35.640294 \nL 193.876041 35.917304 \nL 193.876041 35.708238 \nL 193.783814 35.722877 \nL 192.492636 35.929716 \nL 192.492636 35.718594 \nL 192.400409 35.733383 \nL 192.308182 35.748192 \nL 192.308182 35.536566 \nL 192.215955 35.55127 \nL 192.031501 35.580734 \nL 191.939274 35.170477 \nL 190.740324 35.360814 \nL 190.740324 35.146297 \nL 190.648097 35.160941 \nL 190.55587 35.175604 \nL 190.55587 34.745261 \nL 190.463643 34.75969 \nL 188.988011 34.993051 \nL 188.988011 34.775306 \nL 188.895784 34.78992 \nL 188.065741 34.922281 \nL 188.065741 34.70296 \nL 187.973514 34.71763 \nL 187.420152 34.806046 \nL 187.420152 34.585524 \nL 187.327925 34.600194 \nL 183.915526 35.156561 \nL 183.915526 34.930604 \nL 183.823299 34.945879 \nL 183.638845 34.976488 \nL 183.638845 34.749815 \nL 183.546618 34.765011 \nL 183.454391 34.780227 \nL 183.454391 34.552974 \nL 183.362164 34.568069 \nL 183.269938 34.583184 \nL 183.269938 34.355349 \nL 183.177711 34.370343 \nL 182.439895 34.491017 \nL 182.347668 34.046763 \nL 181.794306 34.136512 \nL 181.794306 33.905469 \nL 181.702079 33.920353 \nL 181.148717 34.010075 \nL 181.148717 33.777699 \nL 181.05649 33.792576 \nL 180.779809 33.837329 \nL 180.779809 33.370452 \nL 180.687582 33.385114 \nL 179.21195 33.622437 \nL 179.21195 33.385967 \nL 179.119723 33.400821 \nL 177.920772 33.595792 \nL 177.920772 33.117564 \nL 177.828545 33.132396 \nL 177.459637 33.191932 \nL 177.459637 32.951536 \nL 177.36741 32.966315 \nL 175.984005 33.190493 \nL 175.984005 32.947215 \nL 175.891779 32.962168 \nL 174.508374 33.18902 \nL 174.508374 32.942788 \nL 174.416147 32.95792 \nL 174.047239 33.018661 \nL 174.047239 32.771249 \nL 173.955012 32.786322 \nL 173.678331 32.831672 \nL 173.586104 32.349264 \nL 172.940515 32.453632 \nL 172.940515 32.20312 \nL 172.848288 32.217946 \nL 172.387153 32.292396 \nL 172.387153 32.04049 \nL 172.294926 32.055272 \nL 171.095975 32.249423 \nL 171.095975 31.994703 \nL 171.003748 32.009615 \nL 168.144712 32.483044 \nL 168.144712 32.222157 \nL 168.052485 32.237612 \nL 166.207945 32.551701 \nL 166.207945 32.286461 \nL 166.115718 32.302227 \nL 165.931264 32.333832 \nL 165.931264 32.067608 \nL 165.839037 32.083254 \nL 163.441135 32.498685 \nL 163.441135 31.954338 \nL 163.348908 31.970252 \nL 162.887773 32.050202 \nL 162.795546 31.51735 \nL 162.518865 31.564468 \nL 162.518865 31.288736 \nL 162.426638 31.304285 \nL 161.781049 31.413826 \nL 161.781049 31.135986 \nL 161.688822 31.151524 \nL 160.85878 31.292504 \nL 160.85878 31.012094 \nL 160.766553 31.027671 \nL 158.922013 31.344589 \nL 158.922013 31.059145 \nL 158.829786 31.075043 \nL 158.460878 31.138897 \nL 158.460878 30.851866 \nL 158.368651 30.867672 \nL 158.276424 30.883503 \nL 158.276424 30.595547 \nL 158.184197 30.611179 \nL 157.354154 30.753042 \nL 157.354154 30.462326 \nL 157.261927 30.47799 \nL 156.985246 30.525141 \nL 156.893019 29.955695 \nL 156.616338 30.001763 \nL 156.616338 29.707711 \nL 156.524111 29.722883 \nL 154.864025 30.000436 \nL 154.864025 29.701331 \nL 154.771798 29.716758 \nL 154.218436 29.809884 \nL 154.218436 29.508543 \nL 154.126209 29.523911 \nL 153.757301 29.585648 \nL 153.757301 29.282541 \nL 153.665074 29.297792 \nL 153.480621 29.328374 \nL 153.480621 29.023984 \nL 153.388394 29.039062 \nL 153.019486 29.099641 \nL 153.019486 28.179449 \nL 152.927259 28.193891 \nL 152.373897 28.281078 \nL 152.28167 27.675375 \nL 149.607087 28.095368 \nL 149.607087 27.776549 \nL 149.51486 27.79115 \nL 149.238179 27.835114 \nL 149.238179 27.514598 \nL 149.145952 27.529026 \nL 149.053725 27.54348 \nL 148.961498 26.590341 \nL 147.393639 26.825978 \nL 147.393639 26.497323 \nL 147.301412 26.511122 \nL 145.456873 26.79265 \nL 145.456873 26.457057 \nL 145.364646 26.471108 \nL 143.427879 26.772526 \nL 143.427879 26.429375 \nL 143.335652 26.443715 \nL 142.505609 26.574053 \nL 142.505609 26.22698 \nL 142.413382 26.241276 \nL 141.583339 26.371226 \nL 141.583339 26.02014 \nL 141.491112 26.034387 \nL 141.398885 26.048662 \nL 141.398885 25.6962 \nL 141.306658 25.710165 \nL 138.539849 26.142534 \nL 138.447622 25.427871 \nL 137.986487 25.499062 \nL 137.986487 25.131325 \nL 137.89426 25.145284 \nL 136.04972 25.430704 \nL 136.04972 25.05426 \nL 135.957493 25.068464 \nL 132.176186 25.678169 \nL 132.176186 25.283895 \nL 132.083959 25.29904 \nL 130.516101 25.561802 \nL 130.516101 25.158834 \nL 130.423874 25.174165 \nL 130.331647 25.189532 \nL 130.331647 24.784751 \nL 130.23942 24.799705 \nL 129.224923 24.966504 \nL 129.224923 24.555337 \nL 129.132696 24.570251 \nL 128.487107 24.675631 \nL 128.487107 24.259768 \nL 128.39488 24.274492 \nL 124.336892 24.958566 \nL 124.336892 24.519262 \nL 124.244665 24.535152 \nL 121.66231 24.99674 \nL 121.66231 24.540458 \nL 121.570083 24.556993 \nL 115.298648 25.791403 \nL 115.298648 25.290881 \nL 115.206421 25.310129 \nL 112.347384 25.935253 \nL 112.347384 25.410329 \nL 112.255157 25.430704 \nL 109.949482 25.960613 \nL 109.949482 25.413721 \nL 109.857255 25.434957 \nL 107.459354 26.011251 \nL 107.459354 25.439582 \nL 107.367127 25.461827 \nL 102.755777 26.674461 \nL 102.755777 25.425848 \nL 102.66355 25.450166 \nL 102.294642 25.54831 \nL 102.294642 24.915256 \nL 102.202415 24.938919 \nL 99.62006 25.63785 \nL 99.62006 24.96893 \nL 99.527833 24.994043 \nL 98.974471 25.146755 \nL 98.974471 24.466577 \nL 98.882244 24.491109 \nL 97.867747 24.767347 \nL 97.867747 24.068944 \nL 97.77552 24.09332 \nL 94.639802 24.983691 \nL 94.639802 24.232254 \nL 94.547575 24.258849 \nL 92.88749 24.757732 \nL 92.795263 23.209062 \nL 88.829502 24.424742 \nL 86.339374 25.329433 \nL 86.339374 24.393545 \nL 86.247147 24.427148 \nL 85.324877 24.77327 \nL 85.324877 23.80509 \nL 85.23265 23.838183 \nL 84.402607 24.144415 \nL 84.31038 22.168153 \nL 81.082435 23.317422 \nL 78.223399 24.570251 \nL 75.73327 25.905781 \nL 74.995454 26.356672 \nL 74.995454 24.949462 \nL 74.903227 25.002436 \nL 72.782006 26.350213 \nL 70.84524 27.844916 \nL 69.092927 29.488095 \nL 67.525068 31.271489 \nL 66.141663 33.17205 \nL 65.31162 34.501131 \nL 65.31162 32.114618 \nL 65.219393 32.256965 \nL 63.928216 34.481543 \nL 62.729265 37.028028 \nL 61.622541 39.943678 \nL 60.608044 43.277342 \nL 59.685774 47.074725 \nL 58.855731 51.369873 \nL 58.025688 56.854447 \nL 57.287872 63.183624 \nL 56.642283 70.383062 \nL 56.642283 64.10192 \nL 56.550056 65.192396 \nL 55.904468 74.31516 \nL 55.904468 58.733421 \nL 55.812241 59.969589 \nL 55.258879 69.009062 \nL 54.705517 82.220601 \nL 54.705517 57.559062 \nL 54.61329 59.550367 \nL 54.152155 72.825729 \nL 53.967701 80.459062 \nL 53.967701 60.612396 \nL 53.875474 64.10192 \nL 53.506566 85.039062 \nL 53.414339 93.181285 \nL 53.414339 57.559062 \nL 53.322112 64.10192 \nL 53.229885 72.825729 \nL 53.229885 11.759062 \nL 53.137658 11.759062 \nL 52.76875 11.759062 \nL 52.76875 11.759062 \n\" style=\"fill:none;stroke:#0000ff;stroke-linecap:square;stroke-width:2;\"/>\n   </g>\n   <g id=\"line2d_26\">\n    <path clip-path=\"url(#pced6cd12b6)\" d=\"M 271.15237 378.159062 \nL 271.15237 48.399062 \n\" style=\"fill:none;stroke:#ff0000;stroke-dasharray:1.5,2.475;stroke-dashoffset:0;stroke-width:1.5;\"/>\n   </g>\n   <g id=\"line2d_27\">\n    <path clip-path=\"url(#pced6cd12b6)\" d=\"M 52.76875 48.399062 \nL 271.15237 48.399062 \n\" style=\"fill:none;stroke:#ff0000;stroke-dasharray:1.5,2.475;stroke-dashoffset:0;stroke-width:1.5;\"/>\n   </g>\n   <g id=\"line2d_28\">\n    <defs>\n     <path d=\"M 0 3 \nC 0.795609 3 1.55874 2.683901 2.12132 2.12132 \nC 2.683901 1.55874 3 0.795609 3 0 \nC 3 -0.795609 2.683901 -1.55874 2.12132 -2.12132 \nC 1.55874 -2.683901 0.795609 -3 0 -3 \nC -0.795609 -3 -1.55874 -2.683901 -2.12132 -2.12132 \nC -2.683901 -1.55874 -3 -0.795609 -3 0 \nC -3 0.795609 -2.683901 1.55874 -2.12132 2.12132 \nC -1.55874 2.683901 -0.795609 3 0 3 \nz\n\" id=\"m94fe0b6c98\" style=\"stroke:#ff0000;\"/>\n    </defs>\n    <g clip-path=\"url(#pced6cd12b6)\">\n     <use style=\"fill:#ff0000;stroke:#ff0000;\" x=\"271.15237\" xlink:href=\"#m94fe0b6c98\" y=\"48.399062\"/>\n    </g>\n   </g>\n   <g id=\"patch_3\">\n    <path d=\"M 52.76875 378.159062 \nL 52.76875 11.759062 \n\" style=\"fill:none;stroke:#000000;stroke-linecap:square;stroke-linejoin:miter;stroke-width:0.8;\"/>\n   </g>\n   <g id=\"patch_4\">\n    <path d=\"M 552.73125 378.159062 \nL 552.73125 11.759062 \n\" style=\"fill:none;stroke:#000000;stroke-linecap:square;stroke-linejoin:miter;stroke-width:0.8;\"/>\n   </g>\n   <g id=\"patch_5\">\n    <path d=\"M 52.76875 378.159062 \nL 552.73125 378.159062 \n\" style=\"fill:none;stroke:#000000;stroke-linecap:square;stroke-linejoin:miter;stroke-width:0.8;\"/>\n   </g>\n   <g id=\"patch_6\">\n    <path d=\"M 52.76875 11.759062 \nL 552.73125 11.759062 \n\" style=\"fill:none;stroke:#000000;stroke-linecap:square;stroke-linejoin:miter;stroke-width:0.8;\"/>\n   </g>\n  </g>\n </g>\n <defs>\n  <clipPath id=\"pced6cd12b6\">\n   <rect height=\"366.4\" width=\"499.9625\" x=\"52.76875\" y=\"11.759062\"/>\n  </clipPath>\n </defs>\n</svg>\n",
      "text/plain": "<Figure size 576x432 with 1 Axes>"
     },
     "metadata": {
      "needs_background": "light"
     },
     "output_type": "display_data"
    }
   ],
   "source": [
    "def plot_precision_vs_recall(precisions, recalls):\n",
    "    plt.plot(recalls, precisions, \"b-\", linewidth=2)\n",
    "    plt.xlabel(\"Recall\", fontsize=16)\n",
    "    plt.ylabel(\"Precision\", fontsize=16)\n",
    "    plt.axis([0, 1, 0, 1])\n",
    "    plt.grid(True)\n",
    "\n",
    "plt.figure(figsize=(8, 6))\n",
    "plot_precision_vs_recall(precisions, recalls)\n",
    "plt.plot([0.4368, 0.4368], [0., 0.9], \"r:\")\n",
    "plt.plot([0.0, 0.4368], [0.9, 0.9], \"r:\")\n",
    "plt.plot([0.4368], [0.9], \"ro\")\n",
    "save_fig(\"precision_vs_recall_plot\")\n",
    "plt.show()"
   ]
  },
  {
   "cell_type": "code",
   "execution_count": 39,
   "metadata": {},
   "outputs": [],
   "source": [
    "threshold_90_precision = thresholds[np.argmax(precisions >= 0.90)]"
   ]
  },
  {
   "cell_type": "code",
   "execution_count": 40,
   "metadata": {},
   "outputs": [
    {
     "data": {
      "text/plain": "3370.0194991439557"
     },
     "execution_count": 40,
     "metadata": {},
     "output_type": "execute_result"
    }
   ],
   "source": [
    "threshold_90_precision"
   ]
  },
  {
   "cell_type": "code",
   "execution_count": 41,
   "metadata": {},
   "outputs": [],
   "source": [
    "y_train_pred_90 = (y_scores >= threshold_90_precision)"
   ]
  },
  {
   "cell_type": "code",
   "execution_count": 42,
   "metadata": {},
   "outputs": [
    {
     "data": {
      "text/plain": "0.9000345901072293"
     },
     "execution_count": 42,
     "metadata": {},
     "output_type": "execute_result"
    }
   ],
   "source": [
    "precision_score(y_train_5, y_train_pred_90)"
   ]
  },
  {
   "cell_type": "code",
   "execution_count": 43,
   "metadata": {},
   "outputs": [
    {
     "data": {
      "text/plain": "0.4799852425751706"
     },
     "execution_count": 43,
     "metadata": {},
     "output_type": "execute_result"
    }
   ],
   "source": [
    "recall_score(y_train_5, y_train_pred_90)"
   ]
  },
  {
   "cell_type": "markdown",
   "metadata": {},
   "source": [
    "# ROC curves"
   ]
  },
  {
   "cell_type": "code",
   "execution_count": 44,
   "metadata": {},
   "outputs": [],
   "source": [
    "from sklearn.metrics import roc_curve\n",
    "\n",
    "fpr, tpr, thresholds = roc_curve(y_train_5, y_scores)"
   ]
  },
  {
   "cell_type": "code",
   "execution_count": 46,
   "metadata": {},
   "outputs": [
    {
     "name": "stdout",
     "output_type": "stream",
     "text": "Saving figure roc_curve_plot\n"
    },
    {
     "data": {
      "image/png": "[encoded data removed]",
      "image/svg+xml": "<?xml version=\"1.0\" encoding=\"utf-8\" standalone=\"no\"?>\n<!DOCTYPE svg PUBLIC \"-//W3C//DTD SVG 1.1//EN\"\n  \"http://www.w3.org/Graphics/SVG/1.1/DTD/svg11.dtd\">\n<!-- Created with matplotlib (https://matplotlib.org/) -->\n<svg height=\"423.457812pt\" version=\"1.1\" viewBox=\"0 0 569.473125 423.457812\" width=\"569.473125pt\" xmlns=\"http://www.w3.org/2000/svg\" xmlns:xlink=\"http://www.w3.org/1999/xlink\">\n <defs>\n  <style type=\"text/css\">\n*{stroke-linecap:butt;stroke-linejoin:round;}\n  </style>\n </defs>\n <g id=\"figure_1\">\n  <g id=\"patch_1\">\n   <path d=\"M 0 423.457812 \nL 569.473125 423.457812 \nL 569.473125 0 \nL 0 0 \nz\n\" style=\"fill:none;\"/>\n  </g>\n  <g id=\"axes_1\">\n   <g id=\"patch_2\">\n    <path d=\"M 52.76875 378.159062 \nL 552.73125 378.159062 \nL 552.73125 11.759062 \nL 52.76875 11.759062 \nz\n\" style=\"fill:#ffffff;\"/>\n   </g>\n   <g id=\"matplotlib.axis_1\">\n    <g id=\"xtick_1\">\n     <g id=\"line2d_1\">\n      <path clip-path=\"url(#p2fab383609)\" d=\"M 52.76875 378.159062 \nL 52.76875 11.759062 \n\" style=\"fill:none;stroke:#b0b0b0;stroke-linecap:square;stroke-width:0.8;\"/>\n     </g>\n     <g id=\"line2d_2\">\n      <defs>\n       <path d=\"M 0 0 \nL 0 3.5 \n\" id=\"m1c55acc710\" style=\"stroke:#000000;stroke-width:0.8;\"/>\n      </defs>\n      <g>\n       <use style=\"stroke:#000000;stroke-width:0.8;\" x=\"52.76875\" xlink:href=\"#m1c55acc710\" y=\"378.159062\"/>\n      </g>\n     </g>\n     <g id=\"text_1\">\n      <!-- 0.0 -->\n      <defs>\n       <path d=\"M 31.78125 66.40625 \nQ 24.171875 66.40625 20.328125 58.90625 \nQ 16.5 51.421875 16.5 36.375 \nQ 16.5 21.390625 20.328125 13.890625 \nQ 24.171875 6.390625 31.78125 6.390625 \nQ 39.453125 6.390625 43.28125 13.890625 \nQ 47.125 21.390625 47.125 36.375 \nQ 47.125 51.421875 43.28125 58.90625 \nQ 39.453125 66.40625 31.78125 66.40625 \nz\nM 31.78125 74.21875 \nQ 44.046875 74.21875 50.515625 64.515625 \nQ 56.984375 54.828125 56.984375 36.375 \nQ 56.984375 17.96875 50.515625 8.265625 \nQ 44.046875 -1.421875 31.78125 -1.421875 \nQ 19.53125 -1.421875 13.0625 8.265625 \nQ 6.59375 17.96875 6.59375 36.375 \nQ 6.59375 54.828125 13.0625 64.515625 \nQ 19.53125 74.21875 31.78125 74.21875 \nz\n\" id=\"DejaVuSans-48\"/>\n       <path d=\"M 10.6875 12.40625 \nL 21 12.40625 \nL 21 0 \nL 10.6875 0 \nz\n\" id=\"DejaVuSans-46\"/>\n      </defs>\n      <g transform=\"translate(43.226875 394.277187)scale(0.12 -0.12)\">\n       <use xlink:href=\"#DejaVuSans-48\"/>\n       <use x=\"63.623047\" xlink:href=\"#DejaVuSans-46\"/>\n       <use x=\"95.410156\" xlink:href=\"#DejaVuSans-48\"/>\n      </g>\n     </g>\n    </g>\n    <g id=\"xtick_2\">\n     <g id=\"line2d_3\">\n      <path clip-path=\"url(#p2fab383609)\" d=\"M 152.76125 378.159062 \nL 152.76125 11.759062 \n\" style=\"fill:none;stroke:#b0b0b0;stroke-linecap:square;stroke-width:0.8;\"/>\n     </g>\n     <g id=\"line2d_4\">\n      <g>\n       <use style=\"stroke:#000000;stroke-width:0.8;\" x=\"152.76125\" xlink:href=\"#m1c55acc710\" y=\"378.159062\"/>\n      </g>\n     </g>\n     <g id=\"text_2\">\n      <!-- 0.2 -->\n      <defs>\n       <path d=\"M 19.1875 8.296875 \nL 53.609375 8.296875 \nL 53.609375 0 \nL 7.328125 0 \nL 7.328125 8.296875 \nQ 12.9375 14.109375 22.625 23.890625 \nQ 32.328125 33.6875 34.8125 36.53125 \nQ 39.546875 41.84375 41.421875 45.53125 \nQ 43.3125 49.21875 43.3125 52.78125 \nQ 43.3125 58.59375 39.234375 62.25 \nQ 35.15625 65.921875 28.609375 65.921875 \nQ 23.96875 65.921875 18.8125 64.3125 \nQ 13.671875 62.703125 7.8125 59.421875 \nL 7.8125 69.390625 \nQ 13.765625 71.78125 18.9375 73 \nQ 24.125 74.21875 28.421875 74.21875 \nQ 39.75 74.21875 46.484375 68.546875 \nQ 53.21875 62.890625 53.21875 53.421875 \nQ 53.21875 48.921875 51.53125 44.890625 \nQ 49.859375 40.875 45.40625 35.40625 \nQ 44.1875 33.984375 37.640625 27.21875 \nQ 31.109375 20.453125 19.1875 8.296875 \nz\n\" id=\"DejaVuSans-50\"/>\n      </defs>\n      <g transform=\"translate(143.219375 394.277187)scale(0.12 -0.12)\">\n       <use xlink:href=\"#DejaVuSans-48\"/>\n       <use x=\"63.623047\" xlink:href=\"#DejaVuSans-46\"/>\n       <use x=\"95.410156\" xlink:href=\"#DejaVuSans-50\"/>\n      </g>\n     </g>\n    </g>\n    <g id=\"xtick_3\">\n     <g id=\"line2d_5\">\n      <path clip-path=\"url(#p2fab383609)\" d=\"M 252.75375 378.159062 \nL 252.75375 11.759062 \n\" style=\"fill:none;stroke:#b0b0b0;stroke-linecap:square;stroke-width:0.8;\"/>\n     </g>\n     <g id=\"line2d_6\">\n      <g>\n       <use style=\"stroke:#000000;stroke-width:0.8;\" x=\"252.75375\" xlink:href=\"#m1c55acc710\" y=\"378.159062\"/>\n      </g>\n     </g>\n     <g id=\"text_3\">\n      <!-- 0.4 -->\n      <defs>\n       <path d=\"M 37.796875 64.3125 \nL 12.890625 25.390625 \nL 37.796875 25.390625 \nz\nM 35.203125 72.90625 \nL 47.609375 72.90625 \nL 47.609375 25.390625 \nL 58.015625 25.390625 \nL 58.015625 17.1875 \nL 47.609375 17.1875 \nL 47.609375 0 \nL 37.796875 0 \nL 37.796875 17.1875 \nL 4.890625 17.1875 \nL 4.890625 26.703125 \nz\n\" id=\"DejaVuSans-52\"/>\n      </defs>\n      <g transform=\"translate(243.211875 394.277187)scale(0.12 -0.12)\">\n       <use xlink:href=\"#DejaVuSans-48\"/>\n       <use x=\"63.623047\" xlink:href=\"#DejaVuSans-46\"/>\n       <use x=\"95.410156\" xlink:href=\"#DejaVuSans-52\"/>\n      </g>\n     </g>\n    </g>\n    <g id=\"xtick_4\">\n     <g id=\"line2d_7\">\n      <path clip-path=\"url(#p2fab383609)\" d=\"M 352.74625 378.159062 \nL 352.74625 11.759062 \n\" style=\"fill:none;stroke:#b0b0b0;stroke-linecap:square;stroke-width:0.8;\"/>\n     </g>\n     <g id=\"line2d_8\">\n      <g>\n       <use style=\"stroke:#000000;stroke-width:0.8;\" x=\"352.74625\" xlink:href=\"#m1c55acc710\" y=\"378.159062\"/>\n      </g>\n     </g>\n     <g id=\"text_4\">\n      <!-- 0.6 -->\n      <defs>\n       <path d=\"M 33.015625 40.375 \nQ 26.375 40.375 22.484375 35.828125 \nQ 18.609375 31.296875 18.609375 23.390625 \nQ 18.609375 15.53125 22.484375 10.953125 \nQ 26.375 6.390625 33.015625 6.390625 \nQ 39.65625 6.390625 43.53125 10.953125 \nQ 47.40625 15.53125 47.40625 23.390625 \nQ 47.40625 31.296875 43.53125 35.828125 \nQ 39.65625 40.375 33.015625 40.375 \nz\nM 52.59375 71.296875 \nL 52.59375 62.3125 \nQ 48.875 64.0625 45.09375 64.984375 \nQ 41.3125 65.921875 37.59375 65.921875 \nQ 27.828125 65.921875 22.671875 59.328125 \nQ 17.53125 52.734375 16.796875 39.40625 \nQ 19.671875 43.65625 24.015625 45.921875 \nQ 28.375 48.1875 33.59375 48.1875 \nQ 44.578125 48.1875 50.953125 41.515625 \nQ 57.328125 34.859375 57.328125 23.390625 \nQ 57.328125 12.15625 50.6875 5.359375 \nQ 44.046875 -1.421875 33.015625 -1.421875 \nQ 20.359375 -1.421875 13.671875 8.265625 \nQ 6.984375 17.96875 6.984375 36.375 \nQ 6.984375 53.65625 15.1875 63.9375 \nQ 23.390625 74.21875 37.203125 74.21875 \nQ 40.921875 74.21875 44.703125 73.484375 \nQ 48.484375 72.75 52.59375 71.296875 \nz\n\" id=\"DejaVuSans-54\"/>\n      </defs>\n      <g transform=\"translate(343.204375 394.277187)scale(0.12 -0.12)\">\n       <use xlink:href=\"#DejaVuSans-48\"/>\n       <use x=\"63.623047\" xlink:href=\"#DejaVuSans-46\"/>\n       <use x=\"95.410156\" xlink:href=\"#DejaVuSans-54\"/>\n      </g>\n     </g>\n    </g>\n    <g id=\"xtick_5\">\n     <g id=\"line2d_9\">\n      <path clip-path=\"url(#p2fab383609)\" d=\"M 452.73875 378.159062 \nL 452.73875 11.759062 \n\" style=\"fill:none;stroke:#b0b0b0;stroke-linecap:square;stroke-width:0.8;\"/>\n     </g>\n     <g id=\"line2d_10\">\n      <g>\n       <use style=\"stroke:#000000;stroke-width:0.8;\" x=\"452.73875\" xlink:href=\"#m1c55acc710\" y=\"378.159062\"/>\n      </g>\n     </g>\n     <g id=\"text_5\">\n      <!-- 0.8 -->\n      <defs>\n       <path d=\"M 31.78125 34.625 \nQ 24.75 34.625 20.71875 30.859375 \nQ 16.703125 27.09375 16.703125 20.515625 \nQ 16.703125 13.921875 20.71875 10.15625 \nQ 24.75 6.390625 31.78125 6.390625 \nQ 38.8125 6.390625 42.859375 10.171875 \nQ 46.921875 13.96875 46.921875 20.515625 \nQ 46.921875 27.09375 42.890625 30.859375 \nQ 38.875 34.625 31.78125 34.625 \nz\nM 21.921875 38.8125 \nQ 15.578125 40.375 12.03125 44.71875 \nQ 8.5 49.078125 8.5 55.328125 \nQ 8.5 64.0625 14.71875 69.140625 \nQ 20.953125 74.21875 31.78125 74.21875 \nQ 42.671875 74.21875 48.875 69.140625 \nQ 55.078125 64.0625 55.078125 55.328125 \nQ 55.078125 49.078125 51.53125 44.71875 \nQ 48 40.375 41.703125 38.8125 \nQ 48.828125 37.15625 52.796875 32.3125 \nQ 56.78125 27.484375 56.78125 20.515625 \nQ 56.78125 9.90625 50.3125 4.234375 \nQ 43.84375 -1.421875 31.78125 -1.421875 \nQ 19.734375 -1.421875 13.25 4.234375 \nQ 6.78125 9.90625 6.78125 20.515625 \nQ 6.78125 27.484375 10.78125 32.3125 \nQ 14.796875 37.15625 21.921875 38.8125 \nz\nM 18.3125 54.390625 \nQ 18.3125 48.734375 21.84375 45.5625 \nQ 25.390625 42.390625 31.78125 42.390625 \nQ 38.140625 42.390625 41.71875 45.5625 \nQ 45.3125 48.734375 45.3125 54.390625 \nQ 45.3125 60.0625 41.71875 63.234375 \nQ 38.140625 66.40625 31.78125 66.40625 \nQ 25.390625 66.40625 21.84375 63.234375 \nQ 18.3125 60.0625 18.3125 54.390625 \nz\n\" id=\"DejaVuSans-56\"/>\n      </defs>\n      <g transform=\"translate(443.196875 394.277187)scale(0.12 -0.12)\">\n       <use xlink:href=\"#DejaVuSans-48\"/>\n       <use x=\"63.623047\" xlink:href=\"#DejaVuSans-46\"/>\n       <use x=\"95.410156\" xlink:href=\"#DejaVuSans-56\"/>\n      </g>\n     </g>\n    </g>\n    <g id=\"xtick_6\">\n     <g id=\"line2d_11\">\n      <path clip-path=\"url(#p2fab383609)\" d=\"M 552.73125 378.159062 \nL 552.73125 11.759062 \n\" style=\"fill:none;stroke:#b0b0b0;stroke-linecap:square;stroke-width:0.8;\"/>\n     </g>\n     <g id=\"line2d_12\">\n      <g>\n       <use style=\"stroke:#000000;stroke-width:0.8;\" x=\"552.73125\" xlink:href=\"#m1c55acc710\" y=\"378.159062\"/>\n      </g>\n     </g>\n     <g id=\"text_6\">\n      <!-- 1.0 -->\n      <defs>\n       <path d=\"M 12.40625 8.296875 \nL 28.515625 8.296875 \nL 28.515625 63.921875 \nL 10.984375 60.40625 \nL 10.984375 69.390625 \nL 28.421875 72.90625 \nL 38.28125 72.90625 \nL 38.28125 8.296875 \nL 54.390625 8.296875 \nL 54.390625 0 \nL 12.40625 0 \nz\n\" id=\"DejaVuSans-49\"/>\n      </defs>\n      <g transform=\"translate(543.189375 394.277187)scale(0.12 -0.12)\">\n       <use xlink:href=\"#DejaVuSans-49\"/>\n       <use x=\"63.623047\" xlink:href=\"#DejaVuSans-46\"/>\n       <use x=\"95.410156\" xlink:href=\"#DejaVuSans-48\"/>\n      </g>\n     </g>\n    </g>\n    <g id=\"text_7\">\n     <!-- False Positive Rate (Fall-Out) -->\n     <defs>\n      <path d=\"M 9.8125 72.90625 \nL 51.703125 72.90625 \nL 51.703125 64.59375 \nL 19.671875 64.59375 \nL 19.671875 43.109375 \nL 48.578125 43.109375 \nL 48.578125 34.8125 \nL 19.671875 34.8125 \nL 19.671875 0 \nL 9.8125 0 \nz\n\" id=\"DejaVuSans-70\"/>\n      <path d=\"M 34.28125 27.484375 \nQ 23.390625 27.484375 19.1875 25 \nQ 14.984375 22.515625 14.984375 16.5 \nQ 14.984375 11.71875 18.140625 8.90625 \nQ 21.296875 6.109375 26.703125 6.109375 \nQ 34.1875 6.109375 38.703125 11.40625 \nQ 43.21875 16.703125 43.21875 25.484375 \nL 43.21875 27.484375 \nz\nM 52.203125 31.203125 \nL 52.203125 0 \nL 43.21875 0 \nL 43.21875 8.296875 \nQ 40.140625 3.328125 35.546875 0.953125 \nQ 30.953125 -1.421875 24.3125 -1.421875 \nQ 15.921875 -1.421875 10.953125 3.296875 \nQ 6 8.015625 6 15.921875 \nQ 6 25.140625 12.171875 29.828125 \nQ 18.359375 34.515625 30.609375 34.515625 \nL 43.21875 34.515625 \nL 43.21875 35.40625 \nQ 43.21875 41.609375 39.140625 45 \nQ 35.0625 48.390625 27.6875 48.390625 \nQ 23 48.390625 18.546875 47.265625 \nQ 14.109375 46.140625 10.015625 43.890625 \nL 10.015625 52.203125 \nQ 14.9375 54.109375 19.578125 55.046875 \nQ 24.21875 56 28.609375 56 \nQ 40.484375 56 46.34375 49.84375 \nQ 52.203125 43.703125 52.203125 31.203125 \nz\n\" id=\"DejaVuSans-97\"/>\n      <path d=\"M 9.421875 75.984375 \nL 18.40625 75.984375 \nL 18.40625 0 \nL 9.421875 0 \nz\n\" id=\"DejaVuSans-108\"/>\n      <path d=\"M 44.28125 53.078125 \nL 44.28125 44.578125 \nQ 40.484375 46.53125 36.375 47.5 \nQ 32.28125 48.484375 27.875 48.484375 \nQ 21.1875 48.484375 17.84375 46.4375 \nQ 14.5 44.390625 14.5 40.28125 \nQ 14.5 37.15625 16.890625 35.375 \nQ 19.28125 33.59375 26.515625 31.984375 \nL 29.59375 31.296875 \nQ 39.15625 29.25 43.1875 25.515625 \nQ 47.21875 21.78125 47.21875 15.09375 \nQ 47.21875 7.46875 41.1875 3.015625 \nQ 35.15625 -1.421875 24.609375 -1.421875 \nQ 20.21875 -1.421875 15.453125 -0.5625 \nQ 10.6875 0.296875 5.421875 2 \nL 5.421875 11.28125 \nQ 10.40625 8.6875 15.234375 7.390625 \nQ 20.0625 6.109375 24.8125 6.109375 \nQ 31.15625 6.109375 34.5625 8.28125 \nQ 37.984375 10.453125 37.984375 14.40625 \nQ 37.984375 18.0625 35.515625 20.015625 \nQ 33.0625 21.96875 24.703125 23.78125 \nL 21.578125 24.515625 \nQ 13.234375 26.265625 9.515625 29.90625 \nQ 5.8125 33.546875 5.8125 39.890625 \nQ 5.8125 47.609375 11.28125 51.796875 \nQ 16.75 56 26.8125 56 \nQ 31.78125 56 36.171875 55.265625 \nQ 40.578125 54.546875 44.28125 53.078125 \nz\n\" id=\"DejaVuSans-115\"/>\n      <path d=\"M 56.203125 29.59375 \nL 56.203125 25.203125 \nL 14.890625 25.203125 \nQ 15.484375 15.921875 20.484375 11.0625 \nQ 25.484375 6.203125 34.421875 6.203125 \nQ 39.59375 6.203125 44.453125 7.46875 \nQ 49.3125 8.734375 54.109375 11.28125 \nL 54.109375 2.78125 \nQ 49.265625 0.734375 44.1875 -0.34375 \nQ 39.109375 -1.421875 33.890625 -1.421875 \nQ 20.796875 -1.421875 13.15625 6.1875 \nQ 5.515625 13.8125 5.515625 26.8125 \nQ 5.515625 40.234375 12.765625 48.109375 \nQ 20.015625 56 32.328125 56 \nQ 43.359375 56 49.78125 48.890625 \nQ 56.203125 41.796875 56.203125 29.59375 \nz\nM 47.21875 32.234375 \nQ 47.125 39.59375 43.09375 43.984375 \nQ 39.0625 48.390625 32.421875 48.390625 \nQ 24.90625 48.390625 20.390625 44.140625 \nQ 15.875 39.890625 15.1875 32.171875 \nz\n\" id=\"DejaVuSans-101\"/>\n      <path id=\"DejaVuSans-32\"/>\n      <path d=\"M 19.671875 64.796875 \nL 19.671875 37.40625 \nL 32.078125 37.40625 \nQ 38.96875 37.40625 42.71875 40.96875 \nQ 46.484375 44.53125 46.484375 51.125 \nQ 46.484375 57.671875 42.71875 61.234375 \nQ 38.96875 64.796875 32.078125 64.796875 \nz\nM 9.8125 72.90625 \nL 32.078125 72.90625 \nQ 44.34375 72.90625 50.609375 67.359375 \nQ 56.890625 61.8125 56.890625 51.125 \nQ 56.890625 40.328125 50.609375 34.8125 \nQ 44.34375 29.296875 32.078125 29.296875 \nL 19.671875 29.296875 \nL 19.671875 0 \nL 9.8125 0 \nz\n\" id=\"DejaVuSans-80\"/>\n      <path d=\"M 30.609375 48.390625 \nQ 23.390625 48.390625 19.1875 42.75 \nQ 14.984375 37.109375 14.984375 27.296875 \nQ 14.984375 17.484375 19.15625 11.84375 \nQ 23.34375 6.203125 30.609375 6.203125 \nQ 37.796875 6.203125 41.984375 11.859375 \nQ 46.1875 17.53125 46.1875 27.296875 \nQ 46.1875 37.015625 41.984375 42.703125 \nQ 37.796875 48.390625 30.609375 48.390625 \nz\nM 30.609375 56 \nQ 42.328125 56 49.015625 48.375 \nQ 55.71875 40.765625 55.71875 27.296875 \nQ 55.71875 13.875 49.015625 6.21875 \nQ 42.328125 -1.421875 30.609375 -1.421875 \nQ 18.84375 -1.421875 12.171875 6.21875 \nQ 5.515625 13.875 5.515625 27.296875 \nQ 5.515625 40.765625 12.171875 48.375 \nQ 18.84375 56 30.609375 56 \nz\n\" id=\"DejaVuSans-111\"/>\n      <path d=\"M 9.421875 54.6875 \nL 18.40625 54.6875 \nL 18.40625 0 \nL 9.421875 0 \nz\nM 9.421875 75.984375 \nL 18.40625 75.984375 \nL 18.40625 64.59375 \nL 9.421875 64.59375 \nz\n\" id=\"DejaVuSans-105\"/>\n      <path d=\"M 18.3125 70.21875 \nL 18.3125 54.6875 \nL 36.8125 54.6875 \nL 36.8125 47.703125 \nL 18.3125 47.703125 \nL 18.3125 18.015625 \nQ 18.3125 11.328125 20.140625 9.421875 \nQ 21.96875 7.515625 27.59375 7.515625 \nL 36.8125 7.515625 \nL 36.8125 0 \nL 27.59375 0 \nQ 17.1875 0 13.234375 3.875 \nQ 9.28125 7.765625 9.28125 18.015625 \nL 9.28125 47.703125 \nL 2.6875 47.703125 \nL 2.6875 54.6875 \nL 9.28125 54.6875 \nL 9.28125 70.21875 \nz\n\" id=\"DejaVuSans-116\"/>\n      <path d=\"M 2.984375 54.6875 \nL 12.5 54.6875 \nL 29.59375 8.796875 \nL 46.6875 54.6875 \nL 56.203125 54.6875 \nL 35.6875 0 \nL 23.484375 0 \nz\n\" id=\"DejaVuSans-118\"/>\n      <path d=\"M 44.390625 34.1875 \nQ 47.5625 33.109375 50.5625 29.59375 \nQ 53.5625 26.078125 56.59375 19.921875 \nL 66.609375 0 \nL 56 0 \nL 46.6875 18.703125 \nQ 43.0625 26.03125 39.671875 28.421875 \nQ 36.28125 30.8125 30.421875 30.8125 \nL 19.671875 30.8125 \nL 19.671875 0 \nL 9.8125 0 \nL 9.8125 72.90625 \nL 32.078125 72.90625 \nQ 44.578125 72.90625 50.734375 67.671875 \nQ 56.890625 62.453125 56.890625 51.90625 \nQ 56.890625 45.015625 53.6875 40.46875 \nQ 50.484375 35.9375 44.390625 34.1875 \nz\nM 19.671875 64.796875 \nL 19.671875 38.921875 \nL 32.078125 38.921875 \nQ 39.203125 38.921875 42.84375 42.21875 \nQ 46.484375 45.515625 46.484375 51.90625 \nQ 46.484375 58.296875 42.84375 61.546875 \nQ 39.203125 64.796875 32.078125 64.796875 \nz\n\" id=\"DejaVuSans-82\"/>\n      <path d=\"M 31 75.875 \nQ 24.46875 64.65625 21.28125 53.65625 \nQ 18.109375 42.671875 18.109375 31.390625 \nQ 18.109375 20.125 21.3125 9.0625 \nQ 24.515625 -2 31 -13.1875 \nL 23.1875 -13.1875 \nQ 15.875 -1.703125 12.234375 9.375 \nQ 8.59375 20.453125 8.59375 31.390625 \nQ 8.59375 42.28125 12.203125 53.3125 \nQ 15.828125 64.359375 23.1875 75.875 \nz\n\" id=\"DejaVuSans-40\"/>\n      <path d=\"M 4.890625 31.390625 \nL 31.203125 31.390625 \nL 31.203125 23.390625 \nL 4.890625 23.390625 \nz\n\" id=\"DejaVuSans-45\"/>\n      <path d=\"M 39.40625 66.21875 \nQ 28.65625 66.21875 22.328125 58.203125 \nQ 16.015625 50.203125 16.015625 36.375 \nQ 16.015625 22.609375 22.328125 14.59375 \nQ 28.65625 6.59375 39.40625 6.59375 \nQ 50.140625 6.59375 56.421875 14.59375 \nQ 62.703125 22.609375 62.703125 36.375 \nQ 62.703125 50.203125 56.421875 58.203125 \nQ 50.140625 66.21875 39.40625 66.21875 \nz\nM 39.40625 74.21875 \nQ 54.734375 74.21875 63.90625 63.9375 \nQ 73.09375 53.65625 73.09375 36.375 \nQ 73.09375 19.140625 63.90625 8.859375 \nQ 54.734375 -1.421875 39.40625 -1.421875 \nQ 24.03125 -1.421875 14.8125 8.828125 \nQ 5.609375 19.09375 5.609375 36.375 \nQ 5.609375 53.65625 14.8125 63.9375 \nQ 24.03125 74.21875 39.40625 74.21875 \nz\n\" id=\"DejaVuSans-79\"/>\n      <path d=\"M 8.5 21.578125 \nL 8.5 54.6875 \nL 17.484375 54.6875 \nL 17.484375 21.921875 \nQ 17.484375 14.15625 20.5 10.265625 \nQ 23.53125 6.390625 29.59375 6.390625 \nQ 36.859375 6.390625 41.078125 11.03125 \nQ 45.3125 15.671875 45.3125 23.6875 \nL 45.3125 54.6875 \nL 54.296875 54.6875 \nL 54.296875 0 \nL 45.3125 0 \nL 45.3125 8.40625 \nQ 42.046875 3.421875 37.71875 1 \nQ 33.40625 -1.421875 27.6875 -1.421875 \nQ 18.265625 -1.421875 13.375 4.4375 \nQ 8.5 10.296875 8.5 21.578125 \nz\nM 31.109375 56 \nz\n\" id=\"DejaVuSans-117\"/>\n      <path d=\"M 8.015625 75.875 \nL 15.828125 75.875 \nQ 23.140625 64.359375 26.78125 53.3125 \nQ 30.421875 42.28125 30.421875 31.390625 \nQ 30.421875 20.453125 26.78125 9.375 \nQ 23.140625 -1.703125 15.828125 -13.1875 \nL 8.015625 -13.1875 \nQ 14.5 -2 17.703125 9.0625 \nQ 20.90625 20.125 20.90625 31.390625 \nQ 20.90625 42.671875 17.703125 53.65625 \nQ 14.5 64.65625 8.015625 75.875 \nz\n\" id=\"DejaVuSans-41\"/>\n     </defs>\n     <g transform=\"translate(187.10625 412.930312)scale(0.16 -0.16)\">\n      <use xlink:href=\"#DejaVuSans-70\"/>\n      <use x=\"57.378906\" xlink:href=\"#DejaVuSans-97\"/>\n      <use x=\"118.658203\" xlink:href=\"#DejaVuSans-108\"/>\n      <use x=\"146.441406\" xlink:href=\"#DejaVuSans-115\"/>\n      <use x=\"198.541016\" xlink:href=\"#DejaVuSans-101\"/>\n      <use x=\"260.064453\" xlink:href=\"#DejaVuSans-32\"/>\n      <use x=\"291.851562\" xlink:href=\"#DejaVuSans-80\"/>\n      <use x=\"352.107422\" xlink:href=\"#DejaVuSans-111\"/>\n      <use x=\"413.289062\" xlink:href=\"#DejaVuSans-115\"/>\n      <use x=\"465.388672\" xlink:href=\"#DejaVuSans-105\"/>\n      <use x=\"493.171875\" xlink:href=\"#DejaVuSans-116\"/>\n      <use x=\"532.380859\" xlink:href=\"#DejaVuSans-105\"/>\n      <use x=\"560.164062\" xlink:href=\"#DejaVuSans-118\"/>\n      <use x=\"619.34375\" xlink:href=\"#DejaVuSans-101\"/>\n      <use x=\"680.867188\" xlink:href=\"#DejaVuSans-32\"/>\n      <use x=\"712.654297\" xlink:href=\"#DejaVuSans-82\"/>\n      <use x=\"782.105469\" xlink:href=\"#DejaVuSans-97\"/>\n      <use x=\"843.384766\" xlink:href=\"#DejaVuSans-116\"/>\n      <use x=\"882.59375\" xlink:href=\"#DejaVuSans-101\"/>\n      <use x=\"944.117188\" xlink:href=\"#DejaVuSans-32\"/>\n      <use x=\"975.904297\" xlink:href=\"#DejaVuSans-40\"/>\n      <use x=\"1014.917969\" xlink:href=\"#DejaVuSans-70\"/>\n      <use x=\"1072.296875\" xlink:href=\"#DejaVuSans-97\"/>\n      <use x=\"1133.576172\" xlink:href=\"#DejaVuSans-108\"/>\n      <use x=\"1161.359375\" xlink:href=\"#DejaVuSans-108\"/>\n      <use x=\"1189.142578\" xlink:href=\"#DejaVuSans-45\"/>\n      <use x=\"1225.257812\" xlink:href=\"#DejaVuSans-79\"/>\n      <use x=\"1303.96875\" xlink:href=\"#DejaVuSans-117\"/>\n      <use x=\"1367.347656\" xlink:href=\"#DejaVuSans-116\"/>\n      <use x=\"1406.556641\" xlink:href=\"#DejaVuSans-41\"/>\n     </g>\n    </g>\n   </g>\n   <g id=\"matplotlib.axis_2\">\n    <g id=\"ytick_1\">\n     <g id=\"line2d_13\">\n      <path clip-path=\"url(#p2fab383609)\" d=\"M 52.76875 378.159062 \nL 552.73125 378.159062 \n\" style=\"fill:none;stroke:#b0b0b0;stroke-linecap:square;stroke-width:0.8;\"/>\n     </g>\n     <g id=\"line2d_14\">\n      <defs>\n       <path d=\"M 0 0 \nL -3.5 0 \n\" id=\"m165cc15ec8\" style=\"stroke:#000000;stroke-width:0.8;\"/>\n      </defs>\n      <g>\n       <use style=\"stroke:#000000;stroke-width:0.8;\" x=\"52.76875\" xlink:href=\"#m165cc15ec8\" y=\"378.159062\"/>\n      </g>\n     </g>\n     <g id=\"text_8\">\n      <!-- 0.0 -->\n      <g transform=\"translate(26.685 382.718125)scale(0.12 -0.12)\">\n       <use xlink:href=\"#DejaVuSans-48\"/>\n       <use x=\"63.623047\" xlink:href=\"#DejaVuSans-46\"/>\n       <use x=\"95.410156\" xlink:href=\"#DejaVuSans-48\"/>\n      </g>\n     </g>\n    </g>\n    <g id=\"ytick_2\">\n     <g id=\"line2d_15\">\n      <path clip-path=\"url(#p2fab383609)\" d=\"M 52.76875 304.879062 \nL 552.73125 304.879062 \n\" style=\"fill:none;stroke:#b0b0b0;stroke-linecap:square;stroke-width:0.8;\"/>\n     </g>\n     <g id=\"line2d_16\">\n      <g>\n       <use style=\"stroke:#000000;stroke-width:0.8;\" x=\"52.76875\" xlink:href=\"#m165cc15ec8\" y=\"304.879062\"/>\n      </g>\n     </g>\n     <g id=\"text_9\">\n      <!-- 0.2 -->\n      <g transform=\"translate(26.685 309.438125)scale(0.12 -0.12)\">\n       <use xlink:href=\"#DejaVuSans-48\"/>\n       <use x=\"63.623047\" xlink:href=\"#DejaVuSans-46\"/>\n       <use x=\"95.410156\" xlink:href=\"#DejaVuSans-50\"/>\n      </g>\n     </g>\n    </g>\n    <g id=\"ytick_3\">\n     <g id=\"line2d_17\">\n      <path clip-path=\"url(#p2fab383609)\" d=\"M 52.76875 231.599062 \nL 552.73125 231.599062 \n\" style=\"fill:none;stroke:#b0b0b0;stroke-linecap:square;stroke-width:0.8;\"/>\n     </g>\n     <g id=\"line2d_18\">\n      <g>\n       <use style=\"stroke:#000000;stroke-width:0.8;\" x=\"52.76875\" xlink:href=\"#m165cc15ec8\" y=\"231.599062\"/>\n      </g>\n     </g>\n     <g id=\"text_10\">\n      <!-- 0.4 -->\n      <g transform=\"translate(26.685 236.158125)scale(0.12 -0.12)\">\n       <use xlink:href=\"#DejaVuSans-48\"/>\n       <use x=\"63.623047\" xlink:href=\"#DejaVuSans-46\"/>\n       <use x=\"95.410156\" xlink:href=\"#DejaVuSans-52\"/>\n      </g>\n     </g>\n    </g>\n    <g id=\"ytick_4\">\n     <g id=\"line2d_19\">\n      <path clip-path=\"url(#p2fab383609)\" d=\"M 52.76875 158.319062 \nL 552.73125 158.319062 \n\" style=\"fill:none;stroke:#b0b0b0;stroke-linecap:square;stroke-width:0.8;\"/>\n     </g>\n     <g id=\"line2d_20\">\n      <g>\n       <use style=\"stroke:#000000;stroke-width:0.8;\" x=\"52.76875\" xlink:href=\"#m165cc15ec8\" y=\"158.319062\"/>\n      </g>\n     </g>\n     <g id=\"text_11\">\n      <!-- 0.6 -->\n      <g transform=\"translate(26.685 162.878125)scale(0.12 -0.12)\">\n       <use xlink:href=\"#DejaVuSans-48\"/>\n       <use x=\"63.623047\" xlink:href=\"#DejaVuSans-46\"/>\n       <use x=\"95.410156\" xlink:href=\"#DejaVuSans-54\"/>\n      </g>\n     </g>\n    </g>\n    <g id=\"ytick_5\">\n     <g id=\"line2d_21\">\n      <path clip-path=\"url(#p2fab383609)\" d=\"M 52.76875 85.039062 \nL 552.73125 85.039062 \n\" style=\"fill:none;stroke:#b0b0b0;stroke-linecap:square;stroke-width:0.8;\"/>\n     </g>\n     <g id=\"line2d_22\">\n      <g>\n       <use style=\"stroke:#000000;stroke-width:0.8;\" x=\"52.76875\" xlink:href=\"#m165cc15ec8\" y=\"85.039062\"/>\n      </g>\n     </g>\n     <g id=\"text_12\">\n      <!-- 0.8 -->\n      <g transform=\"translate(26.685 89.598125)scale(0.12 -0.12)\">\n       <use xlink:href=\"#DejaVuSans-48\"/>\n       <use x=\"63.623047\" xlink:href=\"#DejaVuSans-46\"/>\n       <use x=\"95.410156\" xlink:href=\"#DejaVuSans-56\"/>\n      </g>\n     </g>\n    </g>\n    <g id=\"ytick_6\">\n     <g id=\"line2d_23\">\n      <path clip-path=\"url(#p2fab383609)\" d=\"M 52.76875 11.759062 \nL 552.73125 11.759062 \n\" style=\"fill:none;stroke:#b0b0b0;stroke-linecap:square;stroke-width:0.8;\"/>\n     </g>\n     <g id=\"line2d_24\">\n      <g>\n       <use style=\"stroke:#000000;stroke-width:0.8;\" x=\"52.76875\" xlink:href=\"#m165cc15ec8\" y=\"11.759062\"/>\n      </g>\n     </g>\n     <g id=\"text_13\">\n      <!-- 1.0 -->\n      <g transform=\"translate(26.685 16.318125)scale(0.12 -0.12)\">\n       <use xlink:href=\"#DejaVuSans-49\"/>\n       <use x=\"63.623047\" xlink:href=\"#DejaVuSans-46\"/>\n       <use x=\"95.410156\" xlink:href=\"#DejaVuSans-48\"/>\n      </g>\n     </g>\n    </g>\n    <g id=\"text_14\">\n     <!-- True Positive Rate (Recall) -->\n     <defs>\n      <path d=\"M -0.296875 72.90625 \nL 61.375 72.90625 \nL 61.375 64.59375 \nL 35.5 64.59375 \nL 35.5 0 \nL 25.59375 0 \nL 25.59375 64.59375 \nL -0.296875 64.59375 \nz\n\" id=\"DejaVuSans-84\"/>\n      <path d=\"M 41.109375 46.296875 \nQ 39.59375 47.171875 37.8125 47.578125 \nQ 36.03125 48 33.890625 48 \nQ 26.265625 48 22.1875 43.046875 \nQ 18.109375 38.09375 18.109375 28.8125 \nL 18.109375 0 \nL 9.078125 0 \nL 9.078125 54.6875 \nL 18.109375 54.6875 \nL 18.109375 46.1875 \nQ 20.953125 51.171875 25.484375 53.578125 \nQ 30.03125 56 36.53125 56 \nQ 37.453125 56 38.578125 55.875 \nQ 39.703125 55.765625 41.0625 55.515625 \nz\n\" id=\"DejaVuSans-114\"/>\n      <path d=\"M 48.78125 52.59375 \nL 48.78125 44.1875 \nQ 44.96875 46.296875 41.140625 47.34375 \nQ 37.3125 48.390625 33.40625 48.390625 \nQ 24.65625 48.390625 19.8125 42.84375 \nQ 14.984375 37.3125 14.984375 27.296875 \nQ 14.984375 17.28125 19.8125 11.734375 \nQ 24.65625 6.203125 33.40625 6.203125 \nQ 37.3125 6.203125 41.140625 7.25 \nQ 44.96875 8.296875 48.78125 10.40625 \nL 48.78125 2.09375 \nQ 45.015625 0.34375 40.984375 -0.53125 \nQ 36.96875 -1.421875 32.421875 -1.421875 \nQ 20.0625 -1.421875 12.78125 6.34375 \nQ 5.515625 14.109375 5.515625 27.296875 \nQ 5.515625 40.671875 12.859375 48.328125 \nQ 20.21875 56 33.015625 56 \nQ 37.15625 56 41.109375 55.140625 \nQ 45.0625 54.296875 48.78125 52.59375 \nz\n\" id=\"DejaVuSans-99\"/>\n     </defs>\n     <g transform=\"translate(19.3575 300.840312)rotate(-90)scale(0.16 -0.16)\">\n      <use xlink:href=\"#DejaVuSans-84\"/>\n      <use x=\"60.865234\" xlink:href=\"#DejaVuSans-114\"/>\n      <use x=\"101.978516\" xlink:href=\"#DejaVuSans-117\"/>\n      <use x=\"165.357422\" xlink:href=\"#DejaVuSans-101\"/>\n      <use x=\"226.880859\" xlink:href=\"#DejaVuSans-32\"/>\n      <use x=\"258.667969\" xlink:href=\"#DejaVuSans-80\"/>\n      <use x=\"318.923828\" xlink:href=\"#DejaVuSans-111\"/>\n      <use x=\"380.105469\" xlink:href=\"#DejaVuSans-115\"/>\n      <use x=\"432.205078\" xlink:href=\"#DejaVuSans-105\"/>\n      <use x=\"459.988281\" xlink:href=\"#DejaVuSans-116\"/>\n      <use x=\"499.197266\" xlink:href=\"#DejaVuSans-105\"/>\n      <use x=\"526.980469\" xlink:href=\"#DejaVuSans-118\"/>\n      <use x=\"586.160156\" xlink:href=\"#DejaVuSans-101\"/>\n      <use x=\"647.683594\" xlink:href=\"#DejaVuSans-32\"/>\n      <use x=\"679.470703\" xlink:href=\"#DejaVuSans-82\"/>\n      <use x=\"748.921875\" xlink:href=\"#DejaVuSans-97\"/>\n      <use x=\"810.201172\" xlink:href=\"#DejaVuSans-116\"/>\n      <use x=\"849.410156\" xlink:href=\"#DejaVuSans-101\"/>\n      <use x=\"910.933594\" xlink:href=\"#DejaVuSans-32\"/>\n      <use x=\"942.720703\" xlink:href=\"#DejaVuSans-40\"/>\n      <use x=\"981.734375\" xlink:href=\"#DejaVuSans-82\"/>\n      <use x=\"1051.154297\" xlink:href=\"#DejaVuSans-101\"/>\n      <use x=\"1112.677734\" xlink:href=\"#DejaVuSans-99\"/>\n      <use x=\"1167.658203\" xlink:href=\"#DejaVuSans-97\"/>\n      <use x=\"1228.9375\" xlink:href=\"#DejaVuSans-108\"/>\n      <use x=\"1256.720703\" xlink:href=\"#DejaVuSans-108\"/>\n      <use x=\"1284.503906\" xlink:href=\"#DejaVuSans-41\"/>\n     </g>\n    </g>\n   </g>\n   <g id=\"line2d_25\">\n    <path clip-path=\"url(#p2fab383609)\" d=\"M 52.76875 378.159062 \nL 52.878674 354.300143 \nL 52.887834 354.300143 \nL 52.997759 334.496565 \nL 53.006919 334.496565 \nL 53.116843 313.206028 \nL 53.126003 313.206028 \nL 53.235928 304.689813 \nL 53.263409 304.689813 \nL 53.373333 298.268858 \nL 53.382493 298.268858 \nL 53.492417 289.549876 \nL 53.501578 289.549876 \nL 53.611502 283.12892 \nL 53.620662 283.12892 \nL 53.730586 275.896897 \nL 53.739747 275.896897 \nL 53.84051 265.623368 \nL 53.867991 265.555779 \nL 53.977916 258.391344 \nL 53.987076 258.391344 \nL 54.097 253.119402 \nL 54.10616 253.119402 \nL 54.216085 247.577103 \nL 54.225245 247.577103 \nL 54.335169 241.088559 \nL 54.35349 241.02097 \nL 54.463414 236.289739 \nL 54.490895 236.22215 \nL 54.600819 230.882619 \nL 54.609979 230.882619 \nL 54.719904 223.920951 \nL 54.738224 223.920951 \nL 54.848148 218.986954 \nL 54.857309 218.986954 \nL 54.967233 214.390902 \nL 54.985554 214.390902 \nL 55.095478 210.40315 \nL 55.113798 210.335561 \nL 55.223723 207.158878 \nL 55.232883 207.158878 \nL 55.342807 203.982195 \nL 55.351967 203.982195 \nL 55.461892 202.089703 \nL 55.480212 202.022114 \nL 55.590136 199.318553 \nL 55.599297 199.318553 \nL 55.709221 197.155705 \nL 55.718381 197.155705 \nL 55.828305 195.263213 \nL 55.837466 195.263213 \nL 55.94739 191.545818 \nL 55.965711 191.545818 \nL 56.075635 188.369134 \nL 56.084795 188.369134 \nL 56.194719 185.530396 \nL 56.20388 185.530396 \nL 56.304643 182.826836 \nL 56.322964 182.826836 \nL 56.423728 180.52881 \nL 56.442049 180.52881 \nL 56.524492 178.839085 \nL 56.579454 178.771496 \nL 56.689378 175.189278 \nL 56.707699 175.121689 \nL 56.799302 173.972676 \nL 56.835943 173.972676 \nL 56.945868 172.35054 \nL 56.955028 172.35054 \nL 57.046631 170.795993 \nL 57.074112 170.795993 \nL 57.184037 167.754488 \nL 57.193197 167.754488 \nL 57.303121 165.59164 \nL 57.339762 165.59164 \nL 57.449687 163.699147 \nL 57.458847 163.699147 \nL 57.568771 161.130765 \nL 57.596252 161.130765 \nL 57.706176 159.238273 \nL 57.715337 159.238273 \nL 57.80694 157.075425 \nL 57.834421 157.075425 \nL 57.935185 155.723645 \nL 57.953506 155.723645 \nL 58.054269 153.29044 \nL 58.07259 153.29044 \nL 58.182514 151.735893 \nL 58.200835 151.668304 \nL 58.301599 149.91099 \nL 58.319919 149.91099 \nL 58.429844 148.356443 \nL 58.448164 148.356443 \nL 58.558088 147.545375 \nL 58.567249 147.545375 \nL 58.677173 145.314938 \nL 58.686333 145.314938 \nL 58.796257 143.625213 \nL 58.814578 143.557624 \nL 58.924502 142.003077 \nL 58.951983 142.003077 \nL 59.061907 139.434694 \nL 59.13519 139.367105 \nL 59.245114 138.218092 \nL 59.254275 138.218092 \nL 59.364199 136.731134 \nL 59.382519 136.731134 \nL 59.492444 135.64971 \nL 59.501604 135.64971 \nL 59.602368 134.97382 \nL 59.64817 134.97382 \nL 59.758094 133.959985 \nL 59.767254 133.959985 \nL 59.877178 132.94615 \nL 59.886338 132.94615 \nL 59.996263 130.377768 \nL 60.023744 130.377768 \nL 60.106187 129.972234 \nL 60.151989 129.972234 \nL 60.243592 128.14733 \nL 60.280233 128.079741 \nL 60.380997 127.268673 \nL 60.44512 127.201084 \nL 60.536723 125.916893 \nL 60.564204 125.916893 \nL 60.674128 124.362346 \nL 60.683289 124.362346 \nL 60.784052 122.807799 \nL 60.811533 122.807799 \nL 60.921458 121.658786 \nL 60.967259 121.591197 \nL 61.077183 120.239417 \nL 61.104664 120.171828 \nL 61.205428 119.428349 \nL 61.223749 119.428349 \nL 61.315352 118.752459 \nL 61.388635 118.68487 \nL 61.489399 117.603445 \nL 61.51688 117.603445 \nL 61.626804 116.859966 \nL 61.654285 116.792377 \nL 61.745889 116.116487 \nL 61.819171 116.116487 \nL 61.929096 114.899885 \nL 61.965737 114.832296 \nL 62.05734 113.615694 \nL 62.093982 113.615694 \nL 62.167265 113.007393 \nL 62.249708 112.939804 \nL 62.359632 111.85838 \nL 62.377952 111.85838 \nL 62.478716 111.114901 \nL 62.497037 111.114901 \nL 62.57948 110.168655 \nL 62.625282 110.101066 \nL 62.735206 109.627943 \nL 62.762687 109.627943 \nL 62.85429 109.019642 \nL 62.927573 108.952053 \nL 63.019177 108.276163 \nL 63.064978 108.208574 \nL 63.165742 107.532684 \nL 63.193223 107.465095 \nL 63.303147 106.586438 \nL 63.330628 106.586438 \nL 63.394751 106.316082 \nL 63.477194 106.248492 \nL 63.577958 105.978136 \nL 63.697042 105.910547 \nL 63.797806 105.572602 \nL 63.816127 105.572602 \nL 63.926051 104.761534 \nL 63.953532 104.761534 \nL 64.045135 104.356 \nL 64.15506 104.288411 \nL 64.264984 103.342165 \nL 64.292465 103.274576 \nL 64.356587 102.869042 \nL 64.43903 102.869042 \nL 64.548954 102.32833 \nL 64.576435 102.260741 \nL 64.658879 101.65244 \nL 64.70468 101.584851 \nL 64.814604 100.841372 \nL 64.823765 100.841372 \nL 64.887887 100.233071 \nL 64.942849 100.233071 \nL 65.006972 99.692359 \nL 65.089415 99.62477 \nL 65.190179 99.151647 \nL 65.208499 99.151647 \nL 65.318423 98.205401 \nL 65.336744 98.137812 \nL 65.437508 97.529511 \nL 65.474149 97.529511 \nL 65.538272 96.853621 \nL 65.684837 96.786032 \nL 65.794761 96.312909 \nL 65.803922 96.312909 \nL 65.886365 95.772197 \nL 65.941327 95.772197 \nL 66.02377 95.299074 \nL 66.069572 95.299074 \nL 66.170336 94.555595 \nL 66.225298 94.488005 \nL 66.326061 94.014882 \nL 66.371863 93.947293 \nL 66.472627 93.203814 \nL 66.527589 93.136225 \nL 66.637513 92.527924 \nL 66.710796 92.460335 \nL 66.82072 92.189979 \nL 66.848201 92.12239 \nL 66.958125 91.716856 \nL 66.976446 91.716856 \nL 67.07721 90.838199 \nL 67.113851 90.77061 \nL 67.214615 90.432665 \nL 67.242096 90.365076 \nL 67.333699 89.891953 \nL 67.397822 89.824364 \nL 67.498586 89.148474 \nL 67.553548 89.080885 \nL 67.663472 88.472584 \nL 67.681793 88.472584 \nL 67.745915 88.06705 \nL 67.892481 87.999461 \nL 67.956603 87.661516 \nL 68.057367 87.593927 \nL 68.167291 87.053215 \nL 68.249734 86.985626 \nL 68.359658 86.647681 \nL 68.3963 86.580092 \nL 68.497063 86.174558 \nL 68.588667 86.106969 \nL 68.689431 85.431079 \nL 68.735232 85.36349 \nL 68.835996 85.025545 \nL 68.9276 84.957956 \nL 69.000882 84.620011 \nL 69.092486 84.552422 \nL 69.174929 84.282066 \nL 69.220731 84.282066 \nL 69.312334 83.741354 \nL 69.431419 83.673765 \nL 69.532182 83.268231 \nL 69.550503 83.268231 \nL 69.614625 83.065464 \nL 69.715389 82.997875 \nL 69.779512 82.457162 \nL 69.861955 82.389573 \nL 69.962719 81.781272 \nL 70.036001 81.781272 \nL 70.145926 81.24056 \nL 70.374934 81.172971 \nL 70.374934 80.970204 \nL 70.576462 80.902615 \nL 70.686386 80.361903 \nL 70.723027 80.294314 \nL 70.814631 79.550835 \nL 70.942876 79.483246 \nL 71.025319 79.21289 \nL 71.245167 79.145301 \nL 71.281808 78.739767 \nL 71.410053 78.672178 \nL 71.474176 78.266644 \nL 71.565779 78.266644 \nL 71.675703 77.86111 \nL 71.758146 77.793521 \nL 71.85891 76.982453 \nL 72.005476 76.914864 \nL 72.106239 76.50933 \nL 72.197843 76.441741 \nL 72.289446 75.968618 \nL 72.445172 75.901029 \nL 72.536776 75.360317 \nL 72.582577 75.292728 \nL 72.582577 75.089961 \nL 72.820746 75.022372 \nL 72.875708 74.819605 \nL 73.040595 74.752016 \nL 73.132198 74.278893 \nL 73.205481 74.278893 \nL 73.306245 73.738181 \nL 73.370367 73.670592 \nL 73.471131 73.535414 \nL 73.489452 73.535414 \nL 73.544414 73.062291 \nL 73.690979 72.994702 \nL 73.800903 72.724346 \nL 73.828384 72.656757 \nL 73.919988 72.386401 \nL 74.011591 72.386401 \nL 74.084874 71.980867 \nL 74.194798 71.913278 \nL 74.268081 71.710511 \nL 74.442128 71.642922 \nL 74.524571 71.440155 \nL 74.680297 71.372566 \nL 74.716938 71.237388 \nL 74.890985 71.169799 \nL 74.991748 70.967032 \nL 75.055871 70.967032 \nL 75.101672 70.764264 \nL 75.3032 70.764264 \nL 75.413124 70.223552 \nL 75.431445 70.155963 \nL 75.532209 69.885607 \nL 75.56885 69.818018 \nL 75.56885 69.68284 \nL 75.697095 69.615251 \nL 75.779538 69.277306 \nL 75.816179 69.277306 \nL 75.926104 68.736594 \nL 75.981066 68.669005 \nL 76.072669 68.533827 \nL 76.173433 68.466238 \nL 76.237555 68.128293 \nL 76.439083 68.060704 \nL 76.549007 67.857937 \nL 76.649771 67.790348 \nL 76.677252 67.65517 \nL 76.814657 67.587581 \nL 76.842138 67.384814 \nL 76.988704 67.317225 \nL 77.025345 67.046869 \nL 77.15359 66.97928 \nL 77.263514 66.776513 \nL 77.300155 66.708924 \nL 77.373438 66.438568 \nL 77.4284 66.438568 \nL 77.520004 66.033034 \nL 77.584126 65.965445 \nL 77.602447 65.762678 \nL 77.794814 65.695089 \nL 77.794814 65.6275 \nL 77.996342 65.6275 \nL 78.069624 65.289555 \nL 78.179549 65.221966 \nL 78.289473 64.884021 \nL 78.326114 64.884021 \nL 78.344435 64.681254 \nL 78.47268 64.613665 \nL 78.500161 64.478487 \nL 78.646726 64.410898 \nL 78.655887 64.208131 \nL 78.875735 64.140542 \nL 78.976499 63.802597 \nL 79.168866 63.735008 \nL 79.27879 63.532241 \nL 79.452837 63.464652 \nL 79.489478 63.126707 \nL 79.617723 63.059118 \nL 79.727647 62.788762 \nL 79.745968 62.721173 \nL 79.745968 62.653584 \nL 79.892533 62.585995 \nL 79.947495 62.315639 \nL 80.213145 62.24805 \nL 80.213145 62.180461 \nL 80.405513 62.180461 \nL 80.506276 61.910105 \nL 80.726125 61.842516 \nL 80.817728 61.639749 \nL 80.881851 61.57216 \nL 80.964294 61.301804 \nL 81.321547 61.234215 \nL 81.38567 61.099037 \nL 81.477273 61.031448 \nL 81.578037 60.761092 \nL 81.623838 60.693503 \nL 81.715442 60.490736 \nL 81.825366 60.423147 \nL 81.93529 60.085202 \nL 81.990252 60.017613 \nL 82.100176 59.679668 \nL 82.265063 59.612079 \nL 82.374987 59.476901 \nL 82.420789 59.409312 \nL 82.503232 59.138956 \nL 82.576514 59.071367 \nL 82.686439 58.80101 \nL 82.851325 58.733421 \nL 82.906287 58.598243 \nL 83.025371 58.530654 \nL 83.025371 58.463065 \nL 83.272701 58.395476 \nL 83.364304 58.192709 \nL 83.639115 58.12512 \nL 83.739878 57.651997 \nL 83.840642 57.584408 \nL 83.877284 57.44923 \nL 84.078811 57.381641 \nL 84.133773 57.246463 \nL 84.426904 57.178874 \nL 84.445225 56.908518 \nL 84.765837 56.840929 \nL 84.85744 56.638162 \nL 84.958204 56.570573 \nL 85.058968 56.367806 \nL 85.251335 56.300217 \nL 85.342939 56.029861 \nL 85.462023 55.962272 \nL 85.562787 55.827094 \nL 85.91088 55.759505 \nL 85.965842 55.489149 \nL 86.139889 55.42156 \nL 86.222332 55.151204 \nL 86.43302 55.083615 \nL 86.515463 54.813259 \nL 86.561265 54.74567 \nL 86.671189 54.610492 \nL 86.95516 54.542903 \nL 87.046763 54.407725 \nL 87.120046 54.407725 \nL 87.120046 54.272547 \nL 87.376536 54.204958 \nL 87.376536 54.137369 \nL 87.541422 54.06978 \nL 87.541422 54.002191 \nL 87.862034 53.934602 \nL 87.962798 53.799424 \nL 88.081882 53.731835 \nL 88.191806 53.461479 \nL 88.750587 53.39389 \nL 88.750587 53.326301 \nL 89.190284 53.258712 \nL 89.245246 53.123534 \nL 89.510896 53.055945 \nL 89.510896 52.988356 \nL 89.813187 52.920767 \nL 89.87731 52.650411 \nL 90.023875 52.582822 \nL 90.060517 52.312466 \nL 90.381129 52.244877 \nL 90.381129 52.177288 \nL 90.555175 52.177288 \nL 90.555175 52.04211 \nL 90.839146 51.974521 \nL 90.875788 51.839343 \nL 91.031513 51.771754 \nL 91.104796 51.501398 \nL 91.242201 51.501398 \nL 91.251362 51.298631 \nL 91.535332 51.231042 \nL 91.645257 51.028275 \nL 91.764341 50.960686 \nL 91.764341 50.893097 \nL 92.039151 50.825508 \nL 92.103274 50.69033 \nL 92.332282 50.622741 \nL 92.368924 50.487563 \nL 92.643734 50.487563 \nL 92.726177 50.149618 \nL 92.881903 50.082029 \nL 92.991827 49.879262 \nL 93.028469 49.811673 \nL 93.092591 49.608906 \nL 93.156714 49.608906 \nL 93.266638 49.406139 \nL 93.440684 49.33855 \nL 93.440684 49.270961 \nL 93.633052 49.203372 \nL 93.678853 49.068194 \nL 93.898702 49.000605 \nL 94.008626 48.865427 \nL 94.292596 48.797838 \nL 94.3842 48.595071 \nL 94.503284 48.527482 \nL 94.503284 48.459893 \nL 94.695652 48.392304 \nL 94.750614 48.121948 \nL 95.034584 48.054359 \nL 95.144509 47.784003 \nL 95.300234 47.716414 \nL 95.300234 47.648825 \nL 95.758252 47.581236 \nL 95.767412 47.446058 \nL 96.042222 47.378469 \nL 96.042222 47.31088 \nL 96.179628 47.243291 \nL 96.207109 47.108112 \nL 96.78421 47.040523 \nL 96.866653 46.770167 \nL 96.985738 46.702578 \nL 97.086502 46.432222 \nL 97.196426 46.364633 \nL 97.196426 46.297044 \nL 97.397954 46.229455 \nL 97.397954 46.161866 \nL 97.599481 46.161866 \nL 97.654443 45.959099 \nL 97.782688 45.89151 \nL 97.782688 45.823921 \nL 98.130781 45.756332 \nL 98.167423 45.621154 \nL 98.497195 45.553565 \nL 98.570478 45.418387 \nL 99.129259 45.350798 \nL 99.230023 45.21562 \nL 99.532314 45.148031 \nL 99.532314 45.080442 \nL 100.054454 45.012853 \nL 100.054454 44.945264 \nL 100.329264 44.877675 \nL 100.329264 44.810086 \nL 100.695678 44.742497 \nL 100.713999 44.607319 \nL 101.226978 44.53973 \nL 101.226978 44.472141 \nL 101.401025 44.472141 \nL 101.401025 44.336963 \nL 101.758278 44.269374 \nL 101.758278 44.201785 \nL 102.234616 44.134196 \nL 102.33538 43.999018 \nL 102.646832 43.931429 \nL 102.655992 43.796251 \nL 103.077368 43.728662 \nL 103.114009 43.593484 \nL 103.251414 43.525895 \nL 103.251414 43.458306 \nL 103.681951 43.390717 \nL 103.782714 43.120361 \nL 103.92012 43.052772 \nL 103.92012 42.985183 \nL 104.314014 42.917594 \nL 104.314014 42.850005 \nL 104.652947 42.782416 \nL 104.652947 42.714827 \nL 104.973559 42.647238 \nL 104.973559 42.579649 \nL 105.376615 42.51206 \nL 105.413256 42.309293 \nL 105.568982 42.241704 \nL 105.568982 42.174115 \nL 105.962877 42.106526 \nL 105.962877 42.038937 \nL 106.347611 41.971348 \nL 106.375092 41.83617 \nL 106.512497 41.768581 \nL 106.58578 41.565814 \nL 106.833109 41.498225 \nL 106.933873 41.363047 \nL 107.556777 41.295458 \nL 107.556777 41.227869 \nL 107.721663 41.16028 \nL 107.831587 41.025102 \nL 108.042275 40.957513 \nL 108.042275 40.822335 \nL 108.930829 40.754746 \nL 108.930829 40.687157 \nL 109.306403 40.619568 \nL 109.306403 40.551979 \nL 109.672817 40.48439 \nL 109.672817 40.416801 \nL 110.002589 40.349212 \nL 110.002589 40.281623 \nL 110.387324 40.214034 \nL 110.387324 40.146445 \nL 110.652974 40.078856 \nL 110.698775 39.943678 \nL 110.955265 39.876089 \nL 111.001067 39.673322 \nL 111.733894 39.605733 \nL 111.834658 39.470555 \nL 112.036186 39.402966 \nL 112.036186 39.335377 \nL 112.94306 39.267788 \nL 112.94306 39.200199 \nL 113.74001 39.13261 \nL 113.794972 38.929843 \nL 114.54612 38.862254 \nL 114.54612 38.794665 \nL 114.720167 38.727076 \nL 114.784289 38.591898 \nL 115.901852 38.524309 \nL 116.002615 38.186364 \nL 116.332388 38.118775 \nL 116.341548 37.983597 \nL 116.506434 37.916008 \nL 116.552236 37.78083 \nL 116.735443 37.713241 \nL 116.735443 37.645652 \nL 117.422469 37.578063 \nL 117.422469 37.510474 \nL 118.311022 37.442885 \nL 118.311022 37.375296 \nL 118.897285 37.307707 \nL 118.897285 37.240118 \nL 119.153774 37.172529 \nL 119.263698 37.037351 \nL 119.685074 36.969762 \nL 119.721716 36.834584 \nL 120.463704 36.766995 \nL 120.546147 36.631817 \nL 120.656071 36.564228 \nL 120.729354 36.42905 \nL 121.718671 36.361461 \nL 121.718671 36.293872 \nL 122.396537 36.226283 \nL 122.47898 36.091105 \nL 123.230128 36.023516 \nL 123.230128 35.955927 \nL 124.558378 35.888338 \nL 124.558378 35.820749 \nL 125.263725 35.75316 \nL 125.263725 35.685571 \nL 125.804185 35.685571 \nL 125.804185 35.550393 \nL 126.784342 35.482804 \nL 126.784342 35.415215 \nL 127.013351 35.347625 \nL 127.013351 35.280036 \nL 127.407246 35.212447 \nL 127.425566 35.077269 \nL 128.204196 35.00968 \nL 128.204196 34.942091 \nL 128.460685 34.874502 \nL 128.460685 34.806913 \nL 128.964504 34.739324 \nL 129.074428 34.536557 \nL 129.569087 34.468968 \nL 129.64237 34.33379 \nL 130.420999 34.266201 \nL 130.420999 34.198612 \nL 130.659168 34.131023 \nL 130.659168 34.063434 \nL 131.50192 33.995845 \nL 131.50192 33.928256 \nL 131.959937 33.860667 \nL 131.959937 33.793078 \nL 132.82101 33.725489 \nL 132.82101 33.6579 \nL 133.205744 33.590311 \nL 133.205744 33.522722 \nL 133.911091 33.455133 \nL 133.911091 33.387544 \nL 134.598117 33.319955 \nL 134.598117 33.252366 \nL 135.083615 33.184777 \nL 135.083615 33.117188 \nL 135.367586 33.049599 \nL 135.367586 32.98201 \nL 135.871405 32.914421 \nL 135.908046 32.779243 \nL 136.503469 32.711654 \nL 136.595072 32.576476 \nL 137.117212 32.508887 \nL 137.117212 32.441298 \nL 137.465305 32.373709 \nL 137.465305 32.30612 \nL 137.795077 32.238531 \nL 137.795077 32.170942 \nL 138.985922 32.103353 \nL 138.985922 32.035764 \nL 139.205771 31.968175 \nL 139.205771 31.900586 \nL 139.97524 31.832997 \nL 139.97524 31.765408 \nL 140.735548 31.697819 \nL 140.735548 31.63023 \nL 142.164562 31.562641 \nL 142.164562 31.495052 \nL 142.988993 31.427463 \nL 142.988993 31.359874 \nL 143.43785 31.292285 \nL 143.43785 31.224696 \nL 144.427168 31.157107 \nL 144.427168 31.089518 \nL 144.830223 31.021929 \nL 144.830223 30.95434 \nL 145.389004 30.886751 \nL 145.389004 30.819162 \nL 145.975266 30.751573 \nL 145.975266 30.683984 \nL 147.120309 30.616395 \nL 147.120309 30.548806 \nL 147.266875 30.481217 \nL 147.266875 30.413628 \nL 149.135585 30.346039 \nL 149.135585 30.27845 \nL 149.740168 30.210861 \nL 149.740168 30.143272 \nL 149.950856 30.075683 \nL 149.950856 30.008094 \nL 150.32643 29.940505 \nL 150.32643 29.872916 \nL 150.811928 29.805327 \nL 150.903532 29.534971 \nL 151.737123 29.467382 \nL 151.737123 29.399793 \nL 152.506592 29.332204 \nL 152.506592 29.264615 \nL 153.019572 29.197026 \nL 153.037892 29.061848 \nL 153.642475 28.994259 \nL 153.642475 28.92667 \nL 153.917286 28.859081 \nL 153.917286 28.791492 \nL 155.108131 28.723903 \nL 155.108131 28.656314 \nL 155.520346 28.588725 \nL 155.520346 28.521136 \nL 156.69287 28.453547 \nL 156.747832 28.318369 \nL 157.508141 28.25078 \nL 157.508141 28.183191 \nL 158.323412 28.115602 \nL 158.323412 28.048013 \nL 158.80891 27.980424 \nL 158.80891 27.912835 \nL 159.807388 27.845246 \nL 159.807388 27.777657 \nL 161.18144 27.710068 \nL 161.236402 27.57489 \nL 162.912745 27.507301 \nL 162.912745 27.439712 \nL 163.993666 27.372123 \nL 164.09443 27.236945 \nL 164.799776 27.169356 \nL 164.799776 27.101767 \nL 165.395199 27.034178 \nL 165.395199 26.966589 \nL 165.816574 26.899 \nL 165.816574 26.831411 \nL 167.465437 26.763822 \nL 167.465437 26.696233 \nL 169.187582 26.628644 \nL 169.187582 26.561055 \nL 169.324987 26.561055 \nL 169.324987 26.425877 \nL 170.781482 26.358288 \nL 170.818123 26.22311 \nL 173.419661 26.155521 \nL 173.419661 26.087932 \nL 176.754027 26.020343 \nL 176.754027 25.952754 \nL 178.989151 25.885165 \nL 178.989151 25.817576 \nL 180.02427 25.749987 \nL 180.060912 25.614809 \nL 181.022748 25.54722 \nL 181.022748 25.479631 \nL 182.076188 25.479631 \nL 182.076188 25.344453 \nL 183.413598 25.276864 \nL 183.496041 25.141686 \nL 184.384595 25.074097 \nL 184.384595 25.006508 \nL 187.013614 24.938919 \nL 187.013614 24.87133 \nL 187.489952 24.803741 \nL 187.489952 24.736152 \nL 189.422785 24.668563 \nL 189.422785 24.600974 \nL 190.485385 24.533385 \nL 190.485385 24.465796 \nL 191.841116 24.398207 \nL 191.841116 24.330618 \nL 193.407535 24.263029 \nL 193.407535 24.19544 \nL 194.635022 24.127851 \nL 194.635022 24.060262 \nL 195.431972 23.992673 \nL 195.431972 23.925084 \nL 196.274723 23.857495 \nL 196.384648 23.722317 \nL 197.630455 23.654728 \nL 197.630455 23.587139 \nL 198.509848 23.519549 \nL 198.537329 23.384371 \nL 199.242675 23.316782 \nL 199.242675 23.249193 \nL 200.96482 23.181604 \nL 200.96482 23.114015 \nL 201.48696 23.046426 \nL 201.48696 22.978837 \nL 202.183146 22.911248 \nL 202.183146 22.843659 \nL 205.270183 22.77607 \nL 205.380107 22.640892 \nL 207.688514 22.573303 \nL 207.688514 22.505714 \nL 211.242728 22.438125 \nL 211.242728 22.370536 \nL 211.783188 22.302947 \nL 211.783188 22.235358 \nL 213.065637 22.167769 \nL 213.065637 22.10018 \nL 213.569456 22.032591 \nL 213.569456 21.965002 \nL 214.696178 21.897413 \nL 214.696178 21.829824 \nL 217.251915 21.762235 \nL 217.251915 21.694646 \nL 218.167949 21.627057 \nL 218.250392 21.42429 \nL 219.129786 21.356701 \nL 219.175587 21.153934 \nL 222.69316 21.086345 \nL 222.69316 21.018756 \nL 227.804633 20.951167 \nL 227.804633 20.883578 \nL 230.076399 20.815989 \nL 230.076399 20.7484 \nL 231.45045 20.680811 \nL 231.45045 20.613222 \nL 234.464204 20.545633 \nL 234.464204 20.478044 \nL 237.459637 20.410455 \nL 237.459637 20.342866 \nL 244.000124 20.275277 \nL 244.000124 20.207688 \nL 247.783347 20.140099 \nL 247.783347 20.07251 \nL 249.432209 20.004921 \nL 249.432209 19.937332 \nL 252.006266 19.869743 \nL 252.006266 19.802154 \nL 253.18795 19.734565 \nL 253.18795 19.666976 \nL 256.787966 19.599387 \nL 256.88873 19.464209 \nL 262.522342 19.39662 \nL 262.522342 19.329031 \nL 263.355934 19.261442 \nL 263.355934 19.193853 \nL 263.896394 19.126264 \nL 263.896394 19.058675 \nL 266.864346 18.991086 \nL 266.864346 18.923497 \nL 271.297954 18.855908 \nL 271.297954 18.788319 \nL 279.606387 18.72073 \nL 279.615547 18.585552 \nL 285.862903 18.517963 \nL 285.862903 18.450374 \nL 291.249186 18.382785 \nL 291.249186 18.315196 \nL 292.293466 18.247607 \nL 292.293466 18.180018 \nL 298.687387 18.112429 \nL 298.687387 18.04484 \nL 303.835501 17.977251 \nL 303.835501 17.909662 \nL 305.511844 17.842073 \nL 305.511844 17.774484 \nL 310.156139 17.706895 \nL 310.156139 17.639306 \nL 311.383626 17.571717 \nL 311.383626 17.504128 \nL 316.934795 17.436539 \nL 316.934795 17.36895 \nL 321.469166 17.301361 \nL 321.469166 17.233772 \nL 324.895135 17.166183 \nL 324.895135 17.098594 \nL 337.957788 17.031005 \nL 337.957788 16.963416 \nL 342.034142 16.895827 \nL 342.034142 16.828238 \nL 344.406671 16.760649 \nL 344.406671 16.69306 \nL 348.60211 16.625471 \nL 348.60211 16.557882 \nL 351.377694 16.490293 \nL 351.377694 16.422704 \nL 355.298322 16.355115 \nL 355.298322 16.287526 \nL 363.753321 16.219937 \nL 363.753321 16.152348 \nL 366.858678 16.084759 \nL 366.858678 16.01717 \nL 368.278532 15.949581 \nL 368.278532 15.881992 \nL 375.277036 15.814403 \nL 375.277036 15.746814 \nL 385.18853 15.679225 \nL 385.18853 15.611636 \nL 396.437434 15.544047 \nL 396.437434 15.476458 \nL 404.562661 15.408869 \nL 404.562661 15.34128 \nL 412.935216 15.273691 \nL 412.935216 15.206102 \nL 417.964246 15.138513 \nL 417.964246 15.070924 \nL 431.997896 15.003335 \nL 431.997896 14.935746 \nL 441.323127 14.868157 \nL 441.323127 14.800568 \nL 445.36284 14.732979 \nL 445.36284 14.66539 \nL 457.885032 14.597801 \nL 457.885032 14.530212 \nL 462.730855 14.462623 \nL 462.730855 14.395034 \nL 464.901857 14.327445 \nL 464.901857 14.259856 \nL 473.860675 14.192267 \nL 473.860675 14.124678 \nL 481.930939 14.057089 \nL 481.930939 13.9895 \nL 483.112624 13.921911 \nL 483.112624 13.854322 \nL 493.189004 13.786733 \nL 493.189004 13.719144 \nL 495.451609 13.651555 \nL 495.451609 13.583966 \nL 496.944746 13.516377 \nL 496.944746 13.448788 \nL 501.29591 13.381199 \nL 501.29591 13.31361 \nL 510.978395 13.246021 \nL 510.978395 13.178432 \nL 514.248638 13.110843 \nL 514.248638 13.043254 \nL 515.549407 12.975665 \nL 515.549407 12.908076 \nL 518.050182 12.840487 \nL 518.050182 12.772898 \nL 520.523475 12.705309 \nL 520.523475 12.63772 \nL 530.572374 12.570131 \nL 530.572374 12.502542 \nL 532.441085 12.434953 \nL 532.441085 12.367364 \nL 543.671668 12.299775 \nL 543.671668 12.232186 \nL 545.201446 12.164597 \nL 545.283889 12.029419 \nL 550.212155 11.96183 \nL 550.212155 11.894241 \nL 552.419798 11.826652 \nL 552.419798 11.759062 \nL 552.73125 11.759062 \nL 552.73125 11.759062 \n\" style=\"fill:none;stroke:#1f77b4;stroke-linecap:square;stroke-width:2;\"/>\n   </g>\n   <g id=\"line2d_26\">\n    <path clip-path=\"url(#p2fab383609)\" d=\"M 52.76875 378.159062 \nL 552.73125 11.759062 \n\" style=\"fill:none;stroke:#000000;stroke-dasharray:5.55,2.4;stroke-dashoffset:0;stroke-width:1.5;\"/>\n   </g>\n   <g id=\"line2d_27\">\n    <path clip-path=\"url(#p2fab383609)\" d=\"M 55.187069 378.159062 \nL 55.187069 218.115542 \n\" style=\"fill:none;stroke:#ff0000;stroke-dasharray:1.5,2.475;stroke-dashoffset:0;stroke-width:1.5;\"/>\n   </g>\n   <g id=\"line2d_28\">\n    <path clip-path=\"url(#p2fab383609)\" d=\"M 52.76875 218.115542 \nL 55.187069 218.115542 \n\" style=\"fill:none;stroke:#ff0000;stroke-dasharray:1.5,2.475;stroke-dashoffset:0;stroke-width:1.5;\"/>\n   </g>\n   <g id=\"line2d_29\">\n    <defs>\n     <path d=\"M 0 3 \nC 0.795609 3 1.55874 2.683901 2.12132 2.12132 \nC 2.683901 1.55874 3 0.795609 3 0 \nC 3 -0.795609 2.683901 -1.55874 2.12132 -2.12132 \nC 1.55874 -2.683901 0.795609 -3 0 -3 \nC -0.795609 -3 -1.55874 -2.683901 -2.12132 -2.12132 \nC -2.683901 -1.55874 -3 -0.795609 -3 0 \nC -3 0.795609 -2.683901 1.55874 -2.12132 2.12132 \nC -1.55874 2.683901 -0.795609 3 0 3 \nz\n\" id=\"md3b9db45d7\" style=\"stroke:#ff0000;\"/>\n    </defs>\n    <g clip-path=\"url(#p2fab383609)\">\n     <use style=\"fill:#ff0000;stroke:#ff0000;\" x=\"55.187069\" xlink:href=\"#md3b9db45d7\" y=\"218.115542\"/>\n    </g>\n   </g>\n   <g id=\"patch_3\">\n    <path d=\"M 52.76875 378.159062 \nL 52.76875 11.759062 \n\" style=\"fill:none;stroke:#000000;stroke-linecap:square;stroke-linejoin:miter;stroke-width:0.8;\"/>\n   </g>\n   <g id=\"patch_4\">\n    <path d=\"M 552.73125 378.159062 \nL 552.73125 11.759062 \n\" style=\"fill:none;stroke:#000000;stroke-linecap:square;stroke-linejoin:miter;stroke-width:0.8;\"/>\n   </g>\n   <g id=\"patch_5\">\n    <path d=\"M 52.76875 378.159062 \nL 552.73125 378.159062 \n\" style=\"fill:none;stroke:#000000;stroke-linecap:square;stroke-linejoin:miter;stroke-width:0.8;\"/>\n   </g>\n   <g id=\"patch_6\">\n    <path d=\"M 52.76875 11.759062 \nL 552.73125 11.759062 \n\" style=\"fill:none;stroke:#000000;stroke-linecap:square;stroke-linejoin:miter;stroke-width:0.8;\"/>\n   </g>\n  </g>\n </g>\n <defs>\n  <clipPath id=\"p2fab383609\">\n   <rect height=\"366.4\" width=\"499.9625\" x=\"52.76875\" y=\"11.759062\"/>\n  </clipPath>\n </defs>\n</svg>\n",
      "text/plain": "<Figure size 576x432 with 1 Axes>"
     },
     "metadata": {
      "needs_background": "light"
     },
     "output_type": "display_data"
    }
   ],
   "source": [
    "def plot_roc_curve(fpr, tpr, label=None):\n",
    "    plt.plot(fpr, tpr, linewidth=2, label=label)\n",
    "    plt.plot([0, 1], [0, 1], 'k--') # dashed diagonal\n",
    "    plt.axis([0, 1, 0, 1])                                    # Not shown in the book\n",
    "    plt.xlabel('False Positive Rate (Fall-Out)', fontsize=16) # Not shown\n",
    "    plt.ylabel('True Positive Rate (Recall)', fontsize=16)    # Not shown\n",
    "    plt.grid(True)                                            # Not shown\n",
    "\n",
    "plt.figure(figsize=(8, 6))                         # Not shown\n",
    "plot_roc_curve(fpr, tpr)\n",
    "plt.plot([4.837e-3, 4.837e-3], [0., 0.4368], \"r:\") # Not shown\n",
    "plt.plot([0.0, 4.837e-3], [0.4368, 0.4368], \"r:\")  # Not shown\n",
    "plt.plot([4.837e-3], [0.4368], \"ro\")               # Not shown\n",
    "save_fig(\"roc_curve_plot\")                         # Not shown\n",
    "plt.show()"
   ]
  },
  {
   "cell_type": "code",
   "execution_count": 47,
   "metadata": {},
   "outputs": [
    {
     "data": {
      "text/plain": "0.9604938554008616"
     },
     "execution_count": 47,
     "metadata": {},
     "output_type": "execute_result"
    }
   ],
   "source": [
    "from sklearn.metrics import roc_auc_score\n",
    "\n",
    "roc_auc_score(y_train_5, y_scores)"
   ]
  },
  {
   "cell_type": "markdown",
   "metadata": {},
   "source": [
    "**Note**: we set `n_estimators=100` to be future-proof since this will be the default value in Scikit-Learn 0.22."
   ]
  },
  {
   "cell_type": "code",
   "execution_count": 48,
   "metadata": {},
   "outputs": [],
   "source": [
    "from sklearn.ensemble import RandomForestClassifier\n",
    "forest_clf = RandomForestClassifier(n_estimators=100, random_state=42)\n",
    "y_probas_forest = cross_val_predict(forest_clf, X_train, y_train_5, cv=3,\n",
    "                                    method=\"predict_proba\")"
   ]
  },
  {
   "cell_type": "code",
   "execution_count": 49,
   "metadata": {},
   "outputs": [],
   "source": [
    "y_scores_forest = y_probas_forest[:, 1] # score = proba of positive class\n",
    "fpr_forest, tpr_forest, thresholds_forest = roc_curve(y_train_5,y_scores_forest)"
   ]
  },
  {
   "cell_type": "code",
   "execution_count": 50,
   "metadata": {},
   "outputs": [
    {
     "name": "stdout",
     "output_type": "stream",
     "text": "Saving figure roc_curve_comparison_plot\n"
    },
    {
     "data": {
      "image/png": "[encoded data removed]",
      "image/svg+xml": "<?xml version=\"1.0\" encoding=\"utf-8\" standalone=\"no\"?>\n<!DOCTYPE svg PUBLIC \"-//W3C//DTD SVG 1.1//EN\"\n  \"http://www.w3.org/Graphics/SVG/1.1/DTD/svg11.dtd\">\n<!-- Created with matplotlib (https://matplotlib.org/) -->\n<svg height=\"423.457812pt\" version=\"1.1\" viewBox=\"0 0 569.473125 423.457812\" width=\"569.473125pt\" xmlns=\"http://www.w3.org/2000/svg\" xmlns:xlink=\"http://www.w3.org/1999/xlink\">\n <defs>\n  <style type=\"text/css\">\n*{stroke-linecap:butt;stroke-linejoin:round;}\n  </style>\n </defs>\n <g id=\"figure_1\">\n  <g id=\"patch_1\">\n   <path d=\"M 0 423.457812 \nL 569.473125 423.457812 \nL 569.473125 0 \nL 0 0 \nz\n\" style=\"fill:none;\"/>\n  </g>\n  <g id=\"axes_1\">\n   <g id=\"patch_2\">\n    <path d=\"M 52.76875 378.159062 \nL 552.73125 378.159062 \nL 552.73125 11.759062 \nL 52.76875 11.759062 \nz\n\" style=\"fill:#ffffff;\"/>\n   </g>\n   <g id=\"matplotlib.axis_1\">\n    <g id=\"xtick_1\">\n     <g id=\"line2d_1\">\n      <path clip-path=\"url(#pad0f3cce9a)\" d=\"M 52.76875 378.159062 \nL 52.76875 11.759062 \n\" style=\"fill:none;stroke:#b0b0b0;stroke-linecap:square;stroke-width:0.8;\"/>\n     </g>\n     <g id=\"line2d_2\">\n      <defs>\n       <path d=\"M 0 0 \nL 0 3.5 \n\" id=\"m17ae020b15\" style=\"stroke:#000000;stroke-width:0.8;\"/>\n      </defs>\n      <g>\n       <use style=\"stroke:#000000;stroke-width:0.8;\" x=\"52.76875\" xlink:href=\"#m17ae020b15\" y=\"378.159062\"/>\n      </g>\n     </g>\n     <g id=\"text_1\">\n      <!-- 0.0 -->\n      <defs>\n       <path d=\"M 31.78125 66.40625 \nQ 24.171875 66.40625 20.328125 58.90625 \nQ 16.5 51.421875 16.5 36.375 \nQ 16.5 21.390625 20.328125 13.890625 \nQ 24.171875 6.390625 31.78125 6.390625 \nQ 39.453125 6.390625 43.28125 13.890625 \nQ 47.125 21.390625 47.125 36.375 \nQ 47.125 51.421875 43.28125 58.90625 \nQ 39.453125 66.40625 31.78125 66.40625 \nz\nM 31.78125 74.21875 \nQ 44.046875 74.21875 50.515625 64.515625 \nQ 56.984375 54.828125 56.984375 36.375 \nQ 56.984375 17.96875 50.515625 8.265625 \nQ 44.046875 -1.421875 31.78125 -1.421875 \nQ 19.53125 -1.421875 13.0625 8.265625 \nQ 6.59375 17.96875 6.59375 36.375 \nQ 6.59375 54.828125 13.0625 64.515625 \nQ 19.53125 74.21875 31.78125 74.21875 \nz\n\" id=\"DejaVuSans-48\"/>\n       <path d=\"M 10.6875 12.40625 \nL 21 12.40625 \nL 21 0 \nL 10.6875 0 \nz\n\" id=\"DejaVuSans-46\"/>\n      </defs>\n      <g transform=\"translate(43.226875 394.277187)scale(0.12 -0.12)\">\n       <use xlink:href=\"#DejaVuSans-48\"/>\n       <use x=\"63.623047\" xlink:href=\"#DejaVuSans-46\"/>\n       <use x=\"95.410156\" xlink:href=\"#DejaVuSans-48\"/>\n      </g>\n     </g>\n    </g>\n    <g id=\"xtick_2\">\n     <g id=\"line2d_3\">\n      <path clip-path=\"url(#pad0f3cce9a)\" d=\"M 152.76125 378.159062 \nL 152.76125 11.759062 \n\" style=\"fill:none;stroke:#b0b0b0;stroke-linecap:square;stroke-width:0.8;\"/>\n     </g>\n     <g id=\"line2d_4\">\n      <g>\n       <use style=\"stroke:#000000;stroke-width:0.8;\" x=\"152.76125\" xlink:href=\"#m17ae020b15\" y=\"378.159062\"/>\n      </g>\n     </g>\n     <g id=\"text_2\">\n      <!-- 0.2 -->\n      <defs>\n       <path d=\"M 19.1875 8.296875 \nL 53.609375 8.296875 \nL 53.609375 0 \nL 7.328125 0 \nL 7.328125 8.296875 \nQ 12.9375 14.109375 22.625 23.890625 \nQ 32.328125 33.6875 34.8125 36.53125 \nQ 39.546875 41.84375 41.421875 45.53125 \nQ 43.3125 49.21875 43.3125 52.78125 \nQ 43.3125 58.59375 39.234375 62.25 \nQ 35.15625 65.921875 28.609375 65.921875 \nQ 23.96875 65.921875 18.8125 64.3125 \nQ 13.671875 62.703125 7.8125 59.421875 \nL 7.8125 69.390625 \nQ 13.765625 71.78125 18.9375 73 \nQ 24.125 74.21875 28.421875 74.21875 \nQ 39.75 74.21875 46.484375 68.546875 \nQ 53.21875 62.890625 53.21875 53.421875 \nQ 53.21875 48.921875 51.53125 44.890625 \nQ 49.859375 40.875 45.40625 35.40625 \nQ 44.1875 33.984375 37.640625 27.21875 \nQ 31.109375 20.453125 19.1875 8.296875 \nz\n\" id=\"DejaVuSans-50\"/>\n      </defs>\n      <g transform=\"translate(143.219375 394.277187)scale(0.12 -0.12)\">\n       <use xlink:href=\"#DejaVuSans-48\"/>\n       <use x=\"63.623047\" xlink:href=\"#DejaVuSans-46\"/>\n       <use x=\"95.410156\" xlink:href=\"#DejaVuSans-50\"/>\n      </g>\n     </g>\n    </g>\n    <g id=\"xtick_3\">\n     <g id=\"line2d_5\">\n      <path clip-path=\"url(#pad0f3cce9a)\" d=\"M 252.75375 378.159062 \nL 252.75375 11.759062 \n\" style=\"fill:none;stroke:#b0b0b0;stroke-linecap:square;stroke-width:0.8;\"/>\n     </g>\n     <g id=\"line2d_6\">\n      <g>\n       <use style=\"stroke:#000000;stroke-width:0.8;\" x=\"252.75375\" xlink:href=\"#m17ae020b15\" y=\"378.159062\"/>\n      </g>\n     </g>\n     <g id=\"text_3\">\n      <!-- 0.4 -->\n      <defs>\n       <path d=\"M 37.796875 64.3125 \nL 12.890625 25.390625 \nL 37.796875 25.390625 \nz\nM 35.203125 72.90625 \nL 47.609375 72.90625 \nL 47.609375 25.390625 \nL 58.015625 25.390625 \nL 58.015625 17.1875 \nL 47.609375 17.1875 \nL 47.609375 0 \nL 37.796875 0 \nL 37.796875 17.1875 \nL 4.890625 17.1875 \nL 4.890625 26.703125 \nz\n\" id=\"DejaVuSans-52\"/>\n      </defs>\n      <g transform=\"translate(243.211875 394.277187)scale(0.12 -0.12)\">\n       <use xlink:href=\"#DejaVuSans-48\"/>\n       <use x=\"63.623047\" xlink:href=\"#DejaVuSans-46\"/>\n       <use x=\"95.410156\" xlink:href=\"#DejaVuSans-52\"/>\n      </g>\n     </g>\n    </g>\n    <g id=\"xtick_4\">\n     <g id=\"line2d_7\">\n      <path clip-path=\"url(#pad0f3cce9a)\" d=\"M 352.74625 378.159062 \nL 352.74625 11.759062 \n\" style=\"fill:none;stroke:#b0b0b0;stroke-linecap:square;stroke-width:0.8;\"/>\n     </g>\n     <g id=\"line2d_8\">\n      <g>\n       <use style=\"stroke:#000000;stroke-width:0.8;\" x=\"352.74625\" xlink:href=\"#m17ae020b15\" y=\"378.159062\"/>\n      </g>\n     </g>\n     <g id=\"text_4\">\n      <!-- 0.6 -->\n      <defs>\n       <path d=\"M 33.015625 40.375 \nQ 26.375 40.375 22.484375 35.828125 \nQ 18.609375 31.296875 18.609375 23.390625 \nQ 18.609375 15.53125 22.484375 10.953125 \nQ 26.375 6.390625 33.015625 6.390625 \nQ 39.65625 6.390625 43.53125 10.953125 \nQ 47.40625 15.53125 47.40625 23.390625 \nQ 47.40625 31.296875 43.53125 35.828125 \nQ 39.65625 40.375 33.015625 40.375 \nz\nM 52.59375 71.296875 \nL 52.59375 62.3125 \nQ 48.875 64.0625 45.09375 64.984375 \nQ 41.3125 65.921875 37.59375 65.921875 \nQ 27.828125 65.921875 22.671875 59.328125 \nQ 17.53125 52.734375 16.796875 39.40625 \nQ 19.671875 43.65625 24.015625 45.921875 \nQ 28.375 48.1875 33.59375 48.1875 \nQ 44.578125 48.1875 50.953125 41.515625 \nQ 57.328125 34.859375 57.328125 23.390625 \nQ 57.328125 12.15625 50.6875 5.359375 \nQ 44.046875 -1.421875 33.015625 -1.421875 \nQ 20.359375 -1.421875 13.671875 8.265625 \nQ 6.984375 17.96875 6.984375 36.375 \nQ 6.984375 53.65625 15.1875 63.9375 \nQ 23.390625 74.21875 37.203125 74.21875 \nQ 40.921875 74.21875 44.703125 73.484375 \nQ 48.484375 72.75 52.59375 71.296875 \nz\n\" id=\"DejaVuSans-54\"/>\n      </defs>\n      <g transform=\"translate(343.204375 394.277187)scale(0.12 -0.12)\">\n       <use xlink:href=\"#DejaVuSans-48\"/>\n       <use x=\"63.623047\" xlink:href=\"#DejaVuSans-46\"/>\n       <use x=\"95.410156\" xlink:href=\"#DejaVuSans-54\"/>\n      </g>\n     </g>\n    </g>\n    <g id=\"xtick_5\">\n     <g id=\"line2d_9\">\n      <path clip-path=\"url(#pad0f3cce9a)\" d=\"M 452.73875 378.159062 \nL 452.73875 11.759062 \n\" style=\"fill:none;stroke:#b0b0b0;stroke-linecap:square;stroke-width:0.8;\"/>\n     </g>\n     <g id=\"line2d_10\">\n      <g>\n       <use style=\"stroke:#000000;stroke-width:0.8;\" x=\"452.73875\" xlink:href=\"#m17ae020b15\" y=\"378.159062\"/>\n      </g>\n     </g>\n     <g id=\"text_5\">\n      <!-- 0.8 -->\n      <defs>\n       <path d=\"M 31.78125 34.625 \nQ 24.75 34.625 20.71875 30.859375 \nQ 16.703125 27.09375 16.703125 20.515625 \nQ 16.703125 13.921875 20.71875 10.15625 \nQ 24.75 6.390625 31.78125 6.390625 \nQ 38.8125 6.390625 42.859375 10.171875 \nQ 46.921875 13.96875 46.921875 20.515625 \nQ 46.921875 27.09375 42.890625 30.859375 \nQ 38.875 34.625 31.78125 34.625 \nz\nM 21.921875 38.8125 \nQ 15.578125 40.375 12.03125 44.71875 \nQ 8.5 49.078125 8.5 55.328125 \nQ 8.5 64.0625 14.71875 69.140625 \nQ 20.953125 74.21875 31.78125 74.21875 \nQ 42.671875 74.21875 48.875 69.140625 \nQ 55.078125 64.0625 55.078125 55.328125 \nQ 55.078125 49.078125 51.53125 44.71875 \nQ 48 40.375 41.703125 38.8125 \nQ 48.828125 37.15625 52.796875 32.3125 \nQ 56.78125 27.484375 56.78125 20.515625 \nQ 56.78125 9.90625 50.3125 4.234375 \nQ 43.84375 -1.421875 31.78125 -1.421875 \nQ 19.734375 -1.421875 13.25 4.234375 \nQ 6.78125 9.90625 6.78125 20.515625 \nQ 6.78125 27.484375 10.78125 32.3125 \nQ 14.796875 37.15625 21.921875 38.8125 \nz\nM 18.3125 54.390625 \nQ 18.3125 48.734375 21.84375 45.5625 \nQ 25.390625 42.390625 31.78125 42.390625 \nQ 38.140625 42.390625 41.71875 45.5625 \nQ 45.3125 48.734375 45.3125 54.390625 \nQ 45.3125 60.0625 41.71875 63.234375 \nQ 38.140625 66.40625 31.78125 66.40625 \nQ 25.390625 66.40625 21.84375 63.234375 \nQ 18.3125 60.0625 18.3125 54.390625 \nz\n\" id=\"DejaVuSans-56\"/>\n      </defs>\n      <g transform=\"translate(443.196875 394.277187)scale(0.12 -0.12)\">\n       <use xlink:href=\"#DejaVuSans-48\"/>\n       <use x=\"63.623047\" xlink:href=\"#DejaVuSans-46\"/>\n       <use x=\"95.410156\" xlink:href=\"#DejaVuSans-56\"/>\n      </g>\n     </g>\n    </g>\n    <g id=\"xtick_6\">\n     <g id=\"line2d_11\">\n      <path clip-path=\"url(#pad0f3cce9a)\" d=\"M 552.73125 378.159062 \nL 552.73125 11.759062 \n\" style=\"fill:none;stroke:#b0b0b0;stroke-linecap:square;stroke-width:0.8;\"/>\n     </g>\n     <g id=\"line2d_12\">\n      <g>\n       <use style=\"stroke:#000000;stroke-width:0.8;\" x=\"552.73125\" xlink:href=\"#m17ae020b15\" y=\"378.159062\"/>\n      </g>\n     </g>\n     <g id=\"text_6\">\n      <!-- 1.0 -->\n      <defs>\n       <path d=\"M 12.40625 8.296875 \nL 28.515625 8.296875 \nL 28.515625 63.921875 \nL 10.984375 60.40625 \nL 10.984375 69.390625 \nL 28.421875 72.90625 \nL 38.28125 72.90625 \nL 38.28125 8.296875 \nL 54.390625 8.296875 \nL 54.390625 0 \nL 12.40625 0 \nz\n\" id=\"DejaVuSans-49\"/>\n      </defs>\n      <g transform=\"translate(543.189375 394.277187)scale(0.12 -0.12)\">\n       <use xlink:href=\"#DejaVuSans-49\"/>\n       <use x=\"63.623047\" xlink:href=\"#DejaVuSans-46\"/>\n       <use x=\"95.410156\" xlink:href=\"#DejaVuSans-48\"/>\n      </g>\n     </g>\n    </g>\n    <g id=\"text_7\">\n     <!-- False Positive Rate (Fall-Out) -->\n     <defs>\n      <path d=\"M 9.8125 72.90625 \nL 51.703125 72.90625 \nL 51.703125 64.59375 \nL 19.671875 64.59375 \nL 19.671875 43.109375 \nL 48.578125 43.109375 \nL 48.578125 34.8125 \nL 19.671875 34.8125 \nL 19.671875 0 \nL 9.8125 0 \nz\n\" id=\"DejaVuSans-70\"/>\n      <path d=\"M 34.28125 27.484375 \nQ 23.390625 27.484375 19.1875 25 \nQ 14.984375 22.515625 14.984375 16.5 \nQ 14.984375 11.71875 18.140625 8.90625 \nQ 21.296875 6.109375 26.703125 6.109375 \nQ 34.1875 6.109375 38.703125 11.40625 \nQ 43.21875 16.703125 43.21875 25.484375 \nL 43.21875 27.484375 \nz\nM 52.203125 31.203125 \nL 52.203125 0 \nL 43.21875 0 \nL 43.21875 8.296875 \nQ 40.140625 3.328125 35.546875 0.953125 \nQ 30.953125 -1.421875 24.3125 -1.421875 \nQ 15.921875 -1.421875 10.953125 3.296875 \nQ 6 8.015625 6 15.921875 \nQ 6 25.140625 12.171875 29.828125 \nQ 18.359375 34.515625 30.609375 34.515625 \nL 43.21875 34.515625 \nL 43.21875 35.40625 \nQ 43.21875 41.609375 39.140625 45 \nQ 35.0625 48.390625 27.6875 48.390625 \nQ 23 48.390625 18.546875 47.265625 \nQ 14.109375 46.140625 10.015625 43.890625 \nL 10.015625 52.203125 \nQ 14.9375 54.109375 19.578125 55.046875 \nQ 24.21875 56 28.609375 56 \nQ 40.484375 56 46.34375 49.84375 \nQ 52.203125 43.703125 52.203125 31.203125 \nz\n\" id=\"DejaVuSans-97\"/>\n      <path d=\"M 9.421875 75.984375 \nL 18.40625 75.984375 \nL 18.40625 0 \nL 9.421875 0 \nz\n\" id=\"DejaVuSans-108\"/>\n      <path d=\"M 44.28125 53.078125 \nL 44.28125 44.578125 \nQ 40.484375 46.53125 36.375 47.5 \nQ 32.28125 48.484375 27.875 48.484375 \nQ 21.1875 48.484375 17.84375 46.4375 \nQ 14.5 44.390625 14.5 40.28125 \nQ 14.5 37.15625 16.890625 35.375 \nQ 19.28125 33.59375 26.515625 31.984375 \nL 29.59375 31.296875 \nQ 39.15625 29.25 43.1875 25.515625 \nQ 47.21875 21.78125 47.21875 15.09375 \nQ 47.21875 7.46875 41.1875 3.015625 \nQ 35.15625 -1.421875 24.609375 -1.421875 \nQ 20.21875 -1.421875 15.453125 -0.5625 \nQ 10.6875 0.296875 5.421875 2 \nL 5.421875 11.28125 \nQ 10.40625 8.6875 15.234375 7.390625 \nQ 20.0625 6.109375 24.8125 6.109375 \nQ 31.15625 6.109375 34.5625 8.28125 \nQ 37.984375 10.453125 37.984375 14.40625 \nQ 37.984375 18.0625 35.515625 20.015625 \nQ 33.0625 21.96875 24.703125 23.78125 \nL 21.578125 24.515625 \nQ 13.234375 26.265625 9.515625 29.90625 \nQ 5.8125 33.546875 5.8125 39.890625 \nQ 5.8125 47.609375 11.28125 51.796875 \nQ 16.75 56 26.8125 56 \nQ 31.78125 56 36.171875 55.265625 \nQ 40.578125 54.546875 44.28125 53.078125 \nz\n\" id=\"DejaVuSans-115\"/>\n      <path d=\"M 56.203125 29.59375 \nL 56.203125 25.203125 \nL 14.890625 25.203125 \nQ 15.484375 15.921875 20.484375 11.0625 \nQ 25.484375 6.203125 34.421875 6.203125 \nQ 39.59375 6.203125 44.453125 7.46875 \nQ 49.3125 8.734375 54.109375 11.28125 \nL 54.109375 2.78125 \nQ 49.265625 0.734375 44.1875 -0.34375 \nQ 39.109375 -1.421875 33.890625 -1.421875 \nQ 20.796875 -1.421875 13.15625 6.1875 \nQ 5.515625 13.8125 5.515625 26.8125 \nQ 5.515625 40.234375 12.765625 48.109375 \nQ 20.015625 56 32.328125 56 \nQ 43.359375 56 49.78125 48.890625 \nQ 56.203125 41.796875 56.203125 29.59375 \nz\nM 47.21875 32.234375 \nQ 47.125 39.59375 43.09375 43.984375 \nQ 39.0625 48.390625 32.421875 48.390625 \nQ 24.90625 48.390625 20.390625 44.140625 \nQ 15.875 39.890625 15.1875 32.171875 \nz\n\" id=\"DejaVuSans-101\"/>\n      <path id=\"DejaVuSans-32\"/>\n      <path d=\"M 19.671875 64.796875 \nL 19.671875 37.40625 \nL 32.078125 37.40625 \nQ 38.96875 37.40625 42.71875 40.96875 \nQ 46.484375 44.53125 46.484375 51.125 \nQ 46.484375 57.671875 42.71875 61.234375 \nQ 38.96875 64.796875 32.078125 64.796875 \nz\nM 9.8125 72.90625 \nL 32.078125 72.90625 \nQ 44.34375 72.90625 50.609375 67.359375 \nQ 56.890625 61.8125 56.890625 51.125 \nQ 56.890625 40.328125 50.609375 34.8125 \nQ 44.34375 29.296875 32.078125 29.296875 \nL 19.671875 29.296875 \nL 19.671875 0 \nL 9.8125 0 \nz\n\" id=\"DejaVuSans-80\"/>\n      <path d=\"M 30.609375 48.390625 \nQ 23.390625 48.390625 19.1875 42.75 \nQ 14.984375 37.109375 14.984375 27.296875 \nQ 14.984375 17.484375 19.15625 11.84375 \nQ 23.34375 6.203125 30.609375 6.203125 \nQ 37.796875 6.203125 41.984375 11.859375 \nQ 46.1875 17.53125 46.1875 27.296875 \nQ 46.1875 37.015625 41.984375 42.703125 \nQ 37.796875 48.390625 30.609375 48.390625 \nz\nM 30.609375 56 \nQ 42.328125 56 49.015625 48.375 \nQ 55.71875 40.765625 55.71875 27.296875 \nQ 55.71875 13.875 49.015625 6.21875 \nQ 42.328125 -1.421875 30.609375 -1.421875 \nQ 18.84375 -1.421875 12.171875 6.21875 \nQ 5.515625 13.875 5.515625 27.296875 \nQ 5.515625 40.765625 12.171875 48.375 \nQ 18.84375 56 30.609375 56 \nz\n\" id=\"DejaVuSans-111\"/>\n      <path d=\"M 9.421875 54.6875 \nL 18.40625 54.6875 \nL 18.40625 0 \nL 9.421875 0 \nz\nM 9.421875 75.984375 \nL 18.40625 75.984375 \nL 18.40625 64.59375 \nL 9.421875 64.59375 \nz\n\" id=\"DejaVuSans-105\"/>\n      <path d=\"M 18.3125 70.21875 \nL 18.3125 54.6875 \nL 36.8125 54.6875 \nL 36.8125 47.703125 \nL 18.3125 47.703125 \nL 18.3125 18.015625 \nQ 18.3125 11.328125 20.140625 9.421875 \nQ 21.96875 7.515625 27.59375 7.515625 \nL 36.8125 7.515625 \nL 36.8125 0 \nL 27.59375 0 \nQ 17.1875 0 13.234375 3.875 \nQ 9.28125 7.765625 9.28125 18.015625 \nL 9.28125 47.703125 \nL 2.6875 47.703125 \nL 2.6875 54.6875 \nL 9.28125 54.6875 \nL 9.28125 70.21875 \nz\n\" id=\"DejaVuSans-116\"/>\n      <path d=\"M 2.984375 54.6875 \nL 12.5 54.6875 \nL 29.59375 8.796875 \nL 46.6875 54.6875 \nL 56.203125 54.6875 \nL 35.6875 0 \nL 23.484375 0 \nz\n\" id=\"DejaVuSans-118\"/>\n      <path d=\"M 44.390625 34.1875 \nQ 47.5625 33.109375 50.5625 29.59375 \nQ 53.5625 26.078125 56.59375 19.921875 \nL 66.609375 0 \nL 56 0 \nL 46.6875 18.703125 \nQ 43.0625 26.03125 39.671875 28.421875 \nQ 36.28125 30.8125 30.421875 30.8125 \nL 19.671875 30.8125 \nL 19.671875 0 \nL 9.8125 0 \nL 9.8125 72.90625 \nL 32.078125 72.90625 \nQ 44.578125 72.90625 50.734375 67.671875 \nQ 56.890625 62.453125 56.890625 51.90625 \nQ 56.890625 45.015625 53.6875 40.46875 \nQ 50.484375 35.9375 44.390625 34.1875 \nz\nM 19.671875 64.796875 \nL 19.671875 38.921875 \nL 32.078125 38.921875 \nQ 39.203125 38.921875 42.84375 42.21875 \nQ 46.484375 45.515625 46.484375 51.90625 \nQ 46.484375 58.296875 42.84375 61.546875 \nQ 39.203125 64.796875 32.078125 64.796875 \nz\n\" id=\"DejaVuSans-82\"/>\n      <path d=\"M 31 75.875 \nQ 24.46875 64.65625 21.28125 53.65625 \nQ 18.109375 42.671875 18.109375 31.390625 \nQ 18.109375 20.125 21.3125 9.0625 \nQ 24.515625 -2 31 -13.1875 \nL 23.1875 -13.1875 \nQ 15.875 -1.703125 12.234375 9.375 \nQ 8.59375 20.453125 8.59375 31.390625 \nQ 8.59375 42.28125 12.203125 53.3125 \nQ 15.828125 64.359375 23.1875 75.875 \nz\n\" id=\"DejaVuSans-40\"/>\n      <path d=\"M 4.890625 31.390625 \nL 31.203125 31.390625 \nL 31.203125 23.390625 \nL 4.890625 23.390625 \nz\n\" id=\"DejaVuSans-45\"/>\n      <path d=\"M 39.40625 66.21875 \nQ 28.65625 66.21875 22.328125 58.203125 \nQ 16.015625 50.203125 16.015625 36.375 \nQ 16.015625 22.609375 22.328125 14.59375 \nQ 28.65625 6.59375 39.40625 6.59375 \nQ 50.140625 6.59375 56.421875 14.59375 \nQ 62.703125 22.609375 62.703125 36.375 \nQ 62.703125 50.203125 56.421875 58.203125 \nQ 50.140625 66.21875 39.40625 66.21875 \nz\nM 39.40625 74.21875 \nQ 54.734375 74.21875 63.90625 63.9375 \nQ 73.09375 53.65625 73.09375 36.375 \nQ 73.09375 19.140625 63.90625 8.859375 \nQ 54.734375 -1.421875 39.40625 -1.421875 \nQ 24.03125 -1.421875 14.8125 8.828125 \nQ 5.609375 19.09375 5.609375 36.375 \nQ 5.609375 53.65625 14.8125 63.9375 \nQ 24.03125 74.21875 39.40625 74.21875 \nz\n\" id=\"DejaVuSans-79\"/>\n      <path d=\"M 8.5 21.578125 \nL 8.5 54.6875 \nL 17.484375 54.6875 \nL 17.484375 21.921875 \nQ 17.484375 14.15625 20.5 10.265625 \nQ 23.53125 6.390625 29.59375 6.390625 \nQ 36.859375 6.390625 41.078125 11.03125 \nQ 45.3125 15.671875 45.3125 23.6875 \nL 45.3125 54.6875 \nL 54.296875 54.6875 \nL 54.296875 0 \nL 45.3125 0 \nL 45.3125 8.40625 \nQ 42.046875 3.421875 37.71875 1 \nQ 33.40625 -1.421875 27.6875 -1.421875 \nQ 18.265625 -1.421875 13.375 4.4375 \nQ 8.5 10.296875 8.5 21.578125 \nz\nM 31.109375 56 \nz\n\" id=\"DejaVuSans-117\"/>\n      <path d=\"M 8.015625 75.875 \nL 15.828125 75.875 \nQ 23.140625 64.359375 26.78125 53.3125 \nQ 30.421875 42.28125 30.421875 31.390625 \nQ 30.421875 20.453125 26.78125 9.375 \nQ 23.140625 -1.703125 15.828125 -13.1875 \nL 8.015625 -13.1875 \nQ 14.5 -2 17.703125 9.0625 \nQ 20.90625 20.125 20.90625 31.390625 \nQ 20.90625 42.671875 17.703125 53.65625 \nQ 14.5 64.65625 8.015625 75.875 \nz\n\" id=\"DejaVuSans-41\"/>\n     </defs>\n     <g transform=\"translate(187.10625 412.930312)scale(0.16 -0.16)\">\n      <use xlink:href=\"#DejaVuSans-70\"/>\n      <use x=\"57.378906\" xlink:href=\"#DejaVuSans-97\"/>\n      <use x=\"118.658203\" xlink:href=\"#DejaVuSans-108\"/>\n      <use x=\"146.441406\" xlink:href=\"#DejaVuSans-115\"/>\n      <use x=\"198.541016\" xlink:href=\"#DejaVuSans-101\"/>\n      <use x=\"260.064453\" xlink:href=\"#DejaVuSans-32\"/>\n      <use x=\"291.851562\" xlink:href=\"#DejaVuSans-80\"/>\n      <use x=\"352.107422\" xlink:href=\"#DejaVuSans-111\"/>\n      <use x=\"413.289062\" xlink:href=\"#DejaVuSans-115\"/>\n      <use x=\"465.388672\" xlink:href=\"#DejaVuSans-105\"/>\n      <use x=\"493.171875\" xlink:href=\"#DejaVuSans-116\"/>\n      <use x=\"532.380859\" xlink:href=\"#DejaVuSans-105\"/>\n      <use x=\"560.164062\" xlink:href=\"#DejaVuSans-118\"/>\n      <use x=\"619.34375\" xlink:href=\"#DejaVuSans-101\"/>\n      <use x=\"680.867188\" xlink:href=\"#DejaVuSans-32\"/>\n      <use x=\"712.654297\" xlink:href=\"#DejaVuSans-82\"/>\n      <use x=\"782.105469\" xlink:href=\"#DejaVuSans-97\"/>\n      <use x=\"843.384766\" xlink:href=\"#DejaVuSans-116\"/>\n      <use x=\"882.59375\" xlink:href=\"#DejaVuSans-101\"/>\n      <use x=\"944.117188\" xlink:href=\"#DejaVuSans-32\"/>\n      <use x=\"975.904297\" xlink:href=\"#DejaVuSans-40\"/>\n      <use x=\"1014.917969\" xlink:href=\"#DejaVuSans-70\"/>\n      <use x=\"1072.296875\" xlink:href=\"#DejaVuSans-97\"/>\n      <use x=\"1133.576172\" xlink:href=\"#DejaVuSans-108\"/>\n      <use x=\"1161.359375\" xlink:href=\"#DejaVuSans-108\"/>\n      <use x=\"1189.142578\" xlink:href=\"#DejaVuSans-45\"/>\n      <use x=\"1225.257812\" xlink:href=\"#DejaVuSans-79\"/>\n      <use x=\"1303.96875\" xlink:href=\"#DejaVuSans-117\"/>\n      <use x=\"1367.347656\" xlink:href=\"#DejaVuSans-116\"/>\n      <use x=\"1406.556641\" xlink:href=\"#DejaVuSans-41\"/>\n     </g>\n    </g>\n   </g>\n   <g id=\"matplotlib.axis_2\">\n    <g id=\"ytick_1\">\n     <g id=\"line2d_13\">\n      <path clip-path=\"url(#pad0f3cce9a)\" d=\"M 52.76875 378.159062 \nL 552.73125 378.159062 \n\" style=\"fill:none;stroke:#b0b0b0;stroke-linecap:square;stroke-width:0.8;\"/>\n     </g>\n     <g id=\"line2d_14\">\n      <defs>\n       <path d=\"M 0 0 \nL -3.5 0 \n\" id=\"m87ca1dec10\" style=\"stroke:#000000;stroke-width:0.8;\"/>\n      </defs>\n      <g>\n       <use style=\"stroke:#000000;stroke-width:0.8;\" x=\"52.76875\" xlink:href=\"#m87ca1dec10\" y=\"378.159062\"/>\n      </g>\n     </g>\n     <g id=\"text_8\">\n      <!-- 0.0 -->\n      <g transform=\"translate(26.685 382.718125)scale(0.12 -0.12)\">\n       <use xlink:href=\"#DejaVuSans-48\"/>\n       <use x=\"63.623047\" xlink:href=\"#DejaVuSans-46\"/>\n       <use x=\"95.410156\" xlink:href=\"#DejaVuSans-48\"/>\n      </g>\n     </g>\n    </g>\n    <g id=\"ytick_2\">\n     <g id=\"line2d_15\">\n      <path clip-path=\"url(#pad0f3cce9a)\" d=\"M 52.76875 304.879062 \nL 552.73125 304.879062 \n\" style=\"fill:none;stroke:#b0b0b0;stroke-linecap:square;stroke-width:0.8;\"/>\n     </g>\n     <g id=\"line2d_16\">\n      <g>\n       <use style=\"stroke:#000000;stroke-width:0.8;\" x=\"52.76875\" xlink:href=\"#m87ca1dec10\" y=\"304.879062\"/>\n      </g>\n     </g>\n     <g id=\"text_9\">\n      <!-- 0.2 -->\n      <g transform=\"translate(26.685 309.438125)scale(0.12 -0.12)\">\n       <use xlink:href=\"#DejaVuSans-48\"/>\n       <use x=\"63.623047\" xlink:href=\"#DejaVuSans-46\"/>\n       <use x=\"95.410156\" xlink:href=\"#DejaVuSans-50\"/>\n      </g>\n     </g>\n    </g>\n    <g id=\"ytick_3\">\n     <g id=\"line2d_17\">\n      <path clip-path=\"url(#pad0f3cce9a)\" d=\"M 52.76875 231.599062 \nL 552.73125 231.599062 \n\" style=\"fill:none;stroke:#b0b0b0;stroke-linecap:square;stroke-width:0.8;\"/>\n     </g>\n     <g id=\"line2d_18\">\n      <g>\n       <use style=\"stroke:#000000;stroke-width:0.8;\" x=\"52.76875\" xlink:href=\"#m87ca1dec10\" y=\"231.599062\"/>\n      </g>\n     </g>\n     <g id=\"text_10\">\n      <!-- 0.4 -->\n      <g transform=\"translate(26.685 236.158125)scale(0.12 -0.12)\">\n       <use xlink:href=\"#DejaVuSans-48\"/>\n       <use x=\"63.623047\" xlink:href=\"#DejaVuSans-46\"/>\n       <use x=\"95.410156\" xlink:href=\"#DejaVuSans-52\"/>\n      </g>\n     </g>\n    </g>\n    <g id=\"ytick_4\">\n     <g id=\"line2d_19\">\n      <path clip-path=\"url(#pad0f3cce9a)\" d=\"M 52.76875 158.319062 \nL 552.73125 158.319062 \n\" style=\"fill:none;stroke:#b0b0b0;stroke-linecap:square;stroke-width:0.8;\"/>\n     </g>\n     <g id=\"line2d_20\">\n      <g>\n       <use style=\"stroke:#000000;stroke-width:0.8;\" x=\"52.76875\" xlink:href=\"#m87ca1dec10\" y=\"158.319062\"/>\n      </g>\n     </g>\n     <g id=\"text_11\">\n      <!-- 0.6 -->\n      <g transform=\"translate(26.685 162.878125)scale(0.12 -0.12)\">\n       <use xlink:href=\"#DejaVuSans-48\"/>\n       <use x=\"63.623047\" xlink:href=\"#DejaVuSans-46\"/>\n       <use x=\"95.410156\" xlink:href=\"#DejaVuSans-54\"/>\n      </g>\n     </g>\n    </g>\n    <g id=\"ytick_5\">\n     <g id=\"line2d_21\">\n      <path clip-path=\"url(#pad0f3cce9a)\" d=\"M 52.76875 85.039062 \nL 552.73125 85.039062 \n\" style=\"fill:none;stroke:#b0b0b0;stroke-linecap:square;stroke-width:0.8;\"/>\n     </g>\n     <g id=\"line2d_22\">\n      <g>\n       <use style=\"stroke:#000000;stroke-width:0.8;\" x=\"52.76875\" xlink:href=\"#m87ca1dec10\" y=\"85.039062\"/>\n      </g>\n     </g>\n     <g id=\"text_12\">\n      <!-- 0.8 -->\n      <g transform=\"translate(26.685 89.598125)scale(0.12 -0.12)\">\n       <use xlink:href=\"#DejaVuSans-48\"/>\n       <use x=\"63.623047\" xlink:href=\"#DejaVuSans-46\"/>\n       <use x=\"95.410156\" xlink:href=\"#DejaVuSans-56\"/>\n      </g>\n     </g>\n    </g>\n    <g id=\"ytick_6\">\n     <g id=\"line2d_23\">\n      <path clip-path=\"url(#pad0f3cce9a)\" d=\"M 52.76875 11.759062 \nL 552.73125 11.759062 \n\" style=\"fill:none;stroke:#b0b0b0;stroke-linecap:square;stroke-width:0.8;\"/>\n     </g>\n     <g id=\"line2d_24\">\n      <g>\n       <use style=\"stroke:#000000;stroke-width:0.8;\" x=\"52.76875\" xlink:href=\"#m87ca1dec10\" y=\"11.759062\"/>\n      </g>\n     </g>\n     <g id=\"text_13\">\n      <!-- 1.0 -->\n      <g transform=\"translate(26.685 16.318125)scale(0.12 -0.12)\">\n       <use xlink:href=\"#DejaVuSans-49\"/>\n       <use x=\"63.623047\" xlink:href=\"#DejaVuSans-46\"/>\n       <use x=\"95.410156\" xlink:href=\"#DejaVuSans-48\"/>\n      </g>\n     </g>\n    </g>\n    <g id=\"text_14\">\n     <!-- True Positive Rate (Recall) -->\n     <defs>\n      <path d=\"M -0.296875 72.90625 \nL 61.375 72.90625 \nL 61.375 64.59375 \nL 35.5 64.59375 \nL 35.5 0 \nL 25.59375 0 \nL 25.59375 64.59375 \nL -0.296875 64.59375 \nz\n\" id=\"DejaVuSans-84\"/>\n      <path d=\"M 41.109375 46.296875 \nQ 39.59375 47.171875 37.8125 47.578125 \nQ 36.03125 48 33.890625 48 \nQ 26.265625 48 22.1875 43.046875 \nQ 18.109375 38.09375 18.109375 28.8125 \nL 18.109375 0 \nL 9.078125 0 \nL 9.078125 54.6875 \nL 18.109375 54.6875 \nL 18.109375 46.1875 \nQ 20.953125 51.171875 25.484375 53.578125 \nQ 30.03125 56 36.53125 56 \nQ 37.453125 56 38.578125 55.875 \nQ 39.703125 55.765625 41.0625 55.515625 \nz\n\" id=\"DejaVuSans-114\"/>\n      <path d=\"M 48.78125 52.59375 \nL 48.78125 44.1875 \nQ 44.96875 46.296875 41.140625 47.34375 \nQ 37.3125 48.390625 33.40625 48.390625 \nQ 24.65625 48.390625 19.8125 42.84375 \nQ 14.984375 37.3125 14.984375 27.296875 \nQ 14.984375 17.28125 19.8125 11.734375 \nQ 24.65625 6.203125 33.40625 6.203125 \nQ 37.3125 6.203125 41.140625 7.25 \nQ 44.96875 8.296875 48.78125 10.40625 \nL 48.78125 2.09375 \nQ 45.015625 0.34375 40.984375 -0.53125 \nQ 36.96875 -1.421875 32.421875 -1.421875 \nQ 20.0625 -1.421875 12.78125 6.34375 \nQ 5.515625 14.109375 5.515625 27.296875 \nQ 5.515625 40.671875 12.859375 48.328125 \nQ 20.21875 56 33.015625 56 \nQ 37.15625 56 41.109375 55.140625 \nQ 45.0625 54.296875 48.78125 52.59375 \nz\n\" id=\"DejaVuSans-99\"/>\n     </defs>\n     <g transform=\"translate(19.3575 300.840312)rotate(-90)scale(0.16 -0.16)\">\n      <use xlink:href=\"#DejaVuSans-84\"/>\n      <use x=\"60.865234\" xlink:href=\"#DejaVuSans-114\"/>\n      <use x=\"101.978516\" xlink:href=\"#DejaVuSans-117\"/>\n      <use x=\"165.357422\" xlink:href=\"#DejaVuSans-101\"/>\n      <use x=\"226.880859\" xlink:href=\"#DejaVuSans-32\"/>\n      <use x=\"258.667969\" xlink:href=\"#DejaVuSans-80\"/>\n      <use x=\"318.923828\" xlink:href=\"#DejaVuSans-111\"/>\n      <use x=\"380.105469\" xlink:href=\"#DejaVuSans-115\"/>\n      <use x=\"432.205078\" xlink:href=\"#DejaVuSans-105\"/>\n      <use x=\"459.988281\" xlink:href=\"#DejaVuSans-116\"/>\n      <use x=\"499.197266\" xlink:href=\"#DejaVuSans-105\"/>\n      <use x=\"526.980469\" xlink:href=\"#DejaVuSans-118\"/>\n      <use x=\"586.160156\" xlink:href=\"#DejaVuSans-101\"/>\n      <use x=\"647.683594\" xlink:href=\"#DejaVuSans-32\"/>\n      <use x=\"679.470703\" xlink:href=\"#DejaVuSans-82\"/>\n      <use x=\"748.921875\" xlink:href=\"#DejaVuSans-97\"/>\n      <use x=\"810.201172\" xlink:href=\"#DejaVuSans-116\"/>\n      <use x=\"849.410156\" xlink:href=\"#DejaVuSans-101\"/>\n      <use x=\"910.933594\" xlink:href=\"#DejaVuSans-32\"/>\n      <use x=\"942.720703\" xlink:href=\"#DejaVuSans-40\"/>\n      <use x=\"981.734375\" xlink:href=\"#DejaVuSans-82\"/>\n      <use x=\"1051.154297\" xlink:href=\"#DejaVuSans-101\"/>\n      <use x=\"1112.677734\" xlink:href=\"#DejaVuSans-99\"/>\n      <use x=\"1167.658203\" xlink:href=\"#DejaVuSans-97\"/>\n      <use x=\"1228.9375\" xlink:href=\"#DejaVuSans-108\"/>\n      <use x=\"1256.720703\" xlink:href=\"#DejaVuSans-108\"/>\n      <use x=\"1284.503906\" xlink:href=\"#DejaVuSans-41\"/>\n     </g>\n    </g>\n   </g>\n   <g id=\"line2d_25\">\n    <path clip-path=\"url(#pad0f3cce9a)\" d=\"M 52.76875 378.159062 \nL 52.878674 354.300143 \nL 52.887834 354.300143 \nL 52.997759 334.496565 \nL 53.006919 334.496565 \nL 53.116843 313.206028 \nL 53.126003 313.206028 \nL 53.235928 304.689813 \nL 53.263409 304.689813 \nL 53.373333 298.268858 \nL 53.382493 298.268858 \nL 53.492417 289.549876 \nL 53.501578 289.549876 \nL 53.611502 283.12892 \nL 53.620662 283.12892 \nL 53.730586 275.896897 \nL 53.739747 275.896897 \nL 53.84051 265.623368 \nL 53.867991 265.555779 \nL 53.977916 258.391344 \nL 53.987076 258.391344 \nL 54.097 253.119402 \nL 54.10616 253.119402 \nL 54.216085 247.577103 \nL 54.225245 247.577103 \nL 54.335169 241.088559 \nL 54.35349 241.02097 \nL 54.463414 236.289739 \nL 54.490895 236.22215 \nL 54.600819 230.882619 \nL 54.609979 230.882619 \nL 54.719904 223.920951 \nL 54.738224 223.920951 \nL 54.848148 218.986954 \nL 54.857309 218.986954 \nL 54.967233 214.390902 \nL 54.985554 214.390902 \nL 55.095478 210.40315 \nL 55.113798 210.335561 \nL 55.223723 207.158878 \nL 55.232883 207.158878 \nL 55.342807 203.982195 \nL 55.351967 203.982195 \nL 55.461892 202.089703 \nL 55.480212 202.022114 \nL 55.590136 199.318553 \nL 55.599297 199.318553 \nL 55.709221 197.155705 \nL 55.718381 197.155705 \nL 55.828305 195.263213 \nL 55.837466 195.263213 \nL 55.94739 191.545818 \nL 55.965711 191.545818 \nL 56.075635 188.369134 \nL 56.084795 188.369134 \nL 56.194719 185.530396 \nL 56.20388 185.530396 \nL 56.304643 182.826836 \nL 56.322964 182.826836 \nL 56.423728 180.52881 \nL 56.442049 180.52881 \nL 56.524492 178.839085 \nL 56.579454 178.771496 \nL 56.689378 175.189278 \nL 56.707699 175.121689 \nL 56.799302 173.972676 \nL 56.835943 173.972676 \nL 56.945868 172.35054 \nL 56.955028 172.35054 \nL 57.046631 170.795993 \nL 57.074112 170.795993 \nL 57.184037 167.754488 \nL 57.193197 167.754488 \nL 57.303121 165.59164 \nL 57.339762 165.59164 \nL 57.449687 163.699147 \nL 57.458847 163.699147 \nL 57.568771 161.130765 \nL 57.596252 161.130765 \nL 57.706176 159.238273 \nL 57.715337 159.238273 \nL 57.80694 157.075425 \nL 57.834421 157.075425 \nL 57.935185 155.723645 \nL 57.953506 155.723645 \nL 58.054269 153.29044 \nL 58.07259 153.29044 \nL 58.182514 151.735893 \nL 58.200835 151.668304 \nL 58.301599 149.91099 \nL 58.319919 149.91099 \nL 58.429844 148.356443 \nL 58.448164 148.356443 \nL 58.558088 147.545375 \nL 58.567249 147.545375 \nL 58.677173 145.314938 \nL 58.686333 145.314938 \nL 58.796257 143.625213 \nL 58.814578 143.557624 \nL 58.924502 142.003077 \nL 58.951983 142.003077 \nL 59.061907 139.434694 \nL 59.13519 139.367105 \nL 59.245114 138.218092 \nL 59.254275 138.218092 \nL 59.364199 136.731134 \nL 59.382519 136.731134 \nL 59.492444 135.64971 \nL 59.501604 135.64971 \nL 59.602368 134.97382 \nL 59.64817 134.97382 \nL 59.758094 133.959985 \nL 59.767254 133.959985 \nL 59.877178 132.94615 \nL 59.886338 132.94615 \nL 59.996263 130.377768 \nL 60.023744 130.377768 \nL 60.106187 129.972234 \nL 60.151989 129.972234 \nL 60.243592 128.14733 \nL 60.280233 128.079741 \nL 60.380997 127.268673 \nL 60.44512 127.201084 \nL 60.536723 125.916893 \nL 60.564204 125.916893 \nL 60.674128 124.362346 \nL 60.683289 124.362346 \nL 60.784052 122.807799 \nL 60.811533 122.807799 \nL 60.921458 121.658786 \nL 60.967259 121.591197 \nL 61.077183 120.239417 \nL 61.104664 120.171828 \nL 61.205428 119.428349 \nL 61.223749 119.428349 \nL 61.315352 118.752459 \nL 61.388635 118.68487 \nL 61.489399 117.603445 \nL 61.51688 117.603445 \nL 61.626804 116.859966 \nL 61.654285 116.792377 \nL 61.745889 116.116487 \nL 61.819171 116.116487 \nL 61.929096 114.899885 \nL 61.965737 114.832296 \nL 62.05734 113.615694 \nL 62.093982 113.615694 \nL 62.167265 113.007393 \nL 62.249708 112.939804 \nL 62.359632 111.85838 \nL 62.377952 111.85838 \nL 62.478716 111.114901 \nL 62.497037 111.114901 \nL 62.57948 110.168655 \nL 62.625282 110.101066 \nL 62.735206 109.627943 \nL 62.762687 109.627943 \nL 62.85429 109.019642 \nL 62.927573 108.952053 \nL 63.019177 108.276163 \nL 63.064978 108.208574 \nL 63.165742 107.532684 \nL 63.193223 107.465095 \nL 63.303147 106.586438 \nL 63.330628 106.586438 \nL 63.394751 106.316082 \nL 63.477194 106.248492 \nL 63.577958 105.978136 \nL 63.697042 105.910547 \nL 63.797806 105.572602 \nL 63.816127 105.572602 \nL 63.926051 104.761534 \nL 63.953532 104.761534 \nL 64.045135 104.356 \nL 64.15506 104.288411 \nL 64.264984 103.342165 \nL 64.292465 103.274576 \nL 64.356587 102.869042 \nL 64.43903 102.869042 \nL 64.548954 102.32833 \nL 64.576435 102.260741 \nL 64.658879 101.65244 \nL 64.70468 101.584851 \nL 64.814604 100.841372 \nL 64.823765 100.841372 \nL 64.887887 100.233071 \nL 64.942849 100.233071 \nL 65.006972 99.692359 \nL 65.089415 99.62477 \nL 65.190179 99.151647 \nL 65.208499 99.151647 \nL 65.318423 98.205401 \nL 65.336744 98.137812 \nL 65.437508 97.529511 \nL 65.474149 97.529511 \nL 65.538272 96.853621 \nL 65.684837 96.786032 \nL 65.794761 96.312909 \nL 65.803922 96.312909 \nL 65.886365 95.772197 \nL 65.941327 95.772197 \nL 66.02377 95.299074 \nL 66.069572 95.299074 \nL 66.170336 94.555595 \nL 66.225298 94.488005 \nL 66.326061 94.014882 \nL 66.371863 93.947293 \nL 66.472627 93.203814 \nL 66.527589 93.136225 \nL 66.637513 92.527924 \nL 66.710796 92.460335 \nL 66.82072 92.189979 \nL 66.848201 92.12239 \nL 66.958125 91.716856 \nL 66.976446 91.716856 \nL 67.07721 90.838199 \nL 67.113851 90.77061 \nL 67.214615 90.432665 \nL 67.242096 90.365076 \nL 67.333699 89.891953 \nL 67.397822 89.824364 \nL 67.498586 89.148474 \nL 67.553548 89.080885 \nL 67.663472 88.472584 \nL 67.681793 88.472584 \nL 67.745915 88.06705 \nL 67.892481 87.999461 \nL 67.956603 87.661516 \nL 68.057367 87.593927 \nL 68.167291 87.053215 \nL 68.249734 86.985626 \nL 68.359658 86.647681 \nL 68.3963 86.580092 \nL 68.497063 86.174558 \nL 68.588667 86.106969 \nL 68.689431 85.431079 \nL 68.735232 85.36349 \nL 68.835996 85.025545 \nL 68.9276 84.957956 \nL 69.000882 84.620011 \nL 69.092486 84.552422 \nL 69.174929 84.282066 \nL 69.220731 84.282066 \nL 69.312334 83.741354 \nL 69.431419 83.673765 \nL 69.532182 83.268231 \nL 69.550503 83.268231 \nL 69.614625 83.065464 \nL 69.715389 82.997875 \nL 69.779512 82.457162 \nL 69.861955 82.389573 \nL 69.962719 81.781272 \nL 70.036001 81.781272 \nL 70.145926 81.24056 \nL 70.374934 81.172971 \nL 70.374934 80.970204 \nL 70.576462 80.902615 \nL 70.686386 80.361903 \nL 70.723027 80.294314 \nL 70.814631 79.550835 \nL 70.942876 79.483246 \nL 71.025319 79.21289 \nL 71.245167 79.145301 \nL 71.281808 78.739767 \nL 71.410053 78.672178 \nL 71.474176 78.266644 \nL 71.565779 78.266644 \nL 71.675703 77.86111 \nL 71.758146 77.793521 \nL 71.85891 76.982453 \nL 72.005476 76.914864 \nL 72.106239 76.50933 \nL 72.197843 76.441741 \nL 72.289446 75.968618 \nL 72.445172 75.901029 \nL 72.536776 75.360317 \nL 72.582577 75.292728 \nL 72.582577 75.089961 \nL 72.820746 75.022372 \nL 72.875708 74.819605 \nL 73.040595 74.752016 \nL 73.132198 74.278893 \nL 73.205481 74.278893 \nL 73.306245 73.738181 \nL 73.370367 73.670592 \nL 73.471131 73.535414 \nL 73.489452 73.535414 \nL 73.544414 73.062291 \nL 73.690979 72.994702 \nL 73.800903 72.724346 \nL 73.828384 72.656757 \nL 73.919988 72.386401 \nL 74.011591 72.386401 \nL 74.084874 71.980867 \nL 74.194798 71.913278 \nL 74.268081 71.710511 \nL 74.442128 71.642922 \nL 74.524571 71.440155 \nL 74.680297 71.372566 \nL 74.716938 71.237388 \nL 74.890985 71.169799 \nL 74.991748 70.967032 \nL 75.055871 70.967032 \nL 75.101672 70.764264 \nL 75.3032 70.764264 \nL 75.413124 70.223552 \nL 75.431445 70.155963 \nL 75.532209 69.885607 \nL 75.56885 69.818018 \nL 75.56885 69.68284 \nL 75.697095 69.615251 \nL 75.779538 69.277306 \nL 75.816179 69.277306 \nL 75.926104 68.736594 \nL 75.981066 68.669005 \nL 76.072669 68.533827 \nL 76.173433 68.466238 \nL 76.237555 68.128293 \nL 76.439083 68.060704 \nL 76.549007 67.857937 \nL 76.649771 67.790348 \nL 76.677252 67.65517 \nL 76.814657 67.587581 \nL 76.842138 67.384814 \nL 76.988704 67.317225 \nL 77.025345 67.046869 \nL 77.15359 66.97928 \nL 77.263514 66.776513 \nL 77.300155 66.708924 \nL 77.373438 66.438568 \nL 77.4284 66.438568 \nL 77.520004 66.033034 \nL 77.584126 65.965445 \nL 77.602447 65.762678 \nL 77.794814 65.695089 \nL 77.794814 65.6275 \nL 77.996342 65.6275 \nL 78.069624 65.289555 \nL 78.179549 65.221966 \nL 78.289473 64.884021 \nL 78.326114 64.884021 \nL 78.344435 64.681254 \nL 78.47268 64.613665 \nL 78.500161 64.478487 \nL 78.646726 64.410898 \nL 78.655887 64.208131 \nL 78.875735 64.140542 \nL 78.976499 63.802597 \nL 79.168866 63.735008 \nL 79.27879 63.532241 \nL 79.452837 63.464652 \nL 79.489478 63.126707 \nL 79.617723 63.059118 \nL 79.727647 62.788762 \nL 79.745968 62.721173 \nL 79.745968 62.653584 \nL 79.892533 62.585995 \nL 79.947495 62.315639 \nL 80.213145 62.24805 \nL 80.213145 62.180461 \nL 80.405513 62.180461 \nL 80.506276 61.910105 \nL 80.726125 61.842516 \nL 80.817728 61.639749 \nL 80.881851 61.57216 \nL 80.964294 61.301804 \nL 81.321547 61.234215 \nL 81.38567 61.099037 \nL 81.477273 61.031448 \nL 81.578037 60.761092 \nL 81.623838 60.693503 \nL 81.715442 60.490736 \nL 81.825366 60.423147 \nL 81.93529 60.085202 \nL 81.990252 60.017613 \nL 82.100176 59.679668 \nL 82.265063 59.612079 \nL 82.374987 59.476901 \nL 82.420789 59.409312 \nL 82.503232 59.138956 \nL 82.576514 59.071367 \nL 82.686439 58.80101 \nL 82.851325 58.733421 \nL 82.906287 58.598243 \nL 83.025371 58.530654 \nL 83.025371 58.463065 \nL 83.272701 58.395476 \nL 83.364304 58.192709 \nL 83.639115 58.12512 \nL 83.739878 57.651997 \nL 83.840642 57.584408 \nL 83.877284 57.44923 \nL 84.078811 57.381641 \nL 84.133773 57.246463 \nL 84.426904 57.178874 \nL 84.445225 56.908518 \nL 84.765837 56.840929 \nL 84.85744 56.638162 \nL 84.958204 56.570573 \nL 85.058968 56.367806 \nL 85.251335 56.300217 \nL 85.342939 56.029861 \nL 85.462023 55.962272 \nL 85.562787 55.827094 \nL 85.91088 55.759505 \nL 85.965842 55.489149 \nL 86.139889 55.42156 \nL 86.222332 55.151204 \nL 86.43302 55.083615 \nL 86.515463 54.813259 \nL 86.561265 54.74567 \nL 86.671189 54.610492 \nL 86.95516 54.542903 \nL 87.046763 54.407725 \nL 87.120046 54.407725 \nL 87.120046 54.272547 \nL 87.376536 54.204958 \nL 87.376536 54.137369 \nL 87.541422 54.06978 \nL 87.541422 54.002191 \nL 87.862034 53.934602 \nL 87.962798 53.799424 \nL 88.081882 53.731835 \nL 88.191806 53.461479 \nL 88.750587 53.39389 \nL 88.750587 53.326301 \nL 89.190284 53.258712 \nL 89.245246 53.123534 \nL 89.510896 53.055945 \nL 89.510896 52.988356 \nL 89.813187 52.920767 \nL 89.87731 52.650411 \nL 90.023875 52.582822 \nL 90.060517 52.312466 \nL 90.381129 52.244877 \nL 90.381129 52.177288 \nL 90.555175 52.177288 \nL 90.555175 52.04211 \nL 90.839146 51.974521 \nL 90.875788 51.839343 \nL 91.031513 51.771754 \nL 91.104796 51.501398 \nL 91.242201 51.501398 \nL 91.251362 51.298631 \nL 91.535332 51.231042 \nL 91.645257 51.028275 \nL 91.764341 50.960686 \nL 91.764341 50.893097 \nL 92.039151 50.825508 \nL 92.103274 50.69033 \nL 92.332282 50.622741 \nL 92.368924 50.487563 \nL 92.643734 50.487563 \nL 92.726177 50.149618 \nL 92.881903 50.082029 \nL 92.991827 49.879262 \nL 93.028469 49.811673 \nL 93.092591 49.608906 \nL 93.156714 49.608906 \nL 93.266638 49.406139 \nL 93.440684 49.33855 \nL 93.440684 49.270961 \nL 93.633052 49.203372 \nL 93.678853 49.068194 \nL 93.898702 49.000605 \nL 94.008626 48.865427 \nL 94.292596 48.797838 \nL 94.3842 48.595071 \nL 94.503284 48.527482 \nL 94.503284 48.459893 \nL 94.695652 48.392304 \nL 94.750614 48.121948 \nL 95.034584 48.054359 \nL 95.144509 47.784003 \nL 95.300234 47.716414 \nL 95.300234 47.648825 \nL 95.758252 47.581236 \nL 95.767412 47.446058 \nL 96.042222 47.378469 \nL 96.042222 47.31088 \nL 96.179628 47.243291 \nL 96.207109 47.108112 \nL 96.78421 47.040523 \nL 96.866653 46.770167 \nL 96.985738 46.702578 \nL 97.086502 46.432222 \nL 97.196426 46.364633 \nL 97.196426 46.297044 \nL 97.397954 46.229455 \nL 97.397954 46.161866 \nL 97.599481 46.161866 \nL 97.654443 45.959099 \nL 97.782688 45.89151 \nL 97.782688 45.823921 \nL 98.130781 45.756332 \nL 98.167423 45.621154 \nL 98.497195 45.553565 \nL 98.570478 45.418387 \nL 99.129259 45.350798 \nL 99.230023 45.21562 \nL 99.532314 45.148031 \nL 99.532314 45.080442 \nL 100.054454 45.012853 \nL 100.054454 44.945264 \nL 100.329264 44.877675 \nL 100.329264 44.810086 \nL 100.695678 44.742497 \nL 100.713999 44.607319 \nL 101.226978 44.53973 \nL 101.226978 44.472141 \nL 101.401025 44.472141 \nL 101.401025 44.336963 \nL 101.758278 44.269374 \nL 101.758278 44.201785 \nL 102.234616 44.134196 \nL 102.33538 43.999018 \nL 102.646832 43.931429 \nL 102.655992 43.796251 \nL 103.077368 43.728662 \nL 103.114009 43.593484 \nL 103.251414 43.525895 \nL 103.251414 43.458306 \nL 103.681951 43.390717 \nL 103.782714 43.120361 \nL 103.92012 43.052772 \nL 103.92012 42.985183 \nL 104.314014 42.917594 \nL 104.314014 42.850005 \nL 104.652947 42.782416 \nL 104.652947 42.714827 \nL 104.973559 42.647238 \nL 104.973559 42.579649 \nL 105.376615 42.51206 \nL 105.413256 42.309293 \nL 105.568982 42.241704 \nL 105.568982 42.174115 \nL 105.962877 42.106526 \nL 105.962877 42.038937 \nL 106.347611 41.971348 \nL 106.375092 41.83617 \nL 106.512497 41.768581 \nL 106.58578 41.565814 \nL 106.833109 41.498225 \nL 106.933873 41.363047 \nL 107.556777 41.295458 \nL 107.556777 41.227869 \nL 107.721663 41.16028 \nL 107.831587 41.025102 \nL 108.042275 40.957513 \nL 108.042275 40.822335 \nL 108.930829 40.754746 \nL 108.930829 40.687157 \nL 109.306403 40.619568 \nL 109.306403 40.551979 \nL 109.672817 40.48439 \nL 109.672817 40.416801 \nL 110.002589 40.349212 \nL 110.002589 40.281623 \nL 110.387324 40.214034 \nL 110.387324 40.146445 \nL 110.652974 40.078856 \nL 110.698775 39.943678 \nL 110.955265 39.876089 \nL 111.001067 39.673322 \nL 111.733894 39.605733 \nL 111.834658 39.470555 \nL 112.036186 39.402966 \nL 112.036186 39.335377 \nL 112.94306 39.267788 \nL 112.94306 39.200199 \nL 113.74001 39.13261 \nL 113.794972 38.929843 \nL 114.54612 38.862254 \nL 114.54612 38.794665 \nL 114.720167 38.727076 \nL 114.784289 38.591898 \nL 115.901852 38.524309 \nL 116.002615 38.186364 \nL 116.332388 38.118775 \nL 116.341548 37.983597 \nL 116.506434 37.916008 \nL 116.552236 37.78083 \nL 116.735443 37.713241 \nL 116.735443 37.645652 \nL 117.422469 37.578063 \nL 117.422469 37.510474 \nL 118.311022 37.442885 \nL 118.311022 37.375296 \nL 118.897285 37.307707 \nL 118.897285 37.240118 \nL 119.153774 37.172529 \nL 119.263698 37.037351 \nL 119.685074 36.969762 \nL 119.721716 36.834584 \nL 120.463704 36.766995 \nL 120.546147 36.631817 \nL 120.656071 36.564228 \nL 120.729354 36.42905 \nL 121.718671 36.361461 \nL 121.718671 36.293872 \nL 122.396537 36.226283 \nL 122.47898 36.091105 \nL 123.230128 36.023516 \nL 123.230128 35.955927 \nL 124.558378 35.888338 \nL 124.558378 35.820749 \nL 125.263725 35.75316 \nL 125.263725 35.685571 \nL 125.804185 35.685571 \nL 125.804185 35.550393 \nL 126.784342 35.482804 \nL 126.784342 35.415215 \nL 127.013351 35.347625 \nL 127.013351 35.280036 \nL 127.407246 35.212447 \nL 127.425566 35.077269 \nL 128.204196 35.00968 \nL 128.204196 34.942091 \nL 128.460685 34.874502 \nL 128.460685 34.806913 \nL 128.964504 34.739324 \nL 129.074428 34.536557 \nL 129.569087 34.468968 \nL 129.64237 34.33379 \nL 130.420999 34.266201 \nL 130.420999 34.198612 \nL 130.659168 34.131023 \nL 130.659168 34.063434 \nL 131.50192 33.995845 \nL 131.50192 33.928256 \nL 131.959937 33.860667 \nL 131.959937 33.793078 \nL 132.82101 33.725489 \nL 132.82101 33.6579 \nL 133.205744 33.590311 \nL 133.205744 33.522722 \nL 133.911091 33.455133 \nL 133.911091 33.387544 \nL 134.598117 33.319955 \nL 134.598117 33.252366 \nL 135.083615 33.184777 \nL 135.083615 33.117188 \nL 135.367586 33.049599 \nL 135.367586 32.98201 \nL 135.871405 32.914421 \nL 135.908046 32.779243 \nL 136.503469 32.711654 \nL 136.595072 32.576476 \nL 137.117212 32.508887 \nL 137.117212 32.441298 \nL 137.465305 32.373709 \nL 137.465305 32.30612 \nL 137.795077 32.238531 \nL 137.795077 32.170942 \nL 138.985922 32.103353 \nL 138.985922 32.035764 \nL 139.205771 31.968175 \nL 139.205771 31.900586 \nL 139.97524 31.832997 \nL 139.97524 31.765408 \nL 140.735548 31.697819 \nL 140.735548 31.63023 \nL 142.164562 31.562641 \nL 142.164562 31.495052 \nL 142.988993 31.427463 \nL 142.988993 31.359874 \nL 143.43785 31.292285 \nL 143.43785 31.224696 \nL 144.427168 31.157107 \nL 144.427168 31.089518 \nL 144.830223 31.021929 \nL 144.830223 30.95434 \nL 145.389004 30.886751 \nL 145.389004 30.819162 \nL 145.975266 30.751573 \nL 145.975266 30.683984 \nL 147.120309 30.616395 \nL 147.120309 30.548806 \nL 147.266875 30.481217 \nL 147.266875 30.413628 \nL 149.135585 30.346039 \nL 149.135585 30.27845 \nL 149.740168 30.210861 \nL 149.740168 30.143272 \nL 149.950856 30.075683 \nL 149.950856 30.008094 \nL 150.32643 29.940505 \nL 150.32643 29.872916 \nL 150.811928 29.805327 \nL 150.903532 29.534971 \nL 151.737123 29.467382 \nL 151.737123 29.399793 \nL 152.506592 29.332204 \nL 152.506592 29.264615 \nL 153.019572 29.197026 \nL 153.037892 29.061848 \nL 153.642475 28.994259 \nL 153.642475 28.92667 \nL 153.917286 28.859081 \nL 153.917286 28.791492 \nL 155.108131 28.723903 \nL 155.108131 28.656314 \nL 155.520346 28.588725 \nL 155.520346 28.521136 \nL 156.69287 28.453547 \nL 156.747832 28.318369 \nL 157.508141 28.25078 \nL 157.508141 28.183191 \nL 158.323412 28.115602 \nL 158.323412 28.048013 \nL 158.80891 27.980424 \nL 158.80891 27.912835 \nL 159.807388 27.845246 \nL 159.807388 27.777657 \nL 161.18144 27.710068 \nL 161.236402 27.57489 \nL 162.912745 27.507301 \nL 162.912745 27.439712 \nL 163.993666 27.372123 \nL 164.09443 27.236945 \nL 164.799776 27.169356 \nL 164.799776 27.101767 \nL 165.395199 27.034178 \nL 165.395199 26.966589 \nL 165.816574 26.899 \nL 165.816574 26.831411 \nL 167.465437 26.763822 \nL 167.465437 26.696233 \nL 169.187582 26.628644 \nL 169.187582 26.561055 \nL 169.324987 26.561055 \nL 169.324987 26.425877 \nL 170.781482 26.358288 \nL 170.818123 26.22311 \nL 173.419661 26.155521 \nL 173.419661 26.087932 \nL 176.754027 26.020343 \nL 176.754027 25.952754 \nL 178.989151 25.885165 \nL 178.989151 25.817576 \nL 180.02427 25.749987 \nL 180.060912 25.614809 \nL 181.022748 25.54722 \nL 181.022748 25.479631 \nL 182.076188 25.479631 \nL 182.076188 25.344453 \nL 183.413598 25.276864 \nL 183.496041 25.141686 \nL 184.384595 25.074097 \nL 184.384595 25.006508 \nL 187.013614 24.938919 \nL 187.013614 24.87133 \nL 187.489952 24.803741 \nL 187.489952 24.736152 \nL 189.422785 24.668563 \nL 189.422785 24.600974 \nL 190.485385 24.533385 \nL 190.485385 24.465796 \nL 191.841116 24.398207 \nL 191.841116 24.330618 \nL 193.407535 24.263029 \nL 193.407535 24.19544 \nL 194.635022 24.127851 \nL 194.635022 24.060262 \nL 195.431972 23.992673 \nL 195.431972 23.925084 \nL 196.274723 23.857495 \nL 196.384648 23.722317 \nL 197.630455 23.654728 \nL 197.630455 23.587139 \nL 198.509848 23.519549 \nL 198.537329 23.384371 \nL 199.242675 23.316782 \nL 199.242675 23.249193 \nL 200.96482 23.181604 \nL 200.96482 23.114015 \nL 201.48696 23.046426 \nL 201.48696 22.978837 \nL 202.183146 22.911248 \nL 202.183146 22.843659 \nL 205.270183 22.77607 \nL 205.380107 22.640892 \nL 207.688514 22.573303 \nL 207.688514 22.505714 \nL 211.242728 22.438125 \nL 211.242728 22.370536 \nL 211.783188 22.302947 \nL 211.783188 22.235358 \nL 213.065637 22.167769 \nL 213.065637 22.10018 \nL 213.569456 22.032591 \nL 213.569456 21.965002 \nL 214.696178 21.897413 \nL 214.696178 21.829824 \nL 217.251915 21.762235 \nL 217.251915 21.694646 \nL 218.167949 21.627057 \nL 218.250392 21.42429 \nL 219.129786 21.356701 \nL 219.175587 21.153934 \nL 222.69316 21.086345 \nL 222.69316 21.018756 \nL 227.804633 20.951167 \nL 227.804633 20.883578 \nL 230.076399 20.815989 \nL 230.076399 20.7484 \nL 231.45045 20.680811 \nL 231.45045 20.613222 \nL 234.464204 20.545633 \nL 234.464204 20.478044 \nL 237.459637 20.410455 \nL 237.459637 20.342866 \nL 244.000124 20.275277 \nL 244.000124 20.207688 \nL 247.783347 20.140099 \nL 247.783347 20.07251 \nL 249.432209 20.004921 \nL 249.432209 19.937332 \nL 252.006266 19.869743 \nL 252.006266 19.802154 \nL 253.18795 19.734565 \nL 253.18795 19.666976 \nL 256.787966 19.599387 \nL 256.88873 19.464209 \nL 262.522342 19.39662 \nL 262.522342 19.329031 \nL 263.355934 19.261442 \nL 263.355934 19.193853 \nL 263.896394 19.126264 \nL 263.896394 19.058675 \nL 266.864346 18.991086 \nL 266.864346 18.923497 \nL 271.297954 18.855908 \nL 271.297954 18.788319 \nL 279.606387 18.72073 \nL 279.615547 18.585552 \nL 285.862903 18.517963 \nL 285.862903 18.450374 \nL 291.249186 18.382785 \nL 291.249186 18.315196 \nL 292.293466 18.247607 \nL 292.293466 18.180018 \nL 298.687387 18.112429 \nL 298.687387 18.04484 \nL 303.835501 17.977251 \nL 303.835501 17.909662 \nL 305.511844 17.842073 \nL 305.511844 17.774484 \nL 310.156139 17.706895 \nL 310.156139 17.639306 \nL 311.383626 17.571717 \nL 311.383626 17.504128 \nL 316.934795 17.436539 \nL 316.934795 17.36895 \nL 321.469166 17.301361 \nL 321.469166 17.233772 \nL 324.895135 17.166183 \nL 324.895135 17.098594 \nL 337.957788 17.031005 \nL 337.957788 16.963416 \nL 342.034142 16.895827 \nL 342.034142 16.828238 \nL 344.406671 16.760649 \nL 344.406671 16.69306 \nL 348.60211 16.625471 \nL 348.60211 16.557882 \nL 351.377694 16.490293 \nL 351.377694 16.422704 \nL 355.298322 16.355115 \nL 355.298322 16.287526 \nL 363.753321 16.219937 \nL 363.753321 16.152348 \nL 366.858678 16.084759 \nL 366.858678 16.01717 \nL 368.278532 15.949581 \nL 368.278532 15.881992 \nL 375.277036 15.814403 \nL 375.277036 15.746814 \nL 385.18853 15.679225 \nL 385.18853 15.611636 \nL 396.437434 15.544047 \nL 396.437434 15.476458 \nL 404.562661 15.408869 \nL 404.562661 15.34128 \nL 412.935216 15.273691 \nL 412.935216 15.206102 \nL 417.964246 15.138513 \nL 417.964246 15.070924 \nL 431.997896 15.003335 \nL 431.997896 14.935746 \nL 441.323127 14.868157 \nL 441.323127 14.800568 \nL 445.36284 14.732979 \nL 445.36284 14.66539 \nL 457.885032 14.597801 \nL 457.885032 14.530212 \nL 462.730855 14.462623 \nL 462.730855 14.395034 \nL 464.901857 14.327445 \nL 464.901857 14.259856 \nL 473.860675 14.192267 \nL 473.860675 14.124678 \nL 481.930939 14.057089 \nL 481.930939 13.9895 \nL 483.112624 13.921911 \nL 483.112624 13.854322 \nL 493.189004 13.786733 \nL 493.189004 13.719144 \nL 495.451609 13.651555 \nL 495.451609 13.583966 \nL 496.944746 13.516377 \nL 496.944746 13.448788 \nL 501.29591 13.381199 \nL 501.29591 13.31361 \nL 510.978395 13.246021 \nL 510.978395 13.178432 \nL 514.248638 13.110843 \nL 514.248638 13.043254 \nL 515.549407 12.975665 \nL 515.549407 12.908076 \nL 518.050182 12.840487 \nL 518.050182 12.772898 \nL 520.523475 12.705309 \nL 520.523475 12.63772 \nL 530.572374 12.570131 \nL 530.572374 12.502542 \nL 532.441085 12.434953 \nL 532.441085 12.367364 \nL 543.671668 12.299775 \nL 543.671668 12.232186 \nL 545.201446 12.164597 \nL 545.283889 12.029419 \nL 550.212155 11.96183 \nL 550.212155 11.894241 \nL 552.419798 11.826652 \nL 552.419798 11.759062 \nL 552.73125 11.759062 \nL 552.73125 11.759062 \n\" style=\"fill:none;stroke:#0000ff;stroke-dasharray:2,3.3;stroke-dashoffset:0;stroke-width:2;\"/>\n   </g>\n   <g id=\"line2d_26\">\n    <path clip-path=\"url(#pad0f3cce9a)\" d=\"M 52.76875 378.159062 \nL 52.76875 370.589094 \nL 52.76875 358.423073 \nL 52.76875 344.296971 \nL 52.76875 329.765334 \nL 52.76875 314.963342 \nL 52.76875 302.324198 \nL 52.76875 290.360944 \nL 52.76875 278.600457 \nL 52.76875 265.758546 \nL 52.76875 253.592525 \nL 52.76875 245.07631 \nL 52.76875 235.951794 \nL 52.76875 227.638347 \nL 52.76875 217.973119 \nL 52.76875 209.930027 \nL 52.77791 201.61658 \nL 52.796231 193.843844 \nL 52.796231 187.625655 \nL 52.796231 181.272289 \nL 52.796231 174.580977 \nL 52.796231 169.241446 \nL 52.814552 162.82049 \nL 52.814552 156.467124 \nL 52.823712 151.127592 \nL 52.823712 146.058417 \nL 52.823712 141.665131 \nL 52.823712 136.460778 \nL 52.832872 130.91848 \nL 52.832872 126.930728 \nL 52.851193 123.145744 \nL 52.878674 118.68487 \nL 52.878674 114.832296 \nL 52.896995 106.721616 \nL 52.896995 103.544932 \nL 52.906155 99.084058 \nL 52.915316 95.704608 \nL 52.915316 92.392746 \nL 52.942797 90.432665 \nL 52.961117 87.255982 \nL 52.979438 83.876532 \nL 52.988598 80.361903 \nL 52.997759 77.658343 \nL 53.02524 75.495495 \nL 53.04356 72.589168 \nL 53.080202 70.088374 \nL 53.116843 67.182047 \nL 53.116843 64.95161 \nL 53.144324 62.653584 \nL 53.180966 60.761092 \nL 53.217607 58.463065 \nL 53.30921 57.043696 \nL 53.336691 55.151204 \nL 53.409974 52.853178 \nL 53.483257 51.36622 \nL 53.529059 49.135783 \nL 53.638983 46.364633 \nL 53.748907 44.945264 \nL 53.867991 43.458306 \nL 53.913793 41.83617 \nL 54.042038 40.619568 \nL 54.133641 39.335377 \nL 54.225245 37.78083 \nL 54.35349 36.631817 \nL 54.490895 34.739324 \nL 54.582498 33.995845 \nL 54.756545 32.644065 \nL 54.921431 31.495052 \nL 55.132119 30.548806 \nL 55.461892 29.670149 \nL 55.727542 28.25078 \nL 55.984031 26.966589 \nL 56.295483 25.952754 \nL 56.671057 24.87133 \nL 57.064952 23.925084 \nL 57.54129 22.708481 \nL 58.008468 21.965002 \nL 58.677173 21.018756 \nL 59.254275 20.140099 \nL 59.886338 19.329031 \nL 60.664968 18.72073 \nL 61.672606 18.180018 \nL 62.753527 17.706895 \nL 63.88941 17.436539 \nL 65.50163 16.69306 \nL 67.159653 16.355115 \nL 69.266532 15.746814 \nL 71.813108 15.206102 \nL 74.524571 14.868157 \nL 78.371916 14.462623 \nL 82.512392 14.192267 \nL 88.384174 13.719144 \nL 95.089546 13.31361 \nL 103.828516 12.975665 \nL 115.004138 12.299775 \nL 129.834737 12.029419 \nL 150.876051 11.96183 \nL 181.572369 11.826652 \nL 231.98175 11.759062 \nL 321.395883 11.759062 \nL 552.73125 11.759062 \n\" style=\"fill:none;stroke:#1f77b4;stroke-linecap:square;stroke-width:2;\"/>\n   </g>\n   <g id=\"line2d_27\">\n    <path clip-path=\"url(#pad0f3cce9a)\" d=\"M 52.76875 378.159062 \nL 552.73125 11.759062 \n\" style=\"fill:none;stroke:#000000;stroke-dasharray:5.55,2.4;stroke-dashoffset:0;stroke-width:1.5;\"/>\n   </g>\n   <g id=\"line2d_28\">\n    <path clip-path=\"url(#pad0f3cce9a)\" d=\"M 55.187069 378.159062 \nL 55.187069 218.115542 \n\" style=\"fill:none;stroke:#ff0000;stroke-dasharray:1.5,2.475;stroke-dashoffset:0;stroke-width:1.5;\"/>\n   </g>\n   <g id=\"line2d_29\">\n    <path clip-path=\"url(#pad0f3cce9a)\" d=\"M 52.76875 218.115542 \nL 55.187069 218.115542 \n\" style=\"fill:none;stroke:#ff0000;stroke-dasharray:1.5,2.475;stroke-dashoffset:0;stroke-width:1.5;\"/>\n   </g>\n   <g id=\"line2d_30\">\n    <defs>\n     <path d=\"M 0 3 \nC 0.795609 3 1.55874 2.683901 2.12132 2.12132 \nC 2.683901 1.55874 3 0.795609 3 0 \nC 3 -0.795609 2.683901 -1.55874 2.12132 -2.12132 \nC 1.55874 -2.683901 0.795609 -3 0 -3 \nC -0.795609 -3 -1.55874 -2.683901 -2.12132 -2.12132 \nC -2.683901 -1.55874 -3 -0.795609 -3 0 \nC -3 0.795609 -2.683901 1.55874 -2.12132 2.12132 \nC -1.55874 2.683901 -0.795609 3 0 3 \nz\n\" id=\"ma80e0470aa\" style=\"stroke:#ff0000;\"/>\n    </defs>\n    <g clip-path=\"url(#pad0f3cce9a)\">\n     <use style=\"fill:#ff0000;stroke:#ff0000;\" x=\"55.187069\" xlink:href=\"#ma80e0470aa\" y=\"218.115542\"/>\n    </g>\n   </g>\n   <g id=\"line2d_31\">\n    <path clip-path=\"url(#pad0f3cce9a)\" d=\"M 55.187069 378.159062 \nL 55.187069 30.555382 \n\" style=\"fill:none;stroke:#ff0000;stroke-dasharray:1.5,2.475;stroke-dashoffset:0;stroke-width:1.5;\"/>\n   </g>\n   <g id=\"line2d_32\">\n    <g clip-path=\"url(#pad0f3cce9a)\">\n     <use style=\"fill:#ff0000;stroke:#ff0000;\" x=\"55.187069\" xlink:href=\"#ma80e0470aa\" y=\"30.555382\"/>\n    </g>\n   </g>\n   <g id=\"patch_3\">\n    <path d=\"M 52.76875 378.159062 \nL 52.76875 11.759062 \n\" style=\"fill:none;stroke:#000000;stroke-linecap:square;stroke-linejoin:miter;stroke-width:0.8;\"/>\n   </g>\n   <g id=\"patch_4\">\n    <path d=\"M 552.73125 378.159062 \nL 552.73125 11.759062 \n\" style=\"fill:none;stroke:#000000;stroke-linecap:square;stroke-linejoin:miter;stroke-width:0.8;\"/>\n   </g>\n   <g id=\"patch_5\">\n    <path d=\"M 52.76875 378.159062 \nL 552.73125 378.159062 \n\" style=\"fill:none;stroke:#000000;stroke-linecap:square;stroke-linejoin:miter;stroke-width:0.8;\"/>\n   </g>\n   <g id=\"patch_6\">\n    <path d=\"M 52.76875 11.759062 \nL 552.73125 11.759062 \n\" style=\"fill:none;stroke:#000000;stroke-linecap:square;stroke-linejoin:miter;stroke-width:0.8;\"/>\n   </g>\n   <g id=\"legend_1\">\n    <g id=\"patch_7\">\n     <path d=\"M 368.64625 370.159062 \nL 541.53125 370.159062 \nQ 544.73125 370.159062 544.73125 366.959062 \nL 544.73125 321.589062 \nQ 544.73125 318.389062 541.53125 318.389062 \nL 368.64625 318.389062 \nQ 365.44625 318.389062 365.44625 321.589062 \nL 365.44625 366.959062 \nQ 365.44625 370.159062 368.64625 370.159062 \nz\n\" style=\"fill:#ffffff;opacity:0.8;stroke:#cccccc;stroke-linejoin:miter;\"/>\n    </g>\n    <g id=\"line2d_33\">\n     <path d=\"M 371.84625 331.346562 \nL 403.84625 331.346562 \n\" style=\"fill:none;stroke:#0000ff;stroke-dasharray:2,3.3;stroke-dashoffset:0;stroke-width:2;\"/>\n    </g>\n    <g id=\"line2d_34\"/>\n    <g id=\"text_15\">\n     <!-- SGD -->\n     <defs>\n      <path d=\"M 53.515625 70.515625 \nL 53.515625 60.890625 \nQ 47.90625 63.578125 42.921875 64.890625 \nQ 37.9375 66.21875 33.296875 66.21875 \nQ 25.25 66.21875 20.875 63.09375 \nQ 16.5 59.96875 16.5 54.203125 \nQ 16.5 49.359375 19.40625 46.890625 \nQ 22.3125 44.4375 30.421875 42.921875 \nL 36.375 41.703125 \nQ 47.40625 39.59375 52.65625 34.296875 \nQ 57.90625 29 57.90625 20.125 \nQ 57.90625 9.515625 50.796875 4.046875 \nQ 43.703125 -1.421875 29.984375 -1.421875 \nQ 24.8125 -1.421875 18.96875 -0.25 \nQ 13.140625 0.921875 6.890625 3.21875 \nL 6.890625 13.375 \nQ 12.890625 10.015625 18.65625 8.296875 \nQ 24.421875 6.59375 29.984375 6.59375 \nQ 38.421875 6.59375 43.015625 9.90625 \nQ 47.609375 13.234375 47.609375 19.390625 \nQ 47.609375 24.75 44.3125 27.78125 \nQ 41.015625 30.8125 33.5 32.328125 \nL 27.484375 33.5 \nQ 16.453125 35.6875 11.515625 40.375 \nQ 6.59375 45.0625 6.59375 53.421875 \nQ 6.59375 63.09375 13.40625 68.65625 \nQ 20.21875 74.21875 32.171875 74.21875 \nQ 37.3125 74.21875 42.625 73.28125 \nQ 47.953125 72.359375 53.515625 70.515625 \nz\n\" id=\"DejaVuSans-83\"/>\n      <path d=\"M 59.515625 10.40625 \nL 59.515625 29.984375 \nL 43.40625 29.984375 \nL 43.40625 38.09375 \nL 69.28125 38.09375 \nL 69.28125 6.78125 \nQ 63.578125 2.734375 56.6875 0.65625 \nQ 49.8125 -1.421875 42 -1.421875 \nQ 24.90625 -1.421875 15.25 8.5625 \nQ 5.609375 18.5625 5.609375 36.375 \nQ 5.609375 54.25 15.25 64.234375 \nQ 24.90625 74.21875 42 74.21875 \nQ 49.125 74.21875 55.546875 72.453125 \nQ 61.96875 70.703125 67.390625 67.28125 \nL 67.390625 56.78125 \nQ 61.921875 61.421875 55.765625 63.765625 \nQ 49.609375 66.109375 42.828125 66.109375 \nQ 29.4375 66.109375 22.71875 58.640625 \nQ 16.015625 51.171875 16.015625 36.375 \nQ 16.015625 21.625 22.71875 14.15625 \nQ 29.4375 6.6875 42.828125 6.6875 \nQ 48.046875 6.6875 52.140625 7.59375 \nQ 56.25 8.5 59.515625 10.40625 \nz\n\" id=\"DejaVuSans-71\"/>\n      <path d=\"M 19.671875 64.796875 \nL 19.671875 8.109375 \nL 31.59375 8.109375 \nQ 46.6875 8.109375 53.6875 14.9375 \nQ 60.6875 21.78125 60.6875 36.53125 \nQ 60.6875 51.171875 53.6875 57.984375 \nQ 46.6875 64.796875 31.59375 64.796875 \nz\nM 9.8125 72.90625 \nL 30.078125 72.90625 \nQ 51.265625 72.90625 61.171875 64.09375 \nQ 71.09375 55.28125 71.09375 36.53125 \nQ 71.09375 17.671875 61.125 8.828125 \nQ 51.171875 0 30.078125 0 \nL 9.8125 0 \nz\n\" id=\"DejaVuSans-68\"/>\n     </defs>\n     <g transform=\"translate(416.64625 336.946562)scale(0.16 -0.16)\">\n      <use xlink:href=\"#DejaVuSans-83\"/>\n      <use x=\"63.476562\" xlink:href=\"#DejaVuSans-71\"/>\n      <use x=\"140.966797\" xlink:href=\"#DejaVuSans-68\"/>\n     </g>\n    </g>\n    <g id=\"line2d_35\">\n     <path d=\"M 371.84625 354.831562 \nL 403.84625 354.831562 \n\" style=\"fill:none;stroke:#1f77b4;stroke-linecap:square;stroke-width:2;\"/>\n    </g>\n    <g id=\"line2d_36\"/>\n    <g id=\"text_16\">\n     <!-- Random Forest -->\n     <defs>\n      <path d=\"M 54.890625 33.015625 \nL 54.890625 0 \nL 45.90625 0 \nL 45.90625 32.71875 \nQ 45.90625 40.484375 42.875 44.328125 \nQ 39.84375 48.1875 33.796875 48.1875 \nQ 26.515625 48.1875 22.3125 43.546875 \nQ 18.109375 38.921875 18.109375 30.90625 \nL 18.109375 0 \nL 9.078125 0 \nL 9.078125 54.6875 \nL 18.109375 54.6875 \nL 18.109375 46.1875 \nQ 21.34375 51.125 25.703125 53.5625 \nQ 30.078125 56 35.796875 56 \nQ 45.21875 56 50.046875 50.171875 \nQ 54.890625 44.34375 54.890625 33.015625 \nz\n\" id=\"DejaVuSans-110\"/>\n      <path d=\"M 45.40625 46.390625 \nL 45.40625 75.984375 \nL 54.390625 75.984375 \nL 54.390625 0 \nL 45.40625 0 \nL 45.40625 8.203125 \nQ 42.578125 3.328125 38.25 0.953125 \nQ 33.9375 -1.421875 27.875 -1.421875 \nQ 17.96875 -1.421875 11.734375 6.484375 \nQ 5.515625 14.40625 5.515625 27.296875 \nQ 5.515625 40.1875 11.734375 48.09375 \nQ 17.96875 56 27.875 56 \nQ 33.9375 56 38.25 53.625 \nQ 42.578125 51.265625 45.40625 46.390625 \nz\nM 14.796875 27.296875 \nQ 14.796875 17.390625 18.875 11.75 \nQ 22.953125 6.109375 30.078125 6.109375 \nQ 37.203125 6.109375 41.296875 11.75 \nQ 45.40625 17.390625 45.40625 27.296875 \nQ 45.40625 37.203125 41.296875 42.84375 \nQ 37.203125 48.484375 30.078125 48.484375 \nQ 22.953125 48.484375 18.875 42.84375 \nQ 14.796875 37.203125 14.796875 27.296875 \nz\n\" id=\"DejaVuSans-100\"/>\n      <path d=\"M 52 44.1875 \nQ 55.375 50.25 60.0625 53.125 \nQ 64.75 56 71.09375 56 \nQ 79.640625 56 84.28125 50.015625 \nQ 88.921875 44.046875 88.921875 33.015625 \nL 88.921875 0 \nL 79.890625 0 \nL 79.890625 32.71875 \nQ 79.890625 40.578125 77.09375 44.375 \nQ 74.3125 48.1875 68.609375 48.1875 \nQ 61.625 48.1875 57.5625 43.546875 \nQ 53.515625 38.921875 53.515625 30.90625 \nL 53.515625 0 \nL 44.484375 0 \nL 44.484375 32.71875 \nQ 44.484375 40.625 41.703125 44.40625 \nQ 38.921875 48.1875 33.109375 48.1875 \nQ 26.21875 48.1875 22.15625 43.53125 \nQ 18.109375 38.875 18.109375 30.90625 \nL 18.109375 0 \nL 9.078125 0 \nL 9.078125 54.6875 \nL 18.109375 54.6875 \nL 18.109375 46.1875 \nQ 21.1875 51.21875 25.484375 53.609375 \nQ 29.78125 56 35.6875 56 \nQ 41.65625 56 45.828125 52.96875 \nQ 50 49.953125 52 44.1875 \nz\n\" id=\"DejaVuSans-109\"/>\n     </defs>\n     <g transform=\"translate(416.64625 360.431562)scale(0.16 -0.16)\">\n      <use xlink:href=\"#DejaVuSans-82\"/>\n      <use x=\"69.451172\" xlink:href=\"#DejaVuSans-97\"/>\n      <use x=\"130.730469\" xlink:href=\"#DejaVuSans-110\"/>\n      <use x=\"194.109375\" xlink:href=\"#DejaVuSans-100\"/>\n      <use x=\"257.585938\" xlink:href=\"#DejaVuSans-111\"/>\n      <use x=\"318.767578\" xlink:href=\"#DejaVuSans-109\"/>\n      <use x=\"416.179688\" xlink:href=\"#DejaVuSans-32\"/>\n      <use x=\"447.966797\" xlink:href=\"#DejaVuSans-70\"/>\n      <use x=\"505.439453\" xlink:href=\"#DejaVuSans-111\"/>\n      <use x=\"566.621094\" xlink:href=\"#DejaVuSans-114\"/>\n      <use x=\"607.703125\" xlink:href=\"#DejaVuSans-101\"/>\n      <use x=\"669.226562\" xlink:href=\"#DejaVuSans-115\"/>\n      <use x=\"721.326172\" xlink:href=\"#DejaVuSans-116\"/>\n     </g>\n    </g>\n   </g>\n  </g>\n </g>\n <defs>\n  <clipPath id=\"pad0f3cce9a\">\n   <rect height=\"366.4\" width=\"499.9625\" x=\"52.76875\" y=\"11.759062\"/>\n  </clipPath>\n </defs>\n</svg>\n",
      "text/plain": "<Figure size 576x432 with 1 Axes>"
     },
     "metadata": {
      "needs_background": "light"
     },
     "output_type": "display_data"
    }
   ],
   "source": [
    "plt.figure(figsize=(8, 6))\n",
    "plt.plot(fpr, tpr, \"b:\", linewidth=2, label=\"SGD\")\n",
    "plot_roc_curve(fpr_forest, tpr_forest, \"Random Forest\")\n",
    "plt.plot([4.837e-3, 4.837e-3], [0., 0.4368], \"r:\")\n",
    "plt.plot([0.0, 4.837e-3], [0.4368, 0.4368], \"r:\")\n",
    "plt.plot([4.837e-3], [0.4368], \"ro\")\n",
    "plt.plot([4.837e-3, 4.837e-3], [0., 0.9487], \"r:\")\n",
    "plt.plot([4.837e-3], [0.9487], \"ro\")\n",
    "plt.grid(True)\n",
    "plt.legend(loc=\"lower right\", fontsize=16)\n",
    "save_fig(\"roc_curve_comparison_plot\")\n",
    "plt.show()"
   ]
  },
  {
   "cell_type": "code",
   "execution_count": 51,
   "metadata": {},
   "outputs": [
    {
     "data": {
      "text/plain": "0.9983436731328145"
     },
     "execution_count": 51,
     "metadata": {},
     "output_type": "execute_result"
    }
   ],
   "source": [
    "roc_auc_score(y_train_5, y_scores_forest)"
   ]
  },
  {
   "cell_type": "code",
   "execution_count": 52,
   "metadata": {},
   "outputs": [
    {
     "data": {
      "text/plain": "0.9905083315756169"
     },
     "execution_count": 52,
     "metadata": {},
     "output_type": "execute_result"
    }
   ],
   "source": [
    "y_train_pred_forest = cross_val_predict(forest_clf, X_train, y_train_5, cv=3)\n",
    "precision_score(y_train_5, y_train_pred_forest)"
   ]
  },
  {
   "cell_type": "code",
   "execution_count": 53,
   "metadata": {},
   "outputs": [
    {
     "data": {
      "text/plain": "0.8662608374838591"
     },
     "execution_count": 53,
     "metadata": {},
     "output_type": "execute_result"
    }
   ],
   "source": [
    "recall_score(y_train_5, y_train_pred_forest)"
   ]
  },
  {
   "cell_type": "markdown",
   "metadata": {},
   "source": [
    "# Multiclass classification"
   ]
  },
  {
   "cell_type": "code",
   "execution_count": 54,
   "metadata": {},
   "outputs": [
    {
     "data": {
      "text/plain": "array([5], dtype=uint8)"
     },
     "execution_count": 54,
     "metadata": {},
     "output_type": "execute_result"
    }
   ],
   "source": [
    "from sklearn.svm import SVC\n",
    "\n",
    "svm_clf = SVC(gamma=\"auto\", random_state=42)\n",
    "svm_clf.fit(X_train[:1000], y_train[:1000]) # y_train, not y_train_5\n",
    "svm_clf.predict([some_digit])"
   ]
  },
  {
   "cell_type": "code",
   "execution_count": 55,
   "metadata": {},
   "outputs": [
    {
     "data": {
      "text/plain": "array([[ 2.81585438,  7.09167958,  3.82972099,  0.79365551,  5.8885703 ,\n         9.29718395,  1.79862509,  8.10392157, -0.228207  ,  4.83753243]])"
     },
     "execution_count": 55,
     "metadata": {},
     "output_type": "execute_result"
    }
   ],
   "source": [
    "some_digit_scores = svm_clf.decision_function([some_digit])\n",
    "some_digit_scores"
   ]
  },
  {
   "cell_type": "code",
   "execution_count": 56,
   "metadata": {},
   "outputs": [
    {
     "data": {
      "text/plain": "5"
     },
     "execution_count": 56,
     "metadata": {},
     "output_type": "execute_result"
    }
   ],
   "source": [
    "np.argmax(some_digit_scores)"
   ]
  },
  {
   "cell_type": "code",
   "execution_count": 57,
   "metadata": {},
   "outputs": [
    {
     "data": {
      "text/plain": "array([0, 1, 2, 3, 4, 5, 6, 7, 8, 9], dtype=uint8)"
     },
     "execution_count": 57,
     "metadata": {},
     "output_type": "execute_result"
    }
   ],
   "source": [
    "svm_clf.classes_"
   ]
  },
  {
   "cell_type": "code",
   "execution_count": 58,
   "metadata": {},
   "outputs": [
    {
     "data": {
      "text/plain": "5"
     },
     "execution_count": 58,
     "metadata": {},
     "output_type": "execute_result"
    }
   ],
   "source": [
    "svm_clf.classes_[5]"
   ]
  },
  {
   "cell_type": "markdown",
   "execution_count": null,
   "metadata": {},
   "outputs": [],
   "source": [
    "### WAT NOTE: AG does not call it out here, but the SVC ctor is passed args not shown in text.\n",
    "Also note limited subset of training data differs from textbook."
   ]
  },
  {
   "cell_type": "code",
   "execution_count": 59,
   "metadata": {},
   "outputs": [
    {
     "data": {
      "text/plain": "array([5], dtype=uint8)"
     },
     "execution_count": 59,
     "metadata": {},
     "output_type": "execute_result"
    }
   ],
   "source": [
    "from sklearn.multiclass import OneVsRestClassifier\n",
    "ovr_clf = OneVsRestClassifier(SVC(gamma=\"auto\", random_state=42))\n",
    "ovr_clf.fit(X_train[:1000], y_train[:1000])\n",
    "ovr_clf.predict([some_digit])"
   ]
  },
  {
   "cell_type": "markdown",
   "execution_count": 60,
   "metadata": {},
   "outputs": [
    {
     "data": {
      "text/plain": "10"
     },
     "execution_count": 60,
     "metadata": {},
     "output_type": "execute_result"
    }
   ],
   "source": [
    "len(ovr_clf.estimators_)"
   ]
  },
  {
   "cell_type": "markdown",
   "execution_count": null,
   "metadata": {},
   "outputs": [],
   "source": [
    "(wat)  \n",
    "### Sanity check: show the image of the data being classified as a \"3\" below:"
   ]
  },
  {
   "cell_type": "code",
   "execution_count": 64,
   "metadata": {},
   "outputs": [
    {
     "data": {
      "image/png": "[encoded data removed]",
      "image/svg+xml": "<?xml version=\"1.0\" encoding=\"utf-8\" standalone=\"no\"?>\n<!DOCTYPE svg PUBLIC \"-//W3C//DTD SVG 1.1//EN\"\n  \"http://www.w3.org/Graphics/SVG/1.1/DTD/svg11.dtd\">\n<!-- Created with matplotlib (https://matplotlib.org/) -->\n<svg height=\"231.84pt\" version=\"1.1\" viewBox=\"0 0 231.84 231.84\" width=\"231.84pt\" xmlns=\"http://www.w3.org/2000/svg\" xmlns:xlink=\"http://www.w3.org/1999/xlink\">\n <defs>\n  <style type=\"text/css\">\n*{stroke-linecap:butt;stroke-linejoin:round;}\n  </style>\n </defs>\n <g id=\"figure_1\">\n  <g id=\"patch_1\">\n   <path d=\"M 0 231.84 \nL 231.84 231.84 \nL 231.84 0 \nL 0 0 \nz\n\" style=\"fill:none;\"/>\n  </g>\n  <g id=\"axes_1\">\n   <g clip-path=\"url(#p90d582fb32)\">\n    <image height=\"218\" id=\"image108b1360fc\" transform=\"scale(1 -1)translate(0 -218)\" width=\"218\" x=\"7.2\" xlink:href=\"data:image/png;base64,\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\" y=\"-6.64\"/>\n   </g>\n  </g>\n </g>\n <defs>\n  <clipPath id=\"p90d582fb32\">\n   <rect height=\"217.44\" width=\"217.44\" x=\"7.2\" y=\"7.2\"/>\n  </clipPath>\n </defs>\n</svg>\n",
      "text/plain": "<Figure size 432x288 with 1 Axes>"
     },
     "metadata": {
      "needs_background": "light"
     },
     "output_type": "display_data"
    }
   ],
   "source": [
    "plt.imshow(some_digit.reshape(28, 28), cmap=mpl.cm.binary)\n",
    "plt.axis(\"off\")\n",
    "\n",
    "plt.show()"
   ]
  },
  {
   "cell_type": "markdown",
   "execution_count": null,
   "metadata": {},
   "outputs": [],
   "source": [
    "(wat)  \n",
    "### This example gets a different (wrong) answer from code shown in book:\n",
    "`array([3], dtype=uint8)`, may have missed some seed initializer above; IME keeping track of seeds and where they're set produces trickier results than one would expect on first blush (especially when you're scrolling back and forth in a notebook evaluating cells out of order). "
   ]
  },
  {
   "cell_type": "code",
   "execution_count": 61,
   "metadata": {},
   "outputs": [
    {
     "data": {
      "text/plain": "array([3], dtype=uint8)"
     },
     "execution_count": 61,
     "metadata": {},
     "output_type": "execute_result"
    }
   ],
   "source": [
    "sgd_clf.fit(X_train, y_train)\n",
    "sgd_clf.predict([some_digit])"
   ]
  },
  {
   "cell_type": "markdown",
   "execution_count": null,
   "metadata": {},
   "outputs": [],
   "source": [
    "(wat)  \n",
    "Decision function is consistent with the answer, *5* is by far the closest runner-up, and inspection of the image above shows the featural similarity of the image to a *3*.  "
   ]
  },
  {
   "cell_type": "code",
   "execution_count": 62,
   "metadata": {},
   "outputs": [
    {
     "data": {
      "text/plain": "array([[-31893.03095419, -34419.69069632,  -9530.63950739,\n          1823.73154031, -22320.14822878,  -1385.80478895,\n        -26188.91070951, -16147.51323997,  -4604.35491274,\n        -12050.767298  ]])"
     },
     "execution_count": 62,
     "metadata": {},
     "output_type": "execute_result"
    }
   ],
   "source": [
    "sgd_clf.decision_function([some_digit])"
   ]
  },
  {
   "cell_type": "markdown",
   "execution_count": null,
   "metadata": {},
   "outputs": [],
   "source": [
    "Note that if anything, `cross_val_score` is slightly better than that shown in the text:"
   ]
  },
  {
   "cell_type": "code",
   "execution_count": 63,
   "metadata": {},
   "outputs": [
    {
     "data": {
      "text/plain": "array([0.87365, 0.85835, 0.8689 ])"
     },
     "execution_count": 63,
     "metadata": {},
     "output_type": "execute_result"
    }
   ],
   "source": [
    "cross_val_score(sgd_clf, X_train, y_train, cv=3, scoring=\"accuracy\")"
   ]
  },
  {
   "cell_type": "code",
   "execution_count": 65,
   "metadata": {},
   "outputs": [
    {
     "data": {
      "text/plain": "array([0.8983, 0.891 , 0.9018])"
     },
     "execution_count": 65,
     "metadata": {},
     "output_type": "execute_result"
    }
   ],
   "source": [
    "from sklearn.preprocessing import StandardScaler\n",
    "scaler = StandardScaler()\n",
    "X_train_scaled = scaler.fit_transform(X_train.astype(np.float64))\n",
    "cross_val_score(sgd_clf, X_train_scaled, y_train, cv=3, scoring=\"accuracy\")"
   ]
  },
  {
   "cell_type": "code",
   "execution_count": 66,
   "metadata": {},
   "outputs": [],
   "source": [
    "y_train_pred = cross_val_predict(sgd_clf, X_train_scaled, y_train, cv=3)\n",
    "conf_mx = confusion_matrix(y_train, y_train_pred)\n",
    "conf_mx"
   ]
  },
  {
   "cell_type": "code",
   "execution_count": 65,
   "metadata": {},
   "outputs": [],
   "source": [
    "def plot_confusion_matrix(matrix):\n",
    "    \"\"\"If you prefer color and a colorbar\"\"\"\n",
    "    fig = plt.figure(figsize=(8,8))\n",
    "    ax = fig.add_subplot(111)\n",
    "    cax = ax.matshow(matrix)\n",
    "    fig.colorbar(cax)"
   ]
  },
  {
   "cell_type": "code",
   "execution_count": 66,
   "metadata": {},
   "outputs": [
    {
     "name": "stdout",
     "output_type": "stream",
     "text": [
      "Saving figure confusion_matrix_plot\n"
     ]
    },
    {
     "data": {
      "image/png": "[encoded data removed]",
      "text/plain": [
       "<Figure size 288x288 with 1 Axes>"
      ]
     },
     "metadata": {
      "needs_background": "light"
     },
     "output_type": "display_data"
    }
   ],
   "source": [
    "plt.matshow(conf_mx, cmap=plt.cm.gray)\n",
    "save_fig(\"confusion_matrix_plot\", tight_layout=False)\n",
    "plt.show()"
   ]
  },
  {
   "cell_type": "code",
   "execution_count": 67,
   "metadata": {},
   "outputs": [],
   "source": [
    "row_sums = conf_mx.sum(axis=1, keepdims=True)\n",
    "norm_conf_mx = conf_mx / row_sums"
   ]
  },
  {
   "cell_type": "code",
   "execution_count": 68,
   "metadata": {},
   "outputs": [
    {
     "name": "stdout",
     "output_type": "stream",
     "text": [
      "Saving figure confusion_matrix_errors_plot\n"
     ]
    },
    {
     "data": {
      "image/png": "[encoded data removed]",
      "text/plain": [
       "<Figure size 288x288 with 1 Axes>"
      ]
     },
     "metadata": {
      "needs_background": "light"
     },
     "output_type": "display_data"
    }
   ],
   "source": [
    "np.fill_diagonal(norm_conf_mx, 0)\n",
    "plt.matshow(norm_conf_mx, cmap=plt.cm.gray)\n",
    "save_fig(\"confusion_matrix_errors_plot\", tight_layout=False)\n",
    "plt.show()"
   ]
  },
  {
   "cell_type": "code",
   "execution_count": 69,
   "metadata": {},
   "outputs": [
    {
     "name": "stdout",
     "output_type": "stream",
     "text": [
      "Saving figure error_analysis_digits_plot\n"
     ]
    },
    {
     "data": {
      "image/png": "[encoded data removed]",
      "text/plain": [
       "<Figure size 576x576 with 4 Axes>"
      ]
     },
     "metadata": {
      "needs_background": "light"
     },
     "output_type": "display_data"
    }
   ],
   "source": [
    "cl_a, cl_b = 3, 5\n",
    "X_aa = X_train[(y_train == cl_a) & (y_train_pred == cl_a)]\n",
    "X_ab = X_train[(y_train == cl_a) & (y_train_pred == cl_b)]\n",
    "X_ba = X_train[(y_train == cl_b) & (y_train_pred == cl_a)]\n",
    "X_bb = X_train[(y_train == cl_b) & (y_train_pred == cl_b)]\n",
    "\n",
    "plt.figure(figsize=(8,8))\n",
    "plt.subplot(221); plot_digits(X_aa[:25], images_per_row=5)\n",
    "plt.subplot(222); plot_digits(X_ab[:25], images_per_row=5)\n",
    "plt.subplot(223); plot_digits(X_ba[:25], images_per_row=5)\n",
    "plt.subplot(224); plot_digits(X_bb[:25], images_per_row=5)\n",
    "save_fig(\"error_analysis_digits_plot\")\n",
    "plt.show()"
   ]
  },
  {
   "cell_type": "markdown",
   "metadata": {},
   "source": [
    "# Multilabel classification"
   ]
  },
  {
   "cell_type": "code",
   "execution_count": 70,
   "metadata": {},
   "outputs": [
    {
     "data": {
      "text/plain": [
       "KNeighborsClassifier(algorithm='auto', leaf_size=30, metric='minkowski',\n",
       "           metric_params=None, n_jobs=None, n_neighbors=5, p=2,\n",
       "           weights='uniform')"
      ]
     },
     "execution_count": 70,
     "metadata": {},
     "output_type": "execute_result"
    }
   ],
   "source": [
    "from sklearn.neighbors import KNeighborsClassifier\n",
    "\n",
    "y_train_large = (y_train >= 7)\n",
    "y_train_odd = (y_train % 2 == 1)\n",
    "y_multilabel = np.c_[y_train_large, y_train_odd]\n",
    "\n",
    "knn_clf = KNeighborsClassifier()\n",
    "knn_clf.fit(X_train, y_multilabel)"
   ]
  },
  {
   "cell_type": "code",
   "execution_count": 71,
   "metadata": {},
   "outputs": [
    {
     "data": {
      "text/plain": [
       "array([[False,  True]])"
      ]
     },
     "execution_count": 71,
     "metadata": {},
     "output_type": "execute_result"
    }
   ],
   "source": [
    "knn_clf.predict([some_digit])"
   ]
  },
  {
   "cell_type": "markdown",
   "metadata": {},
   "source": [
    "**Warning**: the following cell may take a very long time (possibly hours depending on your hardware)."
   ]
  },
  {
   "cell_type": "code",
   "execution_count": 72,
   "metadata": {},
   "outputs": [
    {
     "data": {
      "text/plain": [
       "0.976410265560605"
      ]
     },
     "execution_count": 72,
     "metadata": {},
     "output_type": "execute_result"
    }
   ],
   "source": [
    "y_train_knn_pred = cross_val_predict(knn_clf, X_train, y_multilabel, cv=3)\n",
    "f1_score(y_multilabel, y_train_knn_pred, average=\"macro\")"
   ]
  },
  {
   "cell_type": "markdown",
   "metadata": {},
   "source": [
    "# Multioutput classification"
   ]
  },
  {
   "cell_type": "code",
   "execution_count": 73,
   "metadata": {},
   "outputs": [],
   "source": [
    "noise = np.random.randint(0, 100, (len(X_train), 784))\n",
    "X_train_mod = X_train + noise\n",
    "noise = np.random.randint(0, 100, (len(X_test), 784))\n",
    "X_test_mod = X_test + noise\n",
    "y_train_mod = X_train\n",
    "y_test_mod = X_test"
   ]
  },
  {
   "cell_type": "code",
   "execution_count": 74,
   "metadata": {},
   "outputs": [
    {
     "name": "stdout",
     "output_type": "stream",
     "text": [
      "Saving figure noisy_digit_example_plot\n"
     ]
    },
    {
     "data": {
      "image/png": "[encoded data removed]",
      "text/plain": [
       "<Figure size 432x288 with 2 Axes>"
      ]
     },
     "metadata": {
      "needs_background": "light"
     },
     "output_type": "display_data"
    }
   ],
   "source": [
    "some_index = 0\n",
    "plt.subplot(121); plot_digit(X_test_mod[some_index])\n",
    "plt.subplot(122); plot_digit(y_test_mod[some_index])\n",
    "save_fig(\"noisy_digit_example_plot\")\n",
    "plt.show()"
   ]
  },
  {
   "cell_type": "code",
   "execution_count": 75,
   "metadata": {},
   "outputs": [
    {
     "name": "stdout",
     "output_type": "stream",
     "text": [
      "Saving figure cleaned_digit_example_plot\n"
     ]
    },
    {
     "data": {
      "image/png": "[encoded data removed]",
      "text/plain": [
       "<Figure size 432x288 with 1 Axes>"
      ]
     },
     "metadata": {
      "needs_background": "light"
     },
     "output_type": "display_data"
    }
   ],
   "source": [
    "knn_clf.fit(X_train_mod, y_train_mod)\n",
    "clean_digit = knn_clf.predict([X_test_mod[some_index]])\n",
    "plot_digit(clean_digit)\n",
    "save_fig(\"cleaned_digit_example_plot\")"
   ]
  },
  {
   "cell_type": "markdown",
   "metadata": {},
   "source": [
    "# Extra material"
   ]
  },
  {
   "cell_type": "markdown",
   "metadata": {},
   "source": [
    "## Dummy (ie. random) classifier"
   ]
  },
  {
   "cell_type": "code",
   "execution_count": 76,
   "metadata": {},
   "outputs": [],
   "source": [
    "from sklearn.dummy import DummyClassifier\n",
    "dmy_clf = DummyClassifier()\n",
    "y_probas_dmy = cross_val_predict(dmy_clf, X_train, y_train_5, cv=3, method=\"predict_proba\")\n",
    "y_scores_dmy = y_probas_dmy[:, 1]"
   ]
  },
  {
   "cell_type": "code",
   "execution_count": 77,
   "metadata": {
    "scrolled": true
   },
   "outputs": [
    {
     "data": {
      "image/png": "[encoded data removed]",
      "text/plain": [
       "<Figure size 432x288 with 1 Axes>"
      ]
     },
     "metadata": {
      "needs_background": "light"
     },
     "output_type": "display_data"
    }
   ],
   "source": [
    "fprr, tprr, thresholdsr = roc_curve(y_train_5, y_scores_dmy)\n",
    "plot_roc_curve(fprr, tprr)"
   ]
  },
  {
   "cell_type": "markdown",
   "metadata": {},
   "source": [
    "## KNN classifier"
   ]
  },
  {
   "cell_type": "code",
   "execution_count": 78,
   "metadata": {},
   "outputs": [
    {
     "data": {
      "text/plain": [
       "KNeighborsClassifier(algorithm='auto', leaf_size=30, metric='minkowski',\n",
       "           metric_params=None, n_jobs=None, n_neighbors=4, p=2,\n",
       "           weights='distance')"
      ]
     },
     "execution_count": 78,
     "metadata": {},
     "output_type": "execute_result"
    }
   ],
   "source": [
    "from sklearn.neighbors import KNeighborsClassifier\n",
    "knn_clf = KNeighborsClassifier(weights='distance', n_neighbors=4)\n",
    "knn_clf.fit(X_train, y_train)"
   ]
  },
  {
   "cell_type": "code",
   "execution_count": 79,
   "metadata": {},
   "outputs": [],
   "source": [
    "y_knn_pred = knn_clf.predict(X_test)"
   ]
  },
  {
   "cell_type": "code",
   "execution_count": 80,
   "metadata": {},
   "outputs": [
    {
     "data": {
      "text/plain": [
       "0.9714"
      ]
     },
     "execution_count": 80,
     "metadata": {},
     "output_type": "execute_result"
    }
   ],
   "source": [
    "from sklearn.metrics import accuracy_score\n",
    "accuracy_score(y_test, y_knn_pred)"
   ]
  },
  {
   "cell_type": "code",
   "execution_count": 81,
   "metadata": {},
   "outputs": [
    {
     "data": {
      "image/png": "[encoded data removed]",
      "text/plain": [
       "<Figure size 432x288 with 1 Axes>"
      ]
     },
     "metadata": {
      "needs_background": "light"
     },
     "output_type": "display_data"
    }
   ],
   "source": [
    "from scipy.ndimage.interpolation import shift\n",
    "def shift_digit(digit_array, dx, dy, new=0):\n",
    "    return shift(digit_array.reshape(28, 28), [dy, dx], cval=new).reshape(784)\n",
    "\n",
    "plot_digit(shift_digit(some_digit, 5, 1, new=100))"
   ]
  },
  {
   "cell_type": "code",
   "execution_count": 82,
   "metadata": {},
   "outputs": [
    {
     "data": {
      "text/plain": [
       "((300000, 784), (300000,))"
      ]
     },
     "execution_count": 82,
     "metadata": {},
     "output_type": "execute_result"
    }
   ],
   "source": [
    "X_train_expanded = [X_train]\n",
    "y_train_expanded = [y_train]\n",
    "for dx, dy in ((1, 0), (-1, 0), (0, 1), (0, -1)):\n",
    "    shifted_images = np.apply_along_axis(shift_digit, axis=1, arr=X_train, dx=dx, dy=dy)\n",
    "    X_train_expanded.append(shifted_images)\n",
    "    y_train_expanded.append(y_train)\n",
    "\n",
    "X_train_expanded = np.concatenate(X_train_expanded)\n",
    "y_train_expanded = np.concatenate(y_train_expanded)\n",
    "X_train_expanded.shape, y_train_expanded.shape"
   ]
  },
  {
   "cell_type": "code",
   "execution_count": 83,
   "metadata": {},
   "outputs": [
    {
     "data": {
      "text/plain": [
       "KNeighborsClassifier(algorithm='auto', leaf_size=30, metric='minkowski',\n",
       "           metric_params=None, n_jobs=None, n_neighbors=4, p=2,\n",
       "           weights='distance')"
      ]
     },
     "execution_count": 83,
     "metadata": {},
     "output_type": "execute_result"
    }
   ],
   "source": [
    "knn_clf.fit(X_train_expanded, y_train_expanded)"
   ]
  },
  {
   "cell_type": "code",
   "execution_count": 84,
   "metadata": {},
   "outputs": [],
   "source": [
    "y_knn_expanded_pred = knn_clf.predict(X_test)"
   ]
  },
  {
   "cell_type": "code",
   "execution_count": 85,
   "metadata": {},
   "outputs": [
    {
     "data": {
      "text/plain": [
       "0.9763"
      ]
     },
     "execution_count": 85,
     "metadata": {},
     "output_type": "execute_result"
    }
   ],
   "source": [
    "accuracy_score(y_test, y_knn_expanded_pred)"
   ]
  },
  {
   "cell_type": "code",
   "execution_count": 86,
   "metadata": {},
   "outputs": [
    {
     "data": {
      "text/plain": [
       "array([[0.24579675, 0.        , 0.        , 0.        , 0.        ,\n",
       "        0.        , 0.        , 0.        , 0.        , 0.75420325]])"
      ]
     },
     "execution_count": 86,
     "metadata": {},
     "output_type": "execute_result"
    }
   ],
   "source": [
    "ambiguous_digit = X_test[2589]\n",
    "knn_clf.predict_proba([ambiguous_digit])"
   ]
  },
  {
   "cell_type": "code",
   "execution_count": 87,
   "metadata": {},
   "outputs": [
    {
     "data": {
      "image/png": "[encoded data removed]",
      "text/plain": [
       "<Figure size 432x288 with 1 Axes>"
      ]
     },
     "metadata": {
      "needs_background": "light"
     },
     "output_type": "display_data"
    }
   ],
   "source": [
    "plot_digit(ambiguous_digit)"
   ]
  },
  {
   "cell_type": "markdown",
   "metadata": {
    "collapsed": true
   },
   "source": [
    "# Exercise solutions"
   ]
  },
  {
   "cell_type": "markdown",
   "metadata": {},
   "source": [
    "## 1. An MNIST Classifier With Over 97% Accuracy"
   ]
  },
  {
   "cell_type": "markdown",
   "metadata": {},
   "source": [
    "**Warning**: the next cell may take hours to run, depending on your hardware."
   ]
  },
  {
   "cell_type": "code",
   "execution_count": 88,
   "metadata": {},
   "outputs": [
    {
     "name": "stdout",
     "output_type": "stream",
     "text": [
      "Fitting 5 folds for each of 6 candidates, totalling 30 fits\n",
      "[CV] n_neighbors=3, weights=uniform ..................................\n"
     ]
    },
    {
     "name": "stderr",
     "output_type": "stream",
     "text": [
      "[Parallel(n_jobs=1)]: Using backend SequentialBackend with 1 concurrent workers.\n"
     ]
    },
    {
     "name": "stdout",
     "output_type": "stream",
     "text": [
      "[CV]  n_neighbors=3, weights=uniform, score=0.9717617659308622, total=10.9min\n",
      "[CV] n_neighbors=3, weights=uniform ..................................\n"
     ]
    },
    {
     "name": "stderr",
     "output_type": "stream",
     "text": [
      "[Parallel(n_jobs=1)]: Done   1 out of   1 | elapsed: 52.2min remaining:    0.0s\n"
     ]
    },
    {
     "name": "stdout",
     "output_type": "stream",
     "text": [
      "[CV]  n_neighbors=3, weights=uniform, score=0.9706715547408765, total=10.7min\n",
      "[CV] n_neighbors=3, weights=uniform ..................................\n"
     ]
    },
    {
     "name": "stderr",
     "output_type": "stream",
     "text": [
      "[Parallel(n_jobs=1)]: Done   2 out of   2 | elapsed: 103.2min remaining:    0.0s\n"
     ]
    },
    {
     "name": "stdout",
     "output_type": "stream",
     "text": [
      "[CV]  n_neighbors=3, weights=uniform, score=0.9689166666666666, total=10.1min\n",
      "[CV] n_neighbors=3, weights=uniform ..................................\n",
      "[CV]  n_neighbors=3, weights=uniform, score=0.968575477202634, total=11.0min\n",
      "[CV] n_neighbors=3, weights=uniform ..................................\n",
      "[CV]  n_neighbors=3, weights=uniform, score=0.9704068022674225, total=11.0min\n",
      "[CV] n_neighbors=3, weights=distance .................................\n",
      "[CV]  n_neighbors=3, weights=distance, score=0.9723448563098709, total=10.9min\n",
      "[CV] n_neighbors=3, weights=distance .................................\n",
      "[CV]  n_neighbors=3, weights=distance, score=0.9716713881019831, total=11.2min\n",
      "[CV] n_neighbors=3, weights=distance .................................\n",
      "[CV]  n_neighbors=3, weights=distance, score=0.9700833333333333, total= 9.9min\n",
      "[CV] n_neighbors=3, weights=distance .................................\n",
      "[CV]  n_neighbors=3, weights=distance, score=0.9700758522964075, total=10.0min\n",
      "[CV] n_neighbors=3, weights=distance .................................\n",
      "[CV]  n_neighbors=3, weights=distance, score=0.971407135711904, total= 9.9min\n",
      "[CV] n_neighbors=4, weights=uniform ..................................\n",
      "[CV]  n_neighbors=4, weights=uniform, score=0.9690129112869638, total= 9.9min\n",
      "[CV] n_neighbors=4, weights=uniform ..................................\n",
      "[CV]  n_neighbors=4, weights=uniform, score=0.9682552907848692, total= 9.9min\n",
      "[CV] n_neighbors=4, weights=uniform ..................................\n",
      "[CV]  n_neighbors=4, weights=uniform, score=0.9675833333333334, total= 9.9min\n",
      "[CV] n_neighbors=4, weights=uniform ..................................\n",
      "[CV]  n_neighbors=4, weights=uniform, score=0.9673251646244895, total= 9.9min\n",
      "[CV] n_neighbors=4, weights=uniform ..................................\n",
      "[CV]  n_neighbors=4, weights=uniform, score=0.970323441147049, total= 9.9min\n",
      "[CV] n_neighbors=4, weights=distance .................................\n",
      "[CV]  n_neighbors=4, weights=distance, score=0.9730112453144523, total= 9.9min\n",
      "[CV] n_neighbors=4, weights=distance .................................\n",
      "[CV]  n_neighbors=4, weights=distance, score=0.9722546242292951, total= 9.9min\n",
      "[CV] n_neighbors=4, weights=distance .................................\n",
      "[CV]  n_neighbors=4, weights=distance, score=0.9699166666666666, total= 9.9min\n",
      "[CV] n_neighbors=4, weights=distance .................................\n",
      "[CV]  n_neighbors=4, weights=distance, score=0.9709093940151705, total=10.5min\n",
      "[CV] n_neighbors=4, weights=distance .................................\n",
      "[CV]  n_neighbors=4, weights=distance, score=0.9719906635545181, total=10.7min\n",
      "[CV] n_neighbors=5, weights=uniform ..................................\n",
      "[CV]  n_neighbors=5, weights=uniform, score=0.9697625989171179, total=10.9min\n",
      "[CV] n_neighbors=5, weights=uniform ..................................\n",
      "[CV]  n_neighbors=5, weights=uniform, score=0.9701716380603232, total=10.5min\n",
      "[CV] n_neighbors=5, weights=uniform ..................................\n",
      "[CV]  n_neighbors=5, weights=uniform, score=0.9694166666666667, total=10.5min\n",
      "[CV] n_neighbors=5, weights=uniform ..................................\n",
      "[CV]  n_neighbors=5, weights=uniform, score=0.9681587063432525, total=10.7min\n",
      "[CV] n_neighbors=5, weights=uniform ..................................\n",
      "[CV]  n_neighbors=5, weights=uniform, score=0.9689896632210737, total=10.6min\n",
      "[CV] n_neighbors=5, weights=distance .................................\n",
      "[CV]  n_neighbors=5, weights=distance, score=0.9703456892961266, total=10.6min\n",
      "[CV] n_neighbors=5, weights=distance .................................\n",
      "[CV]  n_neighbors=5, weights=distance, score=0.9713381103149475, total=11.1min\n",
      "[CV] n_neighbors=5, weights=distance .................................\n",
      "[CV]  n_neighbors=5, weights=distance, score=0.9704166666666667, total=10.4min\n",
      "[CV] n_neighbors=5, weights=distance .................................\n",
      "[CV]  n_neighbors=5, weights=distance, score=0.969409018921397, total=10.6min\n",
      "[CV] n_neighbors=5, weights=distance .................................\n",
      "[CV]  n_neighbors=5, weights=distance, score=0.9706568856285428, total=12.7min\n"
     ]
    },
    {
     "name": "stderr",
     "output_type": "stream",
     "text": [
      "[Parallel(n_jobs=1)]: Done  30 out of  30 | elapsed: 1523.6min finished\n"
     ]
    },
    {
     "data": {
      "text/plain": [
       "GridSearchCV(cv=5, error_score='raise-deprecating',\n",
       "       estimator=KNeighborsClassifier(algorithm='auto', leaf_size=30, metric='minkowski',\n",
       "           metric_params=None, n_jobs=None, n_neighbors=5, p=2,\n",
       "           weights='uniform'),\n",
       "       fit_params=None, iid='warn', n_jobs=None,\n",
       "       param_grid=[{'weights': ['uniform', 'distance'], 'n_neighbors': [3, 4, 5]}],\n",
       "       pre_dispatch='2*n_jobs', refit=True, return_train_score='warn',\n",
       "       scoring=None, verbose=3)"
      ]
     },
     "execution_count": 88,
     "metadata": {},
     "output_type": "execute_result"
    }
   ],
   "source": [
    "from sklearn.model_selection import GridSearchCV\n",
    "\n",
    "param_grid = [{'weights': [\"uniform\", \"distance\"], 'n_neighbors': [3, 4, 5]}]\n",
    "\n",
    "knn_clf = KNeighborsClassifier()\n",
    "grid_search = GridSearchCV(knn_clf, param_grid, cv=5, verbose=3)\n",
    "grid_search.fit(X_train, y_train)"
   ]
  },
  {
   "cell_type": "code",
   "execution_count": 89,
   "metadata": {},
   "outputs": [
    {
     "data": {
      "text/plain": [
       "{'n_neighbors': 4, 'weights': 'distance'}"
      ]
     },
     "execution_count": 89,
     "metadata": {},
     "output_type": "execute_result"
    }
   ],
   "source": [
    "grid_search.best_params_"
   ]
  },
  {
   "cell_type": "code",
   "execution_count": 90,
   "metadata": {},
   "outputs": [
    {
     "data": {
      "text/plain": [
       "0.9716166666666667"
      ]
     },
     "execution_count": 90,
     "metadata": {},
     "output_type": "execute_result"
    }
   ],
   "source": [
    "grid_search.best_score_"
   ]
  },
  {
   "cell_type": "code",
   "execution_count": 91,
   "metadata": {},
   "outputs": [
    {
     "data": {
      "text/plain": [
       "0.9714"
      ]
     },
     "execution_count": 91,
     "metadata": {},
     "output_type": "execute_result"
    }
   ],
   "source": [
    "from sklearn.metrics import accuracy_score\n",
    "\n",
    "y_pred = grid_search.predict(X_test)\n",
    "accuracy_score(y_test, y_pred)"
   ]
  },
  {
   "cell_type": "markdown",
   "metadata": {},
   "source": [
    "## 2. Data Augmentation"
   ]
  },
  {
   "cell_type": "code",
   "execution_count": 92,
   "metadata": {},
   "outputs": [],
   "source": [
    "from scipy.ndimage.interpolation import shift"
   ]
  },
  {
   "cell_type": "code",
   "execution_count": 93,
   "metadata": {},
   "outputs": [],
   "source": [
    "def shift_image(image, dx, dy):\n",
    "    image = image.reshape((28, 28))\n",
    "    shifted_image = shift(image, [dy, dx], cval=0, mode=\"constant\")\n",
    "    return shifted_image.reshape([-1])"
   ]
  },
  {
   "cell_type": "code",
   "execution_count": 94,
   "metadata": {},
   "outputs": [
    {
     "data": {
      "image/png": "[encoded data removed]",
      "text/plain": [
       "<Figure size 864x216 with 3 Axes>"
      ]
     },
     "metadata": {
      "needs_background": "light"
     },
     "output_type": "display_data"
    }
   ],
   "source": [
    "image = X_train[1000]\n",
    "shifted_image_down = shift_image(image, 0, 5)\n",
    "shifted_image_left = shift_image(image, -5, 0)\n",
    "\n",
    "plt.figure(figsize=(12,3))\n",
    "plt.subplot(131)\n",
    "plt.title(\"Original\", fontsize=14)\n",
    "plt.imshow(image.reshape(28, 28), interpolation=\"nearest\", cmap=\"Greys\")\n",
    "plt.subplot(132)\n",
    "plt.title(\"Shifted down\", fontsize=14)\n",
    "plt.imshow(shifted_image_down.reshape(28, 28), interpolation=\"nearest\", cmap=\"Greys\")\n",
    "plt.subplot(133)\n",
    "plt.title(\"Shifted left\", fontsize=14)\n",
    "plt.imshow(shifted_image_left.reshape(28, 28), interpolation=\"nearest\", cmap=\"Greys\")\n",
    "plt.show()"
   ]
  },
  {
   "cell_type": "code",
   "execution_count": 95,
   "metadata": {},
   "outputs": [],
   "source": [
    "X_train_augmented = [image for image in X_train]\n",
    "y_train_augmented = [label for label in y_train]\n",
    "\n",
    "for dx, dy in ((1, 0), (-1, 0), (0, 1), (0, -1)):\n",
    "    for image, label in zip(X_train, y_train):\n",
    "        X_train_augmented.append(shift_image(image, dx, dy))\n",
    "        y_train_augmented.append(label)\n",
    "\n",
    "X_train_augmented = np.array(X_train_augmented)\n",
    "y_train_augmented = np.array(y_train_augmented)"
   ]
  },
  {
   "cell_type": "code",
   "execution_count": 96,
   "metadata": {},
   "outputs": [],
   "source": [
    "shuffle_idx = np.random.permutation(len(X_train_augmented))\n",
    "X_train_augmented = X_train_augmented[shuffle_idx]\n",
    "y_train_augmented = y_train_augmented[shuffle_idx]"
   ]
  },
  {
   "cell_type": "code",
   "execution_count": 97,
   "metadata": {},
   "outputs": [],
   "source": [
    "knn_clf = KNeighborsClassifier(**grid_search.best_params_)"
   ]
  },
  {
   "cell_type": "code",
   "execution_count": 98,
   "metadata": {},
   "outputs": [
    {
     "data": {
      "text/plain": [
       "KNeighborsClassifier(algorithm='auto', leaf_size=30, metric='minkowski',\n",
       "           metric_params=None, n_jobs=None, n_neighbors=4, p=2,\n",
       "           weights='distance')"
      ]
     },
     "execution_count": 98,
     "metadata": {},
     "output_type": "execute_result"
    }
   ],
   "source": [
    "knn_clf.fit(X_train_augmented, y_train_augmented)"
   ]
  },
  {
   "cell_type": "code",
   "execution_count": 99,
   "metadata": {},
   "outputs": [
    {
     "data": {
      "text/plain": [
       "0.9763"
      ]
     },
     "execution_count": 99,
     "metadata": {},
     "output_type": "execute_result"
    }
   ],
   "source": [
    "y_pred = knn_clf.predict(X_test)\n",
    "accuracy_score(y_test, y_pred)"
   ]
  },
  {
   "cell_type": "markdown",
   "metadata": {},
   "source": [
    "By simply augmenting the data, we got a 0.5% accuracy boost. :)"
   ]
  },
  {
   "cell_type": "markdown",
   "metadata": {},
   "source": [
    "## 3. Tackle the Titanic dataset"
   ]
  },
  {
   "cell_type": "markdown",
   "metadata": {},
   "source": [
    "The goal is to predict whether or not a passenger survived based on attributes such as their age, sex, passenger class, where they embarked and so on."
   ]
  },
  {
   "cell_type": "markdown",
   "metadata": {},
   "source": [
    "First, login to [Kaggle](https://www.kaggle.com/) and go to the [Titanic challenge](https://www.kaggle.com/c/titanic) to download `train.csv` and `test.csv`. Save them to the `datasets/titanic` directory."
   ]
  },
  {
   "cell_type": "markdown",
   "metadata": {},
   "source": [
    "Next, let's load the data:"
   ]
  },
  {
   "cell_type": "code",
   "execution_count": 100,
   "metadata": {},
   "outputs": [],
   "source": [
    "import os\n",
    "\n",
    "TITANIC_PATH = os.path.join(\"datasets\", \"titanic\")"
   ]
  },
  {
   "cell_type": "code",
   "execution_count": 101,
   "metadata": {},
   "outputs": [],
   "source": [
    "import pandas as pd\n",
    "\n",
    "def load_titanic_data(filename, titanic_path=TITANIC_PATH):\n",
    "    csv_path = os.path.join(titanic_path, filename)\n",
    "    return pd.read_csv(csv_path)"
   ]
  },
  {
   "cell_type": "code",
   "execution_count": 102,
   "metadata": {},
   "outputs": [],
   "source": [
    "train_data = load_titanic_data(\"train.csv\")\n",
    "test_data = load_titanic_data(\"test.csv\")"
   ]
  },
  {
   "cell_type": "markdown",
   "metadata": {},
   "source": [
    "The data is already split into a training set and a test set. However, the test data does *not* contain the labels: your goal is to train the best model you can using the training data, then make your predictions on the test data and upload them to Kaggle to see your final score."
   ]
  },
  {
   "cell_type": "markdown",
   "metadata": {},
   "source": [
    "Let's take a peek at the top few rows of the training set:"
   ]
  },
  {
   "cell_type": "code",
   "execution_count": 103,
   "metadata": {},
   "outputs": [
    {
     "data": {
      "text/html": [
       "<div>\n",
       "<style scoped>\n",
       "    .dataframe tbody tr th:only-of-type {\n",
       "        vertical-align: middle;\n",
       "    }\n",
       "\n",
       "    .dataframe tbody tr th {\n",
       "        vertical-align: top;\n",
       "    }\n",
       "\n",
       "    .dataframe thead th {\n",
       "        text-align: right;\n",
       "    }\n",
       "</style>\n",
       "<table border=\"1\" class=\"dataframe\">\n",
       "  <thead>\n",
       "    <tr style=\"text-align: right;\">\n",
       "      <th></th>\n",
       "      <th>PassengerId</th>\n",
       "      <th>Survived</th>\n",
       "      <th>Pclass</th>\n",
       "      <th>Name</th>\n",
       "      <th>Sex</th>\n",
       "      <th>Age</th>\n",
       "      <th>SibSp</th>\n",
       "      <th>Parch</th>\n",
       "      <th>Ticket</th>\n",
       "      <th>Fare</th>\n",
       "      <th>Cabin</th>\n",
       "      <th>Embarked</th>\n",
       "    </tr>\n",
       "  </thead>\n",
       "  <tbody>\n",
       "    <tr>\n",
       "      <th>0</th>\n",
       "      <td>1</td>\n",
       "      <td>0</td>\n",
       "      <td>3</td>\n",
       "      <td>Braund, Mr. Owen Harris</td>\n",
       "      <td>male</td>\n",
       "      <td>22.0</td>\n",
       "      <td>1</td>\n",
       "      <td>0</td>\n",
       "      <td>A/5 21171</td>\n",
       "      <td>7.2500</td>\n",
       "      <td>NaN</td>\n",
       "      <td>S</td>\n",
       "    </tr>\n",
       "    <tr>\n",
       "      <th>1</th>\n",
       "      <td>2</td>\n",
       "      <td>1</td>\n",
       "      <td>1</td>\n",
       "      <td>Cumings, Mrs. John Bradley (Florence Briggs Th...</td>\n",
       "      <td>female</td>\n",
       "      <td>38.0</td>\n",
       "      <td>1</td>\n",
       "      <td>0</td>\n",
       "      <td>PC 17599</td>\n",
       "      <td>71.2833</td>\n",
       "      <td>C85</td>\n",
       "      <td>C</td>\n",
       "    </tr>\n",
       "    <tr>\n",
       "      <th>2</th>\n",
       "      <td>3</td>\n",
       "      <td>1</td>\n",
       "      <td>3</td>\n",
       "      <td>Heikkinen, Miss. Laina</td>\n",
       "      <td>female</td>\n",
       "      <td>26.0</td>\n",
       "      <td>0</td>\n",
       "      <td>0</td>\n",
       "      <td>STON/O2. 3101282</td>\n",
       "      <td>7.9250</td>\n",
       "      <td>NaN</td>\n",
       "      <td>S</td>\n",
       "    </tr>\n",
       "    <tr>\n",
       "      <th>3</th>\n",
       "      <td>4</td>\n",
       "      <td>1</td>\n",
       "      <td>1</td>\n",
       "      <td>Futrelle, Mrs. Jacques Heath (Lily May Peel)</td>\n",
       "      <td>female</td>\n",
       "      <td>35.0</td>\n",
       "      <td>1</td>\n",
       "      <td>0</td>\n",
       "      <td>113803</td>\n",
       "      <td>53.1000</td>\n",
       "      <td>C123</td>\n",
       "      <td>S</td>\n",
       "    </tr>\n",
       "    <tr>\n",
       "      <th>4</th>\n",
       "      <td>5</td>\n",
       "      <td>0</td>\n",
       "      <td>3</td>\n",
       "      <td>Allen, Mr. William Henry</td>\n",
       "      <td>male</td>\n",
       "      <td>35.0</td>\n",
       "      <td>0</td>\n",
       "      <td>0</td>\n",
       "      <td>373450</td>\n",
       "      <td>8.0500</td>\n",
       "      <td>NaN</td>\n",
       "      <td>S</td>\n",
       "    </tr>\n",
       "  </tbody>\n",
       "</table>\n",
       "</div>"
      ],
      "text/plain": [
       "   PassengerId  Survived  Pclass  \\\n",
       "0            1         0       3   \n",
       "1            2         1       1   \n",
       "2            3         1       3   \n",
       "3            4         1       1   \n",
       "4            5         0       3   \n",
       "\n",
       "                                                Name     Sex   Age  SibSp  \\\n",
       "0                            Braund, Mr. Owen Harris    male  22.0      1   \n",
       "1  Cumings, Mrs. John Bradley (Florence Briggs Th...  female  38.0      1   \n",
       "2                             Heikkinen, Miss. Laina  female  26.0      0   \n",
       "3       Futrelle, Mrs. Jacques Heath (Lily May Peel)  female  35.0      1   \n",
       "4                           Allen, Mr. William Henry    male  35.0      0   \n",
       "\n",
       "   Parch            Ticket     Fare Cabin Embarked  \n",
       "0      0         A/5 21171   7.2500   NaN        S  \n",
       "1      0          PC 17599  71.2833   C85        C  \n",
       "2      0  STON/O2. 3101282   7.9250   NaN        S  \n",
       "3      0            113803  53.1000  C123        S  \n",
       "4      0            373450   8.0500   NaN        S  "
      ]
     },
     "execution_count": 103,
     "metadata": {},
     "output_type": "execute_result"
    }
   ],
   "source": [
    "train_data.head()"
   ]
  },
  {
   "cell_type": "markdown",
   "metadata": {},
   "source": [
    "The attributes have the following meaning:\n",
    "* **Survived**: that's the target, 0 means the passenger did not survive, while 1 means he/she survived.\n",
    "* **Pclass**: passenger class.\n",
    "* **Name**, **Sex**, **Age**: self-explanatory\n",
    "* **SibSp**: how many siblings & spouses of the passenger aboard the Titanic.\n",
    "* **Parch**: how many children & parents of the passenger aboard the Titanic.\n",
    "* **Ticket**: ticket id\n",
    "* **Fare**: price paid (in pounds)\n",
    "* **Cabin**: passenger's cabin number\n",
    "* **Embarked**: where the passenger embarked the Titanic"
   ]
  },
  {
   "cell_type": "markdown",
   "metadata": {},
   "source": [
    "Let's get more info to see how much data is missing:"
   ]
  },
  {
   "cell_type": "code",
   "execution_count": 104,
   "metadata": {},
   "outputs": [
    {
     "name": "stdout",
     "output_type": "stream",
     "text": [
      "<class 'pandas.core.frame.DataFrame'>\n",
      "RangeIndex: 891 entries, 0 to 890\n",
      "Data columns (total 12 columns):\n",
      "PassengerId    891 non-null int64\n",
      "Survived       891 non-null int64\n",
      "Pclass         891 non-null int64\n",
      "Name           891 non-null object\n",
      "Sex            891 non-null object\n",
      "Age            714 non-null float64\n",
      "SibSp          891 non-null int64\n",
      "Parch          891 non-null int64\n",
      "Ticket         891 non-null object\n",
      "Fare           891 non-null float64\n",
      "Cabin          204 non-null object\n",
      "Embarked       889 non-null object\n",
      "dtypes: float64(2), int64(5), object(5)\n",
      "memory usage: 83.6+ KB\n"
     ]
    }
   ],
   "source": [
    "train_data.info()"
   ]
  },
  {
   "cell_type": "markdown",
   "metadata": {},
   "source": [
    "Okay, the **Age**, **Cabin** and **Embarked** attributes are sometimes null (less than 891 non-null), especially the **Cabin** (77% are null). We will ignore the **Cabin** for now and focus on the rest. The **Age** attribute has about 19% null values, so we will need to decide what to do with them. Replacing null values with the median age seems reasonable."
   ]
  },
  {
   "cell_type": "markdown",
   "metadata": {},
   "source": [
    "The **Name** and **Ticket** attributes may have some value, but they will be a bit tricky to convert into useful numbers that a model can consume. So for now, we will ignore them."
   ]
  },
  {
   "cell_type": "markdown",
   "metadata": {},
   "source": [
    "Let's take a look at the numerical attributes:"
   ]
  },
  {
   "cell_type": "code",
   "execution_count": 105,
   "metadata": {},
   "outputs": [
    {
     "data": {
      "text/html": [
       "<div>\n",
       "<style scoped>\n",
       "    .dataframe tbody tr th:only-of-type {\n",
       "        vertical-align: middle;\n",
       "    }\n",
       "\n",
       "    .dataframe tbody tr th {\n",
       "        vertical-align: top;\n",
       "    }\n",
       "\n",
       "    .dataframe thead th {\n",
       "        text-align: right;\n",
       "    }\n",
       "</style>\n",
       "<table border=\"1\" class=\"dataframe\">\n",
       "  <thead>\n",
       "    <tr style=\"text-align: right;\">\n",
       "      <th></th>\n",
       "      <th>PassengerId</th>\n",
       "      <th>Survived</th>\n",
       "      <th>Pclass</th>\n",
       "      <th>Age</th>\n",
       "      <th>SibSp</th>\n",
       "      <th>Parch</th>\n",
       "      <th>Fare</th>\n",
       "    </tr>\n",
       "  </thead>\n",
       "  <tbody>\n",
       "    <tr>\n",
       "      <th>count</th>\n",
       "      <td>891.000000</td>\n",
       "      <td>891.000000</td>\n",
       "      <td>891.000000</td>\n",
       "      <td>714.000000</td>\n",
       "      <td>891.000000</td>\n",
       "      <td>891.000000</td>\n",
       "      <td>891.000000</td>\n",
       "    </tr>\n",
       "    <tr>\n",
       "      <th>mean</th>\n",
       "      <td>446.000000</td>\n",
       "      <td>0.383838</td>\n",
       "      <td>2.308642</td>\n",
       "      <td>29.699118</td>\n",
       "      <td>0.523008</td>\n",
       "      <td>0.381594</td>\n",
       "      <td>32.204208</td>\n",
       "    </tr>\n",
       "    <tr>\n",
       "      <th>std</th>\n",
       "      <td>257.353842</td>\n",
       "      <td>0.486592</td>\n",
       "      <td>0.836071</td>\n",
       "      <td>14.526497</td>\n",
       "      <td>1.102743</td>\n",
       "      <td>0.806057</td>\n",
       "      <td>49.693429</td>\n",
       "    </tr>\n",
       "    <tr>\n",
       "      <th>min</th>\n",
       "      <td>1.000000</td>\n",
       "      <td>0.000000</td>\n",
       "      <td>1.000000</td>\n",
       "      <td>0.420000</td>\n",
       "      <td>0.000000</td>\n",
       "      <td>0.000000</td>\n",
       "      <td>0.000000</td>\n",
       "    </tr>\n",
       "    <tr>\n",
       "      <th>25%</th>\n",
       "      <td>223.500000</td>\n",
       "      <td>0.000000</td>\n",
       "      <td>2.000000</td>\n",
       "      <td>20.125000</td>\n",
       "      <td>0.000000</td>\n",
       "      <td>0.000000</td>\n",
       "      <td>7.910400</td>\n",
       "    </tr>\n",
       "    <tr>\n",
       "      <th>50%</th>\n",
       "      <td>446.000000</td>\n",
       "      <td>0.000000</td>\n",
       "      <td>3.000000</td>\n",
       "      <td>28.000000</td>\n",
       "      <td>0.000000</td>\n",
       "      <td>0.000000</td>\n",
       "      <td>14.454200</td>\n",
       "    </tr>\n",
       "    <tr>\n",
       "      <th>75%</th>\n",
       "      <td>668.500000</td>\n",
       "      <td>1.000000</td>\n",
       "      <td>3.000000</td>\n",
       "      <td>38.000000</td>\n",
       "      <td>1.000000</td>\n",
       "      <td>0.000000</td>\n",
       "      <td>31.000000</td>\n",
       "    </tr>\n",
       "    <tr>\n",
       "      <th>max</th>\n",
       "      <td>891.000000</td>\n",
       "      <td>1.000000</td>\n",
       "      <td>3.000000</td>\n",
       "      <td>80.000000</td>\n",
       "      <td>8.000000</td>\n",
       "      <td>6.000000</td>\n",
       "      <td>512.329200</td>\n",
       "    </tr>\n",
       "  </tbody>\n",
       "</table>\n",
       "</div>"
      ],
      "text/plain": [
       "       PassengerId    Survived      Pclass         Age       SibSp  \\\n",
       "count   891.000000  891.000000  891.000000  714.000000  891.000000   \n",
       "mean    446.000000    0.383838    2.308642   29.699118    0.523008   \n",
       "std     257.353842    0.486592    0.836071   14.526497    1.102743   \n",
       "min       1.000000    0.000000    1.000000    0.420000    0.000000   \n",
       "25%     223.500000    0.000000    2.000000   20.125000    0.000000   \n",
       "50%     446.000000    0.000000    3.000000   28.000000    0.000000   \n",
       "75%     668.500000    1.000000    3.000000   38.000000    1.000000   \n",
       "max     891.000000    1.000000    3.000000   80.000000    8.000000   \n",
       "\n",
       "            Parch        Fare  \n",
       "count  891.000000  891.000000  \n",
       "mean     0.381594   32.204208  \n",
       "std      0.806057   49.693429  \n",
       "min      0.000000    0.000000  \n",
       "25%      0.000000    7.910400  \n",
       "50%      0.000000   14.454200  \n",
       "75%      0.000000   31.000000  \n",
       "max      6.000000  512.329200  "
      ]
     },
     "execution_count": 105,
     "metadata": {},
     "output_type": "execute_result"
    }
   ],
   "source": [
    "train_data.describe()"
   ]
  },
  {
   "cell_type": "markdown",
   "metadata": {},
   "source": [
    "* Yikes, only 38% **Survived**. :(  That's close enough to 40%, so accuracy will be a reasonable metric to evaluate our model.\n",
    "* The mean **Fare** was £32.20, which does not seem so expensive (but it was probably a lot of money back then).\n",
    "* The mean **Age** was less than 30 years old."
   ]
  },
  {
   "cell_type": "markdown",
   "metadata": {},
   "source": [
    "Let's check that the target is indeed 0 or 1:"
   ]
  },
  {
   "cell_type": "code",
   "execution_count": 106,
   "metadata": {},
   "outputs": [
    {
     "data": {
      "text/plain": [
       "0    549\n",
       "1    342\n",
       "Name: Survived, dtype: int64"
      ]
     },
     "execution_count": 106,
     "metadata": {},
     "output_type": "execute_result"
    }
   ],
   "source": [
    "train_data[\"Survived\"].value_counts()"
   ]
  },
  {
   "cell_type": "markdown",
   "metadata": {},
   "source": [
    "Now let's take a quick look at all the categorical attributes:"
   ]
  },
  {
   "cell_type": "code",
   "execution_count": 107,
   "metadata": {},
   "outputs": [
    {
     "data": {
      "text/plain": [
       "3    491\n",
       "1    216\n",
       "2    184\n",
       "Name: Pclass, dtype: int64"
      ]
     },
     "execution_count": 107,
     "metadata": {},
     "output_type": "execute_result"
    }
   ],
   "source": [
    "train_data[\"Pclass\"].value_counts()"
   ]
  },
  {
   "cell_type": "code",
   "execution_count": 108,
   "metadata": {},
   "outputs": [
    {
     "data": {
      "text/plain": [
       "male      577\n",
       "female    314\n",
       "Name: Sex, dtype: int64"
      ]
     },
     "execution_count": 108,
     "metadata": {},
     "output_type": "execute_result"
    }
   ],
   "source": [
    "train_data[\"Sex\"].value_counts()"
   ]
  },
  {
   "cell_type": "code",
   "execution_count": 109,
   "metadata": {},
   "outputs": [
    {
     "data": {
      "text/plain": [
       "S    644\n",
       "C    168\n",
       "Q     77\n",
       "Name: Embarked, dtype: int64"
      ]
     },
     "execution_count": 109,
     "metadata": {},
     "output_type": "execute_result"
    }
   ],
   "source": [
    "train_data[\"Embarked\"].value_counts()"
   ]
  },
  {
   "cell_type": "markdown",
   "metadata": {},
   "source": [
    "The Embarked attribute tells us where the passenger embarked: C=Cherbourg, Q=Queenstown, S=Southampton."
   ]
  },
  {
   "cell_type": "markdown",
   "metadata": {},
   "source": [
    "**Note**: the code below uses a mix of `Pipeline`, `FeatureUnion` and a custom `DataFrameSelector` to preprocess some columns differently.  Since Scikit-Learn 0.20, it is preferable to use a `ColumnTransformer`, like in the previous chapter."
   ]
  },
  {
   "cell_type": "markdown",
   "metadata": {},
   "source": [
    "Now let's build our preprocessing pipelines. We will reuse the `DataframeSelector` we built in the previous chapter to select specific attributes from the `DataFrame`:"
   ]
  },
  {
   "cell_type": "code",
   "execution_count": 110,
   "metadata": {},
   "outputs": [],
   "source": [
    "from sklearn.base import BaseEstimator, TransformerMixin\n",
    "\n",
    "class DataFrameSelector(BaseEstimator, TransformerMixin):\n",
    "    def __init__(self, attribute_names):\n",
    "        self.attribute_names = attribute_names\n",
    "    def fit(self, X, y=None):\n",
    "        return self\n",
    "    def transform(self, X):\n",
    "        return X[self.attribute_names]"
   ]
  },
  {
   "cell_type": "markdown",
   "metadata": {},
   "source": [
    "Let's build the pipeline for the numerical attributes:"
   ]
  },
  {
   "cell_type": "code",
   "execution_count": 111,
   "metadata": {},
   "outputs": [],
   "source": [
    "from sklearn.pipeline import Pipeline\n",
    "from sklearn.impute import SimpleImputer\n",
    "\n",
    "num_pipeline = Pipeline([\n",
    "        (\"select_numeric\", DataFrameSelector([\"Age\", \"SibSp\", \"Parch\", \"Fare\"])),\n",
    "        (\"imputer\", SimpleImputer(strategy=\"median\")),\n",
    "    ])"
   ]
  },
  {
   "cell_type": "code",
   "execution_count": 112,
   "metadata": {},
   "outputs": [
    {
     "data": {
      "text/plain": [
       "array([[22.    ,  1.    ,  0.    ,  7.25  ],\n",
       "       [38.    ,  1.    ,  0.    , 71.2833],\n",
       "       [26.    ,  0.    ,  0.    ,  7.925 ],\n",
       "       ...,\n",
       "       [28.    ,  1.    ,  2.    , 23.45  ],\n",
       "       [26.    ,  0.    ,  0.    , 30.    ],\n",
       "       [32.    ,  0.    ,  0.    ,  7.75  ]])"
      ]
     },
     "execution_count": 112,
     "metadata": {},
     "output_type": "execute_result"
    }
   ],
   "source": [
    "num_pipeline.fit_transform(train_data)"
   ]
  },
  {
   "cell_type": "markdown",
   "metadata": {},
   "source": [
    "We will also need an imputer for the string categorical columns (the regular `SimpleImputer` does not work on those):"
   ]
  },
  {
   "cell_type": "code",
   "execution_count": 113,
   "metadata": {},
   "outputs": [],
   "source": [
    "# Inspired from stackoverflow.com/questions/25239958\n",
    "class MostFrequentImputer(BaseEstimator, TransformerMixin):\n",
    "    def fit(self, X, y=None):\n",
    "        self.most_frequent_ = pd.Series([X[c].value_counts().index[0] for c in X],\n",
    "                                        index=X.columns)\n",
    "        return self\n",
    "    def transform(self, X, y=None):\n",
    "        return X.fillna(self.most_frequent_)"
   ]
  },
  {
   "cell_type": "code",
   "execution_count": 114,
   "metadata": {},
   "outputs": [],
   "source": [
    "from sklearn.preprocessing import OneHotEncoder"
   ]
  },
  {
   "cell_type": "markdown",
   "metadata": {},
   "source": [
    "Now we can build the pipeline for the categorical attributes:"
   ]
  },
  {
   "cell_type": "code",
   "execution_count": 115,
   "metadata": {},
   "outputs": [],
   "source": [
    "cat_pipeline = Pipeline([\n",
    "        (\"select_cat\", DataFrameSelector([\"Pclass\", \"Sex\", \"Embarked\"])),\n",
    "        (\"imputer\", MostFrequentImputer()),\n",
    "        (\"cat_encoder\", OneHotEncoder(sparse=False)),\n",
    "    ])"
   ]
  },
  {
   "cell_type": "code",
   "execution_count": 116,
   "metadata": {},
   "outputs": [
    {
     "data": {
      "text/plain": [
       "array([[0., 0., 1., ..., 0., 0., 1.],\n",
       "       [1., 0., 0., ..., 1., 0., 0.],\n",
       "       [0., 0., 1., ..., 0., 0., 1.],\n",
       "       ...,\n",
       "       [0., 0., 1., ..., 0., 0., 1.],\n",
       "       [1., 0., 0., ..., 1., 0., 0.],\n",
       "       [0., 0., 1., ..., 0., 1., 0.]])"
      ]
     },
     "execution_count": 116,
     "metadata": {},
     "output_type": "execute_result"
    }
   ],
   "source": [
    "cat_pipeline.fit_transform(train_data)"
   ]
  },
  {
   "cell_type": "markdown",
   "metadata": {},
   "source": [
    "Finally, let's join the numerical and categorical pipelines:"
   ]
  },
  {
   "cell_type": "code",
   "execution_count": 117,
   "metadata": {},
   "outputs": [],
   "source": [
    "from sklearn.pipeline import FeatureUnion\n",
    "preprocess_pipeline = FeatureUnion(transformer_list=[\n",
    "        (\"num_pipeline\", num_pipeline),\n",
    "        (\"cat_pipeline\", cat_pipeline),\n",
    "    ])"
   ]
  },
  {
   "cell_type": "markdown",
   "metadata": {},
   "source": [
    "Cool! Now we have a nice preprocessing pipeline that takes the raw data and outputs numerical input features that we can feed to any Machine Learning model we want."
   ]
  },
  {
   "cell_type": "code",
   "execution_count": 118,
   "metadata": {},
   "outputs": [
    {
     "data": {
      "text/plain": [
       "array([[22.,  1.,  0., ...,  0.,  0.,  1.],\n",
       "       [38.,  1.,  0., ...,  1.,  0.,  0.],\n",
       "       [26.,  0.,  0., ...,  0.,  0.,  1.],\n",
       "       ...,\n",
       "       [28.,  1.,  2., ...,  0.,  0.,  1.],\n",
       "       [26.,  0.,  0., ...,  1.,  0.,  0.],\n",
       "       [32.,  0.,  0., ...,  0.,  1.,  0.]])"
      ]
     },
     "execution_count": 118,
     "metadata": {},
     "output_type": "execute_result"
    }
   ],
   "source": [
    "X_train = preprocess_pipeline.fit_transform(train_data)\n",
    "X_train"
   ]
  },
  {
   "cell_type": "markdown",
   "metadata": {},
   "source": [
    "Let's not forget to get the labels:"
   ]
  },
  {
   "cell_type": "code",
   "execution_count": 119,
   "metadata": {},
   "outputs": [],
   "source": [
    "y_train = train_data[\"Survived\"]"
   ]
  },
  {
   "cell_type": "markdown",
   "metadata": {},
   "source": [
    "We are now ready to train a classifier. Let's start with an `SVC`:"
   ]
  },
  {
   "cell_type": "code",
   "execution_count": 120,
   "metadata": {},
   "outputs": [
    {
     "data": {
      "text/plain": [
       "SVC(C=1.0, cache_size=200, class_weight=None, coef0=0.0,\n",
       "  decision_function_shape='ovr', degree=3, gamma='auto', kernel='rbf',\n",
       "  max_iter=-1, probability=False, random_state=None, shrinking=True,\n",
       "  tol=0.001, verbose=False)"
      ]
     },
     "execution_count": 120,
     "metadata": {},
     "output_type": "execute_result"
    }
   ],
   "source": [
    "from sklearn.svm import SVC\n",
    "\n",
    "svm_clf = SVC(gamma=\"auto\")\n",
    "svm_clf.fit(X_train, y_train)"
   ]
  },
  {
   "cell_type": "markdown",
   "metadata": {},
   "source": [
    "Great, our model is trained, let's use it to make predictions on the test set:"
   ]
  },
  {
   "cell_type": "code",
   "execution_count": 121,
   "metadata": {},
   "outputs": [],
   "source": [
    "X_test = preprocess_pipeline.transform(test_data)\n",
    "y_pred = svm_clf.predict(X_test)"
   ]
  },
  {
   "cell_type": "markdown",
   "metadata": {},
   "source": [
    "And now we could just build a CSV file with these predictions (respecting the format excepted by Kaggle), then upload it and hope for the best. But wait! We can do better than hope. Why don't we use cross-validation to have an idea of how good our model is?"
   ]
  },
  {
   "cell_type": "code",
   "execution_count": 122,
   "metadata": {},
   "outputs": [
    {
     "data": {
      "text/plain": [
       "0.7365250822835092"
      ]
     },
     "execution_count": 122,
     "metadata": {},
     "output_type": "execute_result"
    }
   ],
   "source": [
    "from sklearn.model_selection import cross_val_score\n",
    "\n",
    "svm_scores = cross_val_score(svm_clf, X_train, y_train, cv=10)\n",
    "svm_scores.mean()"
   ]
  },
  {
   "cell_type": "markdown",
   "metadata": {},
   "source": [
    "Okay, over 73% accuracy, clearly better than random chance, but it's not a great score. Looking at the [leaderboard](https://www.kaggle.com/c/titanic/leaderboard) for the Titanic competition on Kaggle, you can see that you need to reach above 80% accuracy to be within the top 10% Kagglers. Some reached 100%, but since you can easily find the [list of victims](https://www.encyclopedia-titanica.org/titanic-victims/) of the Titanic, it seems likely that there was little Machine Learning involved in their performance! ;-) So let's try to build a model that reaches 80% accuracy."
   ]
  },
  {
   "cell_type": "markdown",
   "metadata": {},
   "source": [
    "Let's try a `RandomForestClassifier`:"
   ]
  },
  {
   "cell_type": "code",
   "execution_count": 123,
   "metadata": {},
   "outputs": [
    {
     "data": {
      "text/plain": [
       "0.8149526160481217"
      ]
     },
     "execution_count": 123,
     "metadata": {},
     "output_type": "execute_result"
    }
   ],
   "source": [
    "from sklearn.ensemble import RandomForestClassifier\n",
    "\n",
    "forest_clf = RandomForestClassifier(n_estimators=100, random_state=42)\n",
    "forest_scores = cross_val_score(forest_clf, X_train, y_train, cv=10)\n",
    "forest_scores.mean()"
   ]
  },
  {
   "cell_type": "markdown",
   "metadata": {},
   "source": [
    "That's much better!"
   ]
  },
  {
   "cell_type": "markdown",
   "metadata": {},
   "source": [
    "Instead of just looking at the mean accuracy across the 10 cross-validation folds, let's plot all 10 scores for each model, along with a box plot highlighting the lower and upper quartiles, and \"whiskers\" showing the extent of the scores (thanks to Nevin Yilmaz for suggesting this visualization). Note that the `boxplot()` function detects outliers (called \"fliers\") and does not include them within the whiskers. Specifically, if the lower quartile is $Q_1$ and the upper quartile is $Q_3$, then the interquartile range $IQR = Q_3 - Q_1$ (this is the box's height), and any score lower than $Q_1 - 1.5 \\times IQR$ is a flier, and so is any score greater than $Q3 + 1.5 \\times IQR$."
   ]
  },
  {
   "cell_type": "code",
   "execution_count": 124,
   "metadata": {},
   "outputs": [
    {
     "data": {
      "image/png": "[encoded data removed]",
      "text/plain": [
       "<Figure size 576x288 with 1 Axes>"
      ]
     },
     "metadata": {
      "needs_background": "light"
     },
     "output_type": "display_data"
    }
   ],
   "source": [
    "plt.figure(figsize=(8, 4))\n",
    "plt.plot([1]*10, svm_scores, \".\")\n",
    "plt.plot([2]*10, forest_scores, \".\")\n",
    "plt.boxplot([svm_scores, forest_scores], labels=(\"SVM\",\"Random Forest\"))\n",
    "plt.ylabel(\"Accuracy\", fontsize=14)\n",
    "plt.show()"
   ]
  },
  {
   "cell_type": "markdown",
   "metadata": {},
   "source": [
    "To improve this result further, you could:\n",
    "* Compare many more models and tune hyperparameters using cross validation and grid search,\n",
    "* Do more feature engineering, for example:\n",
    "  * replace **SibSp** and **Parch** with their sum,\n",
    "  * try to identify parts of names that correlate well with the **Survived** attribute (e.g. if the name contains \"Countess\", then survival seems more likely),\n",
    "* try to convert numerical attributes to categorical attributes: for example, different age groups had very different survival rates (see below), so it may help to create an age bucket category and use it instead of the age. Similarly, it may be useful to have a special category for people traveling alone since only 30% of them survived (see below)."
   ]
  },
  {
   "cell_type": "code",
   "execution_count": 125,
   "metadata": {},
   "outputs": [
    {
     "data": {
      "text/html": [
       "<div>\n",
       "<style scoped>\n",
       "    .dataframe tbody tr th:only-of-type {\n",
       "        vertical-align: middle;\n",
       "    }\n",
       "\n",
       "    .dataframe tbody tr th {\n",
       "        vertical-align: top;\n",
       "    }\n",
       "\n",
       "    .dataframe thead th {\n",
       "        text-align: right;\n",
       "    }\n",
       "</style>\n",
       "<table border=\"1\" class=\"dataframe\">\n",
       "  <thead>\n",
       "    <tr style=\"text-align: right;\">\n",
       "      <th></th>\n",
       "      <th>Survived</th>\n",
       "    </tr>\n",
       "    <tr>\n",
       "      <th>AgeBucket</th>\n",
       "      <th></th>\n",
       "    </tr>\n",
       "  </thead>\n",
       "  <tbody>\n",
       "    <tr>\n",
       "      <th>0.0</th>\n",
       "      <td>0.576923</td>\n",
       "    </tr>\n",
       "    <tr>\n",
       "      <th>15.0</th>\n",
       "      <td>0.362745</td>\n",
       "    </tr>\n",
       "    <tr>\n",
       "      <th>30.0</th>\n",
       "      <td>0.423256</td>\n",
       "    </tr>\n",
       "    <tr>\n",
       "      <th>45.0</th>\n",
       "      <td>0.404494</td>\n",
       "    </tr>\n",
       "    <tr>\n",
       "      <th>60.0</th>\n",
       "      <td>0.240000</td>\n",
       "    </tr>\n",
       "    <tr>\n",
       "      <th>75.0</th>\n",
       "      <td>1.000000</td>\n",
       "    </tr>\n",
       "  </tbody>\n",
       "</table>\n",
       "</div>"
      ],
      "text/plain": [
       "           Survived\n",
       "AgeBucket          \n",
       "0.0        0.576923\n",
       "15.0       0.362745\n",
       "30.0       0.423256\n",
       "45.0       0.404494\n",
       "60.0       0.240000\n",
       "75.0       1.000000"
      ]
     },
     "execution_count": 125,
     "metadata": {},
     "output_type": "execute_result"
    }
   ],
   "source": [
    "train_data[\"AgeBucket\"] = train_data[\"Age\"] // 15 * 15\n",
    "train_data[[\"AgeBucket\", \"Survived\"]].groupby(['AgeBucket']).mean()"
   ]
  },
  {
   "cell_type": "code",
   "execution_count": 126,
   "metadata": {},
   "outputs": [
    {
     "data": {
      "text/html": [
       "<div>\n",
       "<style scoped>\n",
       "    .dataframe tbody tr th:only-of-type {\n",
       "        vertical-align: middle;\n",
       "    }\n",
       "\n",
       "    .dataframe tbody tr th {\n",
       "        vertical-align: top;\n",
       "    }\n",
       "\n",
       "    .dataframe thead th {\n",
       "        text-align: right;\n",
       "    }\n",
       "</style>\n",
       "<table border=\"1\" class=\"dataframe\">\n",
       "  <thead>\n",
       "    <tr style=\"text-align: right;\">\n",
       "      <th></th>\n",
       "      <th>Survived</th>\n",
       "    </tr>\n",
       "    <tr>\n",
       "      <th>RelativesOnboard</th>\n",
       "      <th></th>\n",
       "    </tr>\n",
       "  </thead>\n",
       "  <tbody>\n",
       "    <tr>\n",
       "      <th>0</th>\n",
       "      <td>0.303538</td>\n",
       "    </tr>\n",
       "    <tr>\n",
       "      <th>1</th>\n",
       "      <td>0.552795</td>\n",
       "    </tr>\n",
       "    <tr>\n",
       "      <th>2</th>\n",
       "      <td>0.578431</td>\n",
       "    </tr>\n",
       "    <tr>\n",
       "      <th>3</th>\n",
       "      <td>0.724138</td>\n",
       "    </tr>\n",
       "    <tr>\n",
       "      <th>4</th>\n",
       "      <td>0.200000</td>\n",
       "    </tr>\n",
       "    <tr>\n",
       "      <th>5</th>\n",
       "      <td>0.136364</td>\n",
       "    </tr>\n",
       "    <tr>\n",
       "      <th>6</th>\n",
       "      <td>0.333333</td>\n",
       "    </tr>\n",
       "    <tr>\n",
       "      <th>7</th>\n",
       "      <td>0.000000</td>\n",
       "    </tr>\n",
       "    <tr>\n",
       "      <th>10</th>\n",
       "      <td>0.000000</td>\n",
       "    </tr>\n",
       "  </tbody>\n",
       "</table>\n",
       "</div>"
      ],
      "text/plain": [
       "                  Survived\n",
       "RelativesOnboard          \n",
       "0                 0.303538\n",
       "1                 0.552795\n",
       "2                 0.578431\n",
       "3                 0.724138\n",
       "4                 0.200000\n",
       "5                 0.136364\n",
       "6                 0.333333\n",
       "7                 0.000000\n",
       "10                0.000000"
      ]
     },
     "execution_count": 126,
     "metadata": {},
     "output_type": "execute_result"
    }
   ],
   "source": [
    "train_data[\"RelativesOnboard\"] = train_data[\"SibSp\"] + train_data[\"Parch\"]\n",
    "train_data[[\"RelativesOnboard\", \"Survived\"]].groupby(['RelativesOnboard']).mean()"
   ]
  },
  {
   "cell_type": "markdown",
   "metadata": {},
   "source": [
    "## 4. Spam classifier"
   ]
  },
  {
   "cell_type": "markdown",
   "metadata": {},
   "source": [
    "First, let's fetch the data:"
   ]
  },
  {
   "cell_type": "code",
   "execution_count": 127,
   "metadata": {},
   "outputs": [],
   "source": [
    "import os\n",
    "import tarfile\n",
    "from six.moves import urllib\n",
    "\n",
    "DOWNLOAD_ROOT = \"http://spamassassin.apache.org/old/publiccorpus/\"\n",
    "HAM_URL = DOWNLOAD_ROOT + \"20030228_easy_ham.tar.bz2\"\n",
    "SPAM_URL = DOWNLOAD_ROOT + \"20030228_spam.tar.bz2\"\n",
    "SPAM_PATH = os.path.join(\"datasets\", \"spam\")\n",
    "\n",
    "def fetch_spam_data(spam_url=SPAM_URL, spam_path=SPAM_PATH):\n",
    "    if not os.path.isdir(spam_path):\n",
    "        os.makedirs(spam_path)\n",
    "    for filename, url in ((\"ham.tar.bz2\", HAM_URL), (\"spam.tar.bz2\", SPAM_URL)):\n",
    "        path = os.path.join(spam_path, filename)\n",
    "        if not os.path.isfile(path):\n",
    "            urllib.request.urlretrieve(url, path)\n",
    "        tar_bz2_file = tarfile.open(path)\n",
    "        tar_bz2_file.extractall(path=SPAM_PATH)\n",
    "        tar_bz2_file.close()"
   ]
  },
  {
   "cell_type": "code",
   "execution_count": 128,
   "metadata": {},
   "outputs": [],
   "source": [
    "fetch_spam_data()"
   ]
  },
  {
   "cell_type": "markdown",
   "metadata": {},
   "source": [
    "Next, let's load all the emails:"
   ]
  },
  {
   "cell_type": "code",
   "execution_count": 129,
   "metadata": {},
   "outputs": [],
   "source": [
    "HAM_DIR = os.path.join(SPAM_PATH, \"easy_ham\")\n",
    "SPAM_DIR = os.path.join(SPAM_PATH, \"spam\")\n",
    "ham_filenames = [name for name in sorted(os.listdir(HAM_DIR)) if len(name) > 20]\n",
    "spam_filenames = [name for name in sorted(os.listdir(SPAM_DIR)) if len(name) > 20]"
   ]
  },
  {
   "cell_type": "code",
   "execution_count": 130,
   "metadata": {},
   "outputs": [
    {
     "data": {
      "text/plain": [
       "2500"
      ]
     },
     "execution_count": 130,
     "metadata": {},
     "output_type": "execute_result"
    }
   ],
   "source": [
    "len(ham_filenames)"
   ]
  },
  {
   "cell_type": "code",
   "execution_count": 131,
   "metadata": {},
   "outputs": [
    {
     "data": {
      "text/plain": [
       "500"
      ]
     },
     "execution_count": 131,
     "metadata": {},
     "output_type": "execute_result"
    }
   ],
   "source": [
    "len(spam_filenames)"
   ]
  },
  {
   "cell_type": "markdown",
   "metadata": {},
   "source": [
    "We can use Python's `email` module to parse these emails (this handles headers, encoding, and so on):"
   ]
  },
  {
   "cell_type": "code",
   "execution_count": 132,
   "metadata": {},
   "outputs": [],
   "source": [
    "import email\n",
    "import email.policy\n",
    "\n",
    "def load_email(is_spam, filename, spam_path=SPAM_PATH):\n",
    "    directory = \"spam\" if is_spam else \"easy_ham\"\n",
    "    with open(os.path.join(spam_path, directory, filename), \"rb\") as f:\n",
    "        return email.parser.BytesParser(policy=email.policy.default).parse(f)"
   ]
  },
  {
   "cell_type": "code",
   "execution_count": 133,
   "metadata": {},
   "outputs": [],
   "source": [
    "ham_emails = [load_email(is_spam=False, filename=name) for name in ham_filenames]\n",
    "spam_emails = [load_email(is_spam=True, filename=name) for name in spam_filenames]"
   ]
  },
  {
   "cell_type": "markdown",
   "metadata": {},
   "source": [
    "Let's look at one example of ham and one example of spam, to get a feel of what the data looks like:"
   ]
  },
  {
   "cell_type": "code",
   "execution_count": 134,
   "metadata": {},
   "outputs": [
    {
     "name": "stdout",
     "output_type": "stream",
     "text": [
      "Martin A posted:\n",
      "Tassos Papadopoulos, the Greek sculptor behind the plan, judged that the\n",
      " limestone of Mount Kerdylio, 70 miles east of Salonika and not far from the\n",
      " Mount Athos monastic community, was ideal for the patriotic sculpture. \n",
      " \n",
      " As well as Alexander's granite features, 240 ft high and 170 ft wide, a\n",
      " museum, a restored amphitheatre and car park for admiring crowds are\n",
      "planned\n",
      "---------------------\n",
      "So is this mountain limestone or granite?\n",
      "If it's limestone, it'll weather pretty fast.\n",
      "\n",
      "------------------------ Yahoo! Groups Sponsor ---------------------~-->\n",
      "4 DVDs Free +s&p Join Now\n",
      "http://us.click.yahoo.com/pt6YBB/NXiEAA/mG3HAA/7gSolB/TM\n",
      "---------------------------------------------------------------------~->\n",
      "\n",
      "To unsubscribe from this group, send an email to:\n",
      "forteana-unsubscribe@egroups.com\n",
      "\n",
      " \n",
      "\n",
      "Your use of Yahoo! Groups is subject to http://docs.yahoo.com/info/terms/\n"
     ]
    }
   ],
   "source": [
    "print(ham_emails[1].get_content().strip())"
   ]
  },
  {
   "cell_type": "code",
   "execution_count": 135,
   "metadata": {},
   "outputs": [
    {
     "name": "stdout",
     "output_type": "stream",
     "text": [
      "Help wanted.  We are a 14 year old fortune 500 company, that is\n",
      "growing at a tremendous rate.  We are looking for individuals who\n",
      "want to work from home.\n",
      "\n",
      "This is an opportunity to make an excellent income.  No experience\n",
      "is required.  We will train you.\n",
      "\n",
      "So if you are looking to be employed from home with a career that has\n",
      "vast opportunities, then go:\n",
      "\n",
      "http://www.basetel.com/wealthnow\n",
      "\n",
      "We are looking for energetic and self motivated people.  If that is you\n",
      "than click on the link and fill out the form, and one of our\n",
      "employement specialist will contact you.\n",
      "\n",
      "To be removed from our link simple go to:\n",
      "\n",
      "http://www.basetel.com/remove.html\n",
      "\n",
      "\n",
      "4139vOLW7-758DoDY1425FRhM1-764SMFc8513fCsLl40\n"
     ]
    }
   ],
   "source": [
    "print(spam_emails[6].get_content().strip())"
   ]
  },
  {
   "cell_type": "markdown",
   "metadata": {},
   "source": [
    "Some emails are actually multipart, with images and attachments (which can have their own attachments). Let's look at the various types of structures we have:"
   ]
  },
  {
   "cell_type": "code",
   "execution_count": 136,
   "metadata": {},
   "outputs": [],
   "source": [
    "def get_email_structure(email):\n",
    "    if isinstance(email, str):\n",
    "        return email\n",
    "    payload = email.get_payload()\n",
    "    if isinstance(payload, list):\n",
    "        return \"multipart({})\".format(\", \".join([\n",
    "            get_email_structure(sub_email)\n",
    "            for sub_email in payload\n",
    "        ]))\n",
    "    else:\n",
    "        return email.get_content_type()"
   ]
  },
  {
   "cell_type": "code",
   "execution_count": 137,
   "metadata": {},
   "outputs": [],
   "source": [
    "from collections import Counter\n",
    "\n",
    "def structures_counter(emails):\n",
    "    structures = Counter()\n",
    "    for email in emails:\n",
    "        structure = get_email_structure(email)\n",
    "        structures[structure] += 1\n",
    "    return structures"
   ]
  },
  {
   "cell_type": "code",
   "execution_count": 138,
   "metadata": {},
   "outputs": [
    {
     "data": {
      "text/plain": [
       "[('text/plain', 2408),\n",
       " ('multipart(text/plain, application/pgp-signature)', 66),\n",
       " ('multipart(text/plain, text/html)', 8),\n",
       " ('multipart(text/plain, text/plain)', 4),\n",
       " ('multipart(text/plain)', 3),\n",
       " ('multipart(text/plain, application/octet-stream)', 2),\n",
       " ('multipart(text/plain, text/enriched)', 1),\n",
       " ('multipart(text/plain, application/ms-tnef, text/plain)', 1),\n",
       " ('multipart(multipart(text/plain, text/plain, text/plain), application/pgp-signature)',\n",
       "  1),\n",
       " ('multipart(text/plain, video/mng)', 1),\n",
       " ('multipart(text/plain, multipart(text/plain))', 1),\n",
       " ('multipart(text/plain, application/x-pkcs7-signature)', 1),\n",
       " ('multipart(text/plain, multipart(text/plain, text/plain), text/rfc822-headers)',\n",
       "  1),\n",
       " ('multipart(text/plain, multipart(text/plain, text/plain), multipart(multipart(text/plain, application/x-pkcs7-signature)))',\n",
       "  1),\n",
       " ('multipart(text/plain, application/x-java-applet)', 1)]"
      ]
     },
     "execution_count": 138,
     "metadata": {},
     "output_type": "execute_result"
    }
   ],
   "source": [
    "structures_counter(ham_emails).most_common()"
   ]
  },
  {
   "cell_type": "code",
   "execution_count": 139,
   "metadata": {},
   "outputs": [
    {
     "data": {
      "text/plain": [
       "[('text/plain', 218),\n",
       " ('text/html', 183),\n",
       " ('multipart(text/plain, text/html)', 45),\n",
       " ('multipart(text/html)', 20),\n",
       " ('multipart(text/plain)', 19),\n",
       " ('multipart(multipart(text/html))', 5),\n",
       " ('multipart(text/plain, image/jpeg)', 3),\n",
       " ('multipart(text/html, application/octet-stream)', 2),\n",
       " ('multipart(text/plain, application/octet-stream)', 1),\n",
       " ('multipart(text/html, text/plain)', 1),\n",
       " ('multipart(multipart(text/html), application/octet-stream, image/jpeg)', 1),\n",
       " ('multipart(multipart(text/plain, text/html), image/gif)', 1),\n",
       " ('multipart/alternative', 1)]"
      ]
     },
     "execution_count": 139,
     "metadata": {},
     "output_type": "execute_result"
    }
   ],
   "source": [
    "structures_counter(spam_emails).most_common()"
   ]
  },
  {
   "cell_type": "markdown",
   "metadata": {},
   "source": [
    "It seems that the ham emails are more often plain text, while spam has quite a lot of HTML. Moreover, quite a few ham emails are signed using PGP, while no spam is. In short, it seems that the email structure is useful information to have."
   ]
  },
  {
   "cell_type": "markdown",
   "metadata": {},
   "source": [
    "Now let's take a look at the email headers:"
   ]
  },
  {
   "cell_type": "code",
   "execution_count": 140,
   "metadata": {},
   "outputs": [
    {
     "name": "stdout",
     "output_type": "stream",
     "text": [
      "Return-Path : <12a1mailbot1@web.de>\n",
      "Delivered-To : zzzz@localhost.spamassassin.taint.org\n",
      "Received : from localhost (localhost [127.0.0.1])\tby phobos.labs.spamassassin.taint.org (Postfix) with ESMTP id 136B943C32\tfor <zzzz@localhost>; Thu, 22 Aug 2002 08:17:21 -0400 (EDT)\n",
      "Received : from mail.webnote.net [193.120.211.219]\tby localhost with POP3 (fetchmail-5.9.0)\tfor zzzz@localhost (single-drop); Thu, 22 Aug 2002 13:17:21 +0100 (IST)\n",
      "Received : from dd_it7 ([210.97.77.167])\tby webnote.net (8.9.3/8.9.3) with ESMTP id NAA04623\tfor <zzzz@spamassassin.taint.org>; Thu, 22 Aug 2002 13:09:41 +0100\n",
      "From : 12a1mailbot1@web.de\n",
      "Received : from r-smtp.korea.com - 203.122.2.197 by dd_it7  with Microsoft SMTPSVC(5.5.1775.675.6);\t Sat, 24 Aug 2002 09:42:10 +0900\n",
      "To : dcek1a1@netsgo.com\n",
      "Subject : Life Insurance - Why Pay More?\n",
      "Date : Wed, 21 Aug 2002 20:31:57 -1600\n",
      "MIME-Version : 1.0\n",
      "Message-ID : <0103c1042001882DD_IT7@dd_it7>\n",
      "Content-Type : text/html; charset=\"iso-8859-1\"\n",
      "Content-Transfer-Encoding : quoted-printable\n"
     ]
    }
   ],
   "source": [
    "for header, value in spam_emails[0].items():\n",
    "    print(header,\":\",value)"
   ]
  },
  {
   "cell_type": "markdown",
   "metadata": {},
   "source": [
    "There's probably a lot of useful information in there, such as the sender's email address (12a1mailbot1@web.de looks fishy), but we will just focus on the `Subject` header:"
   ]
  },
  {
   "cell_type": "code",
   "execution_count": 141,
   "metadata": {},
   "outputs": [
    {
     "data": {
      "text/plain": [
       "'Life Insurance - Why Pay More?'"
      ]
     },
     "execution_count": 141,
     "metadata": {},
     "output_type": "execute_result"
    }
   ],
   "source": [
    "spam_emails[0][\"Subject\"]"
   ]
  },
  {
   "cell_type": "markdown",
   "metadata": {},
   "source": [
    "Okay, before we learn too much about the data, let's not forget to split it into a training set and a test set:"
   ]
  },
  {
   "cell_type": "code",
   "execution_count": 142,
   "metadata": {},
   "outputs": [],
   "source": [
    "import numpy as np\n",
    "from sklearn.model_selection import train_test_split\n",
    "\n",
    "X = np.array(ham_emails + spam_emails)\n",
    "y = np.array([0] * len(ham_emails) + [1] * len(spam_emails))\n",
    "\n",
    "X_train, X_test, y_train, y_test = train_test_split(X, y, test_size=0.2, random_state=42)"
   ]
  },
  {
   "cell_type": "markdown",
   "metadata": {},
   "source": [
    "Okay, let's start writing the preprocessing functions. First, we will need a function to convert HTML to plain text. Arguably the best way to do this would be to use the great [BeautifulSoup](https://www.crummy.com/software/BeautifulSoup/) library, but I would like to avoid adding another dependency to this project, so let's hack a quick & dirty solution using regular expressions (at the risk of [un̨ho͞ly radiańcé destro҉ying all enli̍̈́̂̈́ghtenment](https://stackoverflow.com/a/1732454/38626)). The following function first drops the `<head>` section, then converts all `<a>` tags to the word HYPERLINK, then it gets rid of all HTML tags, leaving only the plain text. For readability, it also replaces multiple newlines with single newlines, and finally it unescapes html entities (such as `&gt;` or `&nbsp;`):"
   ]
  },
  {
   "cell_type": "code",
   "execution_count": 143,
   "metadata": {},
   "outputs": [],
   "source": [
    "import re\n",
    "from html import unescape\n",
    "\n",
    "def html_to_plain_text(html):\n",
    "    text = re.sub('<head.*?>.*?</head>', '', html, flags=re.M | re.S | re.I)\n",
    "    text = re.sub('<a\\s.*?>', ' HYPERLINK ', text, flags=re.M | re.S | re.I)\n",
    "    text = re.sub('<.*?>', '', text, flags=re.M | re.S)\n",
    "    text = re.sub(r'(\\s*\\n)+', '\\n', text, flags=re.M | re.S)\n",
    "    return unescape(text)"
   ]
  },
  {
   "cell_type": "markdown",
   "metadata": {},
   "source": [
    "Let's see if it works. This is HTML spam:"
   ]
  },
  {
   "cell_type": "code",
   "execution_count": 144,
   "metadata": {},
   "outputs": [
    {
     "name": "stdout",
     "output_type": "stream",
     "text": [
      "<HTML><HEAD><TITLE></TITLE><META http-equiv=\"Content-Type\" content=\"text/html; charset=windows-1252\"><STYLE>A:link {TEX-DECORATION: none}A:active {TEXT-DECORATION: none}A:visited {TEXT-DECORATION: none}A:hover {COLOR: #0033ff; TEXT-DECORATION: underline}</STYLE><META content=\"MSHTML 6.00.2713.1100\" name=\"GENERATOR\"></HEAD>\n",
      "<BODY text=\"#000000\" vLink=\"#0033ff\" link=\"#0033ff\" bgColor=\"#CCCC99\"><TABLE borderColor=\"#660000\" cellSpacing=\"0\" cellPadding=\"0\" border=\"0\" width=\"100%\"><TR><TD bgColor=\"#CCCC99\" valign=\"top\" colspan=\"2\" height=\"27\">\n",
      "<font size=\"6\" face=\"Arial, Helvetica, sans-serif\" color=\"#660000\">\n",
      "<b>OTC</b></font></TD></TR><TR><TD height=\"2\" bgcolor=\"#6a694f\">\n",
      "<font size=\"5\" face=\"Times New Roman, Times, serif\" color=\"#FFFFFF\">\n",
      "<b>&nbsp;Newsletter</b></font></TD><TD height=\"2\" bgcolor=\"#6a694f\"><div align=\"right\"><font color=\"#FFFFFF\">\n",
      "<b>Discover Tomorrow's Winners&nbsp;</b></font></div></TD></TR><TR><TD height=\"25\" colspan=\"2\" bgcolor=\"#CCCC99\"><table width=\"100%\" border=\"0\"  ...\n"
     ]
    }
   ],
   "source": [
    "html_spam_emails = [email for email in X_train[y_train==1]\n",
    "                    if get_email_structure(email) == \"text/html\"]\n",
    "sample_html_spam = html_spam_emails[7]\n",
    "print(sample_html_spam.get_content().strip()[:1000], \"...\")"
   ]
  },
  {
   "cell_type": "markdown",
   "metadata": {},
   "source": [
    "And this is the resulting plain text:"
   ]
  },
  {
   "cell_type": "code",
   "execution_count": 145,
   "metadata": {},
   "outputs": [
    {
     "name": "stdout",
     "output_type": "stream",
     "text": [
      "\n",
      "OTC\n",
      " Newsletter\n",
      "Discover Tomorrow's Winners \n",
      "For Immediate Release\n",
      "Cal-Bay (Stock Symbol: CBYI)\n",
      "Watch for analyst \"Strong Buy Recommendations\" and several advisory newsletters picking CBYI.  CBYI has filed to be traded on the OTCBB, share prices historically INCREASE when companies get listed on this larger trading exchange. CBYI is trading around 25 cents and should skyrocket to $2.66 - $3.25 a share in the near future.\n",
      "Put CBYI on your watch list, acquire a position TODAY.\n",
      "REASONS TO INVEST IN CBYI\n",
      "A profitable company and is on track to beat ALL earnings estimates!\n",
      "One of the FASTEST growing distributors in environmental & safety equipment instruments.\n",
      "Excellent management team, several EXCLUSIVE contracts.  IMPRESSIVE client list including the U.S. Air Force, Anheuser-Busch, Chevron Refining and Mitsubishi Heavy Industries, GE-Energy & Environmental Research.\n",
      "RAPIDLY GROWING INDUSTRY\n",
      "Industry revenues exceed $900 million, estimates indicate that there could be as much as $25 billi ...\n"
     ]
    }
   ],
   "source": [
    "print(html_to_plain_text(sample_html_spam.get_content())[:1000], \"...\")"
   ]
  },
  {
   "cell_type": "markdown",
   "metadata": {},
   "source": [
    "Great! Now let's write a function that takes an email as input and returns its content as plain text, whatever its format is:"
   ]
  },
  {
   "cell_type": "code",
   "execution_count": 146,
   "metadata": {},
   "outputs": [],
   "source": [
    "def email_to_text(email):\n",
    "    html = None\n",
    "    for part in email.walk():\n",
    "        ctype = part.get_content_type()\n",
    "        if not ctype in (\"text/plain\", \"text/html\"):\n",
    "            continue\n",
    "        try:\n",
    "            content = part.get_content()\n",
    "        except: # in case of encoding issues\n",
    "            content = str(part.get_payload())\n",
    "        if ctype == \"text/plain\":\n",
    "            return content\n",
    "        else:\n",
    "            html = content\n",
    "    if html:\n",
    "        return html_to_plain_text(html)"
   ]
  },
  {
   "cell_type": "code",
   "execution_count": 147,
   "metadata": {},
   "outputs": [
    {
     "name": "stdout",
     "output_type": "stream",
     "text": [
      "\n",
      "OTC\n",
      " Newsletter\n",
      "Discover Tomorrow's Winners \n",
      "For Immediate Release\n",
      "Cal-Bay (Stock Symbol: CBYI)\n",
      "Wat ...\n"
     ]
    }
   ],
   "source": [
    "print(email_to_text(sample_html_spam)[:100], \"...\")"
   ]
  },
  {
   "cell_type": "markdown",
   "metadata": {},
   "source": [
    "Let's throw in some stemming! For this to work, you need to install the Natural Language Toolkit ([NLTK](http://www.nltk.org/)). It's as simple as running the following command (don't forget to activate your virtualenv first; if you don't have one, you will likely need administrator rights, or use the `--user` option):\n",
    "\n",
    "`$ pip3 install nltk`"
   ]
  },
  {
   "cell_type": "code",
   "execution_count": 148,
   "metadata": {},
   "outputs": [
    {
     "name": "stdout",
     "output_type": "stream",
     "text": [
      "Computations => comput\n",
      "Computation => comput\n",
      "Computing => comput\n",
      "Computed => comput\n",
      "Compute => comput\n",
      "Compulsive => compuls\n"
     ]
    }
   ],
   "source": [
    "try:\n",
    "    import nltk\n",
    "\n",
    "    stemmer = nltk.PorterStemmer()\n",
    "    for word in (\"Computations\", \"Computation\", \"Computing\", \"Computed\", \"Compute\", \"Compulsive\"):\n",
    "        print(word, \"=>\", stemmer.stem(word))\n",
    "except ImportError:\n",
    "    print(\"Error: stemming requires the NLTK module.\")\n",
    "    stemmer = None"
   ]
  },
  {
   "cell_type": "markdown",
   "metadata": {},
   "source": [
    "We will also need a way to replace URLs with the word \"URL\". For this, we could use hard core [regular expressions](https://mathiasbynens.be/demo/url-regex) but we will just use the [urlextract](https://github.com/lipoja/URLExtract) library. You can install it with the following command (don't forget to activate your virtualenv first; if you don't have one, you will likely need administrator rights, or use the `--user` option):\n",
    "\n",
    "`$ pip3 install urlextract`"
   ]
  },
  {
   "cell_type": "code",
   "execution_count": 149,
   "metadata": {},
   "outputs": [
    {
     "name": "stdout",
     "output_type": "stream",
     "text": [
      "['github.com', 'https://youtu.be/7Pq-S557XQU?t=3m32s']\n"
     ]
    }
   ],
   "source": [
    "try:\n",
    "    import urlextract # may require an Internet connection to download root domain names\n",
    "    \n",
    "    url_extractor = urlextract.URLExtract()\n",
    "    print(url_extractor.find_urls(\"Will it detect github.com and https://youtu.be/7Pq-S557XQU?t=3m32s\"))\n",
    "except ImportError:\n",
    "    print(\"Error: replacing URLs requires the urlextract module.\")\n",
    "    url_extractor = None"
   ]
  },
  {
   "cell_type": "markdown",
   "metadata": {},
   "source": [
    "We are ready to put all this together into a transformer that we will use to convert emails to word counters. Note that we split sentences into words using Python's `split()` method, which uses whitespaces for word boundaries. This works for many written languages, but not all. For example, Chinese and Japanese scripts generally don't use spaces between words, and Vietnamese often uses spaces even between syllables. It's okay in this exercise, because the dataset is (mostly) in English."
   ]
  },
  {
   "cell_type": "code",
   "execution_count": 150,
   "metadata": {},
   "outputs": [],
   "source": [
    "from sklearn.base import BaseEstimator, TransformerMixin\n",
    "\n",
    "class EmailToWordCounterTransformer(BaseEstimator, TransformerMixin):\n",
    "    def __init__(self, strip_headers=True, lower_case=True, remove_punctuation=True,\n",
    "                 replace_urls=True, replace_numbers=True, stemming=True):\n",
    "        self.strip_headers = strip_headers\n",
    "        self.lower_case = lower_case\n",
    "        self.remove_punctuation = remove_punctuation\n",
    "        self.replace_urls = replace_urls\n",
    "        self.replace_numbers = replace_numbers\n",
    "        self.stemming = stemming\n",
    "    def fit(self, X, y=None):\n",
    "        return self\n",
    "    def transform(self, X, y=None):\n",
    "        X_transformed = []\n",
    "        for email in X:\n",
    "            text = email_to_text(email) or \"\"\n",
    "            if self.lower_case:\n",
    "                text = text.lower()\n",
    "            if self.replace_urls and url_extractor is not None:\n",
    "                urls = list(set(url_extractor.find_urls(text)))\n",
    "                urls.sort(key=lambda url: len(url), reverse=True)\n",
    "                for url in urls:\n",
    "                    text = text.replace(url, \" URL \")\n",
    "            if self.replace_numbers:\n",
    "                text = re.sub(r'\\d+(?:\\.\\d*(?:[eE]\\d+))?', 'NUMBER', text)\n",
    "            if self.remove_punctuation:\n",
    "                text = re.sub(r'\\W+', ' ', text, flags=re.M)\n",
    "            word_counts = Counter(text.split())\n",
    "            if self.stemming and stemmer is not None:\n",
    "                stemmed_word_counts = Counter()\n",
    "                for word, count in word_counts.items():\n",
    "                    stemmed_word = stemmer.stem(word)\n",
    "                    stemmed_word_counts[stemmed_word] += count\n",
    "                word_counts = stemmed_word_counts\n",
    "            X_transformed.append(word_counts)\n",
    "        return np.array(X_transformed)"
   ]
  },
  {
   "cell_type": "markdown",
   "metadata": {},
   "source": [
    "Let's try this transformer on a few emails:"
   ]
  },
  {
   "cell_type": "code",
   "execution_count": 151,
   "metadata": {},
   "outputs": [
    {
     "data": {
      "text/plain": [
       "array([Counter({'chuck': 1, 'murcko': 1, 'wrote': 1, 'stuff': 1, 'yawn': 1, 'r': 1}),\n",
       "       Counter({'the': 11, 'of': 9, 'and': 8, 'all': 3, 'christian': 3, 'to': 3, 'by': 3, 'jefferson': 2, 'i': 2, 'have': 2, 'superstit': 2, 'one': 2, 'on': 2, 'been': 2, 'ha': 2, 'half': 2, 'rogueri': 2, 'teach': 2, 'jesu': 2, 'some': 1, 'interest': 1, 'quot': 1, 'url': 1, 'thoma': 1, 'examin': 1, 'known': 1, 'word': 1, 'do': 1, 'not': 1, 'find': 1, 'in': 1, 'our': 1, 'particular': 1, 'redeem': 1, 'featur': 1, 'they': 1, 'are': 1, 'alik': 1, 'found': 1, 'fabl': 1, 'mytholog': 1, 'million': 1, 'innoc': 1, 'men': 1, 'women': 1, 'children': 1, 'sinc': 1, 'introduct': 1, 'burnt': 1, 'tortur': 1, 'fine': 1, 'imprison': 1, 'what': 1, 'effect': 1, 'thi': 1, 'coercion': 1, 'make': 1, 'world': 1, 'fool': 1, 'other': 1, 'hypocrit': 1, 'support': 1, 'error': 1, 'over': 1, 'earth': 1, 'six': 1, 'histor': 1, 'american': 1, 'john': 1, 'e': 1, 'remsburg': 1, 'letter': 1, 'william': 1, 'short': 1, 'again': 1, 'becom': 1, 'most': 1, 'pervert': 1, 'system': 1, 'that': 1, 'ever': 1, 'shone': 1, 'man': 1, 'absurd': 1, 'untruth': 1, 'were': 1, 'perpetr': 1, 'upon': 1, 'a': 1, 'larg': 1, 'band': 1, 'dupe': 1, 'import': 1, 'led': 1, 'paul': 1, 'first': 1, 'great': 1, 'corrupt': 1}),\n",
       "       Counter({'url': 5, 's': 3, 'group': 3, 'to': 3, 'in': 2, 'forteana': 2, 'martin': 2, 'an': 2, 'and': 2, 'we': 2, 'is': 2, 'yahoo': 2, 'unsubscrib': 2, 'y': 1, 'adamson': 1, 'wrote': 1, 'for': 1, 'altern': 1, 'rather': 1, 'more': 1, 'factual': 1, 'base': 1, 'rundown': 1, 'on': 1, 'hamza': 1, 'career': 1, 'includ': 1, 'hi': 1, 'belief': 1, 'that': 1, 'all': 1, 'non': 1, 'muslim': 1, 'yemen': 1, 'should': 1, 'be': 1, 'murder': 1, 'outright': 1, 'know': 1, 'how': 1, 'unbias': 1, 'memri': 1, 'don': 1, 't': 1, 'html': 1, 'rob': 1, 'sponsor': 1, 'number': 1, 'dvd': 1, 'free': 1, 'p': 1, 'join': 1, 'now': 1, 'from': 1, 'thi': 1, 'send': 1, 'email': 1, 'your': 1, 'use': 1, 'of': 1, 'subject': 1})],\n",
       "      dtype=object)"
      ]
     },
     "execution_count": 151,
     "metadata": {},
     "output_type": "execute_result"
    }
   ],
   "source": [
    "X_few = X_train[:3]\n",
    "X_few_wordcounts = EmailToWordCounterTransformer().fit_transform(X_few)\n",
    "X_few_wordcounts"
   ]
  },
  {
   "cell_type": "markdown",
   "metadata": {},
   "source": [
    "This looks about right!"
   ]
  },
  {
   "cell_type": "markdown",
   "metadata": {},
   "source": [
    "Now we have the word counts, and we need to convert them to vectors. For this, we will build another transformer whose `fit()` method will build the vocabulary (an ordered list of the most common words) and whose `transform()` method will use the vocabulary to convert word counts to vectors. The output is a sparse matrix."
   ]
  },
  {
   "cell_type": "code",
   "execution_count": 152,
   "metadata": {},
   "outputs": [],
   "source": [
    "from scipy.sparse import csr_matrix\n",
    "\n",
    "class WordCounterToVectorTransformer(BaseEstimator, TransformerMixin):\n",
    "    def __init__(self, vocabulary_size=1000):\n",
    "        self.vocabulary_size = vocabulary_size\n",
    "    def fit(self, X, y=None):\n",
    "        total_count = Counter()\n",
    "        for word_count in X:\n",
    "            for word, count in word_count.items():\n",
    "                total_count[word] += min(count, 10)\n",
    "        most_common = total_count.most_common()[:self.vocabulary_size]\n",
    "        self.most_common_ = most_common\n",
    "        self.vocabulary_ = {word: index + 1 for index, (word, count) in enumerate(most_common)}\n",
    "        return self\n",
    "    def transform(self, X, y=None):\n",
    "        rows = []\n",
    "        cols = []\n",
    "        data = []\n",
    "        for row, word_count in enumerate(X):\n",
    "            for word, count in word_count.items():\n",
    "                rows.append(row)\n",
    "                cols.append(self.vocabulary_.get(word, 0))\n",
    "                data.append(count)\n",
    "        return csr_matrix((data, (rows, cols)), shape=(len(X), self.vocabulary_size + 1))"
   ]
  },
  {
   "cell_type": "code",
   "execution_count": 153,
   "metadata": {},
   "outputs": [
    {
     "data": {
      "text/plain": [
       "<3x11 sparse matrix of type '<class 'numpy.int64'>'\n",
       "\twith 20 stored elements in Compressed Sparse Row format>"
      ]
     },
     "execution_count": 153,
     "metadata": {},
     "output_type": "execute_result"
    }
   ],
   "source": [
    "vocab_transformer = WordCounterToVectorTransformer(vocabulary_size=10)\n",
    "X_few_vectors = vocab_transformer.fit_transform(X_few_wordcounts)\n",
    "X_few_vectors"
   ]
  },
  {
   "cell_type": "code",
   "execution_count": 154,
   "metadata": {},
   "outputs": [
    {
     "data": {
      "text/plain": [
       "array([[ 6,  0,  0,  0,  0,  0,  0,  0,  0,  0,  0],\n",
       "       [99, 11,  9,  8,  1,  3,  3,  1,  3,  2,  3],\n",
       "       [65,  0,  1,  2,  5,  3,  1,  2,  0,  1,  0]], dtype=int64)"
      ]
     },
     "execution_count": 154,
     "metadata": {},
     "output_type": "execute_result"
    }
   ],
   "source": [
    "X_few_vectors.toarray()"
   ]
  },
  {
   "cell_type": "markdown",
   "metadata": {},
   "source": [
    "What does this matrix mean? Well, the 64 in the third row, first column, means that the third email contains 64 words that are not part of the vocabulary. The 1 next to it means that the first word in the vocabulary is present once in this email. The 2 next to it means that the second word is present twice, and so on. You can look at the vocabulary to know which words we are talking about. The first word is \"of\", the second word is \"and\", etc."
   ]
  },
  {
   "cell_type": "code",
   "execution_count": 155,
   "metadata": {},
   "outputs": [
    {
     "data": {
      "text/plain": [
       "{'the': 1,\n",
       " 'of': 2,\n",
       " 'and': 3,\n",
       " 'url': 4,\n",
       " 'to': 5,\n",
       " 'all': 6,\n",
       " 'in': 7,\n",
       " 'christian': 8,\n",
       " 'on': 9,\n",
       " 'by': 10}"
      ]
     },
     "execution_count": 155,
     "metadata": {},
     "output_type": "execute_result"
    }
   ],
   "source": [
    "vocab_transformer.vocabulary_"
   ]
  },
  {
   "cell_type": "markdown",
   "metadata": {},
   "source": [
    "We are now ready to train our first spam classifier! Let's transform the whole dataset:"
   ]
  },
  {
   "cell_type": "code",
   "execution_count": 156,
   "metadata": {},
   "outputs": [],
   "source": [
    "from sklearn.pipeline import Pipeline\n",
    "\n",
    "preprocess_pipeline = Pipeline([\n",
    "    (\"email_to_wordcount\", EmailToWordCounterTransformer()),\n",
    "    (\"wordcount_to_vector\", WordCounterToVectorTransformer()),\n",
    "])\n",
    "\n",
    "X_train_transformed = preprocess_pipeline.fit_transform(X_train)"
   ]
  },
  {
   "cell_type": "markdown",
   "metadata": {},
   "source": [
    "**Note**: to be future-proof, we set `solver=\"lbfgs\"` since this will be the default value in Scikit-Learn 0.22."
   ]
  },
  {
   "cell_type": "code",
   "execution_count": 157,
   "metadata": {},
   "outputs": [
    {
     "name": "stderr",
     "output_type": "stream",
     "text": [
      "[Parallel(n_jobs=1)]: Using backend SequentialBackend with 1 concurrent workers.\n",
      "/Users/ageron/.virtualenvs/tf2/lib/python3.6/site-packages/sklearn/linear_model/logistic.py:758: ConvergenceWarning: lbfgs failed to converge. Increase the number of iterations.\n",
      "  \"of iterations.\", ConvergenceWarning)\n",
      "[Parallel(n_jobs=1)]: Done   1 out of   1 | elapsed:    0.1s remaining:    0.0s\n"
     ]
    },
    {
     "name": "stdout",
     "output_type": "stream",
     "text": [
      "[CV]  ................................................................\n",
      "[CV] .................................... , score=0.985, total=   0.1s\n",
      "[CV]  ................................................................\n",
      "[CV] .................................... , score=0.985, total=   0.1s\n",
      "[CV]  ................................................................\n",
      "[CV] ................................... , score=0.9925, total=   0.1s\n"
     ]
    },
    {
     "name": "stderr",
     "output_type": "stream",
     "text": [
      "/Users/ageron/.virtualenvs/tf2/lib/python3.6/site-packages/sklearn/linear_model/logistic.py:758: ConvergenceWarning: lbfgs failed to converge. Increase the number of iterations.\n",
      "  \"of iterations.\", ConvergenceWarning)\n",
      "[Parallel(n_jobs=1)]: Done   2 out of   2 | elapsed:    0.2s remaining:    0.0s\n",
      "/Users/ageron/.virtualenvs/tf2/lib/python3.6/site-packages/sklearn/linear_model/logistic.py:758: ConvergenceWarning: lbfgs failed to converge. Increase the number of iterations.\n",
      "  \"of iterations.\", ConvergenceWarning)\n",
      "[Parallel(n_jobs=1)]: Done   3 out of   3 | elapsed:    0.4s finished\n"
     ]
    },
    {
     "data": {
      "text/plain": [
       "0.9874999999999999"
      ]
     },
     "execution_count": 157,
     "metadata": {},
     "output_type": "execute_result"
    }
   ],
   "source": [
    "from sklearn.linear_model import LogisticRegression\n",
    "from sklearn.model_selection import cross_val_score\n",
    "\n",
    "log_clf = LogisticRegression(solver=\"lbfgs\", random_state=42)\n",
    "score = cross_val_score(log_clf, X_train_transformed, y_train, cv=3, verbose=3)\n",
    "score.mean()"
   ]
  },
  {
   "cell_type": "markdown",
   "metadata": {},
   "source": [
    "Over 98.7%, not bad for a first try! :) However, remember that we are using the \"easy\" dataset. You can try with the harder datasets, the results won't be so amazing. You would have to try multiple models, select the best ones and fine-tune them using cross-validation, and so on.\n",
    "\n",
    "But you get the picture, so let's stop now, and just print out the precision/recall we get on the test set:"
   ]
  },
  {
   "cell_type": "code",
   "execution_count": 158,
   "metadata": {},
   "outputs": [
    {
     "name": "stdout",
     "output_type": "stream",
     "text": [
      "Precision: 95.88%\n",
      "Recall: 97.89%\n"
     ]
    },
    {
     "name": "stderr",
     "output_type": "stream",
     "text": [
      "/Users/ageron/.virtualenvs/tf2/lib/python3.6/site-packages/sklearn/linear_model/logistic.py:758: ConvergenceWarning: lbfgs failed to converge. Increase the number of iterations.\n",
      "  \"of iterations.\", ConvergenceWarning)\n"
     ]
    }
   ],
   "source": [
    "from sklearn.metrics import precision_score, recall_score\n",
    "\n",
    "X_test_transformed = preprocess_pipeline.transform(X_test)\n",
    "\n",
    "log_clf = LogisticRegression(solver=\"lbfgs\", random_state=42)\n",
    "log_clf.fit(X_train_transformed, y_train)\n",
    "\n",
    "y_pred = log_clf.predict(X_test_transformed)\n",
    "\n",
    "print(\"Precision: {:.2f}%\".format(100 * precision_score(y_test, y_pred)))\n",
    "print(\"Recall: {:.2f}%\".format(100 * recall_score(y_test, y_pred)))"
   ]
  },
  {
   "cell_type": "code",
   "execution_count": null,
   "metadata": {},
   "outputs": [],
   "source": []
  }
 ],
 "metadata": {
  "kernelspec": {
   "display_name": "Python 3.7.5 64-bit ('env-tfg': venv)",
   "language": "python",
   "name": "python37564bitenvtfgvenv663aa007526e4a3785963f2f7ce44b55"
  },
  "language_info": {
   "codemirror_mode": {
    "name": "ipython",
    "version": 3
   },
   "file_extension": ".py",
   "mimetype": "text/x-python",
   "name": "python",
   "nbconvert_exporter": "python",
   "pygments_lexer": "ipython3",
   "version": "3.7.5-final"
  },
  "nav_menu": {},
  "toc": {
   "navigate_menu": true,
   "number_sections": true,
   "sideBar": true,
   "threshold": 6,
   "toc_cell": false,
   "toc_section_display": "block",
   "toc_window_display": false
  }
 },
 "nbformat": 4,
 "nbformat_minor": 1
}