{
 "cells": [
  {
   "cell_type": "code",
   "execution_count": 1,
   "metadata": {
    "ExecuteTime": {
     "end_time": "2020-02-06T22:33:57.662017Z",
     "start_time": "2020-02-06T22:33:57.644757Z"
    }
   },
   "outputs": [
    {
     "data": {
      "text/html": [
       "<style>.container { width:100% !important; }</style>"
      ],
      "text/plain": [
       "<IPython.core.display.HTML object>"
      ]
     },
     "metadata": {},
     "output_type": "display_data"
    }
   ],
   "source": [
    "# USE THIS to make full-width cells\n",
    "from IPython.core.display import display, HTML\n",
    "import IPython as IPy\n",
    "# import tabulate\n",
    "display(HTML(\"<style>.container { width:100% !important; }</style>\"))"
   ]
  },
  {
   "cell_type": "markdown",
   "metadata": {},
   "source": [
    "# (bstudent) marginal notebook for notes, derivations, and demos\n",
    "\n",
    "## For ageron handson-ml2 book & website\n",
    "\n",
    "These are my equivalent of scribbling in the margins of a math book."
   ]
  },
  {
   "cell_type": "markdown",
   "metadata": {},
   "source": [
    "### A note on equations: \n",
    "\n",
    "E-book editions of this book tend to have misrendered equations.\n",
    "\n",
    "\n",
    "\n",
    "**See: ageron's included notebook `book_equations.ipynb` for correctly-rendered equations.**"
   ]
  },
  {
   "cell_type": "markdown",
   "metadata": {},
   "source": [
    "### (bstudent) (ch 05) Examine the Dual form of the SVM objective and its use in the solution\n",
    "\n",
    "#### Start from Eq 5-6 and 5-7 in ageron handson-ml2:\n",
    "\n",
    "**Equation 5-6: Dual form of the linear SVM objective**  \n",
    "$\n",
    "\\begin{split}\n",
    "\\underset{\\mathbf{\\alpha}}{\\operatorname{minimize}}\n",
    "\\dfrac{1}{2}\\sum\\limits_{i=1}^{m}{\n",
    "  \\sum\\limits_{j=1}^{m}{\n",
    "  \\alpha^{(i)} \\alpha^{(j)} t^{(i)} t^{(j)} {\\mathbf{x}^{(i)}}^T \\mathbf{x}^{(j)}\n",
    "  }\n",
    "} \\quad - \\quad \\sum\\limits_{i=1}^{m}{\\alpha^{(i)}}\\\\\n",
    "\\text{subject to}\\quad \\alpha^{(i)} \\ge 0 \\quad \\text{for }i = 1, 2, \\dots, m\n",
    "\\end{split}\n",
    "$\n",
    "\n",
    "\n",
    "**Equation 5-7: From the dual solution to the primal solution**  \n",
    "$\n",
    "\\begin{split}\n",
    "&\\hat{\\mathbf{w}} = \\sum_{i=1}^{m}{\\hat{\\alpha}}^{(i)}t^{(i)}\\mathbf{x}^{(i)}\\\\\n",
    "&\\hat{b} = \\dfrac{1}{n_s}\\sum\\limits_{\\scriptstyle i=1 \\atop {\\scriptstyle {\\hat{\\alpha}}^{(i)} > 0}}^{m}{\\left(t^{(i)} - ({\\hat{\\mathbf{w}}}^T \\mathbf{x}^{(i)})\\right)}\n",
    "\\end{split}\n",
    "$\n",
    "\n",
    "#### Now examine the quadratic summation term in 5-6:\n",
    "\n",
    "* Let $\\mathbf X$ be the $m\\times p$ matrix whose rows are the transposed training samples ${\\mathbf{x}^{(i)}}^T$.  \n",
    "* Let $\\mathbf Z$ be the $m\\times p$ matrix whose rows are the scalars $t^{i)}$ multiplied by the corresponding transposed training samples ${\\mathbf{x}^{(i)}}^T$.  \n",
    "\n",
    "Now **Eq 5-6** can be stated in vector-matrix format:\n",
    "\n",
    "$\\begin{split}\n",
    "\\underset{\\mathbf{\\alpha}}{\\operatorname{minimize}}\\dfrac{1}{2} \\mathbf{\\alpha}^T \\mathbf Z \\mathbf Z^T \\mathbf{\\alpha} - \\mathbf 1^T \\mathbf{\\alpha}\\\\\n",
    "\\text{subject to}\\quad \\mathbf \\alpha \\ge \\mathbf 0\n",
    "\\end{split}$  \n",
    "\n",
    "Where $\\mathbf \\alpha \\ge \\mathbf 0$ represents a vector inequality wrt the $m$-vector $\\mathbf 0$  \n",
    "\n",
    "And equation **5-7** becomes:  \n",
    "\n",
    "$\\mathbf w = \\mathbf{\\alpha}^T \\mathbf Z$  \n",
    "\n",
    "and $b$ has the property of omitting indices where $\\alpha^{(i)}=0$:   \n",
    "\n",
    "$b = \\frac{1}{\\mathbf 1^T \\operatorname{sgn}(\\mathbf\\alpha)} \\operatorname{sgn}(\\mathbf\\alpha)^T \\left( \\mathbf t - \\mathbf X \\mathbf w \\right)$\n",
    "\n",
    "where $\\operatorname{sgn}(\\mathbf\\alpha)$ gives a vector result the same shape as $\\mathbf\\alpha$ with value one where $\\mathbf\\alpha^{(i)} > 0$ and value zero where $\\mathbf\\alpha^{(i)} = 0$ (recall $\\mathbf\\alpha^{(i)}$ has no negative values, so although the sgn function takes on -1 for negative values, there are none here).\n",
    "\n",
    "Note that this is mostly conceptual, since the problem above is posed for a *linear* SVM, and $\\mathbf w$ becomes problematic when the kernel trick is applied - see **Eq 5-12** and **Eq 5-13**."
   ]
  },
  {
   "cell_type": "markdown",
   "metadata": {},
   "source": [
    "### (bstudent) (ch 05) SVM & Kernel Trick Notes\n",
    "\n",
    "There's a description of *the kernel trick* in the Wikipedia article on *Kernel Methods* (the Wikipedia article on SVM also describes the kernel trick but IMO is not very helpful).\n",
    "\n",
    "#### Original article here:  https://en.wikipedia.org/wiki/Kernel_method\n",
    "\n",
    "-----------------\n",
    "***Excerpt:***\n",
    "\n",
    "> The kernel trick avoids the explicit mapping that is needed to get linear learning algorithms to learn a nonlinear function or decision boundary. For all $\\mathbf {x}$ and $\\mathbf {x'}$ in the input space $\\mathcal {X}$, certain functions $k(\\mathbf {x} ,\\mathbf {x'} )$ can be expressed as an inner product in another space $\\mathcal {V}$.\n",
    "\n",
    "> The function $k\\colon \\mathcal {X} \\times \\mathcal {X} \\to \\mathbb {R}$  is often referred to as a kernel or a kernel function. The word \"kernel\" is used in mathematics to denote a weighting function for a weighted sum or integral.\n",
    "\n",
    "> Certain problems in machine learning have more structure than an arbitrary weighting function $k$. The computation is made much simpler if the kernel can be written in the form of a \"feature map\" $\\varphi \\colon \\mathcal {X} \\to \\mathcal {V}$ which satisfies:  \n",
    "\n",
    "> * $k(\\mathbf {x} ,\\mathbf {x'} )=\\langle \\varphi (\\mathbf {x} ),\\varphi (\\mathbf {x'} )\\rangle _{\\mathcal {V}}$\n",
    "\n",
    "> **(bstudent paraphrasing here):** The article goes on to explain that $k(\\mathbf {x},\\mathbf {x'} )$ is a *similarity function* on vectors $\\mathbf {x} \\in \\mathcal{X}$, which at its simplest might be a straight inner product, a correlation matrix or covariance matrix (must be positive-definite).  Most generally $k(\\mathbf {x},\\mathbf {x'} )$ is a function that takes two vectors and returns a scalar representing similarity on a larger-is-closer basis.  Note that similarity is in many ways a dual to the concept of a metric (which itself is a generalization of distance), but metrics have a smaller-is-closer representation where metric $d$ always has the property $d(\\mathbf x, \\mathbf x)=0$. \n",
    "\n",
    "-----------------\n",
    "\n",
    "#### (bstudent) *My commentary and interpretation  on the wiki article:*\n",
    "\n",
    "This means that the function $\\varphi (\\mathbf {x})$ is a ***non-linear mapping*** of the $p$-dimensional vector $\\mathbf {x}$ to a (generally) higher-dimensional $m$-vector $\\mathbf {v}$ (*see footnote$^1$*).  Then $k(\\mathbf {x} ,\\mathbf {x'} ) = \\mathbf v^T \\mathbf v'$, where the function mapping from $\\mathbf {x}$ to $\\mathbf {v}$, $\\mathbf v = \\varphi (\\mathbf {x})$, can be nonlinear and quite convoluted.  \n",
    "\n",
    "In the vector case, we can view the nonlinear mapping $\\varphi (\\mathbf {x})$ as producing a not-quite arbitrary $p$-manifold embedded in the higher $m$-dimensional space.  It is not arbitrary because of the above relation:  \n",
    "\n",
    "$k(\\mathbf {x} ,\\mathbf {x'} )=\\langle \\varphi (\\mathbf {x} ),\\varphi (\\mathbf {x'} )\\rangle _{\\mathcal {V}}$  \n",
    "\n",
    "For the vector case this reduces to:  \n",
    "\n",
    "$k(\\mathbf {x} ,\\mathbf {x'} )=\\langle \\varphi (\\mathbf {x} ),\\varphi (\\mathbf {x'} )\\rangle _{\\mathcal {V}}$  \n",
    "\n",
    "This constraint says that although $\\varphi (\\mathbf {x})$ may be nonlinear, \n",
    "  \n",
    "***The kernel trick is a \"trick\" in the sense that (e.g. for algorithms like SVM) the formula for $\\varphi (\\mathbf {x})$ need not be explicitly specified when kernel function $k(\\mathbf {x}, \\mathbf {x}')$ satisfies Mercer's condition on $\\mathbf {x}$.***\n",
    "\n",
    "#### About *Mercer's condition* (see https://en.wikipedia.org/wiki/Mercer%27s_theorem#Mercer's_condition): \n",
    "The \"trick\" of the *kernel trick* requires that $k(\\mathbf {x} ,\\mathbf {x'})$ satisfy *Mercer's condition*.  Mercer's condition is exactly a generalization of positive-definiteness to function spaces, where positive-definite $m$-matrices $\\mathbf K \\in \\mathbb S_{++}^m$ are a special case of Mercer's condition in vector spaces, i.e. $k(\\mathbf {x} ,\\mathbf {x}) > 0\\text{,  } \\forall \\mathbf x \\neq \\mathbf 0$.\n",
    "\n",
    "#### SEE ALSO:\n",
    "There are some great summarizations and interpretations of SVM kernel methods in ***Deep Learning*** by Goodfellow et al, pp 138-139.\n",
    "\n",
    "> **Footnotes**:  \n",
    "> $^1$ More generally, $\\varphi (\\mathbf {x})$ can map to an infinite-dimensional function space, but to clarify the concept let's \"keep it simple\" and presume that $\\varphi (\\mathbf {x})$ maps $\\mathbf x$ to $m$-vector $\\mathbf v$.   "
   ]
  },
  {
   "cell_type": "markdown",
   "metadata": {},
   "source": [
    "### (bstudent) (ch 04) Deriving Normal Equation and Gradient for Descent:\n",
    "\n",
    "$\\hat\\theta = \\displaystyle\\min_{\\theta} \\frac{1}{N} \\mathbf{\\epsilon}^T\\mathbf{\\epsilon}$  \n",
    "  \n",
    "$\\hat\\theta = \\displaystyle\\min_{\\theta} \\frac{1}{N} (\\mathbf{\\hat y} - \\mathbf{y})^T (\\mathbf{\\hat y} - \\mathbf{y})$  \n",
    "  \n",
    "$\\mathbf{\\hat y} = \\mathbf{X}\\mathbf{\\theta}$\n",
    "\n",
    "$\\implies \\nabla_\\theta \\frac{1}{N} (\\mathbf{X}\\mathbf{\\theta}-\\mathbf{y})^T(\\mathbf{X}\\mathbf{\\theta}-\\mathbf{y}) = \\mathbf{0}$  \n",
    "\n",
    "Minimum occurs where:  \n",
    "\n",
    "$\\nabla_\\theta \\frac{1}{N} (\\mathbf{X}\\mathbf{\\theta}-\\mathbf{y})^T(\\mathbf{X}\\mathbf{\\theta}-\\mathbf{y}) = \\frac{1}{N} \\left( 2 \\mathbf{X}^T\\mathbf{X}\\mathbf{\\theta} - 2 \\mathbf{X}^T\\mathbf{y}\\right) = \\mathbf{0}$  \n",
    "\n",
    "$\\implies \\mathbf{X}^T\\mathbf{X}\\hat\\theta = \\mathbf{X}^T\\mathbf{y}$  \n",
    "\n",
    "$\\implies \\hat\\theta = (\\mathbf{X}^T\\mathbf{X})^{-1}\\mathbf{X}^T\\mathbf{y}$  \n",
    "(The \"normal equation\")  \n",
    "\n",
    "For general gradient at points other than $\\hat\\theta$, the \"gradient\" in MSE gradient descent is:    \n",
    "\n",
    "$\\nabla_\\theta \\frac{1}{N} \\left(\\mathbf{X}\\mathbf{\\theta}-\\mathbf{y})^T(\\mathbf{X}\\mathbf{\\theta}-\\mathbf{y}\\right) = \\frac{2}{N} \\mathbf{X}^T \\left(\\mathbf{X}\\mathbf{\\theta} - \\mathbf{y} \\right)$"
   ]
  },
  {
   "cell_type": "code",
   "execution_count": 2,
   "metadata": {
    "ExecuteTime": {
     "end_time": "2020-02-06T22:34:17.507621Z",
     "start_time": "2020-02-06T22:34:17.029114Z"
    }
   },
   "outputs": [],
   "source": [
    "import numpy as np\n",
    "import pandas as pd\n",
    "\n",
    "%matplotlib inline\n",
    "import matplotlib as mpl\n",
    "import matplotlib.pyplot as plt\n",
    "mpl.rc('axes', labelsize=14)\n",
    "mpl.rc('xtick', labelsize=12)\n",
    "mpl.rc('ytick', labelsize=12)"
   ]
  },
  {
   "cell_type": "markdown",
   "metadata": {},
   "source": [
    "Used in the next section for illustration, putting the code here to get it out of the way."
   ]
  },
  {
   "cell_type": "code",
   "execution_count": 3,
   "metadata": {
    "ExecuteTime": {
     "end_time": "2020-02-06T22:34:41.025518Z",
     "start_time": "2020-02-06T22:34:41.018243Z"
    }
   },
   "outputs": [],
   "source": [
    "# This function is repurposed from the code for fig 4-21 and used to show why  \n",
    "# the logistic function's \"true\" error and associated gradients are not optimal \n",
    "# for iterative methods.\n",
    "def plot_sigmoid_gradients():\n",
    "    t = np.linspace(-10, 10, 100)\n",
    "    sig = 1 / (1 + np.exp(-t))\n",
    "    dsy0 = sig*(1-sig)\n",
    "    dsy1 = -dsy0\n",
    "    logcosty0 = -np.log(1-sig)\n",
    "    logcosty1 = -np.log(sig)\n",
    "    plt.figure(figsize=(15, 10))\n",
    "    plt.plot([-10, 10], [0, 0], \"k-\")\n",
    "    plt.plot([-10, 10], [0.5, 0.5], \"k:\")\n",
    "    plt.plot([-10, 10], [1, 1], \"k:\")\n",
    "    plt.plot([-10, 10], [1.5, 1.5], \"k:\")\n",
    "    plt.plot([0, 0], [-0.4, 1.6], \"k-\")\n",
    "    plt.plot(t, sig, \"r--\", linewidth=2, label=r\"$y=0: \\epsilon = \\sigma(t)$\")\n",
    "    plt.plot(t, 1-sig, \"b--\", linewidth=2, label=r\"$y=1: \\epsilon = 1 - \\sigma(t)$\")\n",
    "    plt.plot(t, dsy0, \"r-\", linewidth=2, label=r\"$y=0: \\nabla_\\theta \\epsilon = \\sigma(t)(1-\\sigma(t))$\")\n",
    "    plt.plot(t, dsy1, \"b-\", linewidth=2, label=r\"$y=1: \\nabla_\\theta \\epsilon = -\\sigma(t)(1-\\sigma(t))$\")\n",
    "    plt.plot(t, logcosty0, \"m-\", linewidth=2, label=r\"$y=0: -\\log(1-\\sigma(t))$\")\n",
    "    plt.plot(t, logcosty1, \"c-\", linewidth=2, label=r\"$y=1: -\\log(\\sigma(t))$\")\n",
    "    \n",
    "    plt.xlabel(\"t\")\n",
    "    plt.legend(loc=\"upper left\", fontsize=20)\n",
    "    plt.axis([-10, 10, -0.4, 1.6])\n",
    "    # save_fig(\"logistic_function_plot\")\n",
    "    plt.show()\n"
   ]
  },
  {
   "cell_type": "markdown",
   "metadata": {},
   "source": [
    "## (bstudent)  (ch 04) Logistic Function\n",
    "\n",
    "$\\hat{p}_i = s(\\mathbf{x_i}^T \\mathbf{\\theta})$  \n",
    "\n",
    "I use $s(t)$ where the author uses $\\sigma(t)$ to save space in source code.\n",
    "\n",
    "Let $t_i = \\mathbf{x_i}^T \\mathbf{\\theta}$ for brevity.\n",
    "\n",
    "$s(t_i) = \\large \\frac{1}{1 + \\mathit{e}^{-t_i}}$  \n",
    "\n",
    "Further, drop subscript $i$ and presume $t \\equiv t_i$\n",
    "\n",
    "### Properties\n",
    "\n",
    "#### Reversal\n",
    "\n",
    "$(1 - s(t)) =\\large \\frac{1 + e^{-t}}{1 + e^{-t}} - \\frac{1}{1 + e^{-t}} = \\frac{e^{-t}}{1 + e^{-t}} = \\frac{1}{1 + e^{t}}$ $= s(-t)$  \n",
    "\n",
    "$\\therefore s(-t) = 1-s(t)$  \n",
    "\n",
    "#### Derivative\n",
    "\n",
    "$\\frac{\\partial}{\\partial{t}} s(t) = s(-t) - s(-t)^2$\n",
    "\n",
    "$s(-t) - s(-t)^2 = 1-s(t) - (1-s(t))^2  = 1-s(t) - (1 - 2s(t) + s(t)^2) = s(t) - s(t)^2 = s(t)(1-s(t)) = s(t)(s(-t)$\n",
    "\n",
    "$\\therefore \\frac{\\partial}{\\partial{t}} s(t) = s(t)(1-s(t)) = s(t)(s(-t)$\n",
    "\n",
    "$\\implies \\frac{\\partial}{\\partial{t}} (1-s(t)) = -s(t)(1-s(t)) = -s(t)(s(-t)$\n",
    "\n",
    "$\\frac{\\partial}{\\partial{t}} s(f(t)) = \\left( s(-f(t)) - s(-f(t))^2 \\right) \\frac{\\partial}{\\partial{t}} f(t)$\n",
    "\n",
    "#### Log\n",
    "\n",
    "$\\log(s(t)) = \\log \\left( \\frac{1}{1 + \\mathit{e}^{-t}} \\right) = -\\log \\left( 1 + \\mathit{e}^{-t} \\right)$  \n",
    "\n",
    "#### Derivative of Log\n",
    "\n",
    "$\\frac{\\partial}{\\partial{t}} \\log(s(t)) = \\frac{\\partial}{\\partial{t}} -\\log \\left( 1 + \\mathit{e}^{-t} \\right) = s(-t)$\n",
    "\n",
    "#### Inverse\n",
    "\n",
    "$s(t)$ has an inverse function the *logit* function $\\operatorname{logit}(p) = \\log(p) - \\log(1-p) = \\log(s(t)) - \\log(1-s(t))$\n",
    "\n",
    "##### Show that $\\operatorname{logit}(p)$ is indeed the inverse of $s(t)$:\n",
    "\n",
    "$\\log(s(t)) - \\log(1-s(t)) = -\\log( 1 + e^{-t}) - \\log( \\frac{e^{-t}}{1+e^{-t}} )$  \n",
    "\n",
    "$= -\\log( 1 + e^{-t}) - (\\log( e^{-t} ) - \\log (1+e^{-t} ) ) = -\\log( e^{-t} ) = t$  \n",
    "\n",
    "\n",
    "### What is an appropriate loss / gradient for $s(t)$?\n",
    "\n",
    "$s(t)$ has a codomain of $(0...1)$  \n",
    "\n",
    "We want to penalize $\\theta$ where $\\mathbf{x}_i^T\\mathbf\\theta$ approaches a zero value for $y_i=1$ and where $\\mathbf{x}_i^T\\mathbf\\theta$ approaches a one value for $y_i=0$ \n",
    "\n",
    "The actual error for a single example $i$ is given by:\n",
    "\n",
    "$\\epsilon_i(t) = y_i(1 - s(\\mathbf{x}_i^T \\mathbf{\\theta})) + (1 - y_i)s(\\mathbf{x}_i^T \\mathbf{\\theta})$\n",
    "\n",
    "Note that this quantity is \"gated\" by the label $y_i$, so that one of the two additive terms is zero depending on the value of $y_i$:  \n",
    "* When $y_i=0$ then $s(t)$ is the error term (we want $s(t)$ close to zero)  \n",
    "* When $y_i=1$ then $1 - s(t)$ is the error term (we want error $1-s(t)$ close to zero) \n",
    "\n",
    "Note this error quantity is always positive, with minimum error of zero an maximum error of one.\n",
    "\n",
    "A problem arises with this because $s(t)$ (and the actual error $\\epsilon_i(t)$) is bounded, even though $t$ is not.   \n",
    "\n",
    "This is particularly bad if we think in terms of the error *gradient*:    \n",
    "\n",
    "$\\nabla_\\theta \\epsilon = \\nabla_\\theta y_i(1 - s(t)) + (1 - y_i)s(t)$  \n",
    "$\\dots = \\left[ y_i(-s(t)(1-s(t))) + (1 - y_i)s(t)(1-s(t)) \\right] \\nabla_\\theta t$  \n",
    "$\\dots = \\left[ (1 - 2 y_i) s(t)(1 - s(t)) \\right] \\nabla_\\theta t$  \n",
    "$\\dots = \n",
    "\\begin{cases}\n",
    "    \\nabla_\\theta \\epsilon &= &+s(t)(1 - s(t)) \\nabla_\\theta t  & \\text{if } &y_i &= &0\\\\\n",
    "    \\nabla_\\theta \\epsilon &= &-s(t)(1 - s(t)) \\nabla_\\theta t  & \\text{if } &y_i &= &1\n",
    "\\end{cases}$  \n",
    "\n",
    "The error gradient vanishes as the error shrinks close to zero, but also disappears as the error grows to one, even for extreme values of t. \n",
    "\n",
    "### The chart below shows how gradient becomes small in extreme error cases (vanishing gradients)\n",
    "\n",
    "(so what to do??)"
   ]
  },
  {
   "cell_type": "code",
   "execution_count": 4,
   "metadata": {
    "ExecuteTime": {
     "end_time": "2020-02-06T22:34:50.181568Z",
     "start_time": "2020-02-06T22:34:49.731698Z"
    },
    "scrolled": false
   },
   "outputs": [
    {
     "data": {
      "image/png": "[encoded data removed]",
      "text/plain": [
       "<Figure size 1080x720 with 1 Axes>"
      ]
     },
     "metadata": {
      "needs_background": "light"
     },
     "output_type": "display_data"
    }
   ],
   "source": [
    "plot_sigmoid_gradients()"
   ]
  },
  {
   "cell_type": "markdown",
   "metadata": {},
   "source": [
    "### (bstudent) A better loss / cost function for logistic fit\n",
    "\n",
    "***(TODO: check veracity that this is an apples-to-apples example of author's observation)*** This is the type of case that agerion talked about earlier in the chapter, where the evaluation for training is not the evaluation used at test / runtime.  \n",
    "\n",
    "Instead of the actual error $\\epsilon_i(t)$ for sample $i$, consider a cost / loss function with better properties, e.g. at extreme values of $t$.\n",
    "\n",
    "Note that I use $s(t)$ where ageron uses $\\sigma(t)$ ...\n",
    "\n",
    "$c(\\theta) =\n",
    "\\begin{cases}\n",
    "    &-\\log(1 - s(t_i)) &\\text{if } y_i = 0\\\\\n",
    "        &-\\log(s(t_i)) &\\text{if } y_i = 1\n",
    "\\end{cases}$\n",
    "\n",
    "$=(1-y_i)(-\\log(1 - s(t_i))) + y_i(-\\log(s(t_i)))$  \n",
    "\n",
    "Where:  \n",
    "\n",
    "$t_i=\\mathbf X^T \\theta$\n",
    "\n",
    "And:\n",
    "\n",
    "$s(t_i)=s(\\mathbf X_i^T \\theta)=\\frac{1}{1+\\exp(-t_i)}=\\frac{1}{1+\\exp(-\\mathbf X_i^T \\theta)}$\n",
    "\n",
    "And:  \n",
    "\n",
    "$-\\log(s(t_i))=\\log(1+\\exp(-t_i))$  \n",
    "\n",
    "$-\\log(1 - s(t_i))=-\\log(s(-t_i))=\\log(1+\\exp(t_i))$\n",
    "\n",
    "$\\therefore c(\\theta) = (1-y_i)\\log(1+\\exp(t_i)) + y_i\\log(1+\\exp(-t_i))$  \n",
    "  \n",
    "$= (1-y_i)\\log(1+\\exp(X^T\\theta)) + y_i\\log(1+\\exp(-X^T\\theta))$  \n",
    "\n",
    "Gradient:  \n",
    "\n",
    "$\\nabla_\\theta c(\\theta) = (1-y_i) s(\\mathbf{x}_i^T\\theta) \\mathbf{x}_i - y_i s(-\\mathbf{x}_i^T \\theta) \\mathbf{x}_i$\n",
    "\n",
    "$= \\left[(1-y_i) s(\\mathbf{x}_i^T\\theta) - y_i (1 - s(\\mathbf{x}_i^T \\theta)) \\right] \\mathbf{x}_i$  \n",
    "$= \\left[(1-y_i) s(t_i) - y_i (1 - s(t_i))\\right] \\mathbf{x}_i$  \n",
    "$= \\left[ s(t_i) - y_i s(t_i) - y_i + y_i s(t_i) \\right] \\mathbf{x}_i$  \n",
    "$= \\left[ s(t_i) - y_i \\right] \\mathbf{x}_i$  \n",
    "$= \\left[ s(\\mathbf{x}_i^T\\theta) - y_i \\right] \\mathbf{x}_i$  \n",
    "\n",
    "This is in line with the result of eq 4-18 in the book, which shows element-wise derivative.  \n",
    "Strangely, the e-book typesetting sucks for this textbook, but that doesn't matter because ageron provides all equations in $\\LaTeX$ format, see:   \n",
    "`book_equations.ipynb`  \n",
    "\n",
    "### Summary of logistic regression cost function & gradient:\n",
    "\n",
    "$c(\\theta) =\n",
    "\\begin{cases}\n",
    "    &-\\log(1 - s(t_i)) &\\text{if } y_i = 0\\\\\n",
    "        &-\\log(s(t_i)) &\\text{if } y_i = 1\n",
    "\\end{cases}$\n",
    "\n",
    "$=(1-y_i)(-\\log(1 - s(t_i))) + y_i(-\\log(s(t_i)))$  \n",
    "\n",
    "Where:  \n",
    "\n",
    "$t_i=\\mathbf X^T \\theta$\n",
    "\n",
    "Gradient:  \n",
    "\n",
    "$\\nabla_\\theta c(\\theta) = (1-y_i) s(\\mathbf{x}_i^T\\theta) \\mathbf{x}_i - y_i s(-\\mathbf{x}_i^T \\theta) \\mathbf{x}_i$\n",
    "\n",
    "$= \\left[(1-y_i) s(\\mathbf{x}_i^T\\theta) - y_i (1 - s(\\mathbf{x}_i^T \\theta)) \\right] \\mathbf{x}_i$  \n",
    "$= \\left[(1-y_i) s(t_i) - y_i (1 - s(t_i))\\right] \\mathbf{x}_i$  \n",
    "$= \\left[ s(\\mathbf{x}_i^T\\theta) - y_i \\right] \\mathbf{x}_i$  \n",
    "\n",
    "  --\n"
   ]
  },
  {
   "cell_type": "markdown",
   "metadata": {},
   "source": [
    "### Eq **4-22** extends the above idea of log cost to multi-class loss:\n",
    "\n",
    "*reproduced here from `book_equations.ipynb`:*  \n",
    "\n",
    "**Equation 4-22: Cross entropy cost function**\n",
    "\n",
    "$\n",
    "J(\\boldsymbol{\\Theta}) = - \\dfrac{1}{m}\\sum\\limits_{i=1}^{m}\\sum\\limits_{k=1}^{K}{y_k^{(i)}\\log\\left(\\hat{p}_k^{(i)}\\right)}\n",
    "$\n",
    "\n",
    "**Cross entropy between two discrete probability distributions $p$ and $q$ (page 141):**\n",
    "$ H(p, q) = -\\sum\\limits_{x}p(x) \\log q(x) $\n",
    "*  \n",
    "#### Eq **4-23**  gives the corresponding *gradient*  \n",
    "\n",
    "*Equation 4-23: Cross entropy gradient vector for class $k$:  \n",
    "$\n",
    "\\nabla_{\\boldsymbol{\\theta}^{(k)}} \\, J(\\boldsymbol{\\Theta}) = \\dfrac{1}{m} \\sum\\limits_{i=1}^{m}{ \\left ( \\hat{p}^{(i)}_k - y_k^{(i)} \\right ) \\mathbf{x}^{(i)}}\n",
    "$\n"
   ]
  },
  {
   "cell_type": "markdown",
   "metadata": {},
   "source": []
  },
  {
   "cell_type": "markdown",
   "metadata": {},
   "source": [
    "## MISC"
   ]
  },
  {
   "cell_type": "markdown",
   "metadata": {},
   "source": [
    "### demo np.c_\n",
    "\n",
    "Shows that c has the nice property of turning vectors into columns, i.e. my intuitive bias was that the 0'th list element might need to have more than one dimension for this to work, but that is not the case!  "
   ]
  },
  {
   "cell_type": "code",
   "execution_count": 5,
   "metadata": {
    "ExecuteTime": {
     "end_time": "2020-02-06T22:35:02.779813Z",
     "start_time": "2020-02-06T22:35:02.774396Z"
    }
   },
   "outputs": [],
   "source": [
    "ones1 = np.ones((5,))\n",
    "ones2 = 2*np.ones((5,))\n",
    "ones3 = 3*np.ones((5,))"
   ]
  },
  {
   "cell_type": "code",
   "execution_count": 6,
   "metadata": {
    "ExecuteTime": {
     "end_time": "2020-02-06T22:35:03.111587Z",
     "start_time": "2020-02-06T22:35:03.106580Z"
    }
   },
   "outputs": [
    {
     "data": {
      "text/plain": [
       "array([[1., 2., 3.],\n",
       "       [1., 2., 3.],\n",
       "       [1., 2., 3.],\n",
       "       [1., 2., 3.],\n",
       "       [1., 2., 3.]])"
      ]
     },
     "execution_count": 6,
     "metadata": {},
     "output_type": "execute_result"
    }
   ],
   "source": [
    "np.c_[ones1, ones2, ones3]"
   ]
  },
  {
   "cell_type": "markdown",
   "metadata": {},
   "source": [
    "#### also demo np.r_\n",
    "\n",
    "This result is counterintuitive, given the way np.c_ works above; IT is probably consistent in some way that would not elude a person smarter or more insightful than myself."
   ]
  },
  {
   "cell_type": "code",
   "execution_count": 7,
   "metadata": {
    "ExecuteTime": {
     "end_time": "2020-02-06T22:35:03.908187Z",
     "start_time": "2020-02-06T22:35:03.901431Z"
    }
   },
   "outputs": [
    {
     "data": {
      "text/plain": [
       "array([1., 1., 1., 1., 1., 2., 2., 2., 2., 2., 3., 3., 3., 3., 3.])"
      ]
     },
     "execution_count": 7,
     "metadata": {},
     "output_type": "execute_result"
    }
   ],
   "source": [
    "np.r_[ones1, ones2, ones3]"
   ]
  },
  {
   "cell_type": "code",
   "execution_count": 8,
   "metadata": {
    "ExecuteTime": {
     "end_time": "2020-02-06T22:35:04.438385Z",
     "start_time": "2020-02-06T22:35:04.435550Z"
    }
   },
   "outputs": [
    {
     "data": {
      "text/plain": [
       "array([[1., 1., 1., 1., 1.]])"
      ]
     },
     "execution_count": 8,
     "metadata": {},
     "output_type": "execute_result"
    }
   ],
   "source": [
    "ones1T = ones1.reshape((1,5))\n",
    "ones1T"
   ]
  },
  {
   "cell_type": "code",
   "execution_count": 9,
   "metadata": {
    "ExecuteTime": {
     "end_time": "2020-02-06T22:35:04.986176Z",
     "start_time": "2020-02-06T22:35:04.980846Z"
    }
   },
   "outputs": [],
   "source": [
    "# np.r_[ones1T, ones2, ones3]"
   ]
  },
  {
   "cell_type": "markdown",
   "metadata": {},
   "source": [
    "## Q: what happens when you call `list(...)` with a `dataframe` argument?"
   ]
  },
  {
   "cell_type": "code",
   "execution_count": 10,
   "metadata": {
    "ExecuteTime": {
     "end_time": "2020-02-06T22:35:06.687705Z",
     "start_time": "2020-02-06T22:35:06.662798Z"
    }
   },
   "outputs": [
    {
     "data": {
      "text/html": [
       "<div>\n",
       "<style scoped>\n",
       "    .dataframe tbody tr th:only-of-type {\n",
       "        vertical-align: middle;\n",
       "    }\n",
       "\n",
       "    .dataframe tbody tr th {\n",
       "        vertical-align: top;\n",
       "    }\n",
       "\n",
       "    .dataframe thead th {\n",
       "        text-align: right;\n",
       "    }\n",
       "</style>\n",
       "<table border=\"1\" class=\"dataframe\">\n",
       "  <thead>\n",
       "    <tr style=\"text-align: right;\">\n",
       "      <th></th>\n",
       "      <th>a</th>\n",
       "      <th>b</th>\n",
       "      <th>c</th>\n",
       "    </tr>\n",
       "  </thead>\n",
       "  <tbody>\n",
       "    <tr>\n",
       "      <th>0</th>\n",
       "      <td>1</td>\n",
       "      <td>u</td>\n",
       "      <td>5</td>\n",
       "    </tr>\n",
       "    <tr>\n",
       "      <th>1</th>\n",
       "      <td>2</td>\n",
       "      <td>v</td>\n",
       "      <td>10</td>\n",
       "    </tr>\n",
       "    <tr>\n",
       "      <th>2</th>\n",
       "      <td>3</td>\n",
       "      <td>w</td>\n",
       "      <td>15</td>\n",
       "    </tr>\n",
       "    <tr>\n",
       "      <th>3</th>\n",
       "      <td>4</td>\n",
       "      <td>x</td>\n",
       "      <td>20</td>\n",
       "    </tr>\n",
       "    <tr>\n",
       "      <th>4</th>\n",
       "      <td>5</td>\n",
       "      <td>y</td>\n",
       "      <td>25</td>\n",
       "    </tr>\n",
       "  </tbody>\n",
       "</table>\n",
       "</div>"
      ],
      "text/plain": [
       "   a  b   c\n",
       "0  1  u   5\n",
       "1  2  v  10\n",
       "2  3  w  15\n",
       "3  4  x  20\n",
       "4  5  y  25"
      ]
     },
     "execution_count": 10,
     "metadata": {},
     "output_type": "execute_result"
    }
   ],
   "source": [
    "df = pd.DataFrame({'a': [1,2,3,4,5], 'b': list('uvwxy'), 'c': [5,10,15,20,25]})\n",
    "df"
   ]
  },
  {
   "cell_type": "markdown",
   "metadata": {},
   "source": [
    "#### A: you get a list of the column names"
   ]
  },
  {
   "cell_type": "code",
   "execution_count": 11,
   "metadata": {
    "ExecuteTime": {
     "end_time": "2020-02-06T22:35:07.603347Z",
     "start_time": "2020-02-06T22:35:07.599750Z"
    }
   },
   "outputs": [
    {
     "data": {
      "text/plain": [
       "['a', 'b', 'c']"
      ]
     },
     "execution_count": 11,
     "metadata": {},
     "output_type": "execute_result"
    }
   ],
   "source": [
    "list(df)"
   ]
  },
  {
   "cell_type": "markdown",
   "metadata": {},
   "source": [
    "dict(...) on a data frame returns a dict of series:"
   ]
  },
  {
   "cell_type": "code",
   "execution_count": 12,
   "metadata": {
    "ExecuteTime": {
     "end_time": "2020-02-06T22:35:08.018807Z",
     "start_time": "2020-02-06T22:35:08.010029Z"
    }
   },
   "outputs": [
    {
     "data": {
      "text/plain": [
       "{'a': 0    1\n",
       " 1    2\n",
       " 2    3\n",
       " 3    4\n",
       " 4    5\n",
       " Name: a, dtype: int64, 'b': 0    u\n",
       " 1    v\n",
       " 2    w\n",
       " 3    x\n",
       " 4    y\n",
       " Name: b, dtype: object, 'c': 0     5\n",
       " 1    10\n",
       " 2    15\n",
       " 3    20\n",
       " 4    25\n",
       " Name: c, dtype: int64}"
      ]
     },
     "execution_count": 12,
     "metadata": {},
     "output_type": "execute_result"
    }
   ],
   "source": [
    "dict(df)"
   ]
  },
  {
   "cell_type": "code",
   "execution_count": 13,
   "metadata": {
    "ExecuteTime": {
     "end_time": "2020-02-06T22:35:08.175250Z",
     "start_time": "2020-02-06T22:35:08.172348Z"
    }
   },
   "outputs": [
    {
     "data": {
      "text/plain": [
       "pandas.core.series.Series"
      ]
     },
     "execution_count": 13,
     "metadata": {},
     "output_type": "execute_result"
    }
   ],
   "source": [
    "type((dict(df)['a']))"
   ]
  },
  {
   "cell_type": "code",
   "execution_count": 14,
   "metadata": {
    "ExecuteTime": {
     "end_time": "2020-02-06T22:35:08.726693Z",
     "start_time": "2020-02-06T22:35:08.715951Z"
    }
   },
   "outputs": [
    {
     "data": {
      "text/plain": [
       "[(0, 2.81585438),\n",
       " (1, 7.09167958),\n",
       " (2, 3.82972099),\n",
       " (3, 0.79365551),\n",
       " (4, 5.8885703),\n",
       " (5, 9.29718395),\n",
       " (6, 1.79862509),\n",
       " (7, 8.10392157),\n",
       " (8, -0.228207),\n",
       " (9, 4.83753243)]"
      ]
     },
     "execution_count": 14,
     "metadata": {},
     "output_type": "execute_result"
    }
   ],
   "source": [
    "tups = list(zip(list(range(10)), np.array([[ 2.81585438,  7.09167958,  3.82972099,  0.79365551,  5.8885703, \n",
    "                        9.29718395,  1.79862509,  8.10392157, -0.228207  ,  4.83753243]]).flatten()))\n",
    "tups"
   ]
  },
  {
   "cell_type": "markdown",
   "metadata": {},
   "source": [
    "Full derivation of sigmoid error gradient:\n",
    "\n",
    "$\\nabla_\\theta \\epsilon = \\nabla_\\theta y_i(1 - s(t)) + (1 - y_i)s(t)$  \n",
    "$\\dots = \\left[ y_i(-s(t)(1-s(t))) + (1 - y_i)s(t)(1-s(t)) \\right] \\nabla_\\theta t$  \n",
    "$\\dots = \\left[ y_i s(t) ( s(t) - 1 ) + (1 - y_i) s(t)(1-s(t)) \\right] \\nabla_\\theta t$\n",
    "$\\dots = \\left[ y_i s(t)s(t) - y_i s(t) +  s(t)(1-s(t)) - y_i s(t)(1-s(t)) \\right] \\nabla_\\theta t$\n",
    "$\\dots = \\left[ y_i s(t)^2 - y_i s(t) +  s(t) - s(t))^2 - y_i s(t) + y_i s(t)^2 \\right] \\nabla_\\theta t$  \n",
    "$\\dots = \\left[ 2 y_i (s(t)^2 - s(t)) +  (s(t) - s(t))^2) \\right] \\nabla_\\theta t$  \n",
    "$\\dots = \\left[ (2 y_i -1) (s(t)^2 - s(t)) \\right] \\nabla_\\theta t$  \n",
    "$\\dots = \\left[ (1 - 2 y_i) s(t)(1 - s(t)) \\right] \\nabla_\\theta t$  \n",
    "$\\dots = \n",
    "\\begin{cases}\n",
    "    &s(t)(1 - s(t)) \\nabla_\\theta t  & \\text{if } y_i = 0\\\\\n",
    "    &-s(t)(1 - s(t)) \\nabla_\\theta t &\\text{if } y_i = 1\n",
    "\\end{cases}$\n"
   ]
  },
  {
   "cell_type": "markdown",
   "metadata": {},
   "source": [
    "Scratch:\n",
    "\n",
    "d/dx(a log(1 + exp(b x))) = (a b e^(b x))/(e^(b x) + 1)\n",
    "\n",
    "del(theta) (1-y) log(1+exp(x^T theta)) = (1-y) x exp(x^T theta)/(1+exp(x^T theta)) = (1-y) x s(x^T theta)\n",
    "\n",
    "d/dx(c log(1 + exp(-b x))) = -(b c)/(e^(b x) + 1)\n",
    "\n",
    "del(theta) y log(1+exp(-x^T theta)) = -y x s(-x^T theta)\n"
   ]
  },
  {
   "cell_type": "markdown",
   "metadata": {},
   "source": [
    "### Counter"
   ]
  },
  {
   "cell_type": "code",
   "execution_count": 15,
   "metadata": {
    "ExecuteTime": {
     "end_time": "2020-02-06T22:35:11.095148Z",
     "start_time": "2020-02-06T22:35:11.092765Z"
    }
   },
   "outputs": [],
   "source": [
    "import numpy as np\n",
    "from collections import Counter"
   ]
  },
  {
   "cell_type": "code",
   "execution_count": 16,
   "metadata": {
    "ExecuteTime": {
     "end_time": "2020-02-06T22:35:11.525533Z",
     "start_time": "2020-02-06T22:35:11.522699Z"
    }
   },
   "outputs": [],
   "source": [
    "cr = Counter(np.random.randint(0,10,50))"
   ]
  },
  {
   "cell_type": "code",
   "execution_count": 17,
   "metadata": {
    "ExecuteTime": {
     "end_time": "2020-02-06T22:35:12.074078Z",
     "start_time": "2020-02-06T22:35:12.061467Z"
    }
   },
   "outputs": [
    {
     "name": "stdout",
     "output_type": "stream",
     "text": [
      "0 7\n",
      "2 7\n",
      "5 4\n",
      "8 6\n",
      "7 5\n",
      "4 6\n",
      "1 6\n",
      "6 3\n",
      "9 3\n",
      "3 3\n"
     ]
    }
   ],
   "source": [
    "for key,val in cr.items():\n",
    "    print(key, val)"
   ]
  },
  {
   "cell_type": "code",
   "execution_count": 18,
   "metadata": {
    "ExecuteTime": {
     "end_time": "2020-02-06T22:35:12.628835Z",
     "start_time": "2020-02-06T22:35:12.615638Z"
    }
   },
   "outputs": [
    {
     "name": "stdout",
     "output_type": "stream",
     "text": [
      "0 7\n",
      "1 6\n",
      "2 7\n",
      "3 3\n",
      "4 6\n",
      "5 4\n",
      "6 3\n",
      "7 5\n",
      "8 6\n",
      "9 3\n"
     ]
    }
   ],
   "source": [
    "for key in sorted(cr.keys()):\n",
    "    print(key, cr[key])"
   ]
  },
  {
   "cell_type": "code",
   "execution_count": 19,
   "metadata": {
    "ExecuteTime": {
     "end_time": "2020-02-06T22:35:14.265209Z",
     "start_time": "2020-02-06T22:35:14.263146Z"
    }
   },
   "outputs": [],
   "source": [
    "# dir()"
   ]
  },
  {
   "cell_type": "code",
   "execution_count": 20,
   "metadata": {
    "ExecuteTime": {
     "end_time": "2020-02-06T22:35:14.778086Z",
     "start_time": "2020-02-06T22:35:14.663450Z"
    }
   },
   "outputs": [
    {
     "name": "stdout",
     "output_type": "stream",
     "text": [
      "Python 3.6.10 :: Anaconda, Inc.\r\n"
     ]
    }
   ],
   "source": [
    "!python --version"
   ]
  },
  {
   "cell_type": "markdown",
   "metadata": {},
   "source": [
    "### The adventures of default dict"
   ]
  },
  {
   "cell_type": "code",
   "execution_count": 21,
   "metadata": {
    "ExecuteTime": {
     "end_time": "2020-02-06T22:35:17.771280Z",
     "start_time": "2020-02-06T22:35:17.768638Z"
    }
   },
   "outputs": [],
   "source": [
    "from collections import defaultdict as DD\n",
    "\n",
    "dd = DD(lambda: None)\n",
    "d  = dict()"
   ]
  },
  {
   "cell_type": "markdown",
   "metadata": {},
   "source": [
    "#### Add new keys for d and dd:"
   ]
  },
  {
   "cell_type": "code",
   "execution_count": 22,
   "metadata": {
    "ExecuteTime": {
     "end_time": "2020-02-06T22:35:18.675465Z",
     "start_time": "2020-02-06T22:35:18.669989Z"
    }
   },
   "outputs": [],
   "source": [
    "dd[\"foo\"] = 342 # 342 looks kinda like BAR"
   ]
  },
  {
   "cell_type": "code",
   "execution_count": 23,
   "metadata": {
    "ExecuteTime": {
     "end_time": "2020-02-06T22:35:19.128613Z",
     "start_time": "2020-02-06T22:35:19.125027Z"
    }
   },
   "outputs": [],
   "source": [
    "d[\"foo\"] = 342"
   ]
  },
  {
   "cell_type": "code",
   "execution_count": 24,
   "metadata": {
    "ExecuteTime": {
     "end_time": "2020-02-06T22:35:19.352891Z",
     "start_time": "2020-02-06T22:35:19.349544Z"
    }
   },
   "outputs": [
    {
     "data": {
      "text/plain": [
       "{'foo': 342}"
      ]
     },
     "execution_count": 24,
     "metadata": {},
     "output_type": "execute_result"
    }
   ],
   "source": [
    "d"
   ]
  },
  {
   "cell_type": "code",
   "execution_count": 25,
   "metadata": {
    "ExecuteTime": {
     "end_time": "2020-02-06T22:35:20.433050Z",
     "start_time": "2020-02-06T22:35:20.430292Z"
    }
   },
   "outputs": [
    {
     "data": {
      "text/plain": [
       "defaultdict(<function __main__.<lambda>()>, {'foo': 342})"
      ]
     },
     "execution_count": 25,
     "metadata": {},
     "output_type": "execute_result"
    }
   ],
   "source": [
    "dd"
   ]
  },
  {
   "cell_type": "markdown",
   "metadata": {},
   "source": [
    "#### Access non-existent (novel) keys for d and dd:"
   ]
  },
  {
   "cell_type": "code",
   "execution_count": 26,
   "metadata": {
    "ExecuteTime": {
     "end_time": "2020-02-06T22:35:24.334748Z",
     "start_time": "2020-02-06T22:35:24.332813Z"
    }
   },
   "outputs": [],
   "source": [
    "dd[\"bar\"]    # no error"
   ]
  },
  {
   "cell_type": "code",
   "execution_count": 27,
   "metadata": {
    "ExecuteTime": {
     "end_time": "2020-02-06T22:35:25.703938Z",
     "start_time": "2020-02-06T22:35:25.627597Z"
    }
   },
   "outputs": [
    {
     "ename": "KeyError",
     "evalue": "'bar'",
     "output_type": "error",
     "traceback": [
      "\u001b[0;31m---------------------------------------------------------------------------\u001b[0m",
      "\u001b[0;31mKeyError\u001b[0m                                  Traceback (most recent call last)",
      "\u001b[0;32m<ipython-input-27-b54a821507e2>\u001b[0m in \u001b[0;36m<module>\u001b[0;34m\u001b[0m\n\u001b[0;32m----> 1\u001b[0;31m \u001b[0md\u001b[0m\u001b[0;34m[\u001b[0m\u001b[0;34m\"bar\"\u001b[0m\u001b[0;34m]\u001b[0m     \u001b[0;31m# KeyError\u001b[0m\u001b[0;34m\u001b[0m\u001b[0;34m\u001b[0m\u001b[0m\n\u001b[0m",
      "\u001b[0;31mKeyError\u001b[0m: 'bar'"
     ]
    }
   ],
   "source": [
    "d[\"bar\"]     # KeyError"
   ]
  },
  {
   "cell_type": "markdown",
   "metadata": {},
   "source": [
    "#### Accessing dd[\"bar\"]  threw no error but had the side effect of creating key \"bar\" with value None:"
   ]
  },
  {
   "cell_type": "code",
   "execution_count": 28,
   "metadata": {
    "ExecuteTime": {
     "end_time": "2020-02-06T22:35:26.879225Z",
     "start_time": "2020-02-06T22:35:26.876120Z"
    }
   },
   "outputs": [
    {
     "data": {
      "text/plain": [
       "defaultdict(<function __main__.<lambda>()>, {'foo': 342, 'bar': None})"
      ]
     },
     "execution_count": 28,
     "metadata": {},
     "output_type": "execute_result"
    }
   ],
   "source": [
    "dd"
   ]
  },
  {
   "cell_type": "code",
   "execution_count": 29,
   "metadata": {
    "ExecuteTime": {
     "end_time": "2020-02-06T22:35:27.500920Z",
     "start_time": "2020-02-06T22:35:27.491940Z"
    }
   },
   "outputs": [
    {
     "data": {
      "text/plain": [
       "{'foo': 342}"
      ]
     },
     "execution_count": 29,
     "metadata": {},
     "output_type": "execute_result"
    }
   ],
   "source": [
    "d"
   ]
  },
  {
   "cell_type": "code",
   "execution_count": 30,
   "metadata": {
    "ExecuteTime": {
     "end_time": "2020-02-06T22:35:28.016136Z",
     "start_time": "2020-02-06T22:35:28.011908Z"
    }
   },
   "outputs": [
    {
     "data": {
      "text/plain": [
       "19"
      ]
     },
     "execution_count": 30,
     "metadata": {},
     "output_type": "execute_result"
    }
   ],
   "source": [
    "len(str(hash('floorwax')))"
   ]
  },
  {
   "cell_type": "code",
   "execution_count": 31,
   "metadata": {
    "ExecuteTime": {
     "end_time": "2020-02-06T22:35:28.745944Z",
     "start_time": "2020-02-06T22:35:28.735453Z"
    }
   },
   "outputs": [
    {
     "data": {
      "text/plain": [
       "-2566944883205829009"
      ]
     },
     "execution_count": 31,
     "metadata": {},
     "output_type": "execute_result"
    }
   ],
   "source": [
    "hash('dessert topping')"
   ]
  },
  {
   "cell_type": "markdown",
   "metadata": {},
   "source": [
    "## Tensorflow Tests"
   ]
  },
  {
   "cell_type": "code",
   "execution_count": 32,
   "metadata": {
    "ExecuteTime": {
     "end_time": "2020-02-06T22:35:35.333640Z",
     "start_time": "2020-02-06T22:35:33.142881Z"
    }
   },
   "outputs": [],
   "source": [
    "# Python ≥3.5 is required\n",
    "import sys\n",
    "assert sys.version_info >= (3, 5)\n",
    "\n",
    "# Scikit-Learn ≥0.20 is required\n",
    "import sklearn\n",
    "assert sklearn.__version__ >= \"0.20\"\n",
    "\n",
    "try:\n",
    "    # %tensorflow_version only exists in Colab.\n",
    "    %tensorflow_version 2.x\n",
    "    !pip install -q -U tensorflow-addons\n",
    "    IS_COLAB = True\n",
    "except Exception:\n",
    "    IS_COLAB = False\n",
    "\n",
    "# TensorFlow ≥2.0 is required\n",
    "import tensorflow as tf\n",
    "from tensorflow import keras\n",
    "assert tf.__version__ >= \"2.0\"\n",
    "\n",
    "if not tf.test.is_gpu_available():\n",
    "    print(\"No GPU was detected. LSTMs and CNNs can be very slow without a GPU.\")\n",
    "    if IS_COLAB:\n",
    "        print(\"Go to Runtime > Change runtime and select a GPU hardware accelerator.\")\n",
    "\n",
    "# Common imports\n",
    "import numpy as np\n",
    "import os\n",
    "\n",
    "# to make this notebook's output stable across runs\n",
    "np.random.seed(42)\n",
    "tf.random.set_seed(42)\n",
    "\n",
    "# To plot pretty figures\n",
    "%matplotlib inline\n",
    "import matplotlib as mpl\n",
    "import matplotlib.pyplot as plt\n",
    "mpl.rc('axes', labelsize=14)\n",
    "mpl.rc('xtick', labelsize=12)\n",
    "mpl.rc('ytick', labelsize=12)\n",
    "\n",
    "# Where to save the figures\n",
    "PROJECT_ROOT_DIR = \".\"\n",
    "CHAPTER_ID = \"nlp\"\n",
    "IMAGES_PATH = os.path.join(PROJECT_ROOT_DIR, \"images\", CHAPTER_ID)\n",
    "os.makedirs(IMAGES_PATH, exist_ok=True)\n",
    "\n",
    "def save_fig(fig_id, tight_layout=True, fig_extension=\"png\", resolution=300):\n",
    "    path = os.path.join(IMAGES_PATH, fig_id + \".\" + fig_extension)\n",
    "    print(\"Saving figure\", fig_id)\n",
    "    if tight_layout:\n",
    "        plt.tight_layout()\n",
    "    plt.savefig(path, format=fig_extension, dpi=resolution)"
   ]
  },
  {
   "cell_type": "code",
   "execution_count": 33,
   "metadata": {
    "ExecuteTime": {
     "end_time": "2020-02-06T22:35:41.152548Z",
     "start_time": "2020-02-06T22:35:41.136310Z"
    }
   },
   "outputs": [],
   "source": [
    "from tensorflow.keras.models import Sequential\n",
    "from tensorflow.keras.layers import Embedding"
   ]
  },
  {
   "cell_type": "code",
   "execution_count": 34,
   "metadata": {
    "ExecuteTime": {
     "end_time": "2020-02-06T22:36:15.365497Z",
     "start_time": "2020-02-06T22:36:15.199820Z"
    }
   },
   "outputs": [],
   "source": [
    "model = Sequential()\n",
    "model.add(Embedding(1000, 64, input_length=10))\n",
    "# the model will take as input an integer matrix of size (batch,\n",
    "# input_length).\n",
    "# the largest integer (i.e. word index) in the input should be no larger\n",
    "# than 999 (vocabulary size).\n",
    "# now model.output_shape == (None, 10, 64), where None is the batch\n",
    "# dimension.\n",
    "\n",
    "input_array = np.random.randint(1000, size=(32, 10))\n",
    "\n",
    "model.compile('rmsprop', 'mse')\n",
    "output_array = model.predict(input_array)\n",
    "assert output_array.shape == (32, 10, 64)"
   ]
  },
  {
   "cell_type": "code",
   "execution_count": 35,
   "metadata": {
    "ExecuteTime": {
     "end_time": "2020-02-06T22:36:16.155596Z",
     "start_time": "2020-02-06T22:36:16.147673Z"
    },
    "scrolled": true
   },
   "outputs": [
    {
     "data": {
      "text/plain": [
       "array([[-0.03, -0.03, -0.02, -0.01, -0.05,  0.02, -0.  , -0.04, -0.02,\n",
       "         0.01],\n",
       "       [-0.02, -0.03, -0.01,  0.03,  0.02,  0.02, -0.  ,  0.01,  0.04,\n",
       "         0.04],\n",
       "       [-0.01, -0.03,  0.04, -0.  ,  0.02,  0.03,  0.05,  0.01,  0.01,\n",
       "         0.  ],\n",
       "       [-0.05, -0.05, -0.02,  0.01,  0.04, -0.01, -0.03,  0.03, -0.05,\n",
       "        -0.01],\n",
       "       [ 0.01,  0.  , -0.03,  0.04, -0.05,  0.04, -0.03, -0.03, -0.01,\n",
       "         0.03],\n",
       "       [ 0.  , -0.05, -0.04, -0.01,  0.01,  0.02, -0.05, -0.04, -0.03,\n",
       "        -0.04],\n",
       "       [ 0.03,  0.04, -0.01,  0.04, -0.03,  0.04, -0.03, -0.03, -0.04,\n",
       "         0.05],\n",
       "       [ 0.02, -0.01, -0.01,  0.04, -0.01, -0.05, -0.01, -0.01, -0.01,\n",
       "        -0.05],\n",
       "       [ 0.01, -0.02,  0.02,  0.02,  0.04,  0.02, -0.03,  0.01,  0.03,\n",
       "         0.03],\n",
       "       [-0.01,  0.04,  0.02, -0.05, -0.04,  0.03, -0.05,  0.04, -0.02,\n",
       "         0.03],\n",
       "       [ 0.01, -0.02, -0.04,  0.01,  0.01,  0.01, -0.04, -0.05, -0.01,\n",
       "        -0.05],\n",
       "       [ 0.02, -0.01,  0.04,  0.  ,  0.04,  0.03, -0.02,  0.02, -0.01,\n",
       "         0.04],\n",
       "       [ 0.02,  0.05,  0.04, -0.04, -0.02, -0.03, -0.04, -0.01,  0.  ,\n",
       "         0.05],\n",
       "       [-0.  , -0.  ,  0.02,  0.04, -0.01, -0.01, -0.04, -0.03,  0.04,\n",
       "         0.04],\n",
       "       [-0.05,  0.  ,  0.03,  0.01, -0.  ,  0.01,  0.01,  0.04,  0.01,\n",
       "        -0.02],\n",
       "       [ 0.05,  0.02,  0.01, -0.04, -0.01,  0.02,  0.  ,  0.04, -0.01,\n",
       "        -0.03],\n",
       "       [ 0.03, -0.02,  0.05,  0.05,  0.01, -0.02,  0.01, -0.04,  0.  ,\n",
       "         0.02],\n",
       "       [ 0.02, -0.03, -0.03,  0.01, -0.  , -0.03, -0.04, -0.05, -0.02,\n",
       "         0.01],\n",
       "       [ 0.03, -0.02, -0.03,  0.01, -0.01,  0.03, -0.  ,  0.  , -0.  ,\n",
       "        -0.01],\n",
       "       [-0.  , -0.02,  0.04, -0.03, -0.01,  0.  ,  0.02, -0.02,  0.  ,\n",
       "        -0.02],\n",
       "       [-0.05, -0.02, -0.02,  0.  , -0.02,  0.03,  0.05,  0.01,  0.04,\n",
       "         0.03],\n",
       "       [ 0.01,  0.01,  0.04, -0.02, -0.02, -0.  , -0.05,  0.02,  0.01,\n",
       "         0.  ],\n",
       "       [ 0.03,  0.01, -0.  ,  0.04,  0.04,  0.01, -0.04, -0.01,  0.03,\n",
       "        -0.03],\n",
       "       [-0.02, -0.01,  0.03, -0.02,  0.02, -0.05, -0.03, -0.05, -0.02,\n",
       "        -0.04],\n",
       "       [ 0.01, -0.05,  0.01,  0.  ,  0.02,  0.03, -0.02, -0.01,  0.02,\n",
       "         0.05],\n",
       "       [ 0.04, -0.05,  0.04, -0.01,  0.02, -0.04,  0.03,  0.03,  0.02,\n",
       "        -0.01],\n",
       "       [-0.03, -0.01, -0.03, -0.02, -0.03,  0.04,  0.02,  0.01,  0.03,\n",
       "        -0.02],\n",
       "       [-0.02,  0.02, -0.01,  0.02,  0.02,  0.03, -0.04, -0.  ,  0.05,\n",
       "         0.03],\n",
       "       [ 0.05, -0.03,  0.04,  0.02,  0.03,  0.05, -0.01,  0.04,  0.01,\n",
       "         0.03],\n",
       "       [-0.03, -0.02, -0.02, -0.03,  0.01,  0.05, -0.01, -0.05,  0.01,\n",
       "         0.02],\n",
       "       [ 0.01, -0.02,  0.03,  0.05,  0.  ,  0.02, -0.02, -0.03, -0.02,\n",
       "         0.05],\n",
       "       [-0.01,  0.01,  0.01, -0.04, -0.03, -0.03,  0.04,  0.04, -0.01,\n",
       "        -0.  ],\n",
       "       [ 0.03,  0.03, -0.03,  0.01,  0.02, -0.04,  0.04,  0.  ,  0.04,\n",
       "        -0.02],\n",
       "       [-0.03, -0.04, -0.01,  0.  , -0.01,  0.04, -0.05, -0.04,  0.04,\n",
       "         0.  ],\n",
       "       [-0.02, -0.05,  0.02, -0.03, -0.03, -0.02, -0.04, -0.04, -0.01,\n",
       "        -0.02],\n",
       "       [ 0.04, -0.04,  0.02,  0.  ,  0.  ,  0.02,  0.03, -0.02, -0.05,\n",
       "         0.02],\n",
       "       [-0.04,  0.05, -0.04,  0.02, -0.04,  0.04, -0.02,  0.02, -0.03,\n",
       "        -0.02],\n",
       "       [-0.02, -0.03,  0.05,  0.  ,  0.04, -0.03, -0.02,  0.04,  0.04,\n",
       "        -0.04],\n",
       "       [ 0.04, -0.01,  0.  , -0.03, -0.03,  0.02,  0.04,  0.  , -0.01,\n",
       "        -0.03],\n",
       "       [ 0.01, -0.04, -0.01,  0.04, -0.03, -0.05,  0.02, -0.  ,  0.03,\n",
       "         0.  ],\n",
       "       [ 0.01,  0.05, -0.01, -0.03,  0.04,  0.01,  0.01, -0.04, -0.03,\n",
       "         0.02],\n",
       "       [ 0.05,  0.  , -0.03,  0.  ,  0.04, -0.05,  0.02, -0.01,  0.02,\n",
       "         0.01],\n",
       "       [ 0.02,  0.03,  0.04, -0.01, -0.03,  0.04,  0.01,  0.01,  0.  ,\n",
       "         0.03],\n",
       "       [-0.03,  0.04, -0.02,  0.03, -0.03, -0.04,  0.03, -0.03,  0.01,\n",
       "        -0.03],\n",
       "       [-0.02, -0.  ,  0.01,  0.  , -0.04, -0.05,  0.03, -0.02,  0.  ,\n",
       "        -0.03],\n",
       "       [ 0.03,  0.04, -0.02,  0.04, -0.01, -0.03, -0.04, -0.02, -0.04,\n",
       "        -0.02],\n",
       "       [-0.04, -0.04, -0.04, -0.02,  0.04,  0.04, -0.03, -0.  ,  0.02,\n",
       "        -0.01],\n",
       "       [ 0.04, -0.02, -0.02,  0.02, -0.03, -0.02, -0.04, -0.05, -0.01,\n",
       "        -0.03],\n",
       "       [ 0.03, -0.03,  0.03, -0.02, -0.04, -0.03, -0.01,  0.01, -0.01,\n",
       "         0.05],\n",
       "       [ 0.01,  0.02,  0.04, -0.02,  0.02,  0.02, -0.03,  0.03,  0.04,\n",
       "        -0.04],\n",
       "       [-0.03,  0.  ,  0.04,  0.03, -0.02,  0.01,  0.01,  0.02, -0.04,\n",
       "        -0.04],\n",
       "       [-0.03, -0.02,  0.04,  0.02, -0.04, -0.03,  0.01,  0.05,  0.01,\n",
       "         0.02],\n",
       "       [ 0.04,  0.02,  0.02, -0.03, -0.02, -0.03,  0.05, -0.04, -0.03,\n",
       "         0.05],\n",
       "       [-0.03, -0.  ,  0.04, -0.03, -0.02,  0.04,  0.03,  0.02,  0.01,\n",
       "        -0.03],\n",
       "       [-0.01,  0.04,  0.  , -0.  , -0.02, -0.03, -0.04,  0.03,  0.04,\n",
       "         0.03],\n",
       "       [ 0.03, -0.04,  0.04, -0.03,  0.01,  0.02,  0.  ,  0.03, -0.04,\n",
       "        -0.05],\n",
       "       [ 0.01,  0.  , -0.03, -0.01, -0.04,  0.05,  0.02,  0.04, -0.03,\n",
       "         0.01],\n",
       "       [ 0.02, -0.03, -0.05,  0.02, -0.03, -0.02,  0.03, -0.02, -0.03,\n",
       "        -0.03],\n",
       "       [-0.03, -0.  ,  0.05, -0.01,  0.01, -0.04,  0.02, -0.01,  0.  ,\n",
       "         0.02],\n",
       "       [ 0.03,  0.02, -0.  ,  0.01, -0.02,  0.03,  0.02,  0.03,  0.04,\n",
       "         0.04],\n",
       "       [ 0.03, -0.04,  0.05, -0.04, -0.05,  0.05,  0.03, -0.  ,  0.05,\n",
       "         0.04],\n",
       "       [ 0.01, -0.05, -0.03, -0.  ,  0.02, -0.02,  0.02, -0.02,  0.02,\n",
       "         0.02],\n",
       "       [ 0.01,  0.02,  0.01, -0.02, -0.01,  0.05, -0.04,  0.05,  0.02,\n",
       "         0.01],\n",
       "       [ 0.  , -0.02,  0.  ,  0.04,  0.02,  0.01,  0.01, -0.02, -0.01,\n",
       "        -0.02]], dtype=float32)"
      ]
     },
     "execution_count": 35,
     "metadata": {},
     "output_type": "execute_result"
    }
   ],
   "source": [
    "output_array[0,:,:].T.round(2)"
   ]
  },
  {
   "cell_type": "markdown",
   "metadata": {},
   "source": [
    "#### Chained Comparison"
   ]
  },
  {
   "cell_type": "code",
   "execution_count": 36,
   "metadata": {
    "ExecuteTime": {
     "end_time": "2020-02-06T22:36:18.467010Z",
     "start_time": "2020-02-06T22:36:18.464090Z"
    }
   },
   "outputs": [
    {
     "data": {
      "text/plain": [
       "True"
      ]
     },
     "execution_count": 36,
     "metadata": {},
     "output_type": "execute_result"
    }
   ],
   "source": [
    "yyy = 15\n",
    "0 <= yyy <= 25"
   ]
  },
  {
   "cell_type": "code",
   "execution_count": 37,
   "metadata": {
    "ExecuteTime": {
     "end_time": "2020-02-06T22:36:19.080588Z",
     "start_time": "2020-02-06T22:36:19.075386Z"
    }
   },
   "outputs": [
    {
     "data": {
      "text/plain": [
       "False"
      ]
     },
     "execution_count": 37,
     "metadata": {},
     "output_type": "execute_result"
    }
   ],
   "source": [
    "yyy = 335\n",
    "0 <= yyy <= 25"
   ]
  },
  {
   "cell_type": "code",
   "execution_count": 38,
   "metadata": {
    "ExecuteTime": {
     "end_time": "2020-02-06T22:36:19.858197Z",
     "start_time": "2020-02-06T22:36:19.855039Z"
    }
   },
   "outputs": [
    {
     "data": {
      "text/plain": [
       "True"
      ]
     },
     "execution_count": 38,
     "metadata": {},
     "output_type": "execute_result"
    }
   ],
   "source": [
    "yyy = 335\n",
    "(0 <= yyy) <= 25"
   ]
  },
  {
   "cell_type": "code",
   "execution_count": null,
   "metadata": {},
   "outputs": [],
   "source": []
  }
 ],
 "metadata": {
  "kernelspec": {
   "display_name": "Python 3",
   "language": "python",
   "name": "python3"
  },
  "language_info": {
   "codemirror_mode": {
    "name": "ipython",
    "version": 3
   },
   "file_extension": ".py",
   "mimetype": "text/x-python",
   "name": "python",
   "nbconvert_exporter": "python",
   "pygments_lexer": "ipython3",
   "version": "3.6.10"
  }
 },
 "nbformat": 4,
 "nbformat_minor": 4
}
