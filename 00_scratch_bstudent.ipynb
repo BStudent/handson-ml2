{
 "cells": [
  {
   "cell_type": "markdown",
   "metadata": {},
   "source": [
    "# (bstudent) marginal notebook for notes, derivations, and demos\n",
    "\n",
    "## For ageron handson-ml2 book & website\n",
    "\n",
    "These are my equivalent of scribbling in the margins of a math book."
   ]
  },
  {
   "cell_type": "markdown",
   "metadata": {},
   "source": [
    "### A note on equations: \n",
    "\n",
    "E-book editions of this book tend to have misrendered equations.\n",
    "\n",
    "**See: ageron's included notebook `book_equations.ipynb` for correctly-rendered equations.**"
   ]
  },
  {
   "cell_type": "markdown",
   "metadata": {},
   "source": [
    "### (bstudent) (ch 05) SVM & Kernel Trick\n",
    "\n",
    "#### From wikipedia article https://en.wikipedia.org/wiki/Kernel_method\n",
    "\n",
    "-----------------\n",
    "\n",
    "The kernel trick avoids the explicit mapping that is needed to get linear learning algorithms to learn a nonlinear function or decision boundary. For all \n",
    "$\\mathbf {x}$ and $\\mathbf {x'}$ in the input space $\\mathcal {X}$, certain functions $k(\\mathbf {x} ,\\mathbf {x'} )$ can be expressed as an inner product in another space $\\mathcal {V}$. \n",
    "The function $k\\colon \\mathcal {X} \\times \\mathcal {X} \\to \\mathbb {R}$  is often referred to as a kernel or a kernel function. The word \"kernel\" is used in mathematics to denote a weighting function for a weighted sum or integral.\n",
    "\n",
    "Certain problems in machine learning have more structure than an arbitrary weighting function $k$. The computation is made much simpler if the kernel can be written in the form of a \"feature map\" $\\varphi \\colon \\mathcal {X} \\to \\mathcal {V}$ which satisfies:  \n",
    "\n",
    "* $k(\\mathbf {x} ,\\mathbf {x'} )=\\langle \\varphi (\\mathbf {x} ),\\varphi (\\mathbf {x'} )\\rangle _{\\mathcal {V}}$\n",
    "\n",
    "-----------------\n",
    "\n",
    "#### (bstudent):\n",
    "\n",
    "This means that the function $\\varphi (\\mathbf {x})$ maps the $p$-dimensional vector $\\mathbf {x}$ to a (generally) higher-dimensional $m$-vector $\\mathbf {v}$ or to an infinite-dimensional function space and (??) does not necessarily do so linearly.  For conceptualization, let's stick with the idea of mapping to $m$-vector $\\mathbf v$.  Then $k(\\mathbf {x} ,\\mathbf {x'} ) = \\mathbf v^T \\mathbf v'$, where the function mapping from$\\mathbf {x}$ to $\\mathbf {v}$, $\\mathbf v = \\varphi (\\mathbf {x})$, can be nonlinear and quite convoluted.  \n",
    "  \n",
    "***The kernel trick is a \"trick\" in the sense that for algorithms like SVM we don't necessarily need to figure out the formula for $\\varphi (\\mathbf {x})$, we only need apply kernel function $k(\\dots)$ to the inner product $\\mathbf x^T \\mathbf x'$.***"
   ]
  },
  {
   "cell_type": "markdown",
   "metadata": {},
   "source": [
    "### (bstudent) (ch 04) Deriving Normal Equation and Gradient for Descent:\n",
    "\n",
    "$\\hat\\theta = \\displaystyle\\min_{\\theta} \\frac{1}{N} \\mathbf{\\epsilon}^T\\mathbf{\\epsilon}$  \n",
    "  \n",
    "$\\hat\\theta = \\displaystyle\\min_{\\theta} \\frac{1}{N} (\\mathbf{\\hat y} - \\mathbf{y})^T (\\mathbf{\\hat y} - \\mathbf{y})$  \n",
    "  \n",
    "$\\mathbf{\\hat y} = \\mathbf{X}\\mathbf{\\theta}$\n",
    "\n",
    "$\\implies \\nabla_\\theta \\frac{1}{N} (\\mathbf{X}\\mathbf{\\theta}-\\mathbf{y})^T(\\mathbf{X}\\mathbf{\\theta}-\\mathbf{y}) = \\mathbf{0}$  \n",
    "\n",
    "Minimum occurs where:  \n",
    "\n",
    "$\\nabla_\\theta \\frac{1}{N} (\\mathbf{X}\\mathbf{\\theta}-\\mathbf{y})^T(\\mathbf{X}\\mathbf{\\theta}-\\mathbf{y}) = \\frac{1}{N} \\left( 2 \\mathbf{X}^T\\mathbf{X}\\mathbf{\\theta} - 2 \\mathbf{X}^T\\mathbf{y}\\right) = \\mathbf{0}$  \n",
    "\n",
    "$\\implies \\mathbf{X}^T\\mathbf{X}\\hat\\theta = \\mathbf{X}^T\\mathbf{y}$  \n",
    "\n",
    "$\\implies \\hat\\theta = (\\mathbf{X}^T\\mathbf{X})^{-1}\\mathbf{X}^T\\mathbf{y}$  \n",
    "(The \"normal equation\")  \n",
    "\n",
    "For general gradient at points other than $\\hat\\theta$, the \"gradient\" in MSE gradient descent is:    \n",
    "\n",
    "$\\nabla_\\theta \\frac{1}{N} \\left(\\mathbf{X}\\mathbf{\\theta}-\\mathbf{y})^T(\\mathbf{X}\\mathbf{\\theta}-\\mathbf{y}\\right) = \\frac{2}{N} \\mathbf{X}^T \\left(\\mathbf{X}\\mathbf{\\theta} - \\mathbf{y} \\right)$"
   ]
  },
  {
   "cell_type": "code",
   "execution_count": 6,
   "metadata": {
    "ExecuteTime": {
     "end_time": "2020-01-19T07:42:30.970200Z",
     "start_time": "2020-01-19T07:42:30.916289Z"
    }
   },
   "outputs": [],
   "source": [
    "import numpy as np\n",
    "import pandas as pd\n",
    "\n",
    "%matplotlib inline\n",
    "import matplotlib as mpl\n",
    "import matplotlib.pyplot as plt\n",
    "mpl.rc('axes', labelsize=14)\n",
    "mpl.rc('xtick', labelsize=12)\n",
    "mpl.rc('ytick', labelsize=12)"
   ]
  },
  {
   "cell_type": "markdown",
   "metadata": {},
   "source": [
    "Used in the next section for illustration, putting the code here to get it out of the way."
   ]
  },
  {
   "cell_type": "code",
   "execution_count": 45,
   "metadata": {
    "ExecuteTime": {
     "end_time": "2020-01-19T10:02:01.016066Z",
     "start_time": "2020-01-19T10:02:01.001389Z"
    }
   },
   "outputs": [],
   "source": [
    "# This function is repurposed from the code for fig 4-21 and used to show why  \n",
    "# the logistic function's \"true\" error and associated gradients are not optimal \n",
    "# for iterative methods.\n",
    "def plot_sigmoid_gradients():\n",
    "    t = np.linspace(-10, 10, 100)\n",
    "    sig = 1 / (1 + np.exp(-t))\n",
    "    dsy0 = sig*(1-sig)\n",
    "    dsy1 = -dsy0\n",
    "    logcosty0 = -np.log(1-sig)\n",
    "    logcosty1 = -np.log(sig)\n",
    "    plt.figure(figsize=(15, 10))\n",
    "    plt.plot([-10, 10], [0, 0], \"k-\")\n",
    "    plt.plot([-10, 10], [0.5, 0.5], \"k:\")\n",
    "    plt.plot([-10, 10], [1, 1], \"k:\")\n",
    "    plt.plot([-10, 10], [1.5, 1.5], \"k:\")\n",
    "    plt.plot([0, 0], [-0.4, 1.6], \"k-\")\n",
    "    plt.plot(t, sig, \"r--\", linewidth=2, label=r\"$y=0: \\epsilon = \\sigma(t)$\")\n",
    "    plt.plot(t, 1-sig, \"b--\", linewidth=2, label=r\"$y=1: \\epsilon = 1 - \\sigma(t)$\")\n",
    "    plt.plot(t, dsy0, \"r-\", linewidth=2, label=r\"$y=0: \\nabla_\\theta \\epsilon = \\sigma(t)(1-\\sigma(t))$\")\n",
    "    plt.plot(t, dsy1, \"b-\", linewidth=2, label=r\"$y=1: \\nabla_\\theta \\epsilon = -\\sigma(t)(1-\\sigma(t))$\")\n",
    "    plt.plot(t, logcosty0, \"m-\", linewidth=2, label=r\"$y=0: -\\log(1-\\sigma(t))$\")\n",
    "    plt.plot(t, logcosty1, \"c-\", linewidth=2, label=r\"$y=1: -\\log(\\sigma(t))$\")\n",
    "    \n",
    "    plt.xlabel(\"t\")\n",
    "    plt.legend(loc=\"upper left\", fontsize=20)\n",
    "    plt.axis([-10, 10, -0.4, 1.6])\n",
    "    # save_fig(\"logistic_function_plot\")\n",
    "    plt.show()\n"
   ]
  },
  {
   "cell_type": "markdown",
   "metadata": {},
   "source": [
    "## (bstudent)  (ch 04) Logistic Function\n",
    "\n",
    "$\\hat{p}_i = s(\\mathbf{x_i}^T \\mathbf{\\theta})$  \n",
    "\n",
    "I use $s(t)$ where the author uses $\\sigma(t)$ to save space in source code.\n",
    "\n",
    "Let $t_i = \\mathbf{x_i}^T \\mathbf{\\theta}$ for brevity.\n",
    "\n",
    "$s(t_i) = \\large \\frac{1}{1 + \\mathit{e}^{-t_i}}$  \n",
    "\n",
    "Further, drop subscript $i$ and presume $t \\equiv t_i$\n",
    "\n",
    "### Properties\n",
    "\n",
    "#### Reversal\n",
    "\n",
    "$(1 - s(t)) =\\large \\frac{1 + e^{-t}}{1 + e^{-t}} - \\frac{1}{1 + e^{-t}} = \\frac{e^{-t}}{1 + e^{-t}} = \\frac{1}{1 + e^{t}}$ $= s(-t)$  \n",
    "\n",
    "$\\therefore s(-t) = 1-s(t)$  \n",
    "\n",
    "#### Derivative\n",
    "\n",
    "$\\frac{\\partial}{\\partial{t}} s(t) = s(-t) - s(-t)^2$\n",
    "\n",
    "$s(-t) - s(-t)^2 = 1-s(t) - (1-s(t))^2  = 1-s(t) - (1 - 2s(t) + s(t)^2) = s(t) - s(t)^2 = s(t)(1-s(t)) = s(t)(s(-t)$\n",
    "\n",
    "$\\therefore \\frac{\\partial}{\\partial{t}} s(t) = s(t)(1-s(t)) = s(t)(s(-t)$\n",
    "\n",
    "$\\implies \\frac{\\partial}{\\partial{t}} (1-s(t)) = -s(t)(1-s(t)) = -s(t)(s(-t)$\n",
    "\n",
    "$\\frac{\\partial}{\\partial{t}} s(f(t)) = \\left( s(-f(t)) - s(-f(t))^2 \\right) \\frac{\\partial}{\\partial{t}} f(t)$\n",
    "\n",
    "#### Log\n",
    "\n",
    "$\\log(s(t)) = \\log \\left( \\frac{1}{1 + \\mathit{e}^{-t}} \\right) = -\\log \\left( 1 + \\mathit{e}^{-t} \\right)$  \n",
    "\n",
    "#### Derivative of Log\n",
    "\n",
    "$\\frac{\\partial}{\\partial{t}} \\log(s(t)) = \\frac{\\partial}{\\partial{t}} -\\log \\left( 1 + \\mathit{e}^{-t} \\right) = s(-t)$\n",
    "\n",
    "#### Inverse\n",
    "\n",
    "$s(t)$ has an inverse function the *logit* function $\\operatorname{logit}(p) = \\log(p) - \\log(1-p) = \\log(s(t)) - \\log(1-s(t))$\n",
    "\n",
    "##### Show that $\\operatorname{logit}(p)$ is indeed the inverse of $s(t)$:\n",
    "\n",
    "$\\log(s(t)) - \\log(1-s(t)) = -\\log( 1 + e^{-t}) - \\log( \\frac{e^{-t}}{1+e^{-t}} )$  \n",
    "\n",
    "$= -\\log( 1 + e^{-t}) - (\\log( e^{-t} ) - \\log (1+e^{-t} ) ) = -\\log( e^{-t} ) = t$  \n",
    "\n",
    "\n",
    "### What is an appropriate loss / gradient for $s(t)$?\n",
    "\n",
    "$s(t)$ has a codomain of $(0...1)$  \n",
    "\n",
    "We want to penalize $\\theta$ where $\\mathbf{x}_i^T\\mathbf\\theta$ approaches a zero value for $y_i=1$ and where $\\mathbf{x}_i^T\\mathbf\\theta$ approaches a one value for $y_i=0$ \n",
    "\n",
    "The actual error for a single example $i$ is given by:\n",
    "\n",
    "$\\epsilon_i(t) = y_i(1 - s(\\mathbf{x}_i^T \\mathbf{\\theta})) + (1 - y_i)s(\\mathbf{x}_i^T \\mathbf{\\theta})$\n",
    "\n",
    "Note that this quantity is \"gated\" by the label $y_i$, so that one of the two additive terms is zero depending on the value of $y_i$:  \n",
    "* When $y_i=0$ then $s(t)$ is the error term (we want $s(t)$ close to zero)  \n",
    "* When $y_i=1$ then $1 - s(t)$ is the error term (we want error $1-s(t)$ close to zero) \n",
    "\n",
    "Note this error quantity is always positive, with minimum error of zero an maximum error of one.\n",
    "\n",
    "A problem arises with this because $s(t)$ (and the actual error $\\epsilon_i(t)$) is bounded, even though $t$ is not.   \n",
    "\n",
    "This is particularly bad if we think in terms of the error *gradient*:    \n",
    "\n",
    "$\\nabla_\\theta \\epsilon = \\nabla_\\theta y_i(1 - s(t)) + (1 - y_i)s(t)$  \n",
    "$\\dots = \\left[ y_i(-s(t)(1-s(t))) + (1 - y_i)s(t)(1-s(t)) \\right] \\nabla_\\theta t$  \n",
    "$\\dots = \\left[ (1 - 2 y_i) s(t)(1 - s(t)) \\right] \\nabla_\\theta t$  \n",
    "$\\dots = \n",
    "\\begin{cases}\n",
    "    \\nabla_\\theta \\epsilon &= &+s(t)(1 - s(t)) \\nabla_\\theta t  & \\text{if } &y_i &= &0\\\\\n",
    "    \\nabla_\\theta \\epsilon &= &-s(t)(1 - s(t)) \\nabla_\\theta t  & \\text{if } &y_i &= &1\n",
    "\\end{cases}$  \n",
    "\n",
    "The error gradient vanishes as the error shrinks close to zero, but also disappears as the error grows to one, even for extreme values of t. \n",
    "\n",
    "### The chart below shows how gradient becomes small in extreme error cases (vanishing gradients)\n",
    "\n",
    "(so what to do??)"
   ]
  },
  {
   "cell_type": "code",
   "execution_count": 46,
   "metadata": {
    "ExecuteTime": {
     "end_time": "2020-01-19T10:02:05.541533Z",
     "start_time": "2020-01-19T10:02:05.204765Z"
    },
    "scrolled": false
   },
   "outputs": [
    {
     "data": {
      "image/png": "[encoded data removed]",
      "text/plain": [
       "<Figure size 1080x720 with 1 Axes>"
      ]
     },
     "metadata": {
      "needs_background": "light"
     },
     "output_type": "display_data"
    }
   ],
   "source": [
    "plot_sigmoid_gradients()"
   ]
  },
  {
   "cell_type": "markdown",
   "metadata": {},
   "source": [
    "### (bstudent) A better loss / cost function for logistic fit\n",
    "\n",
    "***(TODO: check veracity that this is an apples-to-apples example of author's observation)*** This is the type of case that agerion talked about earlier in the chapter, where the evaluation for training is not the evaluation used at test / runtime.  \n",
    "\n",
    "Instead of the actual error $\\epsilon_i(t)$ for sample $i$, consider a cost / loss function with better properties, e.g. at extreme values of $t$.\n",
    "\n",
    "Note that I use $s(t)$ where ageron uses $\\sigma(t)$ ...\n",
    "\n",
    "$c(\\theta) =\n",
    "\\begin{cases}\n",
    "    &-\\log(1 - s(t_i)) &\\text{if } y_i = 0\\\\\n",
    "        &-\\log(s(t_i)) &\\text{if } y_i = 1\n",
    "\\end{cases}$\n",
    "\n",
    "$=(1-y_i)(-\\log(1 - s(t_i))) + y_i(-\\log(s(t_i)))$  \n",
    "\n",
    "Where:  \n",
    "\n",
    "$t_i=\\mathbf X^T \\theta$\n",
    "\n",
    "And:\n",
    "\n",
    "$s(t_i)=s(\\mathbf X_i^T \\theta)=\\frac{1}{1+\\exp(-t_i)}=\\frac{1}{1+\\exp(-\\mathbf X_i^T \\theta)}$\n",
    "\n",
    "And:  \n",
    "\n",
    "$-\\log(s(t_i))=\\log(1+\\exp(-t_i))$  \n",
    "\n",
    "$-\\log(1 - s(t_i))=-\\log(s(-t_i))=\\log(1+\\exp(t_i))$\n",
    "\n",
    "$\\therefore c(\\theta) = (1-y_i)\\log(1+\\exp(t_i)) + y_i\\log(1+\\exp(-t_i))$  \n",
    "  \n",
    "$= (1-y_i)\\log(1+\\exp(X^T\\theta)) + y_i\\log(1+\\exp(-X^T\\theta))$  \n",
    "\n",
    "Gradient:  \n",
    "\n",
    "$\\nabla_\\theta c(\\theta) = (1-y_i) s(\\mathbf{x}_i^T\\theta) \\mathbf{x}_i - y_i s(-\\mathbf{x}_i^T \\theta) \\mathbf{x}_i$\n",
    "\n",
    "$= \\left[(1-y_i) s(\\mathbf{x}_i^T\\theta) - y_i (1 - s(\\mathbf{x}_i^T \\theta)) \\right] \\mathbf{x}_i$  \n",
    "$= \\left[(1-y_i) s(t_i) - y_i (1 - s(t_i))\\right] \\mathbf{x}_i$  \n",
    "$= \\left[ s(t_i) - y_i s(t_i) - y_i + y_i s(t_i) \\right] \\mathbf{x}_i$  \n",
    "$= \\left[ s(t_i) - y_i \\right] \\mathbf{x}_i$  \n",
    "$= \\left[ s(\\mathbf{x}_i^T\\theta) - y_i \\right] \\mathbf{x}_i$  \n",
    "\n",
    "This is in line with the result of eq 4-18 in the book, which shows element-wise derivative.  \n",
    "Strangely, the e-book typesetting sucks for this textbook, but that doesn't matter because ageron provides all equations in $\\LaTeX$ format, see:   \n",
    "`book_equations.ipynb`  \n",
    "\n",
    "### Summary of logistic regression cost function & gradient:\n",
    "\n",
    "$c(\\theta) =\n",
    "\\begin{cases}\n",
    "    &-\\log(1 - s(t_i)) &\\text{if } y_i = 0\\\\\n",
    "        &-\\log(s(t_i)) &\\text{if } y_i = 1\n",
    "\\end{cases}$\n",
    "\n",
    "$=(1-y_i)(-\\log(1 - s(t_i))) + y_i(-\\log(s(t_i)))$  \n",
    "\n",
    "Where:  \n",
    "\n",
    "$t_i=\\mathbf X^T \\theta$\n",
    "\n",
    "Gradient:  \n",
    "\n",
    "$\\nabla_\\theta c(\\theta) = (1-y_i) s(\\mathbf{x}_i^T\\theta) \\mathbf{x}_i - y_i s(-\\mathbf{x}_i^T \\theta) \\mathbf{x}_i$\n",
    "\n",
    "$= \\left[(1-y_i) s(\\mathbf{x}_i^T\\theta) - y_i (1 - s(\\mathbf{x}_i^T \\theta)) \\right] \\mathbf{x}_i$  \n",
    "$= \\left[(1-y_i) s(t_i) - y_i (1 - s(t_i))\\right] \\mathbf{x}_i$  \n",
    "$= \\left[ s(\\mathbf{x}_i^T\\theta) - y_i \\right] \\mathbf{x}_i$  \n",
    "\n",
    "  --\n"
   ]
  },
  {
   "cell_type": "markdown",
   "metadata": {},
   "source": [
    "### Eq **4-22** extends the above idea of log cost to multi-class loss:\n",
    "\n",
    "*reproduced here from `book_equations.ipynb`:*  \n",
    "\n",
    "**Equation 4-22: Cross entropy cost function**\n",
    "\n",
    "$\n",
    "J(\\boldsymbol{\\Theta}) = - \\dfrac{1}{m}\\sum\\limits_{i=1}^{m}\\sum\\limits_{k=1}^{K}{y_k^{(i)}\\log\\left(\\hat{p}_k^{(i)}\\right)}\n",
    "$\n",
    "\n",
    "**Cross entropy between two discrete probability distributions $p$ and $q$ (page 141):**\n",
    "$ H(p, q) = -\\sum\\limits_{x}p(x) \\log q(x) $\n",
    "*  \n",
    "#### Eq **4-23**  gives the corresponding *gradient*  \n",
    "\n",
    "*Equation 4-23: Cross entropy gradient vector for class $k$:  \n",
    "$\n",
    "\\nabla_{\\boldsymbol{\\theta}^{(k)}} \\, J(\\boldsymbol{\\Theta}) = \\dfrac{1}{m} \\sum\\limits_{i=1}^{m}{ \\left ( \\hat{p}^{(i)}_k - y_k^{(i)} \\right ) \\mathbf{x}^{(i)}}\n",
    "$\n"
   ]
  },
  {
   "cell_type": "markdown",
   "metadata": {},
   "source": []
  },
  {
   "cell_type": "markdown",
   "metadata": {},
   "source": [
    "## MISC"
   ]
  },
  {
   "cell_type": "markdown",
   "metadata": {},
   "source": [
    "### demo np.c_\n",
    "\n",
    "Shows that c has the nice property of turning vectors into columns, i.e. my intuitive bias was that the 0'th list element might need to have more than one dimension for this to work, but that is not the case!  "
   ]
  },
  {
   "cell_type": "code",
   "execution_count": 3,
   "metadata": {
    "ExecuteTime": {
     "end_time": "2020-01-18T05:24:19.266673Z",
     "start_time": "2020-01-18T05:24:19.262673Z"
    }
   },
   "outputs": [],
   "source": [
    "ones1 = np.ones((5,))\n",
    "ones2 = 2*np.ones((5,))\n",
    "ones3 = 3*np.ones((5,))"
   ]
  },
  {
   "cell_type": "code",
   "execution_count": 4,
   "metadata": {
    "ExecuteTime": {
     "end_time": "2020-01-18T05:24:20.216492Z",
     "start_time": "2020-01-18T05:24:20.212984Z"
    }
   },
   "outputs": [
    {
     "data": {
      "text/plain": [
       "array([[1., 2., 3.],\n",
       "       [1., 2., 3.],\n",
       "       [1., 2., 3.],\n",
       "       [1., 2., 3.],\n",
       "       [1., 2., 3.]])"
      ]
     },
     "execution_count": 4,
     "metadata": {},
     "output_type": "execute_result"
    }
   ],
   "source": [
    "np.c_[ones1, ones2, ones3]"
   ]
  },
  {
   "cell_type": "markdown",
   "metadata": {},
   "source": [
    "#### also demo np.r_\n",
    "\n",
    "This result is counterintuitive, given the way np.c_ works above; IT is probably consistent in some way that would not elude a person smarter or more insightful than myself."
   ]
  },
  {
   "cell_type": "code",
   "execution_count": 5,
   "metadata": {
    "ExecuteTime": {
     "end_time": "2020-01-18T05:24:33.236854Z",
     "start_time": "2020-01-18T05:24:33.225610Z"
    }
   },
   "outputs": [
    {
     "data": {
      "text/plain": [
       "array([1., 1., 1., 1., 1., 2., 2., 2., 2., 2., 3., 3., 3., 3., 3.])"
      ]
     },
     "execution_count": 5,
     "metadata": {},
     "output_type": "execute_result"
    }
   ],
   "source": [
    "np.r_[ones1, ones2, ones3]"
   ]
  },
  {
   "cell_type": "code",
   "execution_count": 7,
   "metadata": {},
   "outputs": [
    {
     "data": {
      "text/plain": [
       "array([[1., 1., 1., 1., 1.]])"
      ]
     },
     "execution_count": 7,
     "metadata": {},
     "output_type": "execute_result"
    }
   ],
   "source": [
    "ones1T = ones1.reshape((1,5))\n",
    "ones1T"
   ]
  },
  {
   "cell_type": "code",
   "execution_count": 8,
   "metadata": {},
   "outputs": [],
   "source": [
    "# np.r_[ones1T, ones2, ones3]"
   ]
  },
  {
   "cell_type": "markdown",
   "metadata": {},
   "source": [
    "## Q: what happens when you call `list(...)` with a `dataframe` argument?"
   ]
  },
  {
   "cell_type": "code",
   "execution_count": 9,
   "metadata": {
    "collapsed": true
   },
   "outputs": [
    {
     "data": {
      "text/html": [
       "<div>\n",
       "<style scoped>\n",
       "    .dataframe tbody tr th:only-of-type {\n",
       "        vertical-align: middle;\n",
       "    }\n",
       "\n",
       "    .dataframe tbody tr th {\n",
       "        vertical-align: top;\n",
       "    }\n",
       "\n",
       "    .dataframe thead th {\n",
       "        text-align: right;\n",
       "    }\n",
       "</style>\n",
       "<table border=\"1\" class=\"dataframe\">\n",
       "  <thead>\n",
       "    <tr style=\"text-align: right;\">\n",
       "      <th></th>\n",
       "      <th>a</th>\n",
       "      <th>b</th>\n",
       "      <th>c</th>\n",
       "    </tr>\n",
       "  </thead>\n",
       "  <tbody>\n",
       "    <tr>\n",
       "      <th>0</th>\n",
       "      <td>1</td>\n",
       "      <td>u</td>\n",
       "      <td>5</td>\n",
       "    </tr>\n",
       "    <tr>\n",
       "      <th>1</th>\n",
       "      <td>2</td>\n",
       "      <td>v</td>\n",
       "      <td>10</td>\n",
       "    </tr>\n",
       "    <tr>\n",
       "      <th>2</th>\n",
       "      <td>3</td>\n",
       "      <td>w</td>\n",
       "      <td>15</td>\n",
       "    </tr>\n",
       "    <tr>\n",
       "      <th>3</th>\n",
       "      <td>4</td>\n",
       "      <td>x</td>\n",
       "      <td>20</td>\n",
       "    </tr>\n",
       "    <tr>\n",
       "      <th>4</th>\n",
       "      <td>5</td>\n",
       "      <td>y</td>\n",
       "      <td>25</td>\n",
       "    </tr>\n",
       "  </tbody>\n",
       "</table>\n",
       "</div>"
      ],
      "text/plain": [
       "   a  b   c\n",
       "0  1  u   5\n",
       "1  2  v  10\n",
       "2  3  w  15\n",
       "3  4  x  20\n",
       "4  5  y  25"
      ]
     },
     "execution_count": 9,
     "metadata": {},
     "output_type": "execute_result"
    }
   ],
   "source": [
    "df = pd.DataFrame({'a': [1,2,3,4,5], 'b': list('uvwxy'), 'c': [5,10,15,20,25]})\n",
    "df"
   ]
  },
  {
   "cell_type": "markdown",
   "metadata": {},
   "source": [
    "#### A: you get a list of the column names"
   ]
  },
  {
   "cell_type": "code",
   "execution_count": 10,
   "metadata": {},
   "outputs": [
    {
     "data": {
      "text/plain": [
       "['a', 'b', 'c']"
      ]
     },
     "execution_count": 10,
     "metadata": {},
     "output_type": "execute_result"
    }
   ],
   "source": [
    "list(df)"
   ]
  },
  {
   "cell_type": "markdown",
   "metadata": {},
   "source": [
    "dict(...) on a data frame returns a dict of series:"
   ]
  },
  {
   "cell_type": "code",
   "execution_count": 11,
   "metadata": {},
   "outputs": [
    {
     "data": {
      "text/plain": [
       "{'a': 0    1\n",
       " 1    2\n",
       " 2    3\n",
       " 3    4\n",
       " 4    5\n",
       " Name: a, dtype: int64, 'b': 0    u\n",
       " 1    v\n",
       " 2    w\n",
       " 3    x\n",
       " 4    y\n",
       " Name: b, dtype: object, 'c': 0     5\n",
       " 1    10\n",
       " 2    15\n",
       " 3    20\n",
       " 4    25\n",
       " Name: c, dtype: int64}"
      ]
     },
     "execution_count": 11,
     "metadata": {},
     "output_type": "execute_result"
    }
   ],
   "source": [
    "dict(df)"
   ]
  },
  {
   "cell_type": "code",
   "execution_count": 13,
   "metadata": {},
   "outputs": [
    {
     "data": {
      "text/plain": [
       "pandas.core.series.Series"
      ]
     },
     "execution_count": 13,
     "metadata": {},
     "output_type": "execute_result"
    }
   ],
   "source": [
    "type((dict(df)['a']))"
   ]
  },
  {
   "cell_type": "code",
   "execution_count": 10,
   "metadata": {},
   "outputs": [
    {
     "data": {
      "text/plain": [
       "[(0, 2.81585438),\n",
       " (1, 7.09167958),\n",
       " (2, 3.82972099),\n",
       " (3, 0.79365551),\n",
       " (4, 5.8885703),\n",
       " (5, 9.29718395),\n",
       " (6, 1.79862509),\n",
       " (7, 8.10392157),\n",
       " (8, -0.228207),\n",
       " (9, 4.83753243)]"
      ]
     },
     "execution_count": 10,
     "metadata": {},
     "output_type": "execute_result"
    }
   ],
   "source": [
    "tups = list(zip(list(range(10)), np.array([[ 2.81585438,  7.09167958,  3.82972099,  0.79365551,  5.8885703, \n",
    "                        9.29718395,  1.79862509,  8.10392157, -0.228207  ,  4.83753243]]).flatten()))\n",
    "tups"
   ]
  },
  {
   "cell_type": "markdown",
   "metadata": {},
   "source": [
    "Full derivation of sigmoid error gradient:\n",
    "\n",
    "$\\nabla_\\theta \\epsilon = \\nabla_\\theta y_i(1 - s(t)) + (1 - y_i)s(t)$  \n",
    "$\\dots = \\left[ y_i(-s(t)(1-s(t))) + (1 - y_i)s(t)(1-s(t)) \\right] \\nabla_\\theta t$  \n",
    "$\\dots = \\left[ y_i s(t) ( s(t) - 1 ) + (1 - y_i) s(t)(1-s(t)) \\right] \\nabla_\\theta t$\n",
    "$\\dots = \\left[ y_i s(t)s(t) - y_i s(t) +  s(t)(1-s(t)) - y_i s(t)(1-s(t)) \\right] \\nabla_\\theta t$\n",
    "$\\dots = \\left[ y_i s(t)^2 - y_i s(t) +  s(t) - s(t))^2 - y_i s(t) + y_i s(t)^2 \\right] \\nabla_\\theta t$  \n",
    "$\\dots = \\left[ 2 y_i (s(t)^2 - s(t)) +  (s(t) - s(t))^2) \\right] \\nabla_\\theta t$  \n",
    "$\\dots = \\left[ (2 y_i -1) (s(t)^2 - s(t)) \\right] \\nabla_\\theta t$  \n",
    "$\\dots = \\left[ (1 - 2 y_i) s(t)(1 - s(t)) \\right] \\nabla_\\theta t$  \n",
    "$\\dots = \n",
    "\\begin{cases}\n",
    "    &s(t)(1 - s(t)) \\nabla_\\theta t  & \\text{if } y_i = 0\\\\\n",
    "    &-s(t)(1 - s(t)) \\nabla_\\theta t &\\text{if } y_i = 1\n",
    "\\end{cases}$\n"
   ]
  },
  {
   "cell_type": "markdown",
   "metadata": {},
   "source": [
    "Scratch:\n",
    "\n",
    "d/dx(a log(1 + exp(b x))) = (a b e^(b x))/(e^(b x) + 1)\n",
    "\n",
    "del(theta) (1-y) log(1+exp(x^T theta)) = (1-y) x exp(x^T theta)/(1+exp(x^T theta)) = (1-y) x s(x^T theta)\n",
    "\n",
    "d/dx(c log(1 + exp(-b x))) = -(b c)/(e^(b x) + 1)\n",
    "\n",
    "del(theta) y log(1+exp(-x^T theta)) = -y x s(-x^T theta)\n"
   ]
  },
  {
   "cell_type": "code",
   "execution_count": null,
   "metadata": {},
   "outputs": [],
   "source": []
  },
  {
   "cell_type": "code",
   "execution_count": null,
   "metadata": {},
   "outputs": [],
   "source": []
  }
 ],
 "metadata": {
  "kernelspec": {
   "display_name": "Python 3",
   "language": "python",
   "name": "python3"
  },
  "language_info": {
   "codemirror_mode": {
    "name": "ipython",
    "version": 3
   },
   "file_extension": ".py",
   "mimetype": "text/x-python",
   "name": "python",
   "nbconvert_exporter": "python",
   "pygments_lexer": "ipython3",
   "version": "3.6.10"
  }
 },
 "nbformat": 4,
 "nbformat_minor": 4
}
