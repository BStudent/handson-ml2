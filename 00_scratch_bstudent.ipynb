{
 "cells": [
  {
   "cell_type": "markdown",
   "metadata": {},
   "source": [
    "# (bstudent) notebook for musing, notes, demos"
   ]
  },
  {
   "cell_type": "markdown",
   "metadata": {},
   "source": [
    "### (bstudent) Normal Equation and Gradient Descent:\n",
    "\n",
    "$\\hat\\theta = \\displaystyle\\min_{\\theta} \\frac{1}{N} \\mathbf{\\epsilon}^T\\mathbf{\\epsilon}$  \n",
    "  \n",
    "$\\hat\\theta = \\displaystyle\\min_{\\theta} \\frac{1}{N} (\\mathbf{\\hat y} - \\mathbf{y})^T (\\mathbf{\\hat y} - \\mathbf{y})$  \n",
    "  \n",
    "$\\mathbf{\\hat y} = \\mathbf{X}\\mathbf{\\theta}$\n",
    "\n",
    "$\\implies \\nabla_\\theta \\frac{1}{N} (\\mathbf{X}\\mathbf{\\theta}-\\mathbf{y})^T(\\mathbf{X}\\mathbf{\\theta}-\\mathbf{y}) = \\mathbf{0}$  \n",
    "\n",
    "Minimum occurs where:  \n",
    "\n",
    "$\\nabla_\\theta \\frac{1}{N} (\\mathbf{X}\\mathbf{\\theta}-\\mathbf{y})^T(\\mathbf{X}\\mathbf{\\theta}-\\mathbf{y}) = \\frac{1}{N} \\left( 2 \\mathbf{X}^T\\mathbf{X}\\mathbf{\\theta} - 2 \\mathbf{X}^T\\mathbf{y}\\right) = \\mathbf{0}$  \n",
    "\n",
    "$\\implies \\mathbf{X}^T\\mathbf{X}\\hat\\theta = \\mathbf{X}^T\\mathbf{y}$  \n",
    "\n",
    "$\\implies \\hat\\theta = (\\mathbf{X}^T\\mathbf{X})^{-1}\\mathbf{X}^T\\mathbf{y}$  \n",
    "(The \"normal equation\")  \n",
    "\n",
    "For general gradient at points other than $\\hat\\theta$, the \"gradient\" in MSE gradient descent is:    \n",
    "\n",
    "$\\nabla_\\theta \\frac{1}{N} \\left(\\mathbf{X}\\mathbf{\\theta}-\\mathbf{y})^T(\\mathbf{X}\\mathbf{\\theta}-\\mathbf{y}\\right) = \\frac{2}{N} \\mathbf{X}^T \\left(\\mathbf{X}\\mathbf{\\theta} - \\mathbf{y} \\right)$"
   ]
  },
  {
   "cell_type": "code",
   "execution_count": 2,
   "metadata": {
    "ExecuteTime": {
     "end_time": "2020-01-18T05:24:17.583740Z",
     "start_time": "2020-01-18T05:24:17.291356Z"
    }
   },
   "outputs": [],
   "source": [
    "import numpy as np\n",
    "import pandas as pd"
   ]
  },
  {
   "cell_type": "markdown",
   "metadata": {},
   "source": [
    "### demo np.c_\n",
    "\n",
    "Shows that c has the nice property of turning vectors into columns, i.e. my intuitive bias was that the 0'th list element might need to have more than one dimension for this to work, but that is not the case!  "
   ]
  },
  {
   "cell_type": "code",
   "execution_count": 3,
   "metadata": {
    "ExecuteTime": {
     "end_time": "2020-01-18T05:24:19.266673Z",
     "start_time": "2020-01-18T05:24:19.262673Z"
    }
   },
   "outputs": [],
   "source": [
    "ones1 = np.ones((5,))\n",
    "ones2 = 2*np.ones((5,))\n",
    "ones3 = 3*np.ones((5,))"
   ]
  },
  {
   "cell_type": "code",
   "execution_count": 4,
   "metadata": {
    "ExecuteTime": {
     "end_time": "2020-01-18T05:24:20.216492Z",
     "start_time": "2020-01-18T05:24:20.212984Z"
    }
   },
   "outputs": [
    {
     "data": {
      "text/plain": [
       "array([[1., 2., 3.],\n",
       "       [1., 2., 3.],\n",
       "       [1., 2., 3.],\n",
       "       [1., 2., 3.],\n",
       "       [1., 2., 3.]])"
      ]
     },
     "execution_count": 4,
     "metadata": {},
     "output_type": "execute_result"
    }
   ],
   "source": [
    "np.c_[ones1, ones2, ones3]"
   ]
  },
  {
   "cell_type": "markdown",
   "metadata": {},
   "source": [
    "#### also demo np.r_\n",
    "\n",
    "This result is counterintuitive, given the way np.c_ works above; IT is probably consistent in some way that would not elude a person smarter or more insightful than myself."
   ]
  },
  {
   "cell_type": "code",
   "execution_count": 5,
   "metadata": {
    "ExecuteTime": {
     "end_time": "2020-01-18T05:24:33.236854Z",
     "start_time": "2020-01-18T05:24:33.225610Z"
    }
   },
   "outputs": [
    {
     "data": {
      "text/plain": [
       "array([1., 1., 1., 1., 1., 2., 2., 2., 2., 2., 3., 3., 3., 3., 3.])"
      ]
     },
     "execution_count": 5,
     "metadata": {},
     "output_type": "execute_result"
    }
   ],
   "source": [
    "np.r_[ones1, ones2, ones3]"
   ]
  },
  {
   "cell_type": "code",
   "execution_count": 7,
   "metadata": {},
   "outputs": [
    {
     "data": {
      "text/plain": [
       "array([[1., 1., 1., 1., 1.]])"
      ]
     },
     "execution_count": 7,
     "metadata": {},
     "output_type": "execute_result"
    }
   ],
   "source": [
    "ones1T = ones1.reshape((1,5))\n",
    "ones1T"
   ]
  },
  {
   "cell_type": "code",
   "execution_count": 8,
   "metadata": {},
   "outputs": [],
   "source": [
    "# np.r_[ones1T, ones2, ones3]"
   ]
  },
  {
   "cell_type": "markdown",
   "metadata": {},
   "source": [
    "## Q: what happens when you call `list(...)` with a `dataframe` argument?"
   ]
  },
  {
   "cell_type": "code",
   "execution_count": 9,
   "metadata": {
    "collapsed": true
   },
   "outputs": [
    {
     "data": {
      "text/html": [
       "<div>\n",
       "<style scoped>\n",
       "    .dataframe tbody tr th:only-of-type {\n",
       "        vertical-align: middle;\n",
       "    }\n",
       "\n",
       "    .dataframe tbody tr th {\n",
       "        vertical-align: top;\n",
       "    }\n",
       "\n",
       "    .dataframe thead th {\n",
       "        text-align: right;\n",
       "    }\n",
       "</style>\n",
       "<table border=\"1\" class=\"dataframe\">\n",
       "  <thead>\n",
       "    <tr style=\"text-align: right;\">\n",
       "      <th></th>\n",
       "      <th>a</th>\n",
       "      <th>b</th>\n",
       "      <th>c</th>\n",
       "    </tr>\n",
       "  </thead>\n",
       "  <tbody>\n",
       "    <tr>\n",
       "      <th>0</th>\n",
       "      <td>1</td>\n",
       "      <td>u</td>\n",
       "      <td>5</td>\n",
       "    </tr>\n",
       "    <tr>\n",
       "      <th>1</th>\n",
       "      <td>2</td>\n",
       "      <td>v</td>\n",
       "      <td>10</td>\n",
       "    </tr>\n",
       "    <tr>\n",
       "      <th>2</th>\n",
       "      <td>3</td>\n",
       "      <td>w</td>\n",
       "      <td>15</td>\n",
       "    </tr>\n",
       "    <tr>\n",
       "      <th>3</th>\n",
       "      <td>4</td>\n",
       "      <td>x</td>\n",
       "      <td>20</td>\n",
       "    </tr>\n",
       "    <tr>\n",
       "      <th>4</th>\n",
       "      <td>5</td>\n",
       "      <td>y</td>\n",
       "      <td>25</td>\n",
       "    </tr>\n",
       "  </tbody>\n",
       "</table>\n",
       "</div>"
      ],
      "text/plain": [
       "   a  b   c\n",
       "0  1  u   5\n",
       "1  2  v  10\n",
       "2  3  w  15\n",
       "3  4  x  20\n",
       "4  5  y  25"
      ]
     },
     "execution_count": 9,
     "metadata": {},
     "output_type": "execute_result"
    }
   ],
   "source": [
    "df = pd.DataFrame({'a': [1,2,3,4,5], 'b': list('uvwxy'), 'c': [5,10,15,20,25]})\n",
    "df"
   ]
  },
  {
   "cell_type": "markdown",
   "metadata": {},
   "source": [
    "#### A: you get a list of the column names"
   ]
  },
  {
   "cell_type": "code",
   "execution_count": 10,
   "metadata": {},
   "outputs": [
    {
     "data": {
      "text/plain": [
       "['a', 'b', 'c']"
      ]
     },
     "execution_count": 10,
     "metadata": {},
     "output_type": "execute_result"
    }
   ],
   "source": [
    "list(df)"
   ]
  },
  {
   "cell_type": "markdown",
   "metadata": {},
   "source": [
    "dict(...) on a data frame returns a dict of series:"
   ]
  },
  {
   "cell_type": "code",
   "execution_count": 11,
   "metadata": {},
   "outputs": [
    {
     "data": {
      "text/plain": [
       "{'a': 0    1\n",
       " 1    2\n",
       " 2    3\n",
       " 3    4\n",
       " 4    5\n",
       " Name: a, dtype: int64, 'b': 0    u\n",
       " 1    v\n",
       " 2    w\n",
       " 3    x\n",
       " 4    y\n",
       " Name: b, dtype: object, 'c': 0     5\n",
       " 1    10\n",
       " 2    15\n",
       " 3    20\n",
       " 4    25\n",
       " Name: c, dtype: int64}"
      ]
     },
     "execution_count": 11,
     "metadata": {},
     "output_type": "execute_result"
    }
   ],
   "source": [
    "dict(df)"
   ]
  },
  {
   "cell_type": "code",
   "execution_count": 13,
   "metadata": {},
   "outputs": [
    {
     "data": {
      "text/plain": [
       "pandas.core.series.Series"
      ]
     },
     "execution_count": 13,
     "metadata": {},
     "output_type": "execute_result"
    }
   ],
   "source": [
    "type((dict(df)['a']))"
   ]
  },
  {
   "cell_type": "code",
   "execution_count": 10,
   "metadata": {},
   "outputs": [
    {
     "data": {
      "text/plain": [
       "[(0, 2.81585438),\n",
       " (1, 7.09167958),\n",
       " (2, 3.82972099),\n",
       " (3, 0.79365551),\n",
       " (4, 5.8885703),\n",
       " (5, 9.29718395),\n",
       " (6, 1.79862509),\n",
       " (7, 8.10392157),\n",
       " (8, -0.228207),\n",
       " (9, 4.83753243)]"
      ]
     },
     "execution_count": 10,
     "metadata": {},
     "output_type": "execute_result"
    }
   ],
   "source": [
    "tups = list(zip(list(range(10)), np.array([[ 2.81585438,  7.09167958,  3.82972099,  0.79365551,  5.8885703, \n",
    "                        9.29718395,  1.79862509,  8.10392157, -0.228207  ,  4.83753243]]).flatten()))\n",
    "tups"
   ]
  },
  {
   "cell_type": "markdown",
   "metadata": {},
   "source": [
    "\n",
    "BTW, can VSCode jupyter notebook render math?  Let's find out:  \n",
    "\n",
    "$x^{(j)} = \\sum_{i=1}^N y_i^{(j)}$"
   ]
  },
  {
   "cell_type": "code",
   "execution_count": null,
   "metadata": {},
   "outputs": [],
   "source": []
  }
 ],
 "metadata": {
  "kernelspec": {
   "display_name": "Python 3.7.5 64-bit ('env-tfg': venv)",
   "language": "python",
   "name": "python37564bitenvtfgvenv663aa007526e4a3785963f2f7ce44b55"
  },
  "language_info": {
   "codemirror_mode": {
    "name": "ipython",
    "version": 3
   },
   "file_extension": ".py",
   "mimetype": "text/x-python",
   "name": "python",
   "nbconvert_exporter": "python",
   "pygments_lexer": "ipython3",
   "version": "3.7.5"
  }
 },
 "nbformat": 4,
 "nbformat_minor": 4
}
